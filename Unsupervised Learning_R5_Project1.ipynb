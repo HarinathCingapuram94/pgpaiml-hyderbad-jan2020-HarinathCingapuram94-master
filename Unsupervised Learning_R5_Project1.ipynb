{
 "cells": [
  {
   "cell_type": "code",
   "execution_count": 558,
   "metadata": {},
   "outputs": [],
   "source": [
    "import numpy as np\n",
    "\n",
    "import pandas as pd\n",
    "\n",
    "from matplotlib import pyplot as plt\n",
    "\n",
    "import seaborn as sns"
   ]
  },
  {
   "cell_type": "code",
   "execution_count": 559,
   "metadata": {},
   "outputs": [],
   "source": [
    "from sklearn.preprocessing import LabelEncoder"
   ]
  },
  {
   "cell_type": "code",
   "execution_count": 560,
   "metadata": {},
   "outputs": [],
   "source": [
    "from sklearn.model_selection import train_test_split "
   ]
  },
  {
   "cell_type": "code",
   "execution_count": 561,
   "metadata": {},
   "outputs": [],
   "source": [
    "from scipy.stats import zscore"
   ]
  },
  {
   "cell_type": "code",
   "execution_count": 562,
   "metadata": {},
   "outputs": [],
   "source": [
    "df = pd.read_csv('Qualitative_Bankruptcy.data.txt', names = ['Industrial_Risk','Management_Risk','Financial_Flexibility','Credibility','Competitiveness','Operating Risk','Class'])"
   ]
  },
  {
   "cell_type": "markdown",
   "metadata": {},
   "source": [
    "# Q1  Understanding the features and target variable"
   ]
  },
  {
   "cell_type": "code",
   "execution_count": 563,
   "metadata": {
    "scrolled": true
   },
   "outputs": [
    {
     "data": {
      "text/html": [
       "<div>\n",
       "<style scoped>\n",
       "    .dataframe tbody tr th:only-of-type {\n",
       "        vertical-align: middle;\n",
       "    }\n",
       "\n",
       "    .dataframe tbody tr th {\n",
       "        vertical-align: top;\n",
       "    }\n",
       "\n",
       "    .dataframe thead th {\n",
       "        text-align: right;\n",
       "    }\n",
       "</style>\n",
       "<table border=\"1\" class=\"dataframe\">\n",
       "  <thead>\n",
       "    <tr style=\"text-align: right;\">\n",
       "      <th></th>\n",
       "      <th>Industrial_Risk</th>\n",
       "      <th>Management_Risk</th>\n",
       "      <th>Financial_Flexibility</th>\n",
       "      <th>Credibility</th>\n",
       "      <th>Competitiveness</th>\n",
       "      <th>Operating Risk</th>\n",
       "      <th>Class</th>\n",
       "    </tr>\n",
       "  </thead>\n",
       "  <tbody>\n",
       "    <tr>\n",
       "      <th>0</th>\n",
       "      <td>P</td>\n",
       "      <td>P</td>\n",
       "      <td>A</td>\n",
       "      <td>A</td>\n",
       "      <td>A</td>\n",
       "      <td>P</td>\n",
       "      <td>NB</td>\n",
       "    </tr>\n",
       "    <tr>\n",
       "      <th>1</th>\n",
       "      <td>N</td>\n",
       "      <td>N</td>\n",
       "      <td>A</td>\n",
       "      <td>A</td>\n",
       "      <td>A</td>\n",
       "      <td>N</td>\n",
       "      <td>NB</td>\n",
       "    </tr>\n",
       "    <tr>\n",
       "      <th>2</th>\n",
       "      <td>A</td>\n",
       "      <td>A</td>\n",
       "      <td>A</td>\n",
       "      <td>A</td>\n",
       "      <td>A</td>\n",
       "      <td>A</td>\n",
       "      <td>NB</td>\n",
       "    </tr>\n",
       "    <tr>\n",
       "      <th>3</th>\n",
       "      <td>P</td>\n",
       "      <td>P</td>\n",
       "      <td>P</td>\n",
       "      <td>P</td>\n",
       "      <td>P</td>\n",
       "      <td>P</td>\n",
       "      <td>NB</td>\n",
       "    </tr>\n",
       "    <tr>\n",
       "      <th>4</th>\n",
       "      <td>N</td>\n",
       "      <td>N</td>\n",
       "      <td>P</td>\n",
       "      <td>P</td>\n",
       "      <td>P</td>\n",
       "      <td>N</td>\n",
       "      <td>NB</td>\n",
       "    </tr>\n",
       "    <tr>\n",
       "      <th>5</th>\n",
       "      <td>A</td>\n",
       "      <td>A</td>\n",
       "      <td>P</td>\n",
       "      <td>P</td>\n",
       "      <td>P</td>\n",
       "      <td>A</td>\n",
       "      <td>NB</td>\n",
       "    </tr>\n",
       "    <tr>\n",
       "      <th>6</th>\n",
       "      <td>P</td>\n",
       "      <td>P</td>\n",
       "      <td>A</td>\n",
       "      <td>P</td>\n",
       "      <td>P</td>\n",
       "      <td>P</td>\n",
       "      <td>NB</td>\n",
       "    </tr>\n",
       "    <tr>\n",
       "      <th>7</th>\n",
       "      <td>P</td>\n",
       "      <td>P</td>\n",
       "      <td>P</td>\n",
       "      <td>A</td>\n",
       "      <td>A</td>\n",
       "      <td>P</td>\n",
       "      <td>NB</td>\n",
       "    </tr>\n",
       "    <tr>\n",
       "      <th>8</th>\n",
       "      <td>P</td>\n",
       "      <td>P</td>\n",
       "      <td>A</td>\n",
       "      <td>P</td>\n",
       "      <td>A</td>\n",
       "      <td>P</td>\n",
       "      <td>NB</td>\n",
       "    </tr>\n",
       "    <tr>\n",
       "      <th>9</th>\n",
       "      <td>P</td>\n",
       "      <td>P</td>\n",
       "      <td>A</td>\n",
       "      <td>A</td>\n",
       "      <td>P</td>\n",
       "      <td>P</td>\n",
       "      <td>NB</td>\n",
       "    </tr>\n",
       "  </tbody>\n",
       "</table>\n",
       "</div>"
      ],
      "text/plain": [
       "  Industrial_Risk Management_Risk Financial_Flexibility Credibility  \\\n",
       "0               P               P                     A           A   \n",
       "1               N               N                     A           A   \n",
       "2               A               A                     A           A   \n",
       "3               P               P                     P           P   \n",
       "4               N               N                     P           P   \n",
       "5               A               A                     P           P   \n",
       "6               P               P                     A           P   \n",
       "7               P               P                     P           A   \n",
       "8               P               P                     A           P   \n",
       "9               P               P                     A           A   \n",
       "\n",
       "  Competitiveness Operating Risk Class  \n",
       "0               A              P    NB  \n",
       "1               A              N    NB  \n",
       "2               A              A    NB  \n",
       "3               P              P    NB  \n",
       "4               P              N    NB  \n",
       "5               P              A    NB  \n",
       "6               P              P    NB  \n",
       "7               A              P    NB  \n",
       "8               A              P    NB  \n",
       "9               P              P    NB  "
      ]
     },
     "execution_count": 563,
     "metadata": {},
     "output_type": "execute_result"
    }
   ],
   "source": [
    "df.head(10)"
   ]
  },
  {
   "cell_type": "code",
   "execution_count": 564,
   "metadata": {},
   "outputs": [
    {
     "data": {
      "text/plain": [
       "(250, 7)"
      ]
     },
     "execution_count": 564,
     "metadata": {},
     "output_type": "execute_result"
    }
   ],
   "source": [
    "df.shape"
   ]
  },
  {
   "cell_type": "code",
   "execution_count": 565,
   "metadata": {},
   "outputs": [
    {
     "data": {
      "text/plain": [
       "Industrial_Risk          0\n",
       "Management_Risk          0\n",
       "Financial_Flexibility    0\n",
       "Credibility              0\n",
       "Competitiveness          0\n",
       "Operating Risk           0\n",
       "Class                    0\n",
       "dtype: int64"
      ]
     },
     "execution_count": 565,
     "metadata": {},
     "output_type": "execute_result"
    }
   ],
   "source": [
    "df.isna().sum()"
   ]
  },
  {
   "cell_type": "code",
   "execution_count": 566,
   "metadata": {},
   "outputs": [
    {
     "data": {
      "text/plain": [
       "Industrial_Risk          0\n",
       "Management_Risk          0\n",
       "Financial_Flexibility    0\n",
       "Credibility              0\n",
       "Competitiveness          0\n",
       "Operating Risk           0\n",
       "Class                    0\n",
       "dtype: int64"
      ]
     },
     "execution_count": 566,
     "metadata": {},
     "output_type": "execute_result"
    }
   ],
   "source": [
    "df.isnull().sum()"
   ]
  },
  {
   "cell_type": "code",
   "execution_count": 567,
   "metadata": {
    "scrolled": true
   },
   "outputs": [
    {
     "data": {
      "text/plain": [
       "Industrial_Risk          object\n",
       "Management_Risk          object\n",
       "Financial_Flexibility    object\n",
       "Credibility              object\n",
       "Competitiveness          object\n",
       "Operating Risk           object\n",
       "Class                    object\n",
       "dtype: object"
      ]
     },
     "execution_count": 567,
     "metadata": {},
     "output_type": "execute_result"
    }
   ],
   "source": [
    "df.dtypes"
   ]
  },
  {
   "cell_type": "code",
   "execution_count": 568,
   "metadata": {},
   "outputs": [],
   "source": [
    "#Where class is the target(Dependent) variable "
   ]
  },
  {
   "cell_type": "code",
   "execution_count": 569,
   "metadata": {
    "scrolled": true
   },
   "outputs": [
    {
     "data": {
      "text/html": [
       "<div>\n",
       "<style scoped>\n",
       "    .dataframe tbody tr th:only-of-type {\n",
       "        vertical-align: middle;\n",
       "    }\n",
       "\n",
       "    .dataframe tbody tr th {\n",
       "        vertical-align: top;\n",
       "    }\n",
       "\n",
       "    .dataframe thead th {\n",
       "        text-align: right;\n",
       "    }\n",
       "</style>\n",
       "<table border=\"1\" class=\"dataframe\">\n",
       "  <thead>\n",
       "    <tr style=\"text-align: right;\">\n",
       "      <th></th>\n",
       "      <th>Industrial_Risk</th>\n",
       "      <th>Management_Risk</th>\n",
       "      <th>Financial_Flexibility</th>\n",
       "      <th>Credibility</th>\n",
       "      <th>Competitiveness</th>\n",
       "      <th>Operating Risk</th>\n",
       "      <th>Class</th>\n",
       "    </tr>\n",
       "  </thead>\n",
       "  <tbody>\n",
       "    <tr>\n",
       "      <th>count</th>\n",
       "      <td>250</td>\n",
       "      <td>250</td>\n",
       "      <td>250</td>\n",
       "      <td>250</td>\n",
       "      <td>250</td>\n",
       "      <td>250</td>\n",
       "      <td>250</td>\n",
       "    </tr>\n",
       "    <tr>\n",
       "      <th>unique</th>\n",
       "      <td>3</td>\n",
       "      <td>3</td>\n",
       "      <td>3</td>\n",
       "      <td>3</td>\n",
       "      <td>3</td>\n",
       "      <td>3</td>\n",
       "      <td>2</td>\n",
       "    </tr>\n",
       "    <tr>\n",
       "      <th>top</th>\n",
       "      <td>N</td>\n",
       "      <td>N</td>\n",
       "      <td>N</td>\n",
       "      <td>N</td>\n",
       "      <td>N</td>\n",
       "      <td>N</td>\n",
       "      <td>NB</td>\n",
       "    </tr>\n",
       "    <tr>\n",
       "      <th>freq</th>\n",
       "      <td>89</td>\n",
       "      <td>119</td>\n",
       "      <td>119</td>\n",
       "      <td>94</td>\n",
       "      <td>103</td>\n",
       "      <td>114</td>\n",
       "      <td>143</td>\n",
       "    </tr>\n",
       "  </tbody>\n",
       "</table>\n",
       "</div>"
      ],
      "text/plain": [
       "       Industrial_Risk Management_Risk Financial_Flexibility Credibility  \\\n",
       "count              250             250                   250         250   \n",
       "unique               3               3                     3           3   \n",
       "top                  N               N                     N           N   \n",
       "freq                89             119                   119          94   \n",
       "\n",
       "       Competitiveness Operating Risk Class  \n",
       "count              250            250   250  \n",
       "unique               3              3     2  \n",
       "top                  N              N    NB  \n",
       "freq               103            114   143  "
      ]
     },
     "execution_count": 569,
     "metadata": {},
     "output_type": "execute_result"
    }
   ],
   "source": [
    "df.describe()"
   ]
  },
  {
   "cell_type": "code",
   "execution_count": null,
   "metadata": {},
   "outputs": [],
   "source": []
  },
  {
   "cell_type": "code",
   "execution_count": 570,
   "metadata": {},
   "outputs": [
    {
     "name": "stdout",
     "output_type": "stream",
     "text": [
      "Industrial_Risk\n",
      "['P' 'N' 'A']\n",
      "Management_Risk\n",
      "['P' 'N' 'A']\n",
      "Financial_Flexibility\n",
      "['A' 'P' 'N']\n",
      "Credibility\n",
      "['A' 'P' 'N']\n",
      "Competitiveness\n",
      "['A' 'P' 'N']\n",
      "Operating Risk\n",
      "['P' 'N' 'A']\n",
      "Class\n",
      "['NB' 'B']\n"
     ]
    }
   ],
   "source": [
    "for col in df:\n",
    "    print (col)\n",
    "    print (df[col].unique())"
   ]
  },
  {
   "cell_type": "code",
   "execution_count": 571,
   "metadata": {},
   "outputs": [
    {
     "data": {
      "text/plain": [
       "['Industrial_Risk',\n",
       " 'Management_Risk',\n",
       " 'Financial_Flexibility',\n",
       " 'Credibility',\n",
       " 'Competitiveness',\n",
       " 'Operating Risk',\n",
       " 'Class']"
      ]
     },
     "execution_count": 571,
     "metadata": {},
     "output_type": "execute_result"
    }
   ],
   "source": [
    "var = ['Industrial_Risk','Management_Risk','Financial_Flexibility','Credibility','Competitiveness','Operating Risk','Class']\n",
    "var"
   ]
  },
  {
   "cell_type": "markdown",
   "metadata": {},
   "source": [
    "# Encode independent features"
   ]
  },
  {
   "cell_type": "code",
   "execution_count": 572,
   "metadata": {},
   "outputs": [],
   "source": [
    "def func_labelEncoder(var,features):\n",
    "    encode= LabelEncoder()\n",
    "    features[var] = encode.fit_transform(features[var].astype(str))\n",
    "    \n",
    "for i in var:\n",
    "    func_labelEncoder(i,df)"
   ]
  },
  {
   "cell_type": "code",
   "execution_count": 573,
   "metadata": {},
   "outputs": [
    {
     "data": {
      "text/html": [
       "<div>\n",
       "<style scoped>\n",
       "    .dataframe tbody tr th:only-of-type {\n",
       "        vertical-align: middle;\n",
       "    }\n",
       "\n",
       "    .dataframe tbody tr th {\n",
       "        vertical-align: top;\n",
       "    }\n",
       "\n",
       "    .dataframe thead th {\n",
       "        text-align: right;\n",
       "    }\n",
       "</style>\n",
       "<table border=\"1\" class=\"dataframe\">\n",
       "  <thead>\n",
       "    <tr style=\"text-align: right;\">\n",
       "      <th></th>\n",
       "      <th>Industrial_Risk</th>\n",
       "      <th>Management_Risk</th>\n",
       "      <th>Financial_Flexibility</th>\n",
       "      <th>Credibility</th>\n",
       "      <th>Competitiveness</th>\n",
       "      <th>Operating Risk</th>\n",
       "      <th>Class</th>\n",
       "    </tr>\n",
       "  </thead>\n",
       "  <tbody>\n",
       "    <tr>\n",
       "      <th>0</th>\n",
       "      <td>2</td>\n",
       "      <td>2</td>\n",
       "      <td>0</td>\n",
       "      <td>0</td>\n",
       "      <td>0</td>\n",
       "      <td>2</td>\n",
       "      <td>1</td>\n",
       "    </tr>\n",
       "    <tr>\n",
       "      <th>1</th>\n",
       "      <td>1</td>\n",
       "      <td>1</td>\n",
       "      <td>0</td>\n",
       "      <td>0</td>\n",
       "      <td>0</td>\n",
       "      <td>1</td>\n",
       "      <td>1</td>\n",
       "    </tr>\n",
       "    <tr>\n",
       "      <th>2</th>\n",
       "      <td>0</td>\n",
       "      <td>0</td>\n",
       "      <td>0</td>\n",
       "      <td>0</td>\n",
       "      <td>0</td>\n",
       "      <td>0</td>\n",
       "      <td>1</td>\n",
       "    </tr>\n",
       "    <tr>\n",
       "      <th>3</th>\n",
       "      <td>2</td>\n",
       "      <td>2</td>\n",
       "      <td>2</td>\n",
       "      <td>2</td>\n",
       "      <td>2</td>\n",
       "      <td>2</td>\n",
       "      <td>1</td>\n",
       "    </tr>\n",
       "    <tr>\n",
       "      <th>4</th>\n",
       "      <td>1</td>\n",
       "      <td>1</td>\n",
       "      <td>2</td>\n",
       "      <td>2</td>\n",
       "      <td>2</td>\n",
       "      <td>1</td>\n",
       "      <td>1</td>\n",
       "    </tr>\n",
       "  </tbody>\n",
       "</table>\n",
       "</div>"
      ],
      "text/plain": [
       "   Industrial_Risk  Management_Risk  Financial_Flexibility  Credibility  \\\n",
       "0                2                2                      0            0   \n",
       "1                1                1                      0            0   \n",
       "2                0                0                      0            0   \n",
       "3                2                2                      2            2   \n",
       "4                1                1                      2            2   \n",
       "\n",
       "   Competitiveness  Operating Risk  Class  \n",
       "0                0               2      1  \n",
       "1                0               1      1  \n",
       "2                0               0      1  \n",
       "3                2               2      1  \n",
       "4                2               1      1  "
      ]
     },
     "execution_count": 573,
     "metadata": {},
     "output_type": "execute_result"
    }
   ],
   "source": [
    "df.head()"
   ]
  },
  {
   "cell_type": "code",
   "execution_count": 574,
   "metadata": {
    "scrolled": true
   },
   "outputs": [
    {
     "data": {
      "text/html": [
       "<div>\n",
       "<style scoped>\n",
       "    .dataframe tbody tr th:only-of-type {\n",
       "        vertical-align: middle;\n",
       "    }\n",
       "\n",
       "    .dataframe tbody tr th {\n",
       "        vertical-align: top;\n",
       "    }\n",
       "\n",
       "    .dataframe thead th {\n",
       "        text-align: right;\n",
       "    }\n",
       "</style>\n",
       "<table border=\"1\" class=\"dataframe\">\n",
       "  <thead>\n",
       "    <tr style=\"text-align: right;\">\n",
       "      <th></th>\n",
       "      <th>Industrial_Risk</th>\n",
       "      <th>Management_Risk</th>\n",
       "      <th>Financial_Flexibility</th>\n",
       "      <th>Credibility</th>\n",
       "      <th>Competitiveness</th>\n",
       "      <th>Operating Risk</th>\n",
       "      <th>Class</th>\n",
       "    </tr>\n",
       "  </thead>\n",
       "  <tbody>\n",
       "    <tr>\n",
       "      <th>count</th>\n",
       "      <td>250.000000</td>\n",
       "      <td>250.000000</td>\n",
       "      <td>250.000000</td>\n",
       "      <td>250.000000</td>\n",
       "      <td>250.000000</td>\n",
       "      <td>250.000000</td>\n",
       "      <td>250.000000</td>\n",
       "    </tr>\n",
       "    <tr>\n",
       "      <th>mean</th>\n",
       "      <td>0.996000</td>\n",
       "      <td>0.972000</td>\n",
       "      <td>0.932000</td>\n",
       "      <td>1.008000</td>\n",
       "      <td>1.140000</td>\n",
       "      <td>1.088000</td>\n",
       "      <td>0.572000</td>\n",
       "    </tr>\n",
       "    <tr>\n",
       "      <th>std</th>\n",
       "      <td>0.804096</td>\n",
       "      <td>0.724788</td>\n",
       "      <td>0.722123</td>\n",
       "      <td>0.791481</td>\n",
       "      <td>0.755435</td>\n",
       "      <td>0.733764</td>\n",
       "      <td>0.495781</td>\n",
       "    </tr>\n",
       "    <tr>\n",
       "      <th>min</th>\n",
       "      <td>0.000000</td>\n",
       "      <td>0.000000</td>\n",
       "      <td>0.000000</td>\n",
       "      <td>0.000000</td>\n",
       "      <td>0.000000</td>\n",
       "      <td>0.000000</td>\n",
       "      <td>0.000000</td>\n",
       "    </tr>\n",
       "    <tr>\n",
       "      <th>25%</th>\n",
       "      <td>0.000000</td>\n",
       "      <td>0.000000</td>\n",
       "      <td>0.000000</td>\n",
       "      <td>0.000000</td>\n",
       "      <td>1.000000</td>\n",
       "      <td>1.000000</td>\n",
       "      <td>0.000000</td>\n",
       "    </tr>\n",
       "    <tr>\n",
       "      <th>50%</th>\n",
       "      <td>1.000000</td>\n",
       "      <td>1.000000</td>\n",
       "      <td>1.000000</td>\n",
       "      <td>1.000000</td>\n",
       "      <td>1.000000</td>\n",
       "      <td>1.000000</td>\n",
       "      <td>1.000000</td>\n",
       "    </tr>\n",
       "    <tr>\n",
       "      <th>75%</th>\n",
       "      <td>2.000000</td>\n",
       "      <td>1.000000</td>\n",
       "      <td>1.000000</td>\n",
       "      <td>2.000000</td>\n",
       "      <td>2.000000</td>\n",
       "      <td>2.000000</td>\n",
       "      <td>1.000000</td>\n",
       "    </tr>\n",
       "    <tr>\n",
       "      <th>max</th>\n",
       "      <td>2.000000</td>\n",
       "      <td>2.000000</td>\n",
       "      <td>2.000000</td>\n",
       "      <td>2.000000</td>\n",
       "      <td>2.000000</td>\n",
       "      <td>2.000000</td>\n",
       "      <td>1.000000</td>\n",
       "    </tr>\n",
       "  </tbody>\n",
       "</table>\n",
       "</div>"
      ],
      "text/plain": [
       "       Industrial_Risk  Management_Risk  Financial_Flexibility  Credibility  \\\n",
       "count       250.000000       250.000000             250.000000   250.000000   \n",
       "mean          0.996000         0.972000               0.932000     1.008000   \n",
       "std           0.804096         0.724788               0.722123     0.791481   \n",
       "min           0.000000         0.000000               0.000000     0.000000   \n",
       "25%           0.000000         0.000000               0.000000     0.000000   \n",
       "50%           1.000000         1.000000               1.000000     1.000000   \n",
       "75%           2.000000         1.000000               1.000000     2.000000   \n",
       "max           2.000000         2.000000               2.000000     2.000000   \n",
       "\n",
       "       Competitiveness  Operating Risk       Class  \n",
       "count       250.000000      250.000000  250.000000  \n",
       "mean          1.140000        1.088000    0.572000  \n",
       "std           0.755435        0.733764    0.495781  \n",
       "min           0.000000        0.000000    0.000000  \n",
       "25%           1.000000        1.000000    0.000000  \n",
       "50%           1.000000        1.000000    1.000000  \n",
       "75%           2.000000        2.000000    1.000000  \n",
       "max           2.000000        2.000000    1.000000  "
      ]
     },
     "execution_count": 574,
     "metadata": {},
     "output_type": "execute_result"
    }
   ],
   "source": [
    "df.describe()"
   ]
  },
  {
   "cell_type": "code",
   "execution_count": 575,
   "metadata": {},
   "outputs": [],
   "source": [
    "# Industrial risk, Management Risk, Financial Flexibility, Class are sightly Right skewed and almost uniformly distributed\n",
    "# Credibility, Competitiveness , Operating Risk are slight left skewed and almost uniformly distributed"
   ]
  },
  {
   "cell_type": "code",
   "execution_count": 576,
   "metadata": {},
   "outputs": [
    {
     "name": "stderr",
     "output_type": "stream",
     "text": [
      "C:\\Users\\harin\\AppData\\Roaming\\Python\\Python37\\site-packages\\seaborn\\distributions.py:369: UserWarning: Default bandwidth for data is 0; skipping density estimation.\n",
      "  warnings.warn(msg, UserWarning)\n",
      "C:\\Users\\harin\\AppData\\Roaming\\Python\\Python37\\site-packages\\seaborn\\distributions.py:369: UserWarning: Default bandwidth for data is 0; skipping density estimation.\n",
      "  warnings.warn(msg, UserWarning)\n",
      "C:\\Users\\harin\\AppData\\Roaming\\Python\\Python37\\site-packages\\seaborn\\distributions.py:369: UserWarning: Default bandwidth for data is 0; skipping density estimation.\n",
      "  warnings.warn(msg, UserWarning)\n",
      "C:\\Users\\harin\\AppData\\Roaming\\Python\\Python37\\site-packages\\seaborn\\distributions.py:369: UserWarning: Default bandwidth for data is 0; skipping density estimation.\n",
      "  warnings.warn(msg, UserWarning)\n",
      "C:\\Users\\harin\\AppData\\Roaming\\Python\\Python37\\site-packages\\seaborn\\distributions.py:369: UserWarning: Default bandwidth for data is 0; skipping density estimation.\n",
      "  warnings.warn(msg, UserWarning)\n"
     ]
    },
    {
     "data": {
      "text/plain": [
       "<seaborn.axisgrid.PairGrid at 0x1b59c6f2a48>"
      ]
     },
     "execution_count": 576,
     "metadata": {},
     "output_type": "execute_result"
    },
    {
     "data": {
      "image/png": "[encoded data removed]",
      "text/plain": [
       "<Figure size 1122.38x1080 with 42 Axes>"
      ]
     },
     "metadata": {
      "needs_background": "light"
     },
     "output_type": "display_data"
    }
   ],
   "source": [
    "sns.pairplot(df, diag_kind='kde', hue = 'Class')"
   ]
  },
  {
   "cell_type": "code",
   "execution_count": 577,
   "metadata": {},
   "outputs": [
    {
     "data": {
      "text/html": [
       "<div>\n",
       "<style scoped>\n",
       "    .dataframe tbody tr th:only-of-type {\n",
       "        vertical-align: middle;\n",
       "    }\n",
       "\n",
       "    .dataframe tbody tr th {\n",
       "        vertical-align: top;\n",
       "    }\n",
       "\n",
       "    .dataframe thead th {\n",
       "        text-align: right;\n",
       "    }\n",
       "</style>\n",
       "<table border=\"1\" class=\"dataframe\">\n",
       "  <thead>\n",
       "    <tr style=\"text-align: right;\">\n",
       "      <th></th>\n",
       "      <th>Industrial_Risk</th>\n",
       "      <th>Management_Risk</th>\n",
       "      <th>Financial_Flexibility</th>\n",
       "      <th>Credibility</th>\n",
       "      <th>Competitiveness</th>\n",
       "      <th>Operating Risk</th>\n",
       "      <th>Class</th>\n",
       "    </tr>\n",
       "  </thead>\n",
       "  <tbody>\n",
       "    <tr>\n",
       "      <th>Industrial_Risk</th>\n",
       "      <td>1.000000</td>\n",
       "      <td>0.110063</td>\n",
       "      <td>0.068694</td>\n",
       "      <td>-0.050432</td>\n",
       "      <td>0.060428</td>\n",
       "      <td>0.177573</td>\n",
       "      <td>0.015836</td>\n",
       "    </tr>\n",
       "    <tr>\n",
       "      <th>Management_Risk</th>\n",
       "      <td>0.110063</td>\n",
       "      <td>1.000000</td>\n",
       "      <td>-0.018999</td>\n",
       "      <td>-0.006609</td>\n",
       "      <td>-0.132174</td>\n",
       "      <td>0.253851</td>\n",
       "      <td>0.100632</td>\n",
       "    </tr>\n",
       "    <tr>\n",
       "      <th>Financial_Flexibility</th>\n",
       "      <td>0.068694</td>\n",
       "      <td>-0.018999</td>\n",
       "      <td>1.000000</td>\n",
       "      <td>-0.020124</td>\n",
       "      <td>0.150036</td>\n",
       "      <td>-0.064455</td>\n",
       "      <td>-0.047966</td>\n",
       "    </tr>\n",
       "    <tr>\n",
       "      <th>Credibility</th>\n",
       "      <td>-0.050432</td>\n",
       "      <td>-0.006609</td>\n",
       "      <td>-0.020124</td>\n",
       "      <td>1.000000</td>\n",
       "      <td>0.092155</td>\n",
       "      <td>0.054104</td>\n",
       "      <td>0.152045</td>\n",
       "    </tr>\n",
       "    <tr>\n",
       "      <th>Competitiveness</th>\n",
       "      <td>0.060428</td>\n",
       "      <td>-0.132174</td>\n",
       "      <td>0.150036</td>\n",
       "      <td>0.092155</td>\n",
       "      <td>1.000000</td>\n",
       "      <td>-0.073031</td>\n",
       "      <td>0.203521</td>\n",
       "    </tr>\n",
       "    <tr>\n",
       "      <th>Operating Risk</th>\n",
       "      <td>0.177573</td>\n",
       "      <td>0.253851</td>\n",
       "      <td>-0.064455</td>\n",
       "      <td>0.054104</td>\n",
       "      <td>-0.073031</td>\n",
       "      <td>1.000000</td>\n",
       "      <td>0.159147</td>\n",
       "    </tr>\n",
       "    <tr>\n",
       "      <th>Class</th>\n",
       "      <td>0.015836</td>\n",
       "      <td>0.100632</td>\n",
       "      <td>-0.047966</td>\n",
       "      <td>0.152045</td>\n",
       "      <td>0.203521</td>\n",
       "      <td>0.159147</td>\n",
       "      <td>1.000000</td>\n",
       "    </tr>\n",
       "  </tbody>\n",
       "</table>\n",
       "</div>"
      ],
      "text/plain": [
       "                       Industrial_Risk  Management_Risk  \\\n",
       "Industrial_Risk               1.000000         0.110063   \n",
       "Management_Risk               0.110063         1.000000   \n",
       "Financial_Flexibility         0.068694        -0.018999   \n",
       "Credibility                  -0.050432        -0.006609   \n",
       "Competitiveness               0.060428        -0.132174   \n",
       "Operating Risk                0.177573         0.253851   \n",
       "Class                         0.015836         0.100632   \n",
       "\n",
       "                       Financial_Flexibility  Credibility  Competitiveness  \\\n",
       "Industrial_Risk                     0.068694    -0.050432         0.060428   \n",
       "Management_Risk                    -0.018999    -0.006609        -0.132174   \n",
       "Financial_Flexibility               1.000000    -0.020124         0.150036   \n",
       "Credibility                        -0.020124     1.000000         0.092155   \n",
       "Competitiveness                     0.150036     0.092155         1.000000   \n",
       "Operating Risk                     -0.064455     0.054104        -0.073031   \n",
       "Class                              -0.047966     0.152045         0.203521   \n",
       "\n",
       "                       Operating Risk     Class  \n",
       "Industrial_Risk              0.177573  0.015836  \n",
       "Management_Risk              0.253851  0.100632  \n",
       "Financial_Flexibility       -0.064455 -0.047966  \n",
       "Credibility                  0.054104  0.152045  \n",
       "Competitiveness             -0.073031  0.203521  \n",
       "Operating Risk               1.000000  0.159147  \n",
       "Class                        0.159147  1.000000  "
      ]
     },
     "execution_count": 577,
     "metadata": {},
     "output_type": "execute_result"
    }
   ],
   "source": [
    "df.corr()"
   ]
  },
  {
   "cell_type": "code",
   "execution_count": 578,
   "metadata": {},
   "outputs": [],
   "source": [
    "# Cometitiveness have high correlation with class and credibility and Operating Risk follows. "
   ]
  },
  {
   "cell_type": "markdown",
   "metadata": {},
   "source": [
    "# Separating the dependant variable from the rest of the train data"
   ]
  },
  {
   "cell_type": "code",
   "execution_count": 579,
   "metadata": {},
   "outputs": [
    {
     "data": {
      "text/html": [
       "<div>\n",
       "<style scoped>\n",
       "    .dataframe tbody tr th:only-of-type {\n",
       "        vertical-align: middle;\n",
       "    }\n",
       "\n",
       "    .dataframe tbody tr th {\n",
       "        vertical-align: top;\n",
       "    }\n",
       "\n",
       "    .dataframe thead th {\n",
       "        text-align: right;\n",
       "    }\n",
       "</style>\n",
       "<table border=\"1\" class=\"dataframe\">\n",
       "  <thead>\n",
       "    <tr style=\"text-align: right;\">\n",
       "      <th></th>\n",
       "      <th>Industrial_Risk</th>\n",
       "      <th>Management_Risk</th>\n",
       "      <th>Financial_Flexibility</th>\n",
       "      <th>Credibility</th>\n",
       "      <th>Competitiveness</th>\n",
       "      <th>Operating Risk</th>\n",
       "    </tr>\n",
       "  </thead>\n",
       "  <tbody>\n",
       "    <tr>\n",
       "      <th>0</th>\n",
       "      <td>2</td>\n",
       "      <td>2</td>\n",
       "      <td>0</td>\n",
       "      <td>0</td>\n",
       "      <td>0</td>\n",
       "      <td>2</td>\n",
       "    </tr>\n",
       "    <tr>\n",
       "      <th>1</th>\n",
       "      <td>1</td>\n",
       "      <td>1</td>\n",
       "      <td>0</td>\n",
       "      <td>0</td>\n",
       "      <td>0</td>\n",
       "      <td>1</td>\n",
       "    </tr>\n",
       "    <tr>\n",
       "      <th>2</th>\n",
       "      <td>0</td>\n",
       "      <td>0</td>\n",
       "      <td>0</td>\n",
       "      <td>0</td>\n",
       "      <td>0</td>\n",
       "      <td>0</td>\n",
       "    </tr>\n",
       "    <tr>\n",
       "      <th>3</th>\n",
       "      <td>2</td>\n",
       "      <td>2</td>\n",
       "      <td>2</td>\n",
       "      <td>2</td>\n",
       "      <td>2</td>\n",
       "      <td>2</td>\n",
       "    </tr>\n",
       "    <tr>\n",
       "      <th>4</th>\n",
       "      <td>1</td>\n",
       "      <td>1</td>\n",
       "      <td>2</td>\n",
       "      <td>2</td>\n",
       "      <td>2</td>\n",
       "      <td>1</td>\n",
       "    </tr>\n",
       "    <tr>\n",
       "      <th>...</th>\n",
       "      <td>...</td>\n",
       "      <td>...</td>\n",
       "      <td>...</td>\n",
       "      <td>...</td>\n",
       "      <td>...</td>\n",
       "      <td>...</td>\n",
       "    </tr>\n",
       "    <tr>\n",
       "      <th>245</th>\n",
       "      <td>1</td>\n",
       "      <td>1</td>\n",
       "      <td>0</td>\n",
       "      <td>1</td>\n",
       "      <td>1</td>\n",
       "      <td>1</td>\n",
       "    </tr>\n",
       "    <tr>\n",
       "      <th>246</th>\n",
       "      <td>2</td>\n",
       "      <td>1</td>\n",
       "      <td>1</td>\n",
       "      <td>1</td>\n",
       "      <td>1</td>\n",
       "      <td>1</td>\n",
       "    </tr>\n",
       "    <tr>\n",
       "      <th>247</th>\n",
       "      <td>0</td>\n",
       "      <td>1</td>\n",
       "      <td>1</td>\n",
       "      <td>1</td>\n",
       "      <td>1</td>\n",
       "      <td>1</td>\n",
       "    </tr>\n",
       "    <tr>\n",
       "      <th>248</th>\n",
       "      <td>1</td>\n",
       "      <td>1</td>\n",
       "      <td>1</td>\n",
       "      <td>1</td>\n",
       "      <td>1</td>\n",
       "      <td>1</td>\n",
       "    </tr>\n",
       "    <tr>\n",
       "      <th>249</th>\n",
       "      <td>2</td>\n",
       "      <td>1</td>\n",
       "      <td>1</td>\n",
       "      <td>1</td>\n",
       "      <td>0</td>\n",
       "      <td>0</td>\n",
       "    </tr>\n",
       "  </tbody>\n",
       "</table>\n",
       "<p>250 rows × 6 columns</p>\n",
       "</div>"
      ],
      "text/plain": [
       "     Industrial_Risk  Management_Risk  Financial_Flexibility  Credibility  \\\n",
       "0                  2                2                      0            0   \n",
       "1                  1                1                      0            0   \n",
       "2                  0                0                      0            0   \n",
       "3                  2                2                      2            2   \n",
       "4                  1                1                      2            2   \n",
       "..               ...              ...                    ...          ...   \n",
       "245                1                1                      0            1   \n",
       "246                2                1                      1            1   \n",
       "247                0                1                      1            1   \n",
       "248                1                1                      1            1   \n",
       "249                2                1                      1            1   \n",
       "\n",
       "     Competitiveness  Operating Risk  \n",
       "0                  0               2  \n",
       "1                  0               1  \n",
       "2                  0               0  \n",
       "3                  2               2  \n",
       "4                  2               1  \n",
       "..               ...             ...  \n",
       "245                1               1  \n",
       "246                1               1  \n",
       "247                1               1  \n",
       "248                1               1  \n",
       "249                0               0  \n",
       "\n",
       "[250 rows x 6 columns]"
      ]
     },
     "execution_count": 579,
     "metadata": {},
     "output_type": "execute_result"
    }
   ],
   "source": [
    "xVal = df.drop(['Class'], axis=1)\n",
    "xVal"
   ]
  },
  {
   "cell_type": "code",
   "execution_count": 580,
   "metadata": {},
   "outputs": [],
   "source": [
    "yVal = df[\"Class\"]"
   ]
  },
  {
   "cell_type": "code",
   "execution_count": 581,
   "metadata": {},
   "outputs": [
    {
     "data": {
      "text/plain": [
       "0      1\n",
       "1      1\n",
       "2      1\n",
       "3      1\n",
       "4      1\n",
       "      ..\n",
       "245    0\n",
       "246    0\n",
       "247    0\n",
       "248    0\n",
       "249    0\n",
       "Name: Class, Length: 250, dtype: int32"
      ]
     },
     "execution_count": 581,
     "metadata": {},
     "output_type": "execute_result"
    }
   ],
   "source": [
    "yVal"
   ]
  },
  {
   "cell_type": "markdown",
   "metadata": {},
   "source": [
    "# Split the dataset into training and test data ( Take 80:20 ratio)"
   ]
  },
  {
   "cell_type": "code",
   "execution_count": 582,
   "metadata": {},
   "outputs": [],
   "source": [
    "X_train, X_test, Y_train, Y_test = train_test_split(xVal,yVal, test_size=0.2, random_state=1)"
   ]
  },
  {
   "cell_type": "code",
   "execution_count": 583,
   "metadata": {},
   "outputs": [
    {
     "name": "stdout",
     "output_type": "stream",
     "text": [
      "X_train shape: (200, 6)\n",
      "X_test shape: (50, 6)\n",
      "Y_train shape: (200,)\n",
      "Y_test shape: (50,)\n"
     ]
    }
   ],
   "source": [
    "print(\"X_train shape:\", X_train.shape)\n",
    "print(\"X_test shape:\", X_test.shape)\n",
    "print(\"Y_train shape:\", Y_train.shape)\n",
    "print(\"Y_test shape:\", Y_test.shape)"
   ]
  },
  {
   "cell_type": "markdown",
   "metadata": {},
   "source": [
    "# Apply PCA on the independent features of train data"
   ]
  },
  {
   "cell_type": "code",
   "execution_count": 584,
   "metadata": {},
   "outputs": [],
   "source": [
    "from sklearn.preprocessing import StandardScaler"
   ]
  },
  {
   "cell_type": "code",
   "execution_count": 585,
   "metadata": {},
   "outputs": [],
   "source": [
    "#sc = StandardScaler()\n",
    "#X_train_std =  sc.fit_transform(X_train)\n",
    "#X_train_std"
   ]
  },
  {
   "cell_type": "code",
   "execution_count": 586,
   "metadata": {},
   "outputs": [
    {
     "data": {
      "text/html": [
       "<div>\n",
       "<style scoped>\n",
       "    .dataframe tbody tr th:only-of-type {\n",
       "        vertical-align: middle;\n",
       "    }\n",
       "\n",
       "    .dataframe tbody tr th {\n",
       "        vertical-align: top;\n",
       "    }\n",
       "\n",
       "    .dataframe thead th {\n",
       "        text-align: right;\n",
       "    }\n",
       "</style>\n",
       "<table border=\"1\" class=\"dataframe\">\n",
       "  <thead>\n",
       "    <tr style=\"text-align: right;\">\n",
       "      <th></th>\n",
       "      <th>Industrial_Risk</th>\n",
       "      <th>Management_Risk</th>\n",
       "      <th>Financial_Flexibility</th>\n",
       "      <th>Credibility</th>\n",
       "      <th>Competitiveness</th>\n",
       "      <th>Operating Risk</th>\n",
       "    </tr>\n",
       "  </thead>\n",
       "  <tbody>\n",
       "    <tr>\n",
       "      <th>228</th>\n",
       "      <td>-1.189826</td>\n",
       "      <td>-1.359455</td>\n",
       "      <td>0.068843</td>\n",
       "      <td>-0.006325</td>\n",
       "      <td>-0.152085</td>\n",
       "      <td>-0.113812</td>\n",
       "    </tr>\n",
       "    <tr>\n",
       "      <th>85</th>\n",
       "      <td>-1.189826</td>\n",
       "      <td>0.034858</td>\n",
       "      <td>0.068843</td>\n",
       "      <td>-0.006325</td>\n",
       "      <td>1.170390</td>\n",
       "      <td>1.225157</td>\n",
       "    </tr>\n",
       "    <tr>\n",
       "      <th>112</th>\n",
       "      <td>0.062622</td>\n",
       "      <td>0.034858</td>\n",
       "      <td>1.445700</td>\n",
       "      <td>1.258612</td>\n",
       "      <td>1.170390</td>\n",
       "      <td>-0.113812</td>\n",
       "    </tr>\n",
       "    <tr>\n",
       "      <th>148</th>\n",
       "      <td>0.062622</td>\n",
       "      <td>0.034858</td>\n",
       "      <td>0.068843</td>\n",
       "      <td>-1.271261</td>\n",
       "      <td>-0.152085</td>\n",
       "      <td>-1.452781</td>\n",
       "    </tr>\n",
       "    <tr>\n",
       "      <th>171</th>\n",
       "      <td>-1.189826</td>\n",
       "      <td>1.429170</td>\n",
       "      <td>0.068843</td>\n",
       "      <td>-0.006325</td>\n",
       "      <td>-0.152085</td>\n",
       "      <td>-0.113812</td>\n",
       "    </tr>\n",
       "    <tr>\n",
       "      <th>...</th>\n",
       "      <td>...</td>\n",
       "      <td>...</td>\n",
       "      <td>...</td>\n",
       "      <td>...</td>\n",
       "      <td>...</td>\n",
       "      <td>...</td>\n",
       "    </tr>\n",
       "    <tr>\n",
       "      <th>137</th>\n",
       "      <td>0.062622</td>\n",
       "      <td>1.429170</td>\n",
       "      <td>1.445700</td>\n",
       "      <td>1.258612</td>\n",
       "      <td>1.170390</td>\n",
       "      <td>-0.113812</td>\n",
       "    </tr>\n",
       "    <tr>\n",
       "      <th>72</th>\n",
       "      <td>1.315071</td>\n",
       "      <td>-1.359455</td>\n",
       "      <td>1.445700</td>\n",
       "      <td>-1.271261</td>\n",
       "      <td>1.170390</td>\n",
       "      <td>1.225157</td>\n",
       "    </tr>\n",
       "    <tr>\n",
       "      <th>140</th>\n",
       "      <td>1.315071</td>\n",
       "      <td>0.034858</td>\n",
       "      <td>1.445700</td>\n",
       "      <td>-1.271261</td>\n",
       "      <td>-1.474559</td>\n",
       "      <td>1.225157</td>\n",
       "    </tr>\n",
       "    <tr>\n",
       "      <th>235</th>\n",
       "      <td>-1.189826</td>\n",
       "      <td>0.034858</td>\n",
       "      <td>0.068843</td>\n",
       "      <td>-0.006325</td>\n",
       "      <td>-0.152085</td>\n",
       "      <td>-1.452781</td>\n",
       "    </tr>\n",
       "    <tr>\n",
       "      <th>37</th>\n",
       "      <td>-1.189826</td>\n",
       "      <td>0.034858</td>\n",
       "      <td>-1.308014</td>\n",
       "      <td>1.258612</td>\n",
       "      <td>1.170390</td>\n",
       "      <td>-1.452781</td>\n",
       "    </tr>\n",
       "  </tbody>\n",
       "</table>\n",
       "<p>200 rows × 6 columns</p>\n",
       "</div>"
      ],
      "text/plain": [
       "     Industrial_Risk  Management_Risk  Financial_Flexibility  Credibility  \\\n",
       "228        -1.189826        -1.359455               0.068843    -0.006325   \n",
       "85         -1.189826         0.034858               0.068843    -0.006325   \n",
       "112         0.062622         0.034858               1.445700     1.258612   \n",
       "148         0.062622         0.034858               0.068843    -1.271261   \n",
       "171        -1.189826         1.429170               0.068843    -0.006325   \n",
       "..               ...              ...                    ...          ...   \n",
       "137         0.062622         1.429170               1.445700     1.258612   \n",
       "72          1.315071        -1.359455               1.445700    -1.271261   \n",
       "140         1.315071         0.034858               1.445700    -1.271261   \n",
       "235        -1.189826         0.034858               0.068843    -0.006325   \n",
       "37         -1.189826         0.034858              -1.308014     1.258612   \n",
       "\n",
       "     Competitiveness  Operating Risk  \n",
       "228        -0.152085       -0.113812  \n",
       "85          1.170390        1.225157  \n",
       "112         1.170390       -0.113812  \n",
       "148        -0.152085       -1.452781  \n",
       "171        -0.152085       -0.113812  \n",
       "..               ...             ...  \n",
       "137         1.170390       -0.113812  \n",
       "72          1.170390        1.225157  \n",
       "140        -1.474559        1.225157  \n",
       "235        -0.152085       -1.452781  \n",
       "37          1.170390       -1.452781  \n",
       "\n",
       "[200 rows x 6 columns]"
      ]
     },
     "execution_count": 586,
     "metadata": {},
     "output_type": "execute_result"
    }
   ],
   "source": [
    "X_train_std = X_train.apply(zscore)\n",
    "X_train_std"
   ]
  },
  {
   "cell_type": "code",
   "execution_count": 587,
   "metadata": {},
   "outputs": [
    {
     "data": {
      "text/plain": [
       "array([[ 1.00502513,  0.06800935,  0.07365708, -0.03144652,  0.05951142,\n",
       "         0.19255886],\n",
       "       [ 0.06800935,  1.00502513, -0.06994131,  0.03567316, -0.16146084,\n",
       "         0.30419877],\n",
       "       [ 0.07365708, -0.06994131,  1.00502513,  0.03544536,  0.16607327,\n",
       "        -0.0569746 ],\n",
       "       [-0.03144652,  0.03567316,  0.03544536,  1.00502513,  0.10831471,\n",
       "         0.0503432 ],\n",
       "       [ 0.05951142, -0.16146084,  0.16607327,  0.10831471,  1.00502513,\n",
       "        -0.10637863],\n",
       "       [ 0.19255886,  0.30419877, -0.0569746 ,  0.0503432 , -0.10637863,\n",
       "         1.00502513]])"
      ]
     },
     "execution_count": 587,
     "metadata": {},
     "output_type": "execute_result"
    }
   ],
   "source": [
    "# PCA\n",
    "# Step 1 - Create covariance matrix\n",
    "train_cov_matrix = np.cov(X_train_std.T)\n",
    "train_cov_matrix"
   ]
  },
  {
   "cell_type": "code",
   "execution_count": 588,
   "metadata": {},
   "outputs": [],
   "source": [
    "eigenvalues, eigenvectors = np.linalg.eig(train_cov_matrix)"
   ]
  },
  {
   "cell_type": "code",
   "execution_count": 589,
   "metadata": {},
   "outputs": [
    {
     "name": "stdout",
     "output_type": "stream",
     "text": [
      "[1.47890643 1.22416057 1.03664572 0.66883197 0.86620747 0.7553986 ]\n"
     ]
    }
   ],
   "source": [
    "print(eigenvalues)"
   ]
  },
  {
   "cell_type": "code",
   "execution_count": 590,
   "metadata": {
    "scrolled": true
   },
   "outputs": [
    {
     "name": "stdout",
     "output_type": "stream",
     "text": [
      "[[-0.23732939 -0.5360147   0.48315739  0.33735792  0.40740026  0.37833397]\n",
      " [-0.59325165 -0.08174399 -0.16982547  0.56887011 -0.32577645 -0.42753504]\n",
      " [ 0.26567321 -0.51365616  0.16864575 -0.08695065 -0.78069166  0.14175265]\n",
      " [ 0.01983168 -0.33236694 -0.83694335  0.09345737  0.108673    0.41002518]\n",
      " [ 0.40416981 -0.50099012 -0.08706544 -0.00752643  0.32434473 -0.68761844]\n",
      " [-0.59782811 -0.28408559 -0.03496116 -0.73907042  0.03749575 -0.11420866]]\n"
     ]
    }
   ],
   "source": [
    "print(eigenvectors)"
   ]
  },
  {
   "cell_type": "code",
   "execution_count": 591,
   "metadata": {},
   "outputs": [
    {
     "data": {
      "text/plain": [
       "[(1.4789064335009798,\n",
       "  array([-0.23732939, -0.5360147 ,  0.48315739,  0.33735792,  0.40740026,\n",
       "          0.37833397])),\n",
       " (1.2241605657173296,\n",
       "  array([-0.59325165, -0.08174399, -0.16982547,  0.56887011, -0.32577645,\n",
       "         -0.42753504])),\n",
       " (1.0366457181362458,\n",
       "  array([ 0.26567321, -0.51365616,  0.16864575, -0.08695065, -0.78069166,\n",
       "          0.14175265])),\n",
       " (0.8662074702607239,\n",
       "  array([ 0.40416981, -0.50099012, -0.08706544, -0.00752643,  0.32434473,\n",
       "         -0.68761844])),\n",
       " (0.7553985992184971,\n",
       "  array([-0.59782811, -0.28408559, -0.03496116, -0.73907042,  0.03749575,\n",
       "         -0.11420866])),\n",
       " (0.6688319669350655,\n",
       "  array([ 0.01983168, -0.33236694, -0.83694335,  0.09345737,  0.108673  ,\n",
       "          0.41002518]))]"
      ]
     },
     "execution_count": 591,
     "metadata": {},
     "output_type": "execute_result"
    }
   ],
   "source": [
    "# Make a set of (eigenvalue, eigenvector) pairs\n",
    "train_eig_pairs = [(eigenvalues[index], eigenvectors[index, :]) for index in range(len(eigenvalues))]\n",
    "\n",
    "# Sort the (eigenvalue, eigenvector) pairs from highest to lowest with respect to eigenvalue\n",
    "train_eig_pairs.sort(reverse = True)\n",
    "\n",
    "train_eig_pairs"
   ]
  },
  {
   "cell_type": "code",
   "execution_count": 592,
   "metadata": {},
   "outputs": [
    {
     "name": "stdout",
     "output_type": "stream",
     "text": [
      "Eigenvalues in descending order: \n",
      "[1.4789064335009798, 1.2241605657173296, 1.0366457181362458, 0.8662074702607239, 0.7553985992184971, 0.6688319669350655]\n"
     ]
    }
   ],
   "source": [
    "train_eigvalues_sorted = [train_eig_pairs[index][0] for index in range(len(eigenvalues))]\n",
    "train_eigvectors_sorted = [train_eig_pairs[index][1] for index in range(len(eigenvalues))]\n",
    "\n",
    "# Let's confirm our sorting worked, print out eigenvalues\n",
    "print('Eigenvalues in descending order: \\n%s' %train_eigvalues_sorted)"
   ]
  },
  {
   "cell_type": "code",
   "execution_count": 593,
   "metadata": {},
   "outputs": [],
   "source": [
    "tot = sum(eigenvalues) # Sum up all the Eigen values to reflect the total covariance captured from original feature space\n",
    "\n",
    "\n",
    "#%age of total covariance explained = [(i / tot) for i in sorted(train_eigvalues_sorted, reverse=True)]  \n",
    "# array of variance explained by each Eigen vector will be generated\n",
    "\n",
    "var_explained = [(i / tot) for i in train_eigvalues_sorted] \n",
    "\n",
    "\n",
    "\n",
    "\n",
    "# an array of cumulative covariance captured by the Eigen vectors together\n",
    "\n",
    "cum_var_exp = np.cumsum(var_explained)  "
   ]
  },
  {
   "cell_type": "code",
   "execution_count": 594,
   "metadata": {},
   "outputs": [
    {
     "name": "stdout",
     "output_type": "stream",
     "text": [
      "[0.24525198355557926, 0.2030066271481239, 0.17191041492426085, 0.1436460721515701, 0.12527026770373414, 0.11091463451673174]\n"
     ]
    }
   ],
   "source": [
    "print(var_explained)"
   ]
  },
  {
   "cell_type": "code",
   "execution_count": 595,
   "metadata": {},
   "outputs": [
    {
     "name": "stdout",
     "output_type": "stream",
     "text": [
      "[0.24525198 0.44825861 0.62016903 0.7638151  0.88908537 1.        ]\n"
     ]
    }
   ],
   "source": [
    "print(cum_var_exp)"
   ]
  },
  {
   "cell_type": "markdown",
   "metadata": {},
   "source": [
    "# Elbow plot to find out reduced number of dimensions"
   ]
  },
  {
   "cell_type": "code",
   "execution_count": 596,
   "metadata": {
    "scrolled": true
   },
   "outputs": [
    {
     "data": {
      "text/plain": [
       "[<matplotlib.lines.Line2D at 0x1b59e539088>]"
      ]
     },
     "execution_count": 596,
     "metadata": {},
     "output_type": "execute_result"
    },
    {
     "data": {
      "image/png": "[encoded data removed]",
      "text/plain": [
       "<Figure size 432x288 with 1 Axes>"
      ]
     },
     "metadata": {
      "needs_background": "light"
     },
     "output_type": "display_data"
    }
   ],
   "source": [
    "plt.plot(var_explained)"
   ]
  },
  {
   "cell_type": "code",
   "execution_count": 597,
   "metadata": {},
   "outputs": [
    {
     "data": {
      "image/png": "[encoded data removed]",
      "text/plain": [
       "<Figure size 432x288 with 1 Axes>"
      ]
     },
     "metadata": {
      "needs_background": "light"
     },
     "output_type": "display_data"
    }
   ],
   "source": [
    "plt.bar(range(1,eigenvalues.size+1), var_explained, alpha =0.5 , align = 'center', label = 'Individual; variance captured')\n",
    "plt.step(range(1,eigenvalues.size+1), cum_var_exp, where='mid', label = 'Cumulative variance captured')\n",
    "plt.ylabel('Explained Variance %')\n",
    "plt.xlabel('Principle Component')\n",
    "plt.legend(loc = 'best')\n",
    "plt.show()"
   ]
  },
  {
   "cell_type": "markdown",
   "metadata": {},
   "source": [
    "# Transforming the data using PCA"
   ]
  },
  {
   "cell_type": "code",
   "execution_count": 598,
   "metadata": {},
   "outputs": [],
   "source": [
    "# P_reduce represents reduced mathematical space....\n",
    "\n",
    "P_reduce = np.array(train_eigvectors_sorted[0:5])   # In this case using all the three PC dimensions- not reducing  actually\n",
    "\n",
    "X_std_3D = np.dot(X_train_std,P_reduce.T)   # projecting original data into principal component dimensions\n",
    "\n",
    "Proj_train_data_df = pd.DataFrame(X_std_3D)  # converting array to dataframe for pairplot\n"
   ]
  },
  {
   "cell_type": "code",
   "execution_count": null,
   "metadata": {},
   "outputs": [],
   "source": []
  },
  {
   "cell_type": "code",
   "execution_count": 599,
   "metadata": {
    "scrolled": true
   },
   "outputs": [
    {
     "data": {
      "text/html": [
       "<div>\n",
       "<style scoped>\n",
       "    .dataframe tbody tr th:only-of-type {\n",
       "        vertical-align: middle;\n",
       "    }\n",
       "\n",
       "    .dataframe tbody tr th {\n",
       "        vertical-align: top;\n",
       "    }\n",
       "\n",
       "    .dataframe thead th {\n",
       "        text-align: right;\n",
       "    }\n",
       "</style>\n",
       "<table border=\"1\" class=\"dataframe\">\n",
       "  <thead>\n",
       "    <tr style=\"text-align: right;\">\n",
       "      <th></th>\n",
       "      <th>0</th>\n",
       "      <th>1</th>\n",
       "      <th>2</th>\n",
       "      <th>3</th>\n",
       "      <th>4</th>\n",
       "    </tr>\n",
       "  </thead>\n",
       "  <tbody>\n",
       "    <tr>\n",
       "      <th>0</th>\n",
       "      <td>0.937178</td>\n",
       "      <td>0.899909</td>\n",
       "      <td>0.496945</td>\n",
       "      <td>0.223167</td>\n",
       "      <td>1.107076</td>\n",
       "    </tr>\n",
       "    <tr>\n",
       "      <th>1</th>\n",
       "      <td>1.235160</td>\n",
       "      <td>-0.217355</td>\n",
       "      <td>-1.061895</td>\n",
       "      <td>-0.967132</td>\n",
       "      <td>0.607638</td>\n",
       "    </tr>\n",
       "    <tr>\n",
       "      <th>2</th>\n",
       "      <td>1.523315</td>\n",
       "      <td>0.097843</td>\n",
       "      <td>-0.796741</td>\n",
       "      <td>0.330373</td>\n",
       "      <td>-0.971203</td>\n",
       "    </tr>\n",
       "    <tr>\n",
       "      <th>3</th>\n",
       "      <td>-1.040750</td>\n",
       "      <td>-0.104213</td>\n",
       "      <td>0.033675</td>\n",
       "      <td>0.961052</td>\n",
       "      <td>1.050022</td>\n",
       "    </tr>\n",
       "    <tr>\n",
       "      <th>4</th>\n",
       "      <td>-0.557566</td>\n",
       "      <td>0.671955</td>\n",
       "      <td>-0.935449</td>\n",
       "      <td>-1.173907</td>\n",
       "      <td>0.314868</td>\n",
       "    </tr>\n",
       "  </tbody>\n",
       "</table>\n",
       "</div>"
      ],
      "text/plain": [
       "          0         1         2         3         4\n",
       "0  0.937178  0.899909  0.496945  0.223167  1.107076\n",
       "1  1.235160 -0.217355 -1.061895 -0.967132  0.607638\n",
       "2  1.523315  0.097843 -0.796741  0.330373 -0.971203\n",
       "3 -1.040750 -0.104213  0.033675  0.961052  1.050022\n",
       "4 -0.557566  0.671955 -0.935449 -1.173907  0.314868"
      ]
     },
     "execution_count": 599,
     "metadata": {},
     "output_type": "execute_result"
    }
   ],
   "source": [
    "Proj_train_data_df.head()"
   ]
  },
  {
   "cell_type": "code",
   "execution_count": null,
   "metadata": {},
   "outputs": [],
   "source": []
  },
  {
   "cell_type": "code",
   "execution_count": 600,
   "metadata": {},
   "outputs": [
    {
     "data": {
      "text/plain": [
       "(200, 5)"
      ]
     },
     "execution_count": 600,
     "metadata": {},
     "output_type": "execute_result"
    }
   ],
   "source": [
    "Proj_train_data_df.shape"
   ]
  },
  {
   "cell_type": "markdown",
   "metadata": {},
   "source": [
    "# Applying KMeans algorithm on the above transformed data."
   ]
  },
  {
   "cell_type": "markdown",
   "metadata": {},
   "source": [
    "# # Visualising the clusters first with hierarchical clustering before applying the Kmeans"
   ]
  },
  {
   "cell_type": "code",
   "execution_count": 601,
   "metadata": {},
   "outputs": [],
   "source": [
    "from scipy.cluster.hierarchy import cophenet, dendrogram, linkage\n",
    "from scipy.spatial.distance import pdist  #Pairwise distribution between data points"
   ]
  },
  {
   "cell_type": "code",
   "execution_count": 602,
   "metadata": {},
   "outputs": [
    {
     "data": {
      "text/plain": [
       "0.6540403082455538"
      ]
     },
     "execution_count": 602,
     "metadata": {},
     "output_type": "execute_result"
    }
   ],
   "source": [
    "# cophenet index is a measure of the correlation between the distance of points in feature space and distance on dendrogram\n",
    "# closer it is to 1, the better is the clustering\n",
    "\n",
    "Z = linkage(Proj_train_data_df, 'average')\n",
    "c, coph_dists = cophenet(Z , pdist(Proj_train_data_df))\n",
    "\n",
    "c"
   ]
  },
  {
   "cell_type": "code",
   "execution_count": 603,
   "metadata": {},
   "outputs": [
    {
     "data": {
      "text/plain": [
       "0.6540403082455538"
      ]
     },
     "execution_count": 603,
     "metadata": {},
     "output_type": "execute_result"
    }
   ],
   "source": [
    "# cophenet index is a measure of the correlation between the distance of points in feature space and distance on dendrogram\n",
    "# closer it is to 1, the better is the clustering\n",
    "\n",
    "Z_completeLinkage = linkage(Proj_train_data_df, 'complete' )\n",
    "c_completeLinkage, coph_dists = cophenet(Z , pdist(Proj_train_data_df))\n",
    "\n",
    "c_completeLinkage"
   ]
  },
  {
   "cell_type": "code",
   "execution_count": 604,
   "metadata": {},
   "outputs": [
    {
     "data": {
      "text/plain": [
       "0.6540403082455538"
      ]
     },
     "execution_count": 604,
     "metadata": {},
     "output_type": "execute_result"
    }
   ],
   "source": [
    "# cophenet index is a measure of the correlation between the distance of points in feature space and distance on dendrogram\n",
    "# closer it is to 1, the better is the clustering\n",
    "\n",
    "Z_ward = linkage(Proj_train_data_df, 'ward')\n",
    "c_ward, coph_dists = cophenet(Z , pdist(Proj_train_data_df))\n",
    "\n",
    "c_ward"
   ]
  },
  {
   "cell_type": "code",
   "execution_count": 605,
   "metadata": {},
   "outputs": [
    {
     "data": {
      "image/png": "[encoded data removed]",
      "text/plain": [
       "<Figure size 1080x1080 with 1 Axes>"
      ]
     },
     "metadata": {
      "needs_background": "light"
     },
     "output_type": "display_data"
    }
   ],
   "source": [
    "plt.figure(figsize=(15, 15))\n",
    "plt.title('Agglomerative Hierarchical Clustering Dendogram')\n",
    "plt.xlabel('sample index')\n",
    "plt.ylabel('Distance')\n",
    "dendrogram(Z, leaf_rotation=90.,color_threshold = 650, leaf_font_size=10. )\n",
    "plt.tight_layout()"
   ]
  },
  {
   "cell_type": "markdown",
   "metadata": {},
   "source": [
    "# Applying KMeans algorithm"
   ]
  },
  {
   "cell_type": "code",
   "execution_count": 606,
   "metadata": {},
   "outputs": [],
   "source": [
    "from sklearn.cluster import KMeans"
   ]
  },
  {
   "cell_type": "code",
   "execution_count": 607,
   "metadata": {},
   "outputs": [
    {
     "data": {
      "text/html": [
       "<div>\n",
       "<style scoped>\n",
       "    .dataframe tbody tr th:only-of-type {\n",
       "        vertical-align: middle;\n",
       "    }\n",
       "\n",
       "    .dataframe tbody tr th {\n",
       "        vertical-align: top;\n",
       "    }\n",
       "\n",
       "    .dataframe thead th {\n",
       "        text-align: right;\n",
       "    }\n",
       "</style>\n",
       "<table border=\"1\" class=\"dataframe\">\n",
       "  <thead>\n",
       "    <tr style=\"text-align: right;\">\n",
       "      <th></th>\n",
       "      <th>num_clusters</th>\n",
       "      <th>cluster_errors</th>\n",
       "    </tr>\n",
       "  </thead>\n",
       "  <tbody>\n",
       "    <tr>\n",
       "      <th>0</th>\n",
       "      <td>2</td>\n",
       "      <td>831.661330</td>\n",
       "    </tr>\n",
       "    <tr>\n",
       "      <th>1</th>\n",
       "      <td>3</td>\n",
       "      <td>712.134851</td>\n",
       "    </tr>\n",
       "    <tr>\n",
       "      <th>2</th>\n",
       "      <td>4</td>\n",
       "      <td>625.337735</td>\n",
       "    </tr>\n",
       "    <tr>\n",
       "      <th>3</th>\n",
       "      <td>5</td>\n",
       "      <td>559.890686</td>\n",
       "    </tr>\n",
       "    <tr>\n",
       "      <th>4</th>\n",
       "      <td>6</td>\n",
       "      <td>515.404518</td>\n",
       "    </tr>\n",
       "    <tr>\n",
       "      <th>5</th>\n",
       "      <td>7</td>\n",
       "      <td>477.771253</td>\n",
       "    </tr>\n",
       "    <tr>\n",
       "      <th>6</th>\n",
       "      <td>8</td>\n",
       "      <td>432.313637</td>\n",
       "    </tr>\n",
       "    <tr>\n",
       "      <th>7</th>\n",
       "      <td>9</td>\n",
       "      <td>406.619530</td>\n",
       "    </tr>\n",
       "  </tbody>\n",
       "</table>\n",
       "</div>"
      ],
      "text/plain": [
       "   num_clusters  cluster_errors\n",
       "0             2      831.661330\n",
       "1             3      712.134851\n",
       "2             4      625.337735\n",
       "3             5      559.890686\n",
       "4             6      515.404518\n",
       "5             7      477.771253\n",
       "6             8      432.313637\n",
       "7             9      406.619530"
      ]
     },
     "execution_count": 607,
     "metadata": {},
     "output_type": "execute_result"
    }
   ],
   "source": [
    "cluster_range = range( 2, 10)   # expect 3 to four clusters from the pair panel visual inspection hence restricting from 2 to 6\n",
    "cluster_errors = []\n",
    "for num_clusters in cluster_range:\n",
    "  clusters = KMeans(num_clusters)\n",
    "  clusters.fit(Proj_train_data_df)\n",
    "  labels = clusters.labels_\n",
    "  centroids = clusters.cluster_centers_\n",
    "  cluster_errors.append( clusters.inertia_ )\n",
    "clusters_df = pd.DataFrame( { \"num_clusters\":cluster_range, \"cluster_errors\": cluster_errors } )\n",
    "clusters_df[0:15]"
   ]
  },
  {
   "cell_type": "code",
   "execution_count": 608,
   "metadata": {},
   "outputs": [
    {
     "data": {
      "text/plain": [
       "[<matplotlib.lines.Line2D at 0x1b59e260f88>]"
      ]
     },
     "execution_count": 608,
     "metadata": {},
     "output_type": "execute_result"
    },
    {
     "data": {
      "image/png": "[encoded data removed]",
      "text/plain": [
       "<Figure size 864x432 with 1 Axes>"
      ]
     },
     "metadata": {
      "needs_background": "light"
     },
     "output_type": "display_data"
    }
   ],
   "source": [
    "# Elbow plot\n",
    "\n",
    "plt.figure(figsize=(12,6))\n",
    "plt.plot( clusters_df.num_clusters, clusters_df.cluster_errors, marker = \"o\" )"
   ]
  },
  {
   "cell_type": "markdown",
   "metadata": {},
   "source": [
    "# Selecting optimal number of clusters and form clusters out of the train data"
   ]
  },
  {
   "cell_type": "code",
   "execution_count": 609,
   "metadata": {
    "scrolled": true
   },
   "outputs": [
    {
     "data": {
      "text/plain": [
       "KMeans(algorithm='auto', copy_x=True, init='k-means++', max_iter=300,\n",
       "       n_clusters=5, n_init=10, n_jobs=None, precompute_distances='auto',\n",
       "       random_state=1, tol=0.0001, verbose=0)"
      ]
     },
     "execution_count": 609,
     "metadata": {},
     "output_type": "execute_result"
    }
   ],
   "source": [
    "cluster = KMeans( n_clusters = 5, random_state = 1 )\n",
    "cluster.fit(Proj_train_data_df)"
   ]
  },
  {
   "cell_type": "code",
   "execution_count": 610,
   "metadata": {},
   "outputs": [
    {
     "data": {
      "text/plain": [
       "array([[ 0.15303177, -1.29594931,  0.46285739, -0.5007425 ,  0.1857016 ],\n",
       "       [-0.877948  ,  0.49532681,  0.17684404, -1.39028425, -0.47063463],\n",
       "       [-0.63648953, -0.20497957,  0.18469728,  0.65700035,  0.09523973],\n",
       "       [ 0.38693059,  1.05898455, -0.06624548,  0.48861064,  1.03798982],\n",
       "       [ 1.03171642, -0.22170712, -0.73888854,  0.20786155, -1.08714974]])"
      ]
     },
     "execution_count": 610,
     "metadata": {},
     "output_type": "execute_result"
    }
   ],
   "source": [
    "centroids = cluster.cluster_centers_\n",
    "centroids"
   ]
  },
  {
   "cell_type": "code",
   "execution_count": 611,
   "metadata": {},
   "outputs": [
    {
     "data": {
      "text/html": [
       "<div>\n",
       "<style scoped>\n",
       "    .dataframe tbody tr th:only-of-type {\n",
       "        vertical-align: middle;\n",
       "    }\n",
       "\n",
       "    .dataframe tbody tr th {\n",
       "        vertical-align: top;\n",
       "    }\n",
       "\n",
       "    .dataframe thead th {\n",
       "        text-align: right;\n",
       "    }\n",
       "</style>\n",
       "<table border=\"1\" class=\"dataframe\">\n",
       "  <thead>\n",
       "    <tr style=\"text-align: right;\">\n",
       "      <th></th>\n",
       "      <th>0</th>\n",
       "      <th>1</th>\n",
       "      <th>2</th>\n",
       "      <th>3</th>\n",
       "      <th>4</th>\n",
       "    </tr>\n",
       "  </thead>\n",
       "  <tbody>\n",
       "    <tr>\n",
       "      <th>0</th>\n",
       "      <td>0.153032</td>\n",
       "      <td>-1.295949</td>\n",
       "      <td>0.462857</td>\n",
       "      <td>-0.500743</td>\n",
       "      <td>0.185702</td>\n",
       "    </tr>\n",
       "    <tr>\n",
       "      <th>1</th>\n",
       "      <td>-0.877948</td>\n",
       "      <td>0.495327</td>\n",
       "      <td>0.176844</td>\n",
       "      <td>-1.390284</td>\n",
       "      <td>-0.470635</td>\n",
       "    </tr>\n",
       "    <tr>\n",
       "      <th>2</th>\n",
       "      <td>-0.636490</td>\n",
       "      <td>-0.204980</td>\n",
       "      <td>0.184697</td>\n",
       "      <td>0.657000</td>\n",
       "      <td>0.095240</td>\n",
       "    </tr>\n",
       "    <tr>\n",
       "      <th>3</th>\n",
       "      <td>0.386931</td>\n",
       "      <td>1.058985</td>\n",
       "      <td>-0.066245</td>\n",
       "      <td>0.488611</td>\n",
       "      <td>1.037990</td>\n",
       "    </tr>\n",
       "    <tr>\n",
       "      <th>4</th>\n",
       "      <td>1.031716</td>\n",
       "      <td>-0.221707</td>\n",
       "      <td>-0.738889</td>\n",
       "      <td>0.207862</td>\n",
       "      <td>-1.087150</td>\n",
       "    </tr>\n",
       "  </tbody>\n",
       "</table>\n",
       "</div>"
      ],
      "text/plain": [
       "          0         1         2         3         4\n",
       "0  0.153032 -1.295949  0.462857 -0.500743  0.185702\n",
       "1 -0.877948  0.495327  0.176844 -1.390284 -0.470635\n",
       "2 -0.636490 -0.204980  0.184697  0.657000  0.095240\n",
       "3  0.386931  1.058985 -0.066245  0.488611  1.037990\n",
       "4  1.031716 -0.221707 -0.738889  0.207862 -1.087150"
      ]
     },
     "execution_count": 611,
     "metadata": {},
     "output_type": "execute_result"
    }
   ],
   "source": [
    "centroid_df = pd.DataFrame(centroids, columns = list(Proj_train_data_df) )\n",
    "centroid_df"
   ]
  },
  {
   "cell_type": "markdown",
   "metadata": {},
   "source": [
    "# Create a new column in the train data and populate it with the cluster labels"
   ]
  },
  {
   "cell_type": "code",
   "execution_count": 612,
   "metadata": {},
   "outputs": [],
   "source": [
    "prediction=cluster.predict(Proj_train_data_df)\n",
    "Proj_train_data_df[\"GROUP\"] = prediction"
   ]
  },
  {
   "cell_type": "code",
   "execution_count": null,
   "metadata": {},
   "outputs": [],
   "source": []
  },
  {
   "cell_type": "code",
   "execution_count": 613,
   "metadata": {
    "scrolled": true
   },
   "outputs": [
    {
     "data": {
      "text/html": [
       "<div>\n",
       "<style scoped>\n",
       "    .dataframe tbody tr th:only-of-type {\n",
       "        vertical-align: middle;\n",
       "    }\n",
       "\n",
       "    .dataframe tbody tr th {\n",
       "        vertical-align: top;\n",
       "    }\n",
       "\n",
       "    .dataframe thead th {\n",
       "        text-align: right;\n",
       "    }\n",
       "</style>\n",
       "<table border=\"1\" class=\"dataframe\">\n",
       "  <thead>\n",
       "    <tr style=\"text-align: right;\">\n",
       "      <th></th>\n",
       "      <th>0</th>\n",
       "      <th>1</th>\n",
       "      <th>2</th>\n",
       "      <th>3</th>\n",
       "      <th>4</th>\n",
       "      <th>GROUP</th>\n",
       "    </tr>\n",
       "  </thead>\n",
       "  <tbody>\n",
       "    <tr>\n",
       "      <th>0</th>\n",
       "      <td>0.937178</td>\n",
       "      <td>0.899909</td>\n",
       "      <td>0.496945</td>\n",
       "      <td>0.223167</td>\n",
       "      <td>1.107076</td>\n",
       "      <td>3</td>\n",
       "    </tr>\n",
       "    <tr>\n",
       "      <th>1</th>\n",
       "      <td>1.235160</td>\n",
       "      <td>-0.217355</td>\n",
       "      <td>-1.061895</td>\n",
       "      <td>-0.967132</td>\n",
       "      <td>0.607638</td>\n",
       "      <td>4</td>\n",
       "    </tr>\n",
       "    <tr>\n",
       "      <th>2</th>\n",
       "      <td>1.523315</td>\n",
       "      <td>0.097843</td>\n",
       "      <td>-0.796741</td>\n",
       "      <td>0.330373</td>\n",
       "      <td>-0.971203</td>\n",
       "      <td>4</td>\n",
       "    </tr>\n",
       "    <tr>\n",
       "      <th>3</th>\n",
       "      <td>-1.040750</td>\n",
       "      <td>-0.104213</td>\n",
       "      <td>0.033675</td>\n",
       "      <td>0.961052</td>\n",
       "      <td>1.050022</td>\n",
       "      <td>2</td>\n",
       "    </tr>\n",
       "    <tr>\n",
       "      <th>4</th>\n",
       "      <td>-0.557566</td>\n",
       "      <td>0.671955</td>\n",
       "      <td>-0.935449</td>\n",
       "      <td>-1.173907</td>\n",
       "      <td>0.314868</td>\n",
       "      <td>1</td>\n",
       "    </tr>\n",
       "    <tr>\n",
       "      <th>...</th>\n",
       "      <td>...</td>\n",
       "      <td>...</td>\n",
       "      <td>...</td>\n",
       "      <td>...</td>\n",
       "      <td>...</td>\n",
       "      <td>...</td>\n",
       "    </tr>\n",
       "    <tr>\n",
       "      <th>195</th>\n",
       "      <td>0.775943</td>\n",
       "      <td>-0.016134</td>\n",
       "      <td>-1.512938</td>\n",
       "      <td>-0.368164</td>\n",
       "      <td>-1.367307</td>\n",
       "      <td>4</td>\n",
       "    </tr>\n",
       "    <tr>\n",
       "      <th>196</th>\n",
       "      <td>1.626549</td>\n",
       "      <td>-2.542823</td>\n",
       "      <td>0.661975</td>\n",
       "      <td>0.633453</td>\n",
       "      <td>0.392984</td>\n",
       "      <td>0</td>\n",
       "    </tr>\n",
       "    <tr>\n",
       "      <th>197</th>\n",
       "      <td>-0.198376</td>\n",
       "      <td>-1.795137</td>\n",
       "      <td>2.010668</td>\n",
       "      <td>-0.922960</td>\n",
       "      <td>-0.102294</td>\n",
       "      <td>0</td>\n",
       "    </tr>\n",
       "    <tr>\n",
       "      <th>198</th>\n",
       "      <td>-0.316771</td>\n",
       "      <td>1.358388</td>\n",
       "      <td>-0.409054</td>\n",
       "      <td>0.445330</td>\n",
       "      <td>0.863894</td>\n",
       "      <td>3</td>\n",
       "    </tr>\n",
       "    <tr>\n",
       "      <th>199</th>\n",
       "      <td>-0.016497</td>\n",
       "      <td>1.880967</td>\n",
       "      <td>-1.783687</td>\n",
       "      <td>0.984624</td>\n",
       "      <td>0.026741</td>\n",
       "      <td>3</td>\n",
       "    </tr>\n",
       "  </tbody>\n",
       "</table>\n",
       "<p>200 rows × 6 columns</p>\n",
       "</div>"
      ],
      "text/plain": [
       "            0         1         2         3         4  GROUP\n",
       "0    0.937178  0.899909  0.496945  0.223167  1.107076      3\n",
       "1    1.235160 -0.217355 -1.061895 -0.967132  0.607638      4\n",
       "2    1.523315  0.097843 -0.796741  0.330373 -0.971203      4\n",
       "3   -1.040750 -0.104213  0.033675  0.961052  1.050022      2\n",
       "4   -0.557566  0.671955 -0.935449 -1.173907  0.314868      1\n",
       "..        ...       ...       ...       ...       ...    ...\n",
       "195  0.775943 -0.016134 -1.512938 -0.368164 -1.367307      4\n",
       "196  1.626549 -2.542823  0.661975  0.633453  0.392984      0\n",
       "197 -0.198376 -1.795137  2.010668 -0.922960 -0.102294      0\n",
       "198 -0.316771  1.358388 -0.409054  0.445330  0.863894      3\n",
       "199 -0.016497  1.880967 -1.783687  0.984624  0.026741      3\n",
       "\n",
       "[200 rows x 6 columns]"
      ]
     },
     "execution_count": 613,
     "metadata": {},
     "output_type": "execute_result"
    }
   ],
   "source": [
    "Proj_train_data_df"
   ]
  },
  {
   "cell_type": "code",
   "execution_count": 614,
   "metadata": {},
   "outputs": [
    {
     "data": {
      "text/html": [
       "<div>\n",
       "<style scoped>\n",
       "    .dataframe tbody tr th:only-of-type {\n",
       "        vertical-align: middle;\n",
       "    }\n",
       "\n",
       "    .dataframe tbody tr th {\n",
       "        vertical-align: top;\n",
       "    }\n",
       "\n",
       "    .dataframe thead th {\n",
       "        text-align: right;\n",
       "    }\n",
       "</style>\n",
       "<table border=\"1\" class=\"dataframe\">\n",
       "  <thead>\n",
       "    <tr style=\"text-align: right;\">\n",
       "      <th></th>\n",
       "      <th>0</th>\n",
       "      <th>1</th>\n",
       "      <th>2</th>\n",
       "      <th>3</th>\n",
       "      <th>4</th>\n",
       "    </tr>\n",
       "    <tr>\n",
       "      <th>GROUP</th>\n",
       "      <th></th>\n",
       "      <th></th>\n",
       "      <th></th>\n",
       "      <th></th>\n",
       "      <th></th>\n",
       "    </tr>\n",
       "  </thead>\n",
       "  <tbody>\n",
       "    <tr>\n",
       "      <th>0</th>\n",
       "      <td>34</td>\n",
       "      <td>34</td>\n",
       "      <td>34</td>\n",
       "      <td>34</td>\n",
       "      <td>34</td>\n",
       "    </tr>\n",
       "    <tr>\n",
       "      <th>1</th>\n",
       "      <td>33</td>\n",
       "      <td>33</td>\n",
       "      <td>33</td>\n",
       "      <td>33</td>\n",
       "      <td>33</td>\n",
       "    </tr>\n",
       "    <tr>\n",
       "      <th>2</th>\n",
       "      <td>51</td>\n",
       "      <td>51</td>\n",
       "      <td>51</td>\n",
       "      <td>51</td>\n",
       "      <td>51</td>\n",
       "    </tr>\n",
       "    <tr>\n",
       "      <th>3</th>\n",
       "      <td>44</td>\n",
       "      <td>44</td>\n",
       "      <td>44</td>\n",
       "      <td>44</td>\n",
       "      <td>44</td>\n",
       "    </tr>\n",
       "    <tr>\n",
       "      <th>4</th>\n",
       "      <td>38</td>\n",
       "      <td>38</td>\n",
       "      <td>38</td>\n",
       "      <td>38</td>\n",
       "      <td>38</td>\n",
       "    </tr>\n",
       "  </tbody>\n",
       "</table>\n",
       "</div>"
      ],
      "text/plain": [
       "        0   1   2   3   4\n",
       "GROUP                    \n",
       "0      34  34  34  34  34\n",
       "1      33  33  33  33  33\n",
       "2      51  51  51  51  51\n",
       "3      44  44  44  44  44\n",
       "4      38  38  38  38  38"
      ]
     },
     "execution_count": 614,
     "metadata": {},
     "output_type": "execute_result"
    }
   ],
   "source": [
    "# Cound the number of records per group to check the group symmetry \n",
    "# Clustering resulting large clusters and small satellite clusters is not good. May need hierarchial clustering in that case\n",
    "\n",
    "Proj_train_data_df.groupby(\"GROUP\").count()"
   ]
  },
  {
   "cell_type": "code",
   "execution_count": 615,
   "metadata": {},
   "outputs": [
    {
     "data": {
      "text/plain": [
       "array([[<matplotlib.axes._subplots.AxesSubplot object at 0x000001B59E2E0C48>,\n",
       "        <matplotlib.axes._subplots.AxesSubplot object at 0x000001B59E2FC3C8>,\n",
       "        <matplotlib.axes._subplots.AxesSubplot object at 0x000001B59E330308>],\n",
       "       [<matplotlib.axes._subplots.AxesSubplot object at 0x000001B59E3645C8>,\n",
       "        <matplotlib.axes._subplots.AxesSubplot object at 0x000001B59E39AF48>,\n",
       "        <matplotlib.axes._subplots.AxesSubplot object at 0x000001B59E3D2DC8>],\n",
       "       [<matplotlib.axes._subplots.AxesSubplot object at 0x000001B59E40BE88>,\n",
       "        <matplotlib.axes._subplots.AxesSubplot object at 0x000001B59E447088>,\n",
       "        <matplotlib.axes._subplots.AxesSubplot object at 0x000001B59E44DC08>],\n",
       "       [<matplotlib.axes._subplots.AxesSubplot object at 0x000001B59EA36EC8>,\n",
       "        <matplotlib.axes._subplots.AxesSubplot object at 0x000001B59EA9F608>,\n",
       "        <matplotlib.axes._subplots.AxesSubplot object at 0x000001B59EAD7788>]],\n",
       "      dtype=object)"
      ]
     },
     "execution_count": 615,
     "metadata": {},
     "output_type": "execute_result"
    },
    {
     "data": {
      "image/png": "[encoded data removed]",
      "text/plain": [
       "<Figure size 1080x2880 with 12 Axes>"
      ]
     },
     "metadata": {
      "needs_background": "light"
     },
     "output_type": "display_data"
    }
   ],
   "source": [
    "Proj_train_data_df.boxplot(by = 'GROUP',  layout=(4,3), figsize=(15, 40))"
   ]
  },
  {
   "cell_type": "markdown",
   "metadata": {},
   "source": [
    "# Transforming the test data using the same PCA object that was fit on the train data"
   ]
  },
  {
   "cell_type": "code",
   "execution_count": 616,
   "metadata": {},
   "outputs": [],
   "source": [
    "#sc = StandardScaler()\n",
    "#X_test_std =  sc.fit_transform(X_test)\n",
    "#X_test_std.shape"
   ]
  },
  {
   "cell_type": "code",
   "execution_count": 628,
   "metadata": {},
   "outputs": [
    {
     "data": {
      "text/html": [
       "<div>\n",
       "<style scoped>\n",
       "    .dataframe tbody tr th:only-of-type {\n",
       "        vertical-align: middle;\n",
       "    }\n",
       "\n",
       "    .dataframe tbody tr th {\n",
       "        vertical-align: top;\n",
       "    }\n",
       "\n",
       "    .dataframe thead th {\n",
       "        text-align: right;\n",
       "    }\n",
       "</style>\n",
       "<table border=\"1\" class=\"dataframe\">\n",
       "  <thead>\n",
       "    <tr style=\"text-align: right;\">\n",
       "      <th></th>\n",
       "      <th>Industrial_Risk</th>\n",
       "      <th>Management_Risk</th>\n",
       "      <th>Financial_Flexibility</th>\n",
       "      <th>Credibility</th>\n",
       "      <th>Competitiveness</th>\n",
       "      <th>Operating Risk</th>\n",
       "    </tr>\n",
       "  </thead>\n",
       "  <tbody>\n",
       "    <tr>\n",
       "      <th>67</th>\n",
       "      <td>1.035076</td>\n",
       "      <td>-1.284691</td>\n",
       "      <td>0.201988</td>\n",
       "      <td>-1.295819</td>\n",
       "      <td>1.031938</td>\n",
       "      <td>-0.149071</td>\n",
       "    </tr>\n",
       "    <tr>\n",
       "      <th>249</th>\n",
       "      <td>1.035076</td>\n",
       "      <td>0.053529</td>\n",
       "      <td>0.201988</td>\n",
       "      <td>-0.025408</td>\n",
       "      <td>-1.683689</td>\n",
       "      <td>-1.639783</td>\n",
       "    </tr>\n",
       "    <tr>\n",
       "      <th>230</th>\n",
       "      <td>-1.489500</td>\n",
       "      <td>1.391748</td>\n",
       "      <td>0.201988</td>\n",
       "      <td>-0.025408</td>\n",
       "      <td>-0.325875</td>\n",
       "      <td>-0.149071</td>\n",
       "    </tr>\n",
       "    <tr>\n",
       "      <th>161</th>\n",
       "      <td>-1.489500</td>\n",
       "      <td>0.053529</td>\n",
       "      <td>0.201988</td>\n",
       "      <td>-0.025408</td>\n",
       "      <td>-0.325875</td>\n",
       "      <td>-0.149071</td>\n",
       "    </tr>\n",
       "    <tr>\n",
       "      <th>91</th>\n",
       "      <td>1.035076</td>\n",
       "      <td>-1.284691</td>\n",
       "      <td>-1.240786</td>\n",
       "      <td>1.245003</td>\n",
       "      <td>1.031938</td>\n",
       "      <td>1.341641</td>\n",
       "    </tr>\n",
       "  </tbody>\n",
       "</table>\n",
       "</div>"
      ],
      "text/plain": [
       "     Industrial_Risk  Management_Risk  Financial_Flexibility  Credibility  \\\n",
       "67          1.035076        -1.284691               0.201988    -1.295819   \n",
       "249         1.035076         0.053529               0.201988    -0.025408   \n",
       "230        -1.489500         1.391748               0.201988    -0.025408   \n",
       "161        -1.489500         0.053529               0.201988    -0.025408   \n",
       "91          1.035076        -1.284691              -1.240786     1.245003   \n",
       "\n",
       "     Competitiveness  Operating Risk  \n",
       "67          1.031938       -0.149071  \n",
       "249        -1.683689       -1.639783  \n",
       "230        -0.325875       -0.149071  \n",
       "161        -0.325875       -0.149071  \n",
       "91          1.031938        1.341641  "
      ]
     },
     "execution_count": 628,
     "metadata": {},
     "output_type": "execute_result"
    }
   ],
   "source": [
    "X_test_std = X_test.apply(zscore)\n",
    "X_test_std.head()"
   ]
  },
  {
   "cell_type": "code",
   "execution_count": 618,
   "metadata": {},
   "outputs": [],
   "source": [
    "X_test_dot = np.dot(X_test_std,P_reduce.T)\n",
    "Proj_test_data = pd.DataFrame(X_test_dot)"
   ]
  },
  {
   "cell_type": "code",
   "execution_count": 619,
   "metadata": {},
   "outputs": [
    {
     "data": {
      "text/html": [
       "<div>\n",
       "<style scoped>\n",
       "    .dataframe tbody tr th:only-of-type {\n",
       "        vertical-align: middle;\n",
       "    }\n",
       "\n",
       "    .dataframe tbody tr th {\n",
       "        vertical-align: top;\n",
       "    }\n",
       "\n",
       "    .dataframe thead th {\n",
       "        text-align: right;\n",
       "    }\n",
       "</style>\n",
       "<table border=\"1\" class=\"dataframe\">\n",
       "  <thead>\n",
       "    <tr style=\"text-align: right;\">\n",
       "      <th></th>\n",
       "      <th>0</th>\n",
       "      <th>1</th>\n",
       "      <th>2</th>\n",
       "      <th>3</th>\n",
       "      <th>4</th>\n",
       "    </tr>\n",
       "  </thead>\n",
       "  <tbody>\n",
       "    <tr>\n",
       "      <th>0</th>\n",
       "      <td>0.467410</td>\n",
       "      <td>-1.552949</td>\n",
       "      <td>0.254861</td>\n",
       "      <td>1.491338</td>\n",
       "      <td>0.752523</td>\n",
       "    </tr>\n",
       "    <tr>\n",
       "      <th>1</th>\n",
       "      <td>-1.491647</td>\n",
       "      <td>0.582378</td>\n",
       "      <td>1.365769</td>\n",
       "      <td>0.955584</td>\n",
       "      <td>-0.498142</td>\n",
       "    </tr>\n",
       "    <tr>\n",
       "      <th>2</th>\n",
       "      <td>-0.492635</td>\n",
       "      <td>0.891020</td>\n",
       "      <td>-0.841050</td>\n",
       "      <td>-1.319850</td>\n",
       "      <td>0.511612</td>\n",
       "    </tr>\n",
       "    <tr>\n",
       "      <th>3</th>\n",
       "      <td>0.224670</td>\n",
       "      <td>1.000412</td>\n",
       "      <td>-0.153665</td>\n",
       "      <td>-0.649415</td>\n",
       "      <td>0.891781</td>\n",
       "    </tr>\n",
       "    <tr>\n",
       "      <th>4</th>\n",
       "      <td>1.191476</td>\n",
       "      <td>-0.499863</td>\n",
       "      <td>0.001930</td>\n",
       "      <td>0.572790</td>\n",
       "      <td>-1.245135</td>\n",
       "    </tr>\n",
       "  </tbody>\n",
       "</table>\n",
       "</div>"
      ],
      "text/plain": [
       "          0         1         2         3         4\n",
       "0  0.467410 -1.552949  0.254861  1.491338  0.752523\n",
       "1 -1.491647  0.582378  1.365769  0.955584 -0.498142\n",
       "2 -0.492635  0.891020 -0.841050 -1.319850  0.511612\n",
       "3  0.224670  1.000412 -0.153665 -0.649415  0.891781\n",
       "4  1.191476 -0.499863  0.001930  0.572790 -1.245135"
      ]
     },
     "execution_count": 619,
     "metadata": {},
     "output_type": "execute_result"
    }
   ],
   "source": [
    "Proj_test_data.head()"
   ]
  },
  {
   "cell_type": "markdown",
   "metadata": {},
   "source": [
    "# Applying kmean and assigning  cluster labels to the test data"
   ]
  },
  {
   "cell_type": "code",
   "execution_count": 620,
   "metadata": {
    "scrolled": true
   },
   "outputs": [],
   "source": [
    "prediction_test =cluster.predict(Proj_test_data)\n",
    "Proj_test_data[\"GROUP\"] = prediction_test"
   ]
  },
  {
   "cell_type": "markdown",
   "metadata": {},
   "source": [
    "# Applying SVC model on train dataset and predicting target for test dataset"
   ]
  },
  {
   "cell_type": "code",
   "execution_count": 621,
   "metadata": {},
   "outputs": [],
   "source": [
    "from sklearn.svm import SVC"
   ]
  },
  {
   "cell_type": "code",
   "execution_count": 622,
   "metadata": {
    "scrolled": false
   },
   "outputs": [
    {
     "name": "stdout",
     "output_type": "stream",
     "text": [
      "score 1.0\n"
     ]
    }
   ],
   "source": [
    "clf = SVC()\n",
    "clf.fit(X_train_std, Y_train)\n",
    "\n",
    "print ('score', clf.score(X_test_std,Y_test))"
   ]
  },
  {
   "cell_type": "code",
   "execution_count": 623,
   "metadata": {},
   "outputs": [
    {
     "name": "stdout",
     "output_type": "stream",
     "text": [
      "score 1.0\n"
     ]
    }
   ],
   "source": [
    "print ('score', clf.score(X_train_std, Y_train))"
   ]
  },
  {
   "cell_type": "code",
   "execution_count": 624,
   "metadata": {
    "scrolled": true
   },
   "outputs": [
    {
     "name": "stdout",
     "output_type": "stream",
     "text": [
      "score 1.0\n"
     ]
    }
   ],
   "source": [
    "clf.fit(Proj_train_data_df, Y_train)\n",
    "print ('score', clf.score(Proj_test_data,Y_test))"
   ]
  },
  {
   "cell_type": "code",
   "execution_count": 625,
   "metadata": {},
   "outputs": [
    {
     "name": "stdout",
     "output_type": "stream",
     "text": [
      "score 0.99\n"
     ]
    }
   ],
   "source": [
    "print ('score', clf.score(Proj_train_data_df, Y_train))"
   ]
  },
  {
   "cell_type": "code",
   "execution_count": 626,
   "metadata": {},
   "outputs": [],
   "source": [
    "y_predict = clf.predict(Proj_test_data)"
   ]
  },
  {
   "cell_type": "code",
   "execution_count": 629,
   "metadata": {},
   "outputs": [
    {
     "name": "stdout",
     "output_type": "stream",
     "text": [
      "[[21  0]\n",
      " [ 0 29]]\n"
     ]
    }
   ],
   "source": [
    "from sklearn import metrics\n",
    "print(metrics.confusion_matrix(Y_test, y_predict))"
   ]
  },
  {
   "cell_type": "code",
   "execution_count": null,
   "metadata": {},
   "outputs": [],
   "source": []
  },
  {
   "cell_type": "code",
   "execution_count": null,
   "metadata": {},
   "outputs": [],
   "source": []
  },
  {
   "cell_type": "code",
   "execution_count": null,
   "metadata": {},
   "outputs": [],
   "source": []
  }
 ],
 "metadata": {
  "kernelspec": {
   "display_name": "Python 3",
   "language": "python",
   "name": "python3"
  },
  "language_info": {
   "codemirror_mode": {
    "name": "ipython",
    "version": 3
   },
   "file_extension": ".py",
   "mimetype": "text/x-python",
   "name": "python",
   "nbconvert_exporter": "python",
   "pygments_lexer": "ipython3",
   "version": "3.7.6"
  }
 },
 "nbformat": 4,
 "nbformat_minor": 4
}
