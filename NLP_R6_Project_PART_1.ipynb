{
 "cells": [
  {
   "cell_type": "code",
   "execution_count": 1,
   "metadata": {
    "colab": {
     "base_uri": "https://localhost:8080/"
    },
    "id": "HARZW1tttx9J",
    "outputId": "90049f8d-8c18-4a86-d931-dffb74e38198"
   },
   "outputs": [
    {
     "name": "stdout",
     "output_type": "stream",
     "text": [
      "Drive already mounted at /content/drive; to attempt to forcibly remount, call drive.mount(\"/content/drive\", force_remount=True).\n"
     ]
    }
   ],
   "source": [
    "from google.colab import drive\n",
    "drive.mount('/content/drive')"
   ]
  },
  {
   "cell_type": "markdown",
   "metadata": {
    "id": "oAm0mO2cnVIV"
   },
   "source": [
    "import pandas as pd \n",
    "import re \n",
    "import nltk"
   ]
  },
  {
   "cell_type": "markdown",
   "metadata": {},
   "source": [
    "# Import and analyse the data set."
   ]
  },
  {
   "cell_type": "code",
   "execution_count": 3,
   "metadata": {
    "id": "Ih6lxu-doCrc"
   },
   "outputs": [],
   "source": [
    "df=pd.read_csv(\"/content/drive/MyDrive/dataset/NLP Blog Dataset/Dataset - blogtext.csv\")"
   ]
  },
  {
   "cell_type": "markdown",
   "metadata": {
    "id": "vDeQaK2m-zOA"
   },
   "source": []
  },
  {
   "cell_type": "code",
   "execution_count": 4,
   "metadata": {
    "colab": {
     "base_uri": "https://localhost:8080/",
     "height": 343
    },
    "id": "MskYhcxprE0U",
    "outputId": "e0093e58-9fbe-4c36-fe44-a94b6dd70550"
   },
   "outputs": [
    {
     "data": {
      "text/html": [
       "<div>\n",
       "<style scoped>\n",
       "    .dataframe tbody tr th:only-of-type {\n",
       "        vertical-align: middle;\n",
       "    }\n",
       "\n",
       "    .dataframe tbody tr th {\n",
       "        vertical-align: top;\n",
       "    }\n",
       "\n",
       "    .dataframe thead th {\n",
       "        text-align: right;\n",
       "    }\n",
       "</style>\n",
       "<table border=\"1\" class=\"dataframe\">\n",
       "  <thead>\n",
       "    <tr style=\"text-align: right;\">\n",
       "      <th></th>\n",
       "      <th>id</th>\n",
       "      <th>gender</th>\n",
       "      <th>age</th>\n",
       "      <th>topic</th>\n",
       "      <th>sign</th>\n",
       "      <th>date</th>\n",
       "      <th>text</th>\n",
       "    </tr>\n",
       "  </thead>\n",
       "  <tbody>\n",
       "    <tr>\n",
       "      <th>0</th>\n",
       "      <td>2059027</td>\n",
       "      <td>male</td>\n",
       "      <td>15</td>\n",
       "      <td>Student</td>\n",
       "      <td>Leo</td>\n",
       "      <td>14,May,2004</td>\n",
       "      <td>Info has been found (+/- 100 pages,...</td>\n",
       "    </tr>\n",
       "    <tr>\n",
       "      <th>1</th>\n",
       "      <td>2059027</td>\n",
       "      <td>male</td>\n",
       "      <td>15</td>\n",
       "      <td>Student</td>\n",
       "      <td>Leo</td>\n",
       "      <td>13,May,2004</td>\n",
       "      <td>These are the team members:   Drewe...</td>\n",
       "    </tr>\n",
       "    <tr>\n",
       "      <th>2</th>\n",
       "      <td>2059027</td>\n",
       "      <td>male</td>\n",
       "      <td>15</td>\n",
       "      <td>Student</td>\n",
       "      <td>Leo</td>\n",
       "      <td>12,May,2004</td>\n",
       "      <td>In het kader van kernfusie op aarde...</td>\n",
       "    </tr>\n",
       "    <tr>\n",
       "      <th>3</th>\n",
       "      <td>2059027</td>\n",
       "      <td>male</td>\n",
       "      <td>15</td>\n",
       "      <td>Student</td>\n",
       "      <td>Leo</td>\n",
       "      <td>12,May,2004</td>\n",
       "      <td>testing!!!  testing!!!</td>\n",
       "    </tr>\n",
       "    <tr>\n",
       "      <th>4</th>\n",
       "      <td>3581210</td>\n",
       "      <td>male</td>\n",
       "      <td>33</td>\n",
       "      <td>InvestmentBanking</td>\n",
       "      <td>Aquarius</td>\n",
       "      <td>11,June,2004</td>\n",
       "      <td>Thanks to Yahoo!'s Toolbar I can ...</td>\n",
       "    </tr>\n",
       "    <tr>\n",
       "      <th>5</th>\n",
       "      <td>3581210</td>\n",
       "      <td>male</td>\n",
       "      <td>33</td>\n",
       "      <td>InvestmentBanking</td>\n",
       "      <td>Aquarius</td>\n",
       "      <td>10,June,2004</td>\n",
       "      <td>I had an interesting conversation...</td>\n",
       "    </tr>\n",
       "    <tr>\n",
       "      <th>6</th>\n",
       "      <td>3581210</td>\n",
       "      <td>male</td>\n",
       "      <td>33</td>\n",
       "      <td>InvestmentBanking</td>\n",
       "      <td>Aquarius</td>\n",
       "      <td>10,June,2004</td>\n",
       "      <td>Somehow Coca-Cola has a way of su...</td>\n",
       "    </tr>\n",
       "    <tr>\n",
       "      <th>7</th>\n",
       "      <td>3581210</td>\n",
       "      <td>male</td>\n",
       "      <td>33</td>\n",
       "      <td>InvestmentBanking</td>\n",
       "      <td>Aquarius</td>\n",
       "      <td>10,June,2004</td>\n",
       "      <td>If anything, Korea is a country o...</td>\n",
       "    </tr>\n",
       "    <tr>\n",
       "      <th>8</th>\n",
       "      <td>3581210</td>\n",
       "      <td>male</td>\n",
       "      <td>33</td>\n",
       "      <td>InvestmentBanking</td>\n",
       "      <td>Aquarius</td>\n",
       "      <td>10,June,2004</td>\n",
       "      <td>Take a read of this news article ...</td>\n",
       "    </tr>\n",
       "    <tr>\n",
       "      <th>9</th>\n",
       "      <td>3581210</td>\n",
       "      <td>male</td>\n",
       "      <td>33</td>\n",
       "      <td>InvestmentBanking</td>\n",
       "      <td>Aquarius</td>\n",
       "      <td>09,June,2004</td>\n",
       "      <td>I surf the English news sites a l...</td>\n",
       "    </tr>\n",
       "  </tbody>\n",
       "</table>\n",
       "</div>"
      ],
      "text/plain": [
       "        id  ...                                               text\n",
       "0  2059027  ...             Info has been found (+/- 100 pages,...\n",
       "1  2059027  ...             These are the team members:   Drewe...\n",
       "2  2059027  ...             In het kader van kernfusie op aarde...\n",
       "3  2059027  ...                   testing!!!  testing!!!          \n",
       "4  3581210  ...               Thanks to Yahoo!'s Toolbar I can ...\n",
       "5  3581210  ...               I had an interesting conversation...\n",
       "6  3581210  ...               Somehow Coca-Cola has a way of su...\n",
       "7  3581210  ...               If anything, Korea is a country o...\n",
       "8  3581210  ...               Take a read of this news article ...\n",
       "9  3581210  ...               I surf the English news sites a l...\n",
       "\n",
       "[10 rows x 7 columns]"
      ]
     },
     "execution_count": 4,
     "metadata": {
      "tags": []
     },
     "output_type": "execute_result"
    }
   ],
   "source": [
    "df.head(10)"
   ]
  },
  {
   "cell_type": "code",
   "execution_count": 5,
   "metadata": {
    "colab": {
     "base_uri": "https://localhost:8080/"
    },
    "id": "1h5aLdeGrJ0a",
    "outputId": "badb560c-c988-4da7-f2ee-f6facedd6f8d"
   },
   "outputs": [
    {
     "data": {
      "text/plain": [
       "id        0\n",
       "gender    0\n",
       "age       0\n",
       "topic     0\n",
       "sign      0\n",
       "date      0\n",
       "text      0\n",
       "dtype: int64"
      ]
     },
     "execution_count": 5,
     "metadata": {
      "tags": []
     },
     "output_type": "execute_result"
    }
   ],
   "source": [
    "df.isna().sum()"
   ]
  },
  {
   "cell_type": "code",
   "execution_count": 6,
   "metadata": {
    "colab": {
     "base_uri": "https://localhost:8080/"
    },
    "id": "JUS88wPfrLaF",
    "outputId": "7d1090ea-7b67-4db5-d0ed-43d0057ae0d8"
   },
   "outputs": [
    {
     "data": {
      "text/plain": [
       "(681284, 7)"
      ]
     },
     "execution_count": 6,
     "metadata": {
      "tags": []
     },
     "output_type": "execute_result"
    }
   ],
   "source": [
    "df.shape"
   ]
  },
  {
   "cell_type": "code",
   "execution_count": 14,
   "metadata": {
    "id": "fQSA68yqrPDg"
   },
   "outputs": [],
   "source": [
    "df_sample=df[0:30000].copy()"
   ]
  },
  {
   "cell_type": "code",
   "execution_count": 15,
   "metadata": {
    "colab": {
     "base_uri": "https://localhost:8080/"
    },
    "id": "zsd2efbVrREE",
    "outputId": "a6b7de26-9e5d-4c16-e3bc-0bb92ec0e130"
   },
   "outputs": [
    {
     "name": "stdout",
     "output_type": "stream",
     "text": [
      "<class 'pandas.core.frame.DataFrame'>\n",
      "RangeIndex: 30000 entries, 0 to 29999\n",
      "Data columns (total 7 columns):\n",
      " #   Column  Non-Null Count  Dtype \n",
      "---  ------  --------------  ----- \n",
      " 0   id      30000 non-null  int64 \n",
      " 1   gender  30000 non-null  object\n",
      " 2   age     30000 non-null  int64 \n",
      " 3   topic   30000 non-null  object\n",
      " 4   sign    30000 non-null  object\n",
      " 5   date    30000 non-null  object\n",
      " 6   text    30000 non-null  object\n",
      "dtypes: int64(2), object(5)\n",
      "memory usage: 1.6+ MB\n"
     ]
    }
   ],
   "source": [
    "df_sample.info()"
   ]
  },
  {
   "cell_type": "code",
   "execution_count": 16,
   "metadata": {
    "id": "cJMOHle2rS7x"
   },
   "outputs": [],
   "source": [
    "df_sample.drop(['id','date'], axis=1, inplace=True)"
   ]
  },
  {
   "cell_type": "code",
   "execution_count": 17,
   "metadata": {
    "colab": {
     "base_uri": "https://localhost:8080/",
     "height": 343
    },
    "id": "PejxShRGxJCR",
    "outputId": "d841ad3e-cba0-4596-8209-d62f1f74fc2b"
   },
   "outputs": [
    {
     "data": {
      "text/html": [
       "<div>\n",
       "<style scoped>\n",
       "    .dataframe tbody tr th:only-of-type {\n",
       "        vertical-align: middle;\n",
       "    }\n",
       "\n",
       "    .dataframe tbody tr th {\n",
       "        vertical-align: top;\n",
       "    }\n",
       "\n",
       "    .dataframe thead th {\n",
       "        text-align: right;\n",
       "    }\n",
       "</style>\n",
       "<table border=\"1\" class=\"dataframe\">\n",
       "  <thead>\n",
       "    <tr style=\"text-align: right;\">\n",
       "      <th></th>\n",
       "      <th>gender</th>\n",
       "      <th>age</th>\n",
       "      <th>topic</th>\n",
       "      <th>sign</th>\n",
       "      <th>text</th>\n",
       "    </tr>\n",
       "  </thead>\n",
       "  <tbody>\n",
       "    <tr>\n",
       "      <th>0</th>\n",
       "      <td>male</td>\n",
       "      <td>15</td>\n",
       "      <td>Student</td>\n",
       "      <td>Leo</td>\n",
       "      <td>Info has been found (+/- 100 pages,...</td>\n",
       "    </tr>\n",
       "    <tr>\n",
       "      <th>1</th>\n",
       "      <td>male</td>\n",
       "      <td>15</td>\n",
       "      <td>Student</td>\n",
       "      <td>Leo</td>\n",
       "      <td>These are the team members:   Drewe...</td>\n",
       "    </tr>\n",
       "    <tr>\n",
       "      <th>2</th>\n",
       "      <td>male</td>\n",
       "      <td>15</td>\n",
       "      <td>Student</td>\n",
       "      <td>Leo</td>\n",
       "      <td>In het kader van kernfusie op aarde...</td>\n",
       "    </tr>\n",
       "    <tr>\n",
       "      <th>3</th>\n",
       "      <td>male</td>\n",
       "      <td>15</td>\n",
       "      <td>Student</td>\n",
       "      <td>Leo</td>\n",
       "      <td>testing!!!  testing!!!</td>\n",
       "    </tr>\n",
       "    <tr>\n",
       "      <th>4</th>\n",
       "      <td>male</td>\n",
       "      <td>33</td>\n",
       "      <td>InvestmentBanking</td>\n",
       "      <td>Aquarius</td>\n",
       "      <td>Thanks to Yahoo!'s Toolbar I can ...</td>\n",
       "    </tr>\n",
       "    <tr>\n",
       "      <th>5</th>\n",
       "      <td>male</td>\n",
       "      <td>33</td>\n",
       "      <td>InvestmentBanking</td>\n",
       "      <td>Aquarius</td>\n",
       "      <td>I had an interesting conversation...</td>\n",
       "    </tr>\n",
       "    <tr>\n",
       "      <th>6</th>\n",
       "      <td>male</td>\n",
       "      <td>33</td>\n",
       "      <td>InvestmentBanking</td>\n",
       "      <td>Aquarius</td>\n",
       "      <td>Somehow Coca-Cola has a way of su...</td>\n",
       "    </tr>\n",
       "    <tr>\n",
       "      <th>7</th>\n",
       "      <td>male</td>\n",
       "      <td>33</td>\n",
       "      <td>InvestmentBanking</td>\n",
       "      <td>Aquarius</td>\n",
       "      <td>If anything, Korea is a country o...</td>\n",
       "    </tr>\n",
       "    <tr>\n",
       "      <th>8</th>\n",
       "      <td>male</td>\n",
       "      <td>33</td>\n",
       "      <td>InvestmentBanking</td>\n",
       "      <td>Aquarius</td>\n",
       "      <td>Take a read of this news article ...</td>\n",
       "    </tr>\n",
       "    <tr>\n",
       "      <th>9</th>\n",
       "      <td>male</td>\n",
       "      <td>33</td>\n",
       "      <td>InvestmentBanking</td>\n",
       "      <td>Aquarius</td>\n",
       "      <td>I surf the English news sites a l...</td>\n",
       "    </tr>\n",
       "  </tbody>\n",
       "</table>\n",
       "</div>"
      ],
      "text/plain": [
       "  gender  age  ...      sign                                               text\n",
       "0   male   15  ...       Leo             Info has been found (+/- 100 pages,...\n",
       "1   male   15  ...       Leo             These are the team members:   Drewe...\n",
       "2   male   15  ...       Leo             In het kader van kernfusie op aarde...\n",
       "3   male   15  ...       Leo                   testing!!!  testing!!!          \n",
       "4   male   33  ...  Aquarius               Thanks to Yahoo!'s Toolbar I can ...\n",
       "5   male   33  ...  Aquarius               I had an interesting conversation...\n",
       "6   male   33  ...  Aquarius               Somehow Coca-Cola has a way of su...\n",
       "7   male   33  ...  Aquarius               If anything, Korea is a country o...\n",
       "8   male   33  ...  Aquarius               Take a read of this news article ...\n",
       "9   male   33  ...  Aquarius               I surf the English news sites a l...\n",
       "\n",
       "[10 rows x 5 columns]"
      ]
     },
     "execution_count": 17,
     "metadata": {
      "tags": []
     },
     "output_type": "execute_result"
    }
   ],
   "source": [
    "df_sample.head(10)"
   ]
  },
  {
   "cell_type": "code",
   "execution_count": 18,
   "metadata": {
    "colab": {
     "base_uri": "https://localhost:8080/"
    },
    "id": "FhwO-p-ExXJr",
    "outputId": "b1a60d86-c331-4270-8c46-d8b43ca02357"
   },
   "outputs": [
    {
     "name": "stdout",
     "output_type": "stream",
     "text": [
      "<class 'pandas.core.frame.DataFrame'>\n",
      "RangeIndex: 30000 entries, 0 to 29999\n",
      "Data columns (total 5 columns):\n",
      " #   Column  Non-Null Count  Dtype \n",
      "---  ------  --------------  ----- \n",
      " 0   gender  30000 non-null  object\n",
      " 1   age     30000 non-null  int64 \n",
      " 2   topic   30000 non-null  object\n",
      " 3   sign    30000 non-null  object\n",
      " 4   text    30000 non-null  object\n",
      "dtypes: int64(1), object(4)\n",
      "memory usage: 1.1+ MB\n"
     ]
    }
   ],
   "source": [
    "df_sample.info()"
   ]
  },
  {
   "cell_type": "code",
   "execution_count": 19,
   "metadata": {
    "id": "EUjA_aBzrZMO"
   },
   "outputs": [],
   "source": [
    "df_sample['age']=df_sample['age'].astype('object')"
   ]
  },
  {
   "cell_type": "markdown",
   "metadata": {},
   "source": [
    "# Perform data pre-processing on the data"
   ]
  },
  {
   "cell_type": "code",
   "execution_count": 20,
   "metadata": {
    "id": "GIqZG1qxrchd"
   },
   "outputs": [],
   "source": [
    "df_sample['preprocess_data']=df_sample['text'].apply(lambda x: re.sub(r'[^A-Za-z]+',' ',x))"
   ]
  },
  {
   "cell_type": "markdown",
   "metadata": {
    "id": "MDyTfxqxJbtE"
   },
   "source": []
  },
  {
   "cell_type": "code",
   "execution_count": 21,
   "metadata": {
    "id": "8o7KuXWUreEC"
   },
   "outputs": [],
   "source": [
    "df_sample['preprocess_data']=df_sample['preprocess_data'].apply(lambda x: x.lower())"
   ]
  },
  {
   "cell_type": "code",
   "execution_count": 22,
   "metadata": {
    "id": "-u0lxqdcrgg_"
   },
   "outputs": [],
   "source": [
    "df_sample['preprocess_data']=df_sample['preprocess_data'].apply(lambda x: x.strip())"
   ]
  },
  {
   "cell_type": "code",
   "execution_count": 23,
   "metadata": {
    "colab": {
     "base_uri": "https://localhost:8080/"
    },
    "id": "HcjC57TRrjN7",
    "outputId": "bf69ed54-291e-4f6b-b881-ddd1676cc06a"
   },
   "outputs": [
    {
     "name": "stdout",
     "output_type": "stream",
     "text": [
      "Actual data=======>            These are the team members:   Drewes van der Laag           urlLink mail  Ruiyu Xie                     urlLink mail  Bryan Aaldering (me)          urlLink mail          \n"
     ]
    }
   ],
   "source": [
    "print(\"Actual data=======> {}\".format(df_sample['text'][1]))"
   ]
  },
  {
   "cell_type": "code",
   "execution_count": 24,
   "metadata": {
    "colab": {
     "base_uri": "https://localhost:8080/"
    },
    "id": "Bq2_SCfnrk6M",
    "outputId": "4b9ad806-2ca7-4f0e-81ec-3c131544a684"
   },
   "outputs": [
    {
     "name": "stdout",
     "output_type": "stream",
     "text": [
      "Cleaned data=======> these are the team members drewes van der laag urllink mail ruiyu xie urllink mail bryan aaldering me urllink mail\n"
     ]
    }
   ],
   "source": [
    "print(\"Cleaned data=======> {}\".format(df_sample['preprocess_data'][1]))"
   ]
  },
  {
   "cell_type": "code",
   "execution_count": 25,
   "metadata": {
    "colab": {
     "base_uri": "https://localhost:8080/"
    },
    "id": "MbhZoQ9WrmqF",
    "outputId": "398ee39a-fde7-420a-cb98-ee870e454622"
   },
   "outputs": [
    {
     "name": "stdout",
     "output_type": "stream",
     "text": [
      "[nltk_data] Downloading package stopwords to /root/nltk_data...\n",
      "[nltk_data]   Package stopwords is already up-to-date!\n"
     ]
    },
    {
     "data": {
      "text/plain": [
       "True"
      ]
     },
     "execution_count": 25,
     "metadata": {
      "tags": []
     },
     "output_type": "execute_result"
    }
   ],
   "source": [
    "import nltk\n",
    "nltk.download('stopwords')"
   ]
  },
  {
   "cell_type": "code",
   "execution_count": 26,
   "metadata": {
    "id": "SVwH3_Z20k8U"
   },
   "outputs": [],
   "source": [
    "from nltk.corpus import stopwords\n",
    "stopwords = set(stopwords.words('english'))"
   ]
  },
  {
   "cell_type": "code",
   "execution_count": 27,
   "metadata": {
    "id": "t-uHJ4lsrokK"
   },
   "outputs": [],
   "source": [
    "df_sample['preprocess_data']=df_sample['preprocess_data'].apply(lambda x: ' '.join([words for words in x.split() if words not in stopwords]))"
   ]
  },
  {
   "cell_type": "code",
   "execution_count": 18,
   "metadata": {
    "colab": {
     "base_uri": "https://localhost:8080/",
     "height": 86
    },
    "id": "T2BqG4IFrqSk",
    "outputId": "da8abba9-44f3-4af9-966b-0b7f1738387c"
   },
   "outputs": [
    {
     "data": {
      "application/vnd.google.colaboratory.intrinsic+json": {
       "type": "string"
      },
      "text/plain": [
       "'somehow coca cola way summing things well early flagship jingle like buy world coke tune like teach world sing pretty much summed post woodstock era well add much sales catchy tune korea coke theme urllink stop thinking feel pretty much sums lot korea koreans look relaxed couple stopped thinking started feeling course high regard education math logic deep think many koreans really like work emotion anything else westerners seem sublimate moreso least display different way maybe scratch westerners koreans probably pretty similar context different anyways think losing korea repeat stop thinking feel stop thinking feel stop thinking feel everything alright'"
      ]
     },
     "execution_count": 18,
     "metadata": {
      "tags": []
     },
     "output_type": "execute_result"
    }
   ],
   "source": [
    "df_sample['preprocess_data'][6]"
   ]
  },
  {
   "cell_type": "code",
   "execution_count": 24,
   "metadata": {
    "colab": {
     "base_uri": "https://localhost:8080/",
     "height": 195
    },
    "id": "7AWqTCgB1PYt",
    "outputId": "805b5af6-d519-4671-b14f-ae5e5870727c"
   },
   "outputs": [
    {
     "data": {
      "text/html": [
       "<div>\n",
       "<style scoped>\n",
       "    .dataframe tbody tr th:only-of-type {\n",
       "        vertical-align: middle;\n",
       "    }\n",
       "\n",
       "    .dataframe tbody tr th {\n",
       "        vertical-align: top;\n",
       "    }\n",
       "\n",
       "    .dataframe thead th {\n",
       "        text-align: right;\n",
       "    }\n",
       "</style>\n",
       "<table border=\"1\" class=\"dataframe\">\n",
       "  <thead>\n",
       "    <tr style=\"text-align: right;\">\n",
       "      <th></th>\n",
       "      <th>gender</th>\n",
       "      <th>age</th>\n",
       "      <th>topic</th>\n",
       "      <th>sign</th>\n",
       "      <th>text</th>\n",
       "      <th>preprocess_data</th>\n",
       "    </tr>\n",
       "  </thead>\n",
       "  <tbody>\n",
       "    <tr>\n",
       "      <th>0</th>\n",
       "      <td>male</td>\n",
       "      <td>15</td>\n",
       "      <td>Student</td>\n",
       "      <td>Leo</td>\n",
       "      <td>Info has been found (+/- 100 pages,...</td>\n",
       "      <td>info found pages mb pdf files wait untill team...</td>\n",
       "    </tr>\n",
       "    <tr>\n",
       "      <th>1</th>\n",
       "      <td>male</td>\n",
       "      <td>15</td>\n",
       "      <td>Student</td>\n",
       "      <td>Leo</td>\n",
       "      <td>These are the team members:   Drewe...</td>\n",
       "      <td>team members drewes van der laag urllink mail ...</td>\n",
       "    </tr>\n",
       "    <tr>\n",
       "      <th>2</th>\n",
       "      <td>male</td>\n",
       "      <td>15</td>\n",
       "      <td>Student</td>\n",
       "      <td>Leo</td>\n",
       "      <td>In het kader van kernfusie op aarde...</td>\n",
       "      <td>het kader van kernfusie op aarde maak je eigen...</td>\n",
       "    </tr>\n",
       "    <tr>\n",
       "      <th>3</th>\n",
       "      <td>male</td>\n",
       "      <td>15</td>\n",
       "      <td>Student</td>\n",
       "      <td>Leo</td>\n",
       "      <td>testing!!!  testing!!!</td>\n",
       "      <td>testing testing</td>\n",
       "    </tr>\n",
       "    <tr>\n",
       "      <th>4</th>\n",
       "      <td>male</td>\n",
       "      <td>33</td>\n",
       "      <td>InvestmentBanking</td>\n",
       "      <td>Aquarius</td>\n",
       "      <td>Thanks to Yahoo!'s Toolbar I can ...</td>\n",
       "      <td>thanks yahoo toolbar capture urls popups means...</td>\n",
       "    </tr>\n",
       "  </tbody>\n",
       "</table>\n",
       "</div>"
      ],
      "text/plain": [
       "  gender  ...                                    preprocess_data\n",
       "0   male  ...  info found pages mb pdf files wait untill team...\n",
       "1   male  ...  team members drewes van der laag urllink mail ...\n",
       "2   male  ...  het kader van kernfusie op aarde maak je eigen...\n",
       "3   male  ...                                    testing testing\n",
       "4   male  ...  thanks yahoo toolbar capture urls popups means...\n",
       "\n",
       "[5 rows x 6 columns]"
      ]
     },
     "execution_count": 24,
     "metadata": {
      "tags": []
     },
     "output_type": "execute_result"
    }
   ],
   "source": [
    "df_sample.head()"
   ]
  },
  {
   "cell_type": "code",
   "execution_count": 28,
   "metadata": {
    "id": "hKvS1mtXrsbx"
   },
   "outputs": [],
   "source": [
    "df_sample['labels']=df_sample.apply(lambda col: [col['gender'],str(col['age']),col['topic'],col['sign']], axis=1)"
   ]
  },
  {
   "cell_type": "code",
   "execution_count": 26,
   "metadata": {
    "colab": {
     "base_uri": "https://localhost:8080/",
     "height": 195
    },
    "id": "uyZG89_SruD8",
    "outputId": "fccb8e65-1b76-4f11-ace2-a1c22bd44a07"
   },
   "outputs": [
    {
     "data": {
      "text/html": [
       "<div>\n",
       "<style scoped>\n",
       "    .dataframe tbody tr th:only-of-type {\n",
       "        vertical-align: middle;\n",
       "    }\n",
       "\n",
       "    .dataframe tbody tr th {\n",
       "        vertical-align: top;\n",
       "    }\n",
       "\n",
       "    .dataframe thead th {\n",
       "        text-align: right;\n",
       "    }\n",
       "</style>\n",
       "<table border=\"1\" class=\"dataframe\">\n",
       "  <thead>\n",
       "    <tr style=\"text-align: right;\">\n",
       "      <th></th>\n",
       "      <th>gender</th>\n",
       "      <th>age</th>\n",
       "      <th>topic</th>\n",
       "      <th>sign</th>\n",
       "      <th>text</th>\n",
       "      <th>preprocess_data</th>\n",
       "      <th>labels</th>\n",
       "    </tr>\n",
       "  </thead>\n",
       "  <tbody>\n",
       "    <tr>\n",
       "      <th>0</th>\n",
       "      <td>male</td>\n",
       "      <td>15</td>\n",
       "      <td>Student</td>\n",
       "      <td>Leo</td>\n",
       "      <td>Info has been found (+/- 100 pages,...</td>\n",
       "      <td>info found pages mb pdf files wait untill team...</td>\n",
       "      <td>[male, 15, Student, Leo]</td>\n",
       "    </tr>\n",
       "    <tr>\n",
       "      <th>1</th>\n",
       "      <td>male</td>\n",
       "      <td>15</td>\n",
       "      <td>Student</td>\n",
       "      <td>Leo</td>\n",
       "      <td>These are the team members:   Drewe...</td>\n",
       "      <td>team members drewes van der laag urllink mail ...</td>\n",
       "      <td>[male, 15, Student, Leo]</td>\n",
       "    </tr>\n",
       "    <tr>\n",
       "      <th>2</th>\n",
       "      <td>male</td>\n",
       "      <td>15</td>\n",
       "      <td>Student</td>\n",
       "      <td>Leo</td>\n",
       "      <td>In het kader van kernfusie op aarde...</td>\n",
       "      <td>het kader van kernfusie op aarde maak je eigen...</td>\n",
       "      <td>[male, 15, Student, Leo]</td>\n",
       "    </tr>\n",
       "    <tr>\n",
       "      <th>3</th>\n",
       "      <td>male</td>\n",
       "      <td>15</td>\n",
       "      <td>Student</td>\n",
       "      <td>Leo</td>\n",
       "      <td>testing!!!  testing!!!</td>\n",
       "      <td>testing testing</td>\n",
       "      <td>[male, 15, Student, Leo]</td>\n",
       "    </tr>\n",
       "    <tr>\n",
       "      <th>4</th>\n",
       "      <td>male</td>\n",
       "      <td>33</td>\n",
       "      <td>InvestmentBanking</td>\n",
       "      <td>Aquarius</td>\n",
       "      <td>Thanks to Yahoo!'s Toolbar I can ...</td>\n",
       "      <td>thanks yahoo toolbar capture urls popups means...</td>\n",
       "      <td>[male, 33, InvestmentBanking, Aquarius]</td>\n",
       "    </tr>\n",
       "  </tbody>\n",
       "</table>\n",
       "</div>"
      ],
      "text/plain": [
       "  gender  ...                                   labels\n",
       "0   male  ...                 [male, 15, Student, Leo]\n",
       "1   male  ...                 [male, 15, Student, Leo]\n",
       "2   male  ...                 [male, 15, Student, Leo]\n",
       "3   male  ...                 [male, 15, Student, Leo]\n",
       "4   male  ...  [male, 33, InvestmentBanking, Aquarius]\n",
       "\n",
       "[5 rows x 7 columns]"
      ]
     },
     "execution_count": 26,
     "metadata": {
      "tags": []
     },
     "output_type": "execute_result"
    }
   ],
   "source": [
    "df_sample.head()"
   ]
  },
  {
   "cell_type": "code",
   "execution_count": 29,
   "metadata": {
    "id": "lFIpJR-Zrv_J"
   },
   "outputs": [],
   "source": [
    "df_sample=df_sample[['preprocess_data','labels']]"
   ]
  },
  {
   "cell_type": "code",
   "execution_count": 21,
   "metadata": {
    "colab": {
     "base_uri": "https://localhost:8080/",
     "height": 195
    },
    "id": "Mqrp4vvtrx2Q",
    "outputId": "5c664f68-f813-41cf-e7dd-72de82dbebb8"
   },
   "outputs": [
    {
     "data": {
      "text/html": [
       "<div>\n",
       "<style scoped>\n",
       "    .dataframe tbody tr th:only-of-type {\n",
       "        vertical-align: middle;\n",
       "    }\n",
       "\n",
       "    .dataframe tbody tr th {\n",
       "        vertical-align: top;\n",
       "    }\n",
       "\n",
       "    .dataframe thead th {\n",
       "        text-align: right;\n",
       "    }\n",
       "</style>\n",
       "<table border=\"1\" class=\"dataframe\">\n",
       "  <thead>\n",
       "    <tr style=\"text-align: right;\">\n",
       "      <th></th>\n",
       "      <th>preprocess_data</th>\n",
       "      <th>labels</th>\n",
       "    </tr>\n",
       "  </thead>\n",
       "  <tbody>\n",
       "    <tr>\n",
       "      <th>0</th>\n",
       "      <td>info found pages mb pdf files wait untill team...</td>\n",
       "      <td>[male, 15, Student, Leo]</td>\n",
       "    </tr>\n",
       "    <tr>\n",
       "      <th>1</th>\n",
       "      <td>team members drewes van der laag urllink mail ...</td>\n",
       "      <td>[male, 15, Student, Leo]</td>\n",
       "    </tr>\n",
       "    <tr>\n",
       "      <th>2</th>\n",
       "      <td>het kader van kernfusie op aarde maak je eigen...</td>\n",
       "      <td>[male, 15, Student, Leo]</td>\n",
       "    </tr>\n",
       "    <tr>\n",
       "      <th>3</th>\n",
       "      <td>testing testing</td>\n",
       "      <td>[male, 15, Student, Leo]</td>\n",
       "    </tr>\n",
       "    <tr>\n",
       "      <th>4</th>\n",
       "      <td>thanks yahoo toolbar capture urls popups means...</td>\n",
       "      <td>[male, 33, InvestmentBanking, Aquarius]</td>\n",
       "    </tr>\n",
       "  </tbody>\n",
       "</table>\n",
       "</div>"
      ],
      "text/plain": [
       "                                     preprocess_data                                   labels\n",
       "0  info found pages mb pdf files wait untill team...                 [male, 15, Student, Leo]\n",
       "1  team members drewes van der laag urllink mail ...                 [male, 15, Student, Leo]\n",
       "2  het kader van kernfusie op aarde maak je eigen...                 [male, 15, Student, Leo]\n",
       "3                                    testing testing                 [male, 15, Student, Leo]\n",
       "4  thanks yahoo toolbar capture urls popups means...  [male, 33, InvestmentBanking, Aquarius]"
      ]
     },
     "execution_count": 21,
     "metadata": {
      "tags": []
     },
     "output_type": "execute_result"
    }
   ],
   "source": [
    "df_sample.head()"
   ]
  },
  {
   "cell_type": "code",
   "execution_count": 30,
   "metadata": {
    "id": "bjK9HnbSrz7Z"
   },
   "outputs": [],
   "source": [
    "X=df_sample['preprocess_data']"
   ]
  },
  {
   "cell_type": "code",
   "execution_count": 31,
   "metadata": {
    "id": "qL6wmkqcr125"
   },
   "outputs": [],
   "source": [
    "Y=df_sample['labels']"
   ]
  },
  {
   "cell_type": "code",
   "execution_count": 32,
   "metadata": {
    "id": "Us0H1Ik4r31-"
   },
   "outputs": [],
   "source": [
    "from sklearn.feature_extraction.text import CountVectorizer"
   ]
  },
  {
   "cell_type": "code",
   "execution_count": 33,
   "metadata": {
    "id": "0bdqcxxwr5tn"
   },
   "outputs": [],
   "source": [
    "vectorizer=CountVectorizer(binary=True, ngram_range=(1,2))"
   ]
  },
  {
   "cell_type": "code",
   "execution_count": 26,
   "metadata": {
    "colab": {
     "base_uri": "https://localhost:8080/",
     "height": 343
    },
    "id": "LiP8F_8H-mET",
    "outputId": "385a8f47-c6e9-44b8-8df8-04666d5feb7a"
   },
   "outputs": [
    {
     "data": {
      "text/html": [
       "<div>\n",
       "<style scoped>\n",
       "    .dataframe tbody tr th:only-of-type {\n",
       "        vertical-align: middle;\n",
       "    }\n",
       "\n",
       "    .dataframe tbody tr th {\n",
       "        vertical-align: top;\n",
       "    }\n",
       "\n",
       "    .dataframe thead th {\n",
       "        text-align: right;\n",
       "    }\n",
       "</style>\n",
       "<table border=\"1\" class=\"dataframe\">\n",
       "  <thead>\n",
       "    <tr style=\"text-align: right;\">\n",
       "      <th></th>\n",
       "      <th>preprocess_data</th>\n",
       "      <th>labels</th>\n",
       "    </tr>\n",
       "  </thead>\n",
       "  <tbody>\n",
       "    <tr>\n",
       "      <th>0</th>\n",
       "      <td>info found pages mb pdf files wait untill team...</td>\n",
       "      <td>[male, 15, Student, Leo]</td>\n",
       "    </tr>\n",
       "    <tr>\n",
       "      <th>1</th>\n",
       "      <td>team members drewes van der laag urllink mail ...</td>\n",
       "      <td>[male, 15, Student, Leo]</td>\n",
       "    </tr>\n",
       "    <tr>\n",
       "      <th>2</th>\n",
       "      <td>het kader van kernfusie op aarde maak je eigen...</td>\n",
       "      <td>[male, 15, Student, Leo]</td>\n",
       "    </tr>\n",
       "    <tr>\n",
       "      <th>3</th>\n",
       "      <td>testing testing</td>\n",
       "      <td>[male, 15, Student, Leo]</td>\n",
       "    </tr>\n",
       "    <tr>\n",
       "      <th>4</th>\n",
       "      <td>thanks yahoo toolbar capture urls popups means...</td>\n",
       "      <td>[male, 33, InvestmentBanking, Aquarius]</td>\n",
       "    </tr>\n",
       "    <tr>\n",
       "      <th>5</th>\n",
       "      <td>interesting conversation dad morning talking k...</td>\n",
       "      <td>[male, 33, InvestmentBanking, Aquarius]</td>\n",
       "    </tr>\n",
       "    <tr>\n",
       "      <th>6</th>\n",
       "      <td>somehow coca cola way summing things well earl...</td>\n",
       "      <td>[male, 33, InvestmentBanking, Aquarius]</td>\n",
       "    </tr>\n",
       "    <tr>\n",
       "      <th>7</th>\n",
       "      <td>anything korea country extremes everything see...</td>\n",
       "      <td>[male, 33, InvestmentBanking, Aquarius]</td>\n",
       "    </tr>\n",
       "    <tr>\n",
       "      <th>8</th>\n",
       "      <td>take read news article urllink joongang ilbo n...</td>\n",
       "      <td>[male, 33, InvestmentBanking, Aquarius]</td>\n",
       "    </tr>\n",
       "    <tr>\n",
       "      <th>9</th>\n",
       "      <td>surf english news sites lot looking tidbits ko...</td>\n",
       "      <td>[male, 33, InvestmentBanking, Aquarius]</td>\n",
       "    </tr>\n",
       "  </tbody>\n",
       "</table>\n",
       "</div>"
      ],
      "text/plain": [
       "                                     preprocess_data                                   labels\n",
       "0  info found pages mb pdf files wait untill team...                 [male, 15, Student, Leo]\n",
       "1  team members drewes van der laag urllink mail ...                 [male, 15, Student, Leo]\n",
       "2  het kader van kernfusie op aarde maak je eigen...                 [male, 15, Student, Leo]\n",
       "3                                    testing testing                 [male, 15, Student, Leo]\n",
       "4  thanks yahoo toolbar capture urls popups means...  [male, 33, InvestmentBanking, Aquarius]\n",
       "5  interesting conversation dad morning talking k...  [male, 33, InvestmentBanking, Aquarius]\n",
       "6  somehow coca cola way summing things well earl...  [male, 33, InvestmentBanking, Aquarius]\n",
       "7  anything korea country extremes everything see...  [male, 33, InvestmentBanking, Aquarius]\n",
       "8  take read news article urllink joongang ilbo n...  [male, 33, InvestmentBanking, Aquarius]\n",
       "9  surf english news sites lot looking tidbits ko...  [male, 33, InvestmentBanking, Aquarius]"
      ]
     },
     "execution_count": 26,
     "metadata": {
      "tags": []
     },
     "output_type": "execute_result"
    }
   ],
   "source": [
    "df_sample.head(10)"
   ]
  },
  {
   "cell_type": "code",
   "execution_count": 34,
   "metadata": {
    "id": "yMGU_Mwnr5qH"
   },
   "outputs": [],
   "source": [
    "X=vectorizer.fit_transform(X)"
   ]
  },
  {
   "cell_type": "code",
   "execution_count": 35,
   "metadata": {
    "colab": {
     "base_uri": "https://localhost:8080/"
    },
    "id": "A_YpxKf0r9f2",
    "outputId": "70e8e1e3-aa0c-4b1b-d7f0-b54a4dd280a8"
   },
   "outputs": [
    {
     "data": {
      "text/plain": [
       "<1x1871136 sparse matrix of type '<class 'numpy.int64'>'\n",
       "\twith 25 stored elements in Compressed Sparse Row format>"
      ]
     },
     "execution_count": 35,
     "metadata": {
      "tags": []
     },
     "output_type": "execute_result"
    }
   ],
   "source": [
    "X[1]"
   ]
  },
  {
   "cell_type": "code",
   "execution_count": 29,
   "metadata": {
    "colab": {
     "base_uri": "https://localhost:8080/"
    },
    "id": "BZegGt5Sr_JV",
    "outputId": "6dab5ab0-4ad8-4358-cedb-ccbf55775c1d"
   },
   "outputs": [
    {
     "data": {
      "text/plain": [
       "['aa', 'aa aa', 'aa aaa', 'aa aaaa', 'aa aaaaa']"
      ]
     },
     "execution_count": 29,
     "metadata": {
      "tags": []
     },
     "output_type": "execute_result"
    }
   ],
   "source": [
    "vectorizer.get_feature_names()[:5]"
   ]
  },
  {
   "cell_type": "code",
   "execution_count": 36,
   "metadata": {
    "id": "kdPMj1-5sBkh"
   },
   "outputs": [],
   "source": [
    "label_counts=dict()\n",
    "\n",
    "for labels in df_sample.labels.values:\n",
    "    for label in labels:\n",
    "        if label in label_counts:\n",
    "            label_counts[label]+=1\n",
    "        else:\n",
    "            label_counts[label]=1"
   ]
  },
  {
   "cell_type": "code",
   "execution_count": 37,
   "metadata": {
    "colab": {
     "base_uri": "https://localhost:8080/"
    },
    "id": "SVP-6X8jsDqM",
    "outputId": "ed6ce7f7-4022-4d72-bc5f-07531b342ae4"
   },
   "outputs": [
    {
     "data": {
      "text/plain": [
       "{'13': 548,\n",
       " '14': 1190,\n",
       " '15': 1535,\n",
       " '16': 2782,\n",
       " '17': 2868,\n",
       " '23': 3554,\n",
       " '24': 3184,\n",
       " '25': 1371,\n",
       " '26': 1667,\n",
       " '27': 3188,\n",
       " '33': 1386,\n",
       " '34': 925,\n",
       " '35': 2553,\n",
       " '36': 1760,\n",
       " '37': 186,\n",
       " '38': 142,\n",
       " '39': 132,\n",
       " '40': 183,\n",
       " '41': 95,\n",
       " '42': 48,\n",
       " '43': 55,\n",
       " '44': 10,\n",
       " '45': 78,\n",
       " '46': 204,\n",
       " '47': 105,\n",
       " '48': 251,\n",
       " 'Accounting': 63,\n",
       " 'Advertising': 56,\n",
       " 'Agriculture': 47,\n",
       " 'Aquarius': 2866,\n",
       " 'Architecture': 53,\n",
       " 'Aries': 6856,\n",
       " 'Arts': 1119,\n",
       " 'Automotive': 116,\n",
       " 'Banking': 109,\n",
       " 'Biotech': 80,\n",
       " 'BusinessServices': 218,\n",
       " 'Cancer': 2370,\n",
       " 'Capricorn': 1378,\n",
       " 'Chemicals': 75,\n",
       " 'Communications-Media': 865,\n",
       " 'Construction': 28,\n",
       " 'Consulting': 174,\n",
       " 'Education': 1131,\n",
       " 'Engineering': 756,\n",
       " 'Fashion': 1622,\n",
       " 'Gemini': 1498,\n",
       " 'Government': 418,\n",
       " 'HumanResources': 15,\n",
       " 'Internet': 1232,\n",
       " 'InvestmentBanking': 71,\n",
       " 'Law': 56,\n",
       " 'LawEnforcement-Security': 90,\n",
       " 'Leo': 2424,\n",
       " 'Libra': 1431,\n",
       " 'Manufacturing': 211,\n",
       " 'Maritime': 54,\n",
       " 'Marketing': 354,\n",
       " 'Military': 27,\n",
       " 'Museums-Libraries': 194,\n",
       " 'Non-Profit': 274,\n",
       " 'Pisces': 2465,\n",
       " 'Publishing': 125,\n",
       " 'RealEstate': 17,\n",
       " 'Religion': 182,\n",
       " 'Sagittarius': 3012,\n",
       " 'Science': 151,\n",
       " 'Scorpio': 2229,\n",
       " 'Sports-Recreation': 120,\n",
       " 'Student': 4367,\n",
       " 'Taurus': 1967,\n",
       " 'Technology': 3266,\n",
       " 'Telecommunications': 10,\n",
       " 'Transportation': 46,\n",
       " 'Virgo': 1504,\n",
       " 'female': 14052,\n",
       " 'indUnk': 12208,\n",
       " 'male': 15948}"
      ]
     },
     "execution_count": 37,
     "metadata": {
      "tags": []
     },
     "output_type": "execute_result"
    }
   ],
   "source": [
    "label_counts"
   ]
  },
  {
   "cell_type": "markdown",
   "metadata": {},
   "source": [
    "# Design, train, tune and test the best text classifier."
   ]
  },
  {
   "cell_type": "code",
   "execution_count": 38,
   "metadata": {
    "id": "qS35nfmNsVAJ"
   },
   "outputs": [],
   "source": [
    "from sklearn.preprocessing import MultiLabelBinarizer\n",
    "binarizer=MultiLabelBinarizer(classes=sorted(label_counts.keys()))"
   ]
  },
  {
   "cell_type": "code",
   "execution_count": 39,
   "metadata": {
    "colab": {
     "base_uri": "https://localhost:8080/",
     "height": 343
    },
    "id": "ajBmadmo5VFS",
    "outputId": "ad3ef2ae-cbec-4642-ce34-0eaf94a5f146"
   },
   "outputs": [
    {
     "data": {
      "text/html": [
       "<div>\n",
       "<style scoped>\n",
       "    .dataframe tbody tr th:only-of-type {\n",
       "        vertical-align: middle;\n",
       "    }\n",
       "\n",
       "    .dataframe tbody tr th {\n",
       "        vertical-align: top;\n",
       "    }\n",
       "\n",
       "    .dataframe thead th {\n",
       "        text-align: right;\n",
       "    }\n",
       "</style>\n",
       "<table border=\"1\" class=\"dataframe\">\n",
       "  <thead>\n",
       "    <tr style=\"text-align: right;\">\n",
       "      <th></th>\n",
       "      <th>preprocess_data</th>\n",
       "      <th>labels</th>\n",
       "    </tr>\n",
       "  </thead>\n",
       "  <tbody>\n",
       "    <tr>\n",
       "      <th>0</th>\n",
       "      <td>info found pages mb pdf files wait untill team...</td>\n",
       "      <td>[male, 15, Student, Leo]</td>\n",
       "    </tr>\n",
       "    <tr>\n",
       "      <th>1</th>\n",
       "      <td>team members drewes van der laag urllink mail ...</td>\n",
       "      <td>[male, 15, Student, Leo]</td>\n",
       "    </tr>\n",
       "    <tr>\n",
       "      <th>2</th>\n",
       "      <td>het kader van kernfusie op aarde maak je eigen...</td>\n",
       "      <td>[male, 15, Student, Leo]</td>\n",
       "    </tr>\n",
       "    <tr>\n",
       "      <th>3</th>\n",
       "      <td>testing testing</td>\n",
       "      <td>[male, 15, Student, Leo]</td>\n",
       "    </tr>\n",
       "    <tr>\n",
       "      <th>4</th>\n",
       "      <td>thanks yahoo toolbar capture urls popups means...</td>\n",
       "      <td>[male, 33, InvestmentBanking, Aquarius]</td>\n",
       "    </tr>\n",
       "    <tr>\n",
       "      <th>5</th>\n",
       "      <td>interesting conversation dad morning talking k...</td>\n",
       "      <td>[male, 33, InvestmentBanking, Aquarius]</td>\n",
       "    </tr>\n",
       "    <tr>\n",
       "      <th>6</th>\n",
       "      <td>somehow coca cola way summing things well earl...</td>\n",
       "      <td>[male, 33, InvestmentBanking, Aquarius]</td>\n",
       "    </tr>\n",
       "    <tr>\n",
       "      <th>7</th>\n",
       "      <td>anything korea country extremes everything see...</td>\n",
       "      <td>[male, 33, InvestmentBanking, Aquarius]</td>\n",
       "    </tr>\n",
       "    <tr>\n",
       "      <th>8</th>\n",
       "      <td>take read news article urllink joongang ilbo n...</td>\n",
       "      <td>[male, 33, InvestmentBanking, Aquarius]</td>\n",
       "    </tr>\n",
       "    <tr>\n",
       "      <th>9</th>\n",
       "      <td>surf english news sites lot looking tidbits ko...</td>\n",
       "      <td>[male, 33, InvestmentBanking, Aquarius]</td>\n",
       "    </tr>\n",
       "  </tbody>\n",
       "</table>\n",
       "</div>"
      ],
      "text/plain": [
       "                                     preprocess_data                                   labels\n",
       "0  info found pages mb pdf files wait untill team...                 [male, 15, Student, Leo]\n",
       "1  team members drewes van der laag urllink mail ...                 [male, 15, Student, Leo]\n",
       "2  het kader van kernfusie op aarde maak je eigen...                 [male, 15, Student, Leo]\n",
       "3                                    testing testing                 [male, 15, Student, Leo]\n",
       "4  thanks yahoo toolbar capture urls popups means...  [male, 33, InvestmentBanking, Aquarius]\n",
       "5  interesting conversation dad morning talking k...  [male, 33, InvestmentBanking, Aquarius]\n",
       "6  somehow coca cola way summing things well earl...  [male, 33, InvestmentBanking, Aquarius]\n",
       "7  anything korea country extremes everything see...  [male, 33, InvestmentBanking, Aquarius]\n",
       "8  take read news article urllink joongang ilbo n...  [male, 33, InvestmentBanking, Aquarius]\n",
       "9  surf english news sites lot looking tidbits ko...  [male, 33, InvestmentBanking, Aquarius]"
      ]
     },
     "execution_count": 39,
     "metadata": {
      "tags": []
     },
     "output_type": "execute_result"
    }
   ],
   "source": [
    "df_sample.head(10)"
   ]
  },
  {
   "cell_type": "code",
   "execution_count": 40,
   "metadata": {
    "id": "H9ckxOoRsWlP"
   },
   "outputs": [],
   "source": [
    "Y=binarizer.fit_transform(df_sample.labels)"
   ]
  },
  {
   "cell_type": "code",
   "execution_count": 41,
   "metadata": {
    "id": "wezF1BxysYQ8"
   },
   "outputs": [],
   "source": [
    "from sklearn.model_selection import train_test_split"
   ]
  },
  {
   "cell_type": "code",
   "execution_count": 42,
   "metadata": {
    "id": "z3PVtQOcsaKL"
   },
   "outputs": [],
   "source": [
    "Xtrain,Xtest,Ytrain,Ytest=train_test_split(X,Y,test_size=0.2)"
   ]
  },
  {
   "cell_type": "code",
   "execution_count": 43,
   "metadata": {
    "id": "O2ZHnySSsb74"
   },
   "outputs": [],
   "source": [
    "from sklearn.multiclass import OneVsRestClassifier\n",
    "from sklearn.linear_model import LogisticRegression"
   ]
  },
  {
   "cell_type": "code",
   "execution_count": 44,
   "metadata": {
    "id": "AoksQiCRsdm-"
   },
   "outputs": [],
   "source": [
    "model=LogisticRegression(solver='lbfgs')"
   ]
  },
  {
   "cell_type": "code",
   "execution_count": 45,
   "metadata": {
    "id": "lCFk7x3xse9c"
   },
   "outputs": [],
   "source": [
    "model=OneVsRestClassifier(model)"
   ]
  },
  {
   "cell_type": "code",
   "execution_count": 46,
   "metadata": {
    "colab": {
     "base_uri": "https://localhost:8080/"
    },
    "id": "DjiV_051sgc4",
    "outputId": "a9ca948e-9b4b-4dac-a3d4-1b1ea5fff782"
   },
   "outputs": [
    {
     "name": "stderr",
     "output_type": "stream",
     "text": [
      "/usr/local/lib/python3.7/dist-packages/sklearn/linear_model/_logistic.py:940: ConvergenceWarning: lbfgs failed to converge (status=1):\n",
      "STOP: TOTAL NO. of ITERATIONS REACHED LIMIT.\n",
      "\n",
      "Increase the number of iterations (max_iter) or scale the data as shown in:\n",
      "    https://scikit-learn.org/stable/modules/preprocessing.html\n",
      "Please also refer to the documentation for alternative solver options:\n",
      "    https://scikit-learn.org/stable/modules/linear_model.html#logistic-regression\n",
      "  extra_warning_msg=_LOGISTIC_SOLVER_CONVERGENCE_MSG)\n",
      "/usr/local/lib/python3.7/dist-packages/sklearn/linear_model/_logistic.py:940: ConvergenceWarning: lbfgs failed to converge (status=1):\n",
      "STOP: TOTAL NO. of ITERATIONS REACHED LIMIT.\n",
      "\n",
      "Increase the number of iterations (max_iter) or scale the data as shown in:\n",
      "    https://scikit-learn.org/stable/modules/preprocessing.html\n",
      "Please also refer to the documentation for alternative solver options:\n",
      "    https://scikit-learn.org/stable/modules/linear_model.html#logistic-regression\n",
      "  extra_warning_msg=_LOGISTIC_SOLVER_CONVERGENCE_MSG)\n",
      "/usr/local/lib/python3.7/dist-packages/sklearn/linear_model/_logistic.py:940: ConvergenceWarning: lbfgs failed to converge (status=1):\n",
      "STOP: TOTAL NO. of ITERATIONS REACHED LIMIT.\n",
      "\n",
      "Increase the number of iterations (max_iter) or scale the data as shown in:\n",
      "    https://scikit-learn.org/stable/modules/preprocessing.html\n",
      "Please also refer to the documentation for alternative solver options:\n",
      "    https://scikit-learn.org/stable/modules/linear_model.html#logistic-regression\n",
      "  extra_warning_msg=_LOGISTIC_SOLVER_CONVERGENCE_MSG)\n",
      "/usr/local/lib/python3.7/dist-packages/sklearn/linear_model/_logistic.py:940: ConvergenceWarning: lbfgs failed to converge (status=1):\n",
      "STOP: TOTAL NO. of ITERATIONS REACHED LIMIT.\n",
      "\n",
      "Increase the number of iterations (max_iter) or scale the data as shown in:\n",
      "    https://scikit-learn.org/stable/modules/preprocessing.html\n",
      "Please also refer to the documentation for alternative solver options:\n",
      "    https://scikit-learn.org/stable/modules/linear_model.html#logistic-regression\n",
      "  extra_warning_msg=_LOGISTIC_SOLVER_CONVERGENCE_MSG)\n",
      "/usr/local/lib/python3.7/dist-packages/sklearn/linear_model/_logistic.py:940: ConvergenceWarning: lbfgs failed to converge (status=1):\n",
      "STOP: TOTAL NO. of ITERATIONS REACHED LIMIT.\n",
      "\n",
      "Increase the number of iterations (max_iter) or scale the data as shown in:\n",
      "    https://scikit-learn.org/stable/modules/preprocessing.html\n",
      "Please also refer to the documentation for alternative solver options:\n",
      "    https://scikit-learn.org/stable/modules/linear_model.html#logistic-regression\n",
      "  extra_warning_msg=_LOGISTIC_SOLVER_CONVERGENCE_MSG)\n",
      "/usr/local/lib/python3.7/dist-packages/sklearn/linear_model/_logistic.py:940: ConvergenceWarning: lbfgs failed to converge (status=1):\n",
      "STOP: TOTAL NO. of ITERATIONS REACHED LIMIT.\n",
      "\n",
      "Increase the number of iterations (max_iter) or scale the data as shown in:\n",
      "    https://scikit-learn.org/stable/modules/preprocessing.html\n",
      "Please also refer to the documentation for alternative solver options:\n",
      "    https://scikit-learn.org/stable/modules/linear_model.html#logistic-regression\n",
      "  extra_warning_msg=_LOGISTIC_SOLVER_CONVERGENCE_MSG)\n",
      "/usr/local/lib/python3.7/dist-packages/sklearn/linear_model/_logistic.py:940: ConvergenceWarning: lbfgs failed to converge (status=1):\n",
      "STOP: TOTAL NO. of ITERATIONS REACHED LIMIT.\n",
      "\n",
      "Increase the number of iterations (max_iter) or scale the data as shown in:\n",
      "    https://scikit-learn.org/stable/modules/preprocessing.html\n",
      "Please also refer to the documentation for alternative solver options:\n",
      "    https://scikit-learn.org/stable/modules/linear_model.html#logistic-regression\n",
      "  extra_warning_msg=_LOGISTIC_SOLVER_CONVERGENCE_MSG)\n",
      "/usr/local/lib/python3.7/dist-packages/sklearn/linear_model/_logistic.py:940: ConvergenceWarning: lbfgs failed to converge (status=1):\n",
      "STOP: TOTAL NO. of ITERATIONS REACHED LIMIT.\n",
      "\n",
      "Increase the number of iterations (max_iter) or scale the data as shown in:\n",
      "    https://scikit-learn.org/stable/modules/preprocessing.html\n",
      "Please also refer to the documentation for alternative solver options:\n",
      "    https://scikit-learn.org/stable/modules/linear_model.html#logistic-regression\n",
      "  extra_warning_msg=_LOGISTIC_SOLVER_CONVERGENCE_MSG)\n"
     ]
    },
    {
     "data": {
      "text/plain": [
       "OneVsRestClassifier(estimator=LogisticRegression(C=1.0, class_weight=None,\n",
       "                                                 dual=False, fit_intercept=True,\n",
       "                                                 intercept_scaling=1,\n",
       "                                                 l1_ratio=None, max_iter=100,\n",
       "                                                 multi_class='auto',\n",
       "                                                 n_jobs=None, penalty='l2',\n",
       "                                                 random_state=None,\n",
       "                                                 solver='lbfgs', tol=0.0001,\n",
       "                                                 verbose=0, warm_start=False),\n",
       "                    n_jobs=None)"
      ]
     },
     "execution_count": 46,
     "metadata": {
      "tags": []
     },
     "output_type": "execute_result"
    }
   ],
   "source": [
    "model.fit(Xtrain,Ytrain)"
   ]
  },
  {
   "cell_type": "code",
   "execution_count": 47,
   "metadata": {
    "id": "dPGSJ73FsiSX"
   },
   "outputs": [],
   "source": [
    "Ypred=model.predict(Xtest)"
   ]
  },
  {
   "cell_type": "code",
   "execution_count": 48,
   "metadata": {
    "id": "YbnagiSgsj7j"
   },
   "outputs": [],
   "source": [
    "Ypred_inversed = binarizer.inverse_transform(Ypred)\n",
    "y_test_inversed = binarizer.inverse_transform(Ytest)"
   ]
  },
  {
   "cell_type": "markdown",
   "metadata": {},
   "source": [
    "# true vs predicted labels for any 5 entries from the dataset."
   ]
  },
  {
   "cell_type": "code",
   "execution_count": 49,
   "metadata": {
    "colab": {
     "base_uri": "https://localhost:8080/"
    },
    "id": "PaqyYqBqsloS",
    "outputId": "fc4977ba-2987-4303-cd58-1491313bdea4"
   },
   "outputs": [
    {
     "name": "stdout",
     "output_type": "stream",
     "text": [
      "Text:\t  (0, 918140)\t1\n",
      "  (0, 1312194)\t1\n",
      "  (0, 1770585)\t1\n",
      "  (0, 1841210)\t1\n",
      "  (0, 1653352)\t1\n",
      "  (0, 1569876)\t1\n",
      "  (0, 654956)\t1\n",
      "  (0, 925768)\t1\n",
      "  (0, 1099256)\t1\n",
      "  (0, 1370428)\t1\n",
      "  (0, 1498803)\t1\n",
      "  (0, 1138808)\t1\n",
      "  (0, 1141948)\t1\n",
      "  (0, 1290449)\t1\n",
      "  (0, 82450)\t1\n",
      "  (0, 723363)\t1\n",
      "  (0, 913374)\t1\n",
      "  (0, 667765)\t1\n",
      "  (0, 577995)\t1\n",
      "  (0, 236848)\t1\n",
      "  (0, 1629289)\t1\n",
      "  (0, 1225057)\t1\n",
      "  (0, 1505800)\t1\n",
      "  (0, 662418)\t1\n",
      "  (0, 807687)\t1\n",
      "  :\t:\n",
      "  (0, 787839)\t1\n",
      "  (0, 1184973)\t1\n",
      "  (0, 27373)\t1\n",
      "  (0, 926058)\t1\n",
      "  (0, 1638358)\t1\n",
      "  (0, 1046076)\t1\n",
      "  (0, 712999)\t1\n",
      "  (0, 1139281)\t1\n",
      "  (0, 513663)\t1\n",
      "  (0, 299432)\t1\n",
      "  (0, 1485254)\t1\n",
      "  (0, 1314680)\t1\n",
      "  (0, 1464448)\t1\n",
      "  (0, 1384789)\t1\n",
      "  (0, 1000423)\t1\n",
      "  (0, 907663)\t1\n",
      "  (0, 294236)\t1\n",
      "  (0, 1089110)\t1\n",
      "  (0, 1099563)\t1\n",
      "  (0, 236481)\t1\n",
      "  (0, 349874)\t1\n",
      "  (0, 17138)\t1\n",
      "  (0, 1166563)\t1\n",
      "  (0, 1513674)\t1\n",
      "  (0, 349882)\t1\n",
      "True labels:\t23,Pisces,Student,female\n",
      "Predicted labels:\tfemale\n",
      "\n",
      "\n",
      "Text:\t  (0, 1729811)\t1\n",
      "  (0, 918140)\t1\n",
      "  (0, 1315673)\t1\n",
      "  (0, 654956)\t1\n",
      "  (0, 1026151)\t1\n",
      "  (0, 1613622)\t1\n",
      "  (0, 330527)\t1\n",
      "  (0, 1614394)\t1\n",
      "  (0, 924361)\t1\n",
      "  (0, 65849)\t1\n",
      "  (0, 1026628)\t1\n",
      "  (0, 331160)\t1\n",
      "  (0, 658252)\t1\n",
      "  (0, 1316176)\t1\n",
      "  (0, 918380)\t1\n",
      "  (0, 1734295)\t1\n",
      "True labels:\t34,Education,Pisces,male\n",
      "Predicted labels:\tfemale,indUnk\n",
      "\n",
      "\n",
      "Text:\t  (0, 1729811)\t1\n",
      "  (0, 1622570)\t1\n",
      "  (0, 7171)\t1\n",
      "  (0, 574568)\t1\n",
      "  (0, 953684)\t1\n",
      "  (0, 57346)\t1\n",
      "  (0, 1595269)\t1\n",
      "  (0, 1219463)\t1\n",
      "  (0, 566677)\t1\n",
      "  (0, 662418)\t1\n",
      "  (0, 1000983)\t1\n",
      "  (0, 953689)\t1\n",
      "  (0, 127383)\t1\n",
      "  (0, 626535)\t1\n",
      "  (0, 551494)\t1\n",
      "  (0, 1663094)\t1\n",
      "  (0, 424508)\t1\n",
      "  (0, 1769614)\t1\n",
      "  (0, 385445)\t1\n",
      "  (0, 1167598)\t1\n",
      "  (0, 609429)\t1\n",
      "  (0, 1526501)\t1\n",
      "  (0, 7458)\t1\n",
      "  (0, 1002341)\t1\n",
      "  (0, 471743)\t1\n",
      "  :\t:\n",
      "  (0, 1220305)\t1\n",
      "  (0, 57412)\t1\n",
      "  (0, 424532)\t1\n",
      "  (0, 1622759)\t1\n",
      "  (0, 551585)\t1\n",
      "  (0, 1014041)\t1\n",
      "  (0, 1431997)\t1\n",
      "  (0, 310648)\t1\n",
      "  (0, 84917)\t1\n",
      "  (0, 1711277)\t1\n",
      "  (0, 1730008)\t1\n",
      "  (0, 60265)\t1\n",
      "  (0, 486350)\t1\n",
      "  (0, 1167677)\t1\n",
      "  (0, 313810)\t1\n",
      "  (0, 856452)\t1\n",
      "  (0, 1257646)\t1\n",
      "  (0, 471769)\t1\n",
      "  (0, 490929)\t1\n",
      "  (0, 527832)\t1\n",
      "  (0, 1198930)\t1\n",
      "  (0, 1206689)\t1\n",
      "  (0, 57377)\t1\n",
      "  (0, 996291)\t1\n",
      "  (0, 268786)\t1\n",
      "True labels:\t23,BusinessServices,Cancer,female\n",
      "Predicted labels:\tmale\n",
      "\n",
      "\n",
      "Text:\t  (0, 598122)\t1\n",
      "  (0, 1567666)\t1\n",
      "  (0, 1622570)\t1\n",
      "  (0, 1421928)\t1\n",
      "  (0, 16060)\t1\n",
      "  (0, 918140)\t1\n",
      "  (0, 616937)\t1\n",
      "  (0, 981241)\t1\n",
      "  (0, 860649)\t1\n",
      "  (0, 1582021)\t1\n",
      "  (0, 1315673)\t1\n",
      "  (0, 568506)\t1\n",
      "  (0, 1646008)\t1\n",
      "  (0, 1841210)\t1\n",
      "  (0, 1544544)\t1\n",
      "  (0, 1653352)\t1\n",
      "  (0, 672684)\t1\n",
      "  (0, 971516)\t1\n",
      "  (0, 1177772)\t1\n",
      "  (0, 642103)\t1\n",
      "  (0, 654956)\t1\n",
      "  (0, 469363)\t1\n",
      "  (0, 1707006)\t1\n",
      "  (0, 1742051)\t1\n",
      "  (0, 43448)\t1\n",
      "  :\t:\n",
      "  (0, 591114)\t1\n",
      "  (0, 1843997)\t1\n",
      "  (0, 1742205)\t1\n",
      "  (0, 1844044)\t1\n",
      "  (0, 1766709)\t1\n",
      "  (0, 1034557)\t1\n",
      "  (0, 92411)\t1\n",
      "  (0, 1418931)\t1\n",
      "  (0, 1255322)\t1\n",
      "  (0, 806456)\t1\n",
      "  (0, 429691)\t1\n",
      "  (0, 1702399)\t1\n",
      "  (0, 75403)\t1\n",
      "  (0, 1005106)\t1\n",
      "  (0, 1664155)\t1\n",
      "  (0, 746236)\t1\n",
      "  (0, 92354)\t1\n",
      "  (0, 284581)\t1\n",
      "  (0, 1393233)\t1\n",
      "  (0, 1575236)\t1\n",
      "  (0, 1834380)\t1\n",
      "  (0, 45742)\t1\n",
      "  (0, 720665)\t1\n",
      "  (0, 692414)\t1\n",
      "  (0, 931436)\t1\n",
      "True labels:\t17,Aquarius,female,indUnk\n",
      "Predicted labels:\t17,Aquarius,female,indUnk\n",
      "\n",
      "\n",
      "Text:\t  (0, 801085)\t1\n",
      "  (0, 918140)\t1\n",
      "  (0, 934847)\t1\n",
      "  (0, 1315673)\t1\n",
      "  (0, 1694720)\t1\n",
      "  (0, 337168)\t1\n",
      "  (0, 964067)\t1\n",
      "  (0, 1544544)\t1\n",
      "  (0, 729021)\t1\n",
      "  (0, 672684)\t1\n",
      "  (0, 995666)\t1\n",
      "  (0, 897664)\t1\n",
      "  (0, 954829)\t1\n",
      "  (0, 1743830)\t1\n",
      "  (0, 503149)\t1\n",
      "  (0, 158075)\t1\n",
      "  (0, 723363)\t1\n",
      "  (0, 1284778)\t1\n",
      "  (0, 373348)\t1\n",
      "  (0, 948492)\t1\n",
      "  (0, 1838674)\t1\n",
      "  (0, 1459671)\t1\n",
      "  (0, 1736064)\t1\n",
      "  (0, 1719908)\t1\n",
      "  (0, 1193194)\t1\n",
      "  :\t:\n",
      "  (0, 59446)\t1\n",
      "  (0, 1643739)\t1\n",
      "  (0, 1105926)\t1\n",
      "  (0, 838855)\t1\n",
      "  (0, 246578)\t1\n",
      "  (0, 1737431)\t1\n",
      "  (0, 898499)\t1\n",
      "  (0, 1293643)\t1\n",
      "  (0, 955050)\t1\n",
      "  (0, 452493)\t1\n",
      "  (0, 936943)\t1\n",
      "  (0, 1378170)\t1\n",
      "  (0, 1746322)\t1\n",
      "  (0, 203841)\t1\n",
      "  (0, 429032)\t1\n",
      "  (0, 1597160)\t1\n",
      "  (0, 88974)\t1\n",
      "  (0, 585681)\t1\n",
      "  (0, 1266327)\t1\n",
      "  (0, 1325453)\t1\n",
      "  (0, 949357)\t1\n",
      "  (0, 1041204)\t1\n",
      "  (0, 373489)\t1\n",
      "  (0, 1439604)\t1\n",
      "  (0, 610119)\t1\n",
      "True labels:\t36,Aries,Fashion,male\n",
      "Predicted labels:\t36,Aries,Fashion,male\n",
      "\n",
      "\n"
     ]
    }
   ],
   "source": [
    "for i in range(5):\n",
    "    print('Text:\\t{}\\nTrue labels:\\t{}\\nPredicted labels:\\t{}\\n\\n'.format(\n",
    "        Xtest[i],\n",
    "        ','.join(y_test_inversed[i]),\n",
    "        ','.join(Ypred_inversed[i])\n",
    "    ))"
   ]
  },
  {
   "cell_type": "code",
   "execution_count": 50,
   "metadata": {
    "id": "z-KzeGz6sqn_"
   },
   "outputs": [],
   "source": [
    "from sklearn.metrics import accuracy_score\n",
    "from sklearn.metrics import f1_score\n",
    "from sklearn.metrics import average_precision_score\n",
    "from sklearn.metrics import recall_score\n",
    "\n",
    "def print_evaluation_scores(Ytest, Ypred):\n",
    "    print('Accuracy score: ', accuracy_score(Ytest, Ypred))\n",
    "    print('F1 score: ', f1_score(Ytest, Ypred, average='micro'))\n",
    "    print('Average precision score: ', average_precision_score(Ytest, Ypred, average='micro'))\n",
    "    print('Average recall score: ', recall_score(Ytest, Ypred, average='micro'))"
   ]
  },
  {
   "cell_type": "code",
   "execution_count": 51,
   "metadata": {
    "colab": {
     "base_uri": "https://localhost:8080/"
    },
    "id": "JgAyaxfysscZ",
    "outputId": "083c8908-9df5-4362-9468-e060b5b3896b"
   },
   "outputs": [
    {
     "name": "stdout",
     "output_type": "stream",
     "text": [
      "Accuracy score:  0.13\n",
      "F1 score:  0.5017305906519964\n",
      "Average precision score:  0.3192703543374753\n",
      "Average recall score:  0.37145833333333333\n"
     ]
    }
   ],
   "source": [
    "print_evaluation_scores(Ytest, Ypred)"
   ]
  },
  {
   "cell_type": "markdown",
   "metadata": {},
   "source": [
    "# classification report"
   ]
  },
  {
   "cell_type": "code",
   "execution_count": 52,
   "metadata": {
    "colab": {
     "base_uri": "https://localhost:8080/"
    },
    "id": "XgkyDavs4tlV",
    "outputId": "ac1d6266-4650-439b-b500-6feec668ca46"
   },
   "outputs": [
    {
     "name": "stdout",
     "output_type": "stream",
     "text": [
      "              precision    recall  f1-score   support\n",
      "\n",
      "           0       1.00      0.04      0.07       112\n",
      "           1       0.93      0.21      0.34       247\n",
      "           2       0.84      0.12      0.22       329\n",
      "           3       0.85      0.33      0.47       521\n",
      "           4       0.79      0.20      0.31       594\n",
      "           5       0.80      0.15      0.25       731\n",
      "           6       0.89      0.30      0.45       638\n",
      "           7       0.81      0.05      0.09       278\n",
      "           8       0.85      0.07      0.13       324\n",
      "           9       0.79      0.24      0.36       629\n",
      "          10       0.71      0.06      0.11       286\n",
      "          11       0.97      0.55      0.71       195\n",
      "          12       0.84      0.27      0.41       490\n",
      "          13       0.98      0.44      0.61       345\n",
      "          14       1.00      0.03      0.05        40\n",
      "          15       0.00      0.00      0.00        26\n",
      "          16       0.00      0.00      0.00        29\n",
      "          17       1.00      0.07      0.13        29\n",
      "          18       0.00      0.00      0.00        18\n",
      "          19       0.00      0.00      0.00        12\n",
      "          20       0.00      0.00      0.00        14\n",
      "          21       0.00      0.00      0.00         0\n",
      "          22       0.00      0.00      0.00        12\n",
      "          23       1.00      0.05      0.10        37\n",
      "          24       0.00      0.00      0.00        21\n",
      "          25       1.00      0.28      0.44        43\n",
      "          26       0.00      0.00      0.00        11\n",
      "          27       0.00      0.00      0.00        11\n",
      "          28       0.00      0.00      0.00        13\n",
      "          29       0.81      0.21      0.33       523\n",
      "          30       1.00      0.08      0.14        13\n",
      "          31       0.81      0.41      0.55      1328\n",
      "          32       0.86      0.05      0.09       244\n",
      "          33       0.00      0.00      0.00        28\n",
      "          34       1.00      0.19      0.32        21\n",
      "          35       0.00      0.00      0.00        15\n",
      "          36       0.62      0.12      0.21        40\n",
      "          37       0.86      0.12      0.21       527\n",
      "          38       0.96      0.10      0.17       252\n",
      "          39       1.00      0.06      0.12        16\n",
      "          40       0.90      0.10      0.19       172\n",
      "          41       0.00      0.00      0.00         2\n",
      "          42       0.00      0.00      0.00        38\n",
      "          43       0.88      0.12      0.21       254\n",
      "          44       1.00      0.09      0.17       152\n",
      "          45       0.99      0.46      0.63       313\n",
      "          46       1.00      0.12      0.22       322\n",
      "          47       1.00      0.04      0.08        93\n",
      "          48       0.00      0.00      0.00         3\n",
      "          49       1.00      0.06      0.12       254\n",
      "          50       1.00      0.25      0.40        12\n",
      "          51       0.00      0.00      0.00         9\n",
      "          52       0.00      0.00      0.00        20\n",
      "          53       0.86      0.10      0.18       482\n",
      "          54       1.00      0.13      0.23       325\n",
      "          55       0.00      0.00      0.00        49\n",
      "          56       0.00      0.00      0.00        11\n",
      "          57       1.00      0.05      0.10        60\n",
      "          58       0.00      0.00      0.00         2\n",
      "          59       1.00      0.42      0.60        40\n",
      "          60       0.00      0.00      0.00        57\n",
      "          61       0.79      0.11      0.20       501\n",
      "          62       0.00      0.00      0.00        29\n",
      "          63       0.00      0.00      0.00         5\n",
      "          64       1.00      0.03      0.06        35\n",
      "          65       0.93      0.37      0.53       586\n",
      "          66       0.00      0.00      0.00        28\n",
      "          67       0.83      0.05      0.09       480\n",
      "          68       1.00      0.05      0.10        20\n",
      "          69       0.71      0.22      0.33       899\n",
      "          70       0.73      0.09      0.16       394\n",
      "          71       0.80      0.24      0.36       638\n",
      "          72       0.00      0.00      0.00         5\n",
      "          73       0.00      0.00      0.00        10\n",
      "          74       0.77      0.07      0.13       280\n",
      "          75       0.77      0.69      0.73      2875\n",
      "          76       0.69      0.53      0.60      2378\n",
      "          77       0.74      0.81      0.77      3125\n",
      "\n",
      "   micro avg       0.77      0.37      0.50     24000\n",
      "   macro avg       0.58      0.13      0.19     24000\n",
      "weighted avg       0.79      0.37      0.45     24000\n",
      " samples avg       0.73      0.37      0.46     24000\n",
      "\n"
     ]
    },
    {
     "name": "stderr",
     "output_type": "stream",
     "text": [
      "/usr/local/lib/python3.7/dist-packages/sklearn/metrics/_classification.py:1272: UndefinedMetricWarning: Precision and F-score are ill-defined and being set to 0.0 in labels with no predicted samples. Use `zero_division` parameter to control this behavior.\n",
      "  _warn_prf(average, modifier, msg_start, len(result))\n",
      "/usr/local/lib/python3.7/dist-packages/sklearn/metrics/_classification.py:1272: UndefinedMetricWarning: Recall and F-score are ill-defined and being set to 0.0 in labels with no true samples. Use `zero_division` parameter to control this behavior.\n",
      "  _warn_prf(average, modifier, msg_start, len(result))\n"
     ]
    }
   ],
   "source": [
    "from sklearn.metrics import classification_report\n",
    "cr = classification_report(Ytest, Ypred)\n",
    "print(cr)"
   ]
  },
  {
   "cell_type": "code",
   "execution_count": null,
   "metadata": {
    "id": "X3Im-95f1k8T"
   },
   "outputs": [],
   "source": []
  },
  {
   "cell_type": "code",
   "execution_count": null,
   "metadata": {},
   "outputs": [],
   "source": [
    "jupyter nbconvert --to html mynotebook.ipynb"
   ]
  }
 ],
 "metadata": {
  "accelerator": "TPU",
  "colab": {
   "collapsed_sections": [],
   "name": "NLP_project.ipynb",
   "provenance": []
  },
  "kernelspec": {
   "display_name": "Python 3",
   "language": "python",
   "name": "python3"
  },
  "language_info": {
   "codemirror_mode": {
    "name": "ipython",
    "version": 3
   },
   "file_extension": ".py",
   "mimetype": "text/x-python",
   "name": "python",
   "nbconvert_exporter": "python",
   "pygments_lexer": "ipython3",
   "version": "3.7.6"
  }
 },
 "nbformat": 4,
 "nbformat_minor": 1
}
