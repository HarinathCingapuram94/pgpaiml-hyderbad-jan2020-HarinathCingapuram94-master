{
 "cells": [
  {
   "cell_type": "code",
   "execution_count": 1,
   "metadata": {
    "colab": {
     "base_uri": "https://localhost:8080/"
    },
    "id": "m1mPP_KGP0IQ",
    "outputId": "cf5406cf-b844-497b-a83d-477acc72db79"
   },
   "outputs": [
    {
     "name": "stdout",
     "output_type": "stream",
     "text": [
      "Mounted at /content/drive/\n"
     ]
    }
   ],
   "source": [
    "from google.colab import drive\n",
    "drive.mount('/content/drive/')"
   ]
  },
  {
   "cell_type": "code",
   "execution_count": 2,
   "metadata": {
    "id": "T2B8XmmZr-Z9"
   },
   "outputs": [],
   "source": [
    "#ImportLibraries\n",
    "import numpy as np\n",
    "import pandas as pd\n",
    "import matplotlib.pyplot as plt\n",
    "import seaborn as sns\n",
    "from tqdm import tqdm\n",
    "import xml.etree.ElementTree as ET\n",
    "import os\n",
    "import cv2 as cv\n",
    "import tensorflow as tf\n",
    "from wordcloud import WordCloud\n",
    "import re\n",
    "from collections import defaultdict\n",
    "import itertools\n",
    "from collections import Counter\n",
    "import glob\n",
    "from PIL import Image"
   ]
  },
  {
   "cell_type": "code",
   "execution_count": 3,
   "metadata": {
    "id": "HxnC4z6w7HY8"
   },
   "outputs": [],
   "source": [
    "\n",
    "import tensorflow as tf\n",
    "from tensorflow.keras.applications import densenet\n",
    "from tensorflow.keras.applications.densenet import preprocess_input\n",
    "from tensorflow.keras.layers import Dense, Dropout, Input, Conv2D,AveragePooling2D,TimeDistributed\n",
    "from tensorflow.keras.models import Model\n",
    "import pickle\n",
    "from PIL import Image\n",
    "from skimage.transform import resize\n",
    "import warnings\n",
    "warnings.filterwarnings('ignore')"
   ]
  },
  {
   "cell_type": "code",
   "execution_count": 4,
   "metadata": {
    "id": "7_EHvfgLUCKS"
   },
   "outputs": [],
   "source": [
    "from tensorflow.keras.preprocessing.text import Tokenizer\n",
    "from tensorflow.keras.preprocessing.sequence import pad_sequences\n",
    "from sklearn.model_selection import train_test_split\n",
    "import time\n",
    "from tensorflow.keras.layers import Dense, LSTM, Input, Embedding, Conv2D, Concatenate, Flatten, Add, Dropout, GRU\n",
    "import random\n",
    "import datetime\n",
    "from nltk.translate.bleu_score import sentence_bleu"
   ]
  },
  {
   "cell_type": "code",
   "execution_count": 5,
   "metadata": {
    "colab": {
     "base_uri": "https://localhost:8080/"
    },
    "id": "wl71RsEtK8b2",
    "outputId": "e942c462-ecf2-4d36-b59c-a302d6fb31eb"
   },
   "outputs": [
    {
     "name": "stdout",
     "output_type": "stream",
     "text": [
      "/content/drive/MyDrive/Main Capstone/Data\n"
     ]
    }
   ],
   "source": [
    "%cd /content/drive/MyDrive/Main Capstone/Data"
   ]
  },
  {
   "cell_type": "code",
   "execution_count": 6,
   "metadata": {
    "colab": {
     "base_uri": "https://localhost:8080/",
     "height": 35
    },
    "id": "l14WfHnCLG-9",
    "outputId": "ae52eb77-d4cc-49a5-f4dd-028a5549fc2f"
   },
   "outputs": [
    {
     "data": {
      "application/vnd.google.colaboratory.intrinsic+json": {
       "type": "string"
      },
      "text/plain": [
       "'/content/drive/MyDrive/Main Capstone/Data'"
      ]
     },
     "execution_count": 6,
     "metadata": {},
     "output_type": "execute_result"
    }
   ],
   "source": [
    "%pwd"
   ]
  },
  {
   "cell_type": "code",
   "execution_count": 8,
   "metadata": {
    "colab": {
     "base_uri": "https://localhost:8080/"
    },
    "id": "wkwxa8M4sqlp",
    "outputId": "abaf147a-4f43-4151-f2a6-2f69a57e952e"
   },
   "outputs": [
    {
     "name": "stdout",
     "output_type": "stream",
     "text": [
      "                    Images  ... Gender\n",
      "0    A_ADI_LAKSHMI_65Y_F_1  ...      F\n",
      "1    A_ADI_LAKSHMI_65Y_F_2  ...      F\n",
      "2    A_ADI_LAKSHMI_65Y_F_3  ...      F\n",
      "3    A_ADI_LAKSHMI_65Y_F_4  ...      F\n",
      "4    A_ADI_LAKSHMI_65Y_F_5  ...      F\n",
      "..                     ...  ...    ...\n",
      "555         SK_ASHA_35Y_16  ...      F\n",
      "556         SK_ASHA_35Y_17  ...      F\n",
      "557         SK_ASHA_35Y_18  ...      F\n",
      "558         SK_ASHA_35Y_19  ...      F\n",
      "559         SK_ASHA_35Y_20  ...      F\n",
      "\n",
      "[560 rows x 4 columns]\n"
     ]
    }
   ],
   "source": [
    "#Dataset\n",
    "df = pd.read_excel (r'/content/drive/MyDrive/Main Capstone/Final_Input.xlsx')\n",
    "print (df)"
   ]
  },
  {
   "cell_type": "code",
   "execution_count": 9,
   "metadata": {
    "colab": {
     "base_uri": "https://localhost:8080/"
    },
    "id": "lxuCjKQK1AJw",
    "outputId": "0440cfaf-24f1-4149-edc8-3282a90f934d"
   },
   "outputs": [
    {
     "data": {
      "text/plain": [
       "(560, 4)"
      ]
     },
     "execution_count": 9,
     "metadata": {},
     "output_type": "execute_result"
    }
   ],
   "source": [
    "df.shape #Shape"
   ]
  },
  {
   "cell_type": "code",
   "execution_count": 10,
   "metadata": {
    "colab": {
     "base_uri": "https://localhost:8080/"
    },
    "id": "1fN9fV2g3Yty",
    "outputId": "ebed4ac5-6e3c-47f5-e3d3-58c574c66890"
   },
   "outputs": [
    {
     "data": {
      "text/plain": [
       "Index(['Images', 'Impression', 'Age', 'Gender'], dtype='object')"
      ]
     },
     "execution_count": 10,
     "metadata": {},
     "output_type": "execute_result"
    }
   ],
   "source": [
    "df.columns #Columns"
   ]
  },
  {
   "cell_type": "code",
   "execution_count": 11,
   "metadata": {
    "colab": {
     "base_uri": "https://localhost:8080/",
     "height": 267
    },
    "id": "Negv9h7MGdru",
    "outputId": "17d58df4-adea-4a69-d3da-9e8378da70cb"
   },
   "outputs": [
    {
     "data": {
      "image/png": "[encoded data removed]",
      "text/plain": [
       "<Figure size 432x288 with 1 Axes>"
      ]
     },
     "metadata": {
      "needs_background": "light"
     },
     "output_type": "display_data"
    }
   ],
   "source": [
    "df['Gender'].value_counts().plot(kind='bar',color=['r','g']); #Total Number of males and females"
   ]
  },
  {
   "cell_type": "code",
   "execution_count": 14,
   "metadata": {
    "colab": {
     "base_uri": "https://localhost:8080/",
     "height": 442
    },
    "id": "ouP8OHpvFMXX",
    "outputId": "6bcd7df4-8f8b-477d-9c2c-a53fbf4f82e4"
   },
   "outputs": [
    {
     "data": {
      "text/plain": [
       "Gender\n",
       "F    AxesSubplot(0.125,0.125;0.775x0.755)\n",
       "M    AxesSubplot(0.125,0.125;0.775x0.755)\n",
       "Name: Age, dtype: object"
      ]
     },
     "execution_count": 14,
     "metadata": {},
     "output_type": "execute_result"
    },
    {
     "data": {
      "image/png": "[encoded data removed]",
      "text/plain": [
       "<Figure size 864x432 with 1 Axes>"
      ]
     },
     "metadata": {
      "needs_background": "light"
     },
     "output_type": "display_data"
    }
   ],
   "source": [
    "df.groupby('Gender').Age.plot(kind='hist', figsize=[12,6], alpha=.4, legend=True) #Getting the Frequency of Males and Females"
   ]
  },
  {
   "cell_type": "code",
   "execution_count": 16,
   "metadata": {
    "id": "1E_Cq07JHMG7"
   },
   "outputs": [],
   "source": [
    "df['label'] = [1 if re.search( 'S1', x) else 0 for x in df['Impression']] #Getting the S1 Level patience data and assiging the LABEL"
   ]
  },
  {
   "cell_type": "code",
   "execution_count": 17,
   "metadata": {
    "colab": {
     "base_uri": "https://localhost:8080/",
     "height": 203
    },
    "id": "Xpm7GHXhT6II",
    "outputId": "35dec5dd-857a-4577-de13-7dda3df325ab"
   },
   "outputs": [
    {
     "data": {
      "text/html": [
       "<div>\n",
       "<style scoped>\n",
       "    .dataframe tbody tr th:only-of-type {\n",
       "        vertical-align: middle;\n",
       "    }\n",
       "\n",
       "    .dataframe tbody tr th {\n",
       "        vertical-align: top;\n",
       "    }\n",
       "\n",
       "    .dataframe thead th {\n",
       "        text-align: right;\n",
       "    }\n",
       "</style>\n",
       "<table border=\"1\" class=\"dataframe\">\n",
       "  <thead>\n",
       "    <tr style=\"text-align: right;\">\n",
       "      <th></th>\n",
       "      <th>Images</th>\n",
       "      <th>Impression</th>\n",
       "      <th>Age</th>\n",
       "      <th>Gender</th>\n",
       "      <th>label</th>\n",
       "    </tr>\n",
       "  </thead>\n",
       "  <tbody>\n",
       "    <tr>\n",
       "      <th>0</th>\n",
       "      <td>A_ADI_LAKSHMI_65Y_F_1</td>\n",
       "      <td>Flaval hypertrophy is at all levels in lumbar ...</td>\n",
       "      <td>65</td>\n",
       "      <td>F</td>\n",
       "      <td>1</td>\n",
       "    </tr>\n",
       "    <tr>\n",
       "      <th>1</th>\n",
       "      <td>A_ADI_LAKSHMI_65Y_F_2</td>\n",
       "      <td>Flaval hypertrophy is at all levels in lumbar ...</td>\n",
       "      <td>65</td>\n",
       "      <td>F</td>\n",
       "      <td>1</td>\n",
       "    </tr>\n",
       "    <tr>\n",
       "      <th>2</th>\n",
       "      <td>A_ADI_LAKSHMI_65Y_F_3</td>\n",
       "      <td>Flaval hypertrophy is at all levels in lumbar ...</td>\n",
       "      <td>65</td>\n",
       "      <td>F</td>\n",
       "      <td>1</td>\n",
       "    </tr>\n",
       "    <tr>\n",
       "      <th>3</th>\n",
       "      <td>A_ADI_LAKSHMI_65Y_F_4</td>\n",
       "      <td>Flaval hypertrophy is at all levels in lumbar ...</td>\n",
       "      <td>65</td>\n",
       "      <td>F</td>\n",
       "      <td>1</td>\n",
       "    </tr>\n",
       "    <tr>\n",
       "      <th>4</th>\n",
       "      <td>A_ADI_LAKSHMI_65Y_F_5</td>\n",
       "      <td>Flaval hypertrophy is at all levels in lumbar ...</td>\n",
       "      <td>65</td>\n",
       "      <td>F</td>\n",
       "      <td>1</td>\n",
       "    </tr>\n",
       "  </tbody>\n",
       "</table>\n",
       "</div>"
      ],
      "text/plain": [
       "                  Images  ... label\n",
       "0  A_ADI_LAKSHMI_65Y_F_1  ...     1\n",
       "1  A_ADI_LAKSHMI_65Y_F_2  ...     1\n",
       "2  A_ADI_LAKSHMI_65Y_F_3  ...     1\n",
       "3  A_ADI_LAKSHMI_65Y_F_4  ...     1\n",
       "4  A_ADI_LAKSHMI_65Y_F_5  ...     1\n",
       "\n",
       "[5 rows x 5 columns]"
      ]
     },
     "execution_count": 17,
     "metadata": {},
     "output_type": "execute_result"
    }
   ],
   "source": [
    "df.head()"
   ]
  },
  {
   "cell_type": "code",
   "execution_count": 18,
   "metadata": {
    "colab": {
     "base_uri": "https://localhost:8080/",
     "height": 203
    },
    "id": "kDU7USSfT9C3",
    "outputId": "565be128-3c4b-4932-d99d-ca458bd17a7e"
   },
   "outputs": [
    {
     "data": {
      "text/html": [
       "<div>\n",
       "<style scoped>\n",
       "    .dataframe tbody tr th:only-of-type {\n",
       "        vertical-align: middle;\n",
       "    }\n",
       "\n",
       "    .dataframe tbody tr th {\n",
       "        vertical-align: top;\n",
       "    }\n",
       "\n",
       "    .dataframe thead th {\n",
       "        text-align: right;\n",
       "    }\n",
       "</style>\n",
       "<table border=\"1\" class=\"dataframe\">\n",
       "  <thead>\n",
       "    <tr style=\"text-align: right;\">\n",
       "      <th></th>\n",
       "      <th>Images</th>\n",
       "      <th>Impression</th>\n",
       "      <th>Age</th>\n",
       "      <th>Gender</th>\n",
       "      <th>label</th>\n",
       "    </tr>\n",
       "  </thead>\n",
       "  <tbody>\n",
       "    <tr>\n",
       "      <th>555</th>\n",
       "      <td>SK_ASHA_35Y_16</td>\n",
       "      <td>No significant abnormality detected.</td>\n",
       "      <td>35</td>\n",
       "      <td>F</td>\n",
       "      <td>0</td>\n",
       "    </tr>\n",
       "    <tr>\n",
       "      <th>556</th>\n",
       "      <td>SK_ASHA_35Y_17</td>\n",
       "      <td>No significant abnormality detected.</td>\n",
       "      <td>35</td>\n",
       "      <td>F</td>\n",
       "      <td>0</td>\n",
       "    </tr>\n",
       "    <tr>\n",
       "      <th>557</th>\n",
       "      <td>SK_ASHA_35Y_18</td>\n",
       "      <td>No significant abnormality detected.</td>\n",
       "      <td>35</td>\n",
       "      <td>F</td>\n",
       "      <td>0</td>\n",
       "    </tr>\n",
       "    <tr>\n",
       "      <th>558</th>\n",
       "      <td>SK_ASHA_35Y_19</td>\n",
       "      <td>No significant abnormality detected.</td>\n",
       "      <td>35</td>\n",
       "      <td>F</td>\n",
       "      <td>0</td>\n",
       "    </tr>\n",
       "    <tr>\n",
       "      <th>559</th>\n",
       "      <td>SK_ASHA_35Y_20</td>\n",
       "      <td>No significant abnormality detected.</td>\n",
       "      <td>35</td>\n",
       "      <td>F</td>\n",
       "      <td>0</td>\n",
       "    </tr>\n",
       "  </tbody>\n",
       "</table>\n",
       "</div>"
      ],
      "text/plain": [
       "             Images                             Impression  Age Gender  label\n",
       "555  SK_ASHA_35Y_16  No significant abnormality detected.    35      F      0\n",
       "556  SK_ASHA_35Y_17  No significant abnormality detected.    35      F      0\n",
       "557  SK_ASHA_35Y_18  No significant abnormality detected.    35      F      0\n",
       "558  SK_ASHA_35Y_19  No significant abnormality detected.    35      F      0\n",
       "559  SK_ASHA_35Y_20  No significant abnormality detected.    35      F      0"
      ]
     },
     "execution_count": 18,
     "metadata": {},
     "output_type": "execute_result"
    }
   ],
   "source": [
    "df.tail()"
   ]
  },
  {
   "cell_type": "code",
   "execution_count": 19,
   "metadata": {
    "colab": {
     "base_uri": "https://localhost:8080/",
     "height": 417
    },
    "id": "ppuddTJyUBZH",
    "outputId": "2835d27b-116f-49b8-8242-da8e83fd472e"
   },
   "outputs": [
    {
     "data": {
      "text/html": [
       "<div>\n",
       "<style scoped>\n",
       "    .dataframe tbody tr th:only-of-type {\n",
       "        vertical-align: middle;\n",
       "    }\n",
       "\n",
       "    .dataframe tbody tr th {\n",
       "        vertical-align: top;\n",
       "    }\n",
       "\n",
       "    .dataframe thead th {\n",
       "        text-align: right;\n",
       "    }\n",
       "</style>\n",
       "<table border=\"1\" class=\"dataframe\">\n",
       "  <thead>\n",
       "    <tr style=\"text-align: right;\">\n",
       "      <th></th>\n",
       "      <th>Images</th>\n",
       "      <th>Impression</th>\n",
       "      <th>Age</th>\n",
       "      <th>Gender</th>\n",
       "      <th>label</th>\n",
       "    </tr>\n",
       "  </thead>\n",
       "  <tbody>\n",
       "    <tr>\n",
       "      <th>10</th>\n",
       "      <td>A_GOWRI_SHANKAR_30Y_M_1</td>\n",
       "      <td>Diffuse disc bulge is at L5-S1 level, compress...</td>\n",
       "      <td>30</td>\n",
       "      <td>M</td>\n",
       "      <td>1</td>\n",
       "    </tr>\n",
       "    <tr>\n",
       "      <th>11</th>\n",
       "      <td>A_GOWRI_SHANKAR_30Y_M_2</td>\n",
       "      <td>Diffuse disc bulge is at L5-S1 level, compress...</td>\n",
       "      <td>30</td>\n",
       "      <td>M</td>\n",
       "      <td>1</td>\n",
       "    </tr>\n",
       "    <tr>\n",
       "      <th>12</th>\n",
       "      <td>A_GOWRI_SHANKAR_30Y_M_3</td>\n",
       "      <td>Diffuse disc bulge is at L5-S1 level, compress...</td>\n",
       "      <td>30</td>\n",
       "      <td>M</td>\n",
       "      <td>1</td>\n",
       "    </tr>\n",
       "    <tr>\n",
       "      <th>13</th>\n",
       "      <td>A_GOWRI_SHANKAR_30Y_M_4</td>\n",
       "      <td>Diffuse disc bulge is at L5-S1 level, compress...</td>\n",
       "      <td>30</td>\n",
       "      <td>M</td>\n",
       "      <td>1</td>\n",
       "    </tr>\n",
       "    <tr>\n",
       "      <th>14</th>\n",
       "      <td>A_GOWRI_SHANKAR_30Y_M_5</td>\n",
       "      <td>Diffuse disc bulge is at L5-S1 level, compress...</td>\n",
       "      <td>30</td>\n",
       "      <td>M</td>\n",
       "      <td>1</td>\n",
       "    </tr>\n",
       "    <tr>\n",
       "      <th>...</th>\n",
       "      <td>...</td>\n",
       "      <td>...</td>\n",
       "      <td>...</td>\n",
       "      <td>...</td>\n",
       "      <td>...</td>\n",
       "    </tr>\n",
       "    <tr>\n",
       "      <th>370</th>\n",
       "      <td>U_UDAYA_CHANDRA_RAO_57Y_M_1</td>\n",
       "      <td>Minimal scoliossis of lumbar spine with convex...</td>\n",
       "      <td>57</td>\n",
       "      <td>M</td>\n",
       "      <td>1</td>\n",
       "    </tr>\n",
       "    <tr>\n",
       "      <th>371</th>\n",
       "      <td>U_UDAYA_CHANDRA_RAO_57Y_M_2</td>\n",
       "      <td>Minimal scoliossis of lumbar spine with convex...</td>\n",
       "      <td>57</td>\n",
       "      <td>M</td>\n",
       "      <td>1</td>\n",
       "    </tr>\n",
       "    <tr>\n",
       "      <th>372</th>\n",
       "      <td>U_UDAYA_CHANDRA_RAO_57Y_M_3</td>\n",
       "      <td>Minimal scoliossis of lumbar spine with convex...</td>\n",
       "      <td>57</td>\n",
       "      <td>M</td>\n",
       "      <td>1</td>\n",
       "    </tr>\n",
       "    <tr>\n",
       "      <th>373</th>\n",
       "      <td>U_UDAYA_CHANDRA_RAO_57Y_M_4</td>\n",
       "      <td>Minimal scoliossis of lumbar spine with convex...</td>\n",
       "      <td>57</td>\n",
       "      <td>M</td>\n",
       "      <td>1</td>\n",
       "    </tr>\n",
       "    <tr>\n",
       "      <th>374</th>\n",
       "      <td>U_UDAYA_CHANDRA_RAO_57Y_M_5</td>\n",
       "      <td>Minimal scoliossis of lumbar spine with convex...</td>\n",
       "      <td>57</td>\n",
       "      <td>M</td>\n",
       "      <td>1</td>\n",
       "    </tr>\n",
       "  </tbody>\n",
       "</table>\n",
       "<p>165 rows × 5 columns</p>\n",
       "</div>"
      ],
      "text/plain": [
       "                          Images  ... label\n",
       "10       A_GOWRI_SHANKAR_30Y_M_1  ...     1\n",
       "11       A_GOWRI_SHANKAR_30Y_M_2  ...     1\n",
       "12       A_GOWRI_SHANKAR_30Y_M_3  ...     1\n",
       "13       A_GOWRI_SHANKAR_30Y_M_4  ...     1\n",
       "14       A_GOWRI_SHANKAR_30Y_M_5  ...     1\n",
       "..                           ...  ...   ...\n",
       "370  U_UDAYA_CHANDRA_RAO_57Y_M_1  ...     1\n",
       "371  U_UDAYA_CHANDRA_RAO_57Y_M_2  ...     1\n",
       "372  U_UDAYA_CHANDRA_RAO_57Y_M_3  ...     1\n",
       "373  U_UDAYA_CHANDRA_RAO_57Y_M_4  ...     1\n",
       "374  U_UDAYA_CHANDRA_RAO_57Y_M_5  ...     1\n",
       "\n",
       "[165 rows x 5 columns]"
      ]
     },
     "execution_count": 19,
     "metadata": {},
     "output_type": "execute_result"
    }
   ],
   "source": [
    "df[(df['Gender'] == 'M') & (df['label'] == 1)]"
   ]
  },
  {
   "cell_type": "code",
   "execution_count": 20,
   "metadata": {
    "colab": {
     "base_uri": "https://localhost:8080/",
     "height": 282
    },
    "id": "Y6I84G0_VCvR",
    "outputId": "b61e2ff2-c737-4855-c55e-e3c5c93f7f7c"
   },
   "outputs": [
    {
     "data": {
      "text/plain": [
       "<matplotlib.axes._subplots.AxesSubplot at 0x7f30c91933d0>"
      ]
     },
     "execution_count": 20,
     "metadata": {},
     "output_type": "execute_result"
    },
    {
     "data": {
      "image/png": "[encoded data removed]",
      "text/plain": [
       "<Figure size 432x288 with 1 Axes>"
      ]
     },
     "metadata": {
      "needs_background": "light"
     },
     "output_type": "display_data"
    }
   ],
   "source": [
    "df[(df['Gender'] == 'M') & (df['label'] == 1)].Age.hist() #Information about Males Data"
   ]
  },
  {
   "cell_type": "code",
   "execution_count": 21,
   "metadata": {
    "colab": {
     "base_uri": "https://localhost:8080/",
     "height": 417
    },
    "id": "RcaKFJ3eUl-W",
    "outputId": "fdbb4fbd-8b9b-4486-dbe7-1ae8155c5b36"
   },
   "outputs": [
    {
     "data": {
      "text/html": [
       "<div>\n",
       "<style scoped>\n",
       "    .dataframe tbody tr th:only-of-type {\n",
       "        vertical-align: middle;\n",
       "    }\n",
       "\n",
       "    .dataframe tbody tr th {\n",
       "        vertical-align: top;\n",
       "    }\n",
       "\n",
       "    .dataframe thead th {\n",
       "        text-align: right;\n",
       "    }\n",
       "</style>\n",
       "<table border=\"1\" class=\"dataframe\">\n",
       "  <thead>\n",
       "    <tr style=\"text-align: right;\">\n",
       "      <th></th>\n",
       "      <th>Images</th>\n",
       "      <th>Impression</th>\n",
       "      <th>Age</th>\n",
       "      <th>Gender</th>\n",
       "      <th>label</th>\n",
       "    </tr>\n",
       "  </thead>\n",
       "  <tbody>\n",
       "    <tr>\n",
       "      <th>0</th>\n",
       "      <td>A_ADI_LAKSHMI_65Y_F_1</td>\n",
       "      <td>Flaval hypertrophy is at all levels in lumbar ...</td>\n",
       "      <td>65</td>\n",
       "      <td>F</td>\n",
       "      <td>1</td>\n",
       "    </tr>\n",
       "    <tr>\n",
       "      <th>1</th>\n",
       "      <td>A_ADI_LAKSHMI_65Y_F_2</td>\n",
       "      <td>Flaval hypertrophy is at all levels in lumbar ...</td>\n",
       "      <td>65</td>\n",
       "      <td>F</td>\n",
       "      <td>1</td>\n",
       "    </tr>\n",
       "    <tr>\n",
       "      <th>2</th>\n",
       "      <td>A_ADI_LAKSHMI_65Y_F_3</td>\n",
       "      <td>Flaval hypertrophy is at all levels in lumbar ...</td>\n",
       "      <td>65</td>\n",
       "      <td>F</td>\n",
       "      <td>1</td>\n",
       "    </tr>\n",
       "    <tr>\n",
       "      <th>3</th>\n",
       "      <td>A_ADI_LAKSHMI_65Y_F_4</td>\n",
       "      <td>Flaval hypertrophy is at all levels in lumbar ...</td>\n",
       "      <td>65</td>\n",
       "      <td>F</td>\n",
       "      <td>1</td>\n",
       "    </tr>\n",
       "    <tr>\n",
       "      <th>4</th>\n",
       "      <td>A_ADI_LAKSHMI_65Y_F_5</td>\n",
       "      <td>Flaval hypertrophy is at all levels in lumbar ...</td>\n",
       "      <td>65</td>\n",
       "      <td>F</td>\n",
       "      <td>1</td>\n",
       "    </tr>\n",
       "    <tr>\n",
       "      <th>...</th>\n",
       "      <td>...</td>\n",
       "      <td>...</td>\n",
       "      <td>...</td>\n",
       "      <td>...</td>\n",
       "      <td>...</td>\n",
       "    </tr>\n",
       "    <tr>\n",
       "      <th>375</th>\n",
       "      <td>U_VIJAYA_45Y_F_1</td>\n",
       "      <td>Grade 1 retrolisthesis is at L5-S1 level with ...</td>\n",
       "      <td>45</td>\n",
       "      <td>F</td>\n",
       "      <td>1</td>\n",
       "    </tr>\n",
       "    <tr>\n",
       "      <th>376</th>\n",
       "      <td>U_VIJAYA_45Y_F_2</td>\n",
       "      <td>Grade 1 retrolisthesis is at L5-S1 level with ...</td>\n",
       "      <td>45</td>\n",
       "      <td>F</td>\n",
       "      <td>1</td>\n",
       "    </tr>\n",
       "    <tr>\n",
       "      <th>377</th>\n",
       "      <td>U_VIJAYA_45Y_F_3</td>\n",
       "      <td>Grade 1 retrolisthesis is at L5-S1 level with ...</td>\n",
       "      <td>45</td>\n",
       "      <td>F</td>\n",
       "      <td>1</td>\n",
       "    </tr>\n",
       "    <tr>\n",
       "      <th>378</th>\n",
       "      <td>U_VIJAYA_45Y_F_4</td>\n",
       "      <td>Grade 1 retrolisthesis is at L5-S1 level with ...</td>\n",
       "      <td>45</td>\n",
       "      <td>F</td>\n",
       "      <td>1</td>\n",
       "    </tr>\n",
       "    <tr>\n",
       "      <th>379</th>\n",
       "      <td>U_VIJAYA_45Y_F_5</td>\n",
       "      <td>Grade 1 retrolisthesis is at L5-S1 level with ...</td>\n",
       "      <td>45</td>\n",
       "      <td>F</td>\n",
       "      <td>1</td>\n",
       "    </tr>\n",
       "  </tbody>\n",
       "</table>\n",
       "<p>215 rows × 5 columns</p>\n",
       "</div>"
      ],
      "text/plain": [
       "                    Images  ... label\n",
       "0    A_ADI_LAKSHMI_65Y_F_1  ...     1\n",
       "1    A_ADI_LAKSHMI_65Y_F_2  ...     1\n",
       "2    A_ADI_LAKSHMI_65Y_F_3  ...     1\n",
       "3    A_ADI_LAKSHMI_65Y_F_4  ...     1\n",
       "4    A_ADI_LAKSHMI_65Y_F_5  ...     1\n",
       "..                     ...  ...   ...\n",
       "375       U_VIJAYA_45Y_F_1  ...     1\n",
       "376       U_VIJAYA_45Y_F_2  ...     1\n",
       "377       U_VIJAYA_45Y_F_3  ...     1\n",
       "378       U_VIJAYA_45Y_F_4  ...     1\n",
       "379       U_VIJAYA_45Y_F_5  ...     1\n",
       "\n",
       "[215 rows x 5 columns]"
      ]
     },
     "execution_count": 21,
     "metadata": {},
     "output_type": "execute_result"
    }
   ],
   "source": [
    "df[(df['Gender'] == 'F') & (df['label'] == 1)]"
   ]
  },
  {
   "cell_type": "code",
   "execution_count": 22,
   "metadata": {
    "colab": {
     "base_uri": "https://localhost:8080/",
     "height": 282
    },
    "id": "bYZAGmtEUwQR",
    "outputId": "d2f08563-dcd9-468d-f674-28f9aa566a95"
   },
   "outputs": [
    {
     "data": {
      "text/plain": [
       "<matplotlib.axes._subplots.AxesSubplot at 0x7f30c810de90>"
      ]
     },
     "execution_count": 22,
     "metadata": {},
     "output_type": "execute_result"
    },
    {
     "data": {
      "image/png": "[encoded data removed]",
      "text/plain": [
       "<Figure size 432x288 with 1 Axes>"
      ]
     },
     "metadata": {
      "needs_background": "light"
     },
     "output_type": "display_data"
    }
   ],
   "source": [
    "df[(df['Gender'] == 'F') & (df['label'] == 1)].Age.hist() #Information about Females Data"
   ]
  },
  {
   "cell_type": "code",
   "execution_count": 23,
   "metadata": {
    "colab": {
     "base_uri": "https://localhost:8080/"
    },
    "id": "Ry_1VUNwVfek",
    "outputId": "5e3e1829-f91e-4be8-eb2b-b130cb475b63"
   },
   "outputs": [
    {
     "data": {
      "text/plain": [
       "165"
      ]
     },
     "execution_count": 23,
     "metadata": {},
     "output_type": "execute_result"
    }
   ],
   "source": [
    "df[(df['Gender'] == 'M') & (df['label'] == 1)].shape[0]"
   ]
  },
  {
   "cell_type": "code",
   "execution_count": 24,
   "metadata": {
    "colab": {
     "base_uri": "https://localhost:8080/"
    },
    "id": "y7zIVNxWVqjc",
    "outputId": "b4a36910-2523-4f48-9aed-23c3dddfd9db"
   },
   "outputs": [
    {
     "data": {
      "text/plain": [
       "215"
      ]
     },
     "execution_count": 24,
     "metadata": {},
     "output_type": "execute_result"
    }
   ],
   "source": [
    "df[(df['Gender'] == 'F') & (df['label'] == 1)].shape[0]"
   ]
  },
  {
   "cell_type": "code",
   "execution_count": 25,
   "metadata": {
    "colab": {
     "base_uri": "https://localhost:8080/",
     "height": 336
    },
    "id": "UEeroTuMWKly",
    "outputId": "bf9b135b-2358-4d7e-c2d8-55890207d05f"
   },
   "outputs": [
    {
     "data": {
      "image/png": "[encoded data removed]",
      "text/plain": [
       "<Figure size 432x288 with 1 Axes>"
      ]
     },
     "metadata": {
      "needs_background": "light"
     },
     "output_type": "display_data"
    }
   ],
   "source": [
    "fig = plt.figure()\n",
    "ax = fig.add_axes([0,0,1,1])\n",
    "Gender = ['Male', 'Fenale']\n",
    "Effected = [df[(df['Gender'] == 'M') & (df['label'] == 1)].shape[0],df[(df['Gender'] == 'F') & (df['label'] == 1)].shape[0]]\n",
    "ax.bar(Gender, Effected)\n",
    "plt.show()"
   ]
  },
  {
   "cell_type": "code",
   "execution_count": 26,
   "metadata": {
    "id": "ju5yl6Lw3Hcp"
   },
   "outputs": [],
   "source": [
    "data = df[['Images','Impression']]"
   ]
  },
  {
   "cell_type": "code",
   "execution_count": 27,
   "metadata": {
    "colab": {
     "base_uri": "https://localhost:8080/",
     "height": 203
    },
    "id": "FSucEhFp3dlr",
    "outputId": "ae84885a-e243-43c2-f9f3-d114ddbffc3b"
   },
   "outputs": [
    {
     "data": {
      "text/html": [
       "<div>\n",
       "<style scoped>\n",
       "    .dataframe tbody tr th:only-of-type {\n",
       "        vertical-align: middle;\n",
       "    }\n",
       "\n",
       "    .dataframe tbody tr th {\n",
       "        vertical-align: top;\n",
       "    }\n",
       "\n",
       "    .dataframe thead th {\n",
       "        text-align: right;\n",
       "    }\n",
       "</style>\n",
       "<table border=\"1\" class=\"dataframe\">\n",
       "  <thead>\n",
       "    <tr style=\"text-align: right;\">\n",
       "      <th></th>\n",
       "      <th>Images</th>\n",
       "      <th>Impression</th>\n",
       "    </tr>\n",
       "  </thead>\n",
       "  <tbody>\n",
       "    <tr>\n",
       "      <th>0</th>\n",
       "      <td>A_ADI_LAKSHMI_65Y_F_1</td>\n",
       "      <td>Flaval hypertrophy is at all levels in lumbar ...</td>\n",
       "    </tr>\n",
       "    <tr>\n",
       "      <th>1</th>\n",
       "      <td>A_ADI_LAKSHMI_65Y_F_2</td>\n",
       "      <td>Flaval hypertrophy is at all levels in lumbar ...</td>\n",
       "    </tr>\n",
       "    <tr>\n",
       "      <th>2</th>\n",
       "      <td>A_ADI_LAKSHMI_65Y_F_3</td>\n",
       "      <td>Flaval hypertrophy is at all levels in lumbar ...</td>\n",
       "    </tr>\n",
       "    <tr>\n",
       "      <th>3</th>\n",
       "      <td>A_ADI_LAKSHMI_65Y_F_4</td>\n",
       "      <td>Flaval hypertrophy is at all levels in lumbar ...</td>\n",
       "    </tr>\n",
       "    <tr>\n",
       "      <th>4</th>\n",
       "      <td>A_ADI_LAKSHMI_65Y_F_5</td>\n",
       "      <td>Flaval hypertrophy is at all levels in lumbar ...</td>\n",
       "    </tr>\n",
       "  </tbody>\n",
       "</table>\n",
       "</div>"
      ],
      "text/plain": [
       "                  Images                                         Impression\n",
       "0  A_ADI_LAKSHMI_65Y_F_1  Flaval hypertrophy is at all levels in lumbar ...\n",
       "1  A_ADI_LAKSHMI_65Y_F_2  Flaval hypertrophy is at all levels in lumbar ...\n",
       "2  A_ADI_LAKSHMI_65Y_F_3  Flaval hypertrophy is at all levels in lumbar ...\n",
       "3  A_ADI_LAKSHMI_65Y_F_4  Flaval hypertrophy is at all levels in lumbar ...\n",
       "4  A_ADI_LAKSHMI_65Y_F_5  Flaval hypertrophy is at all levels in lumbar ..."
      ]
     },
     "execution_count": 27,
     "metadata": {},
     "output_type": "execute_result"
    }
   ],
   "source": [
    "data.head()"
   ]
  },
  {
   "cell_type": "code",
   "execution_count": 28,
   "metadata": {
    "id": "AtP1Nw3u4NDC"
   },
   "outputs": [],
   "source": [
    "dataset = data.copy()"
   ]
  },
  {
   "cell_type": "code",
   "execution_count": 29,
   "metadata": {
    "id": "Z9mggCI23gpy"
   },
   "outputs": [],
   "source": [
    "dataset.rename(columns = {'Images':'Image_path','Impression':'Finding'}, inplace = True)"
   ]
  },
  {
   "cell_type": "code",
   "execution_count": 30,
   "metadata": {
    "colab": {
     "base_uri": "https://localhost:8080/",
     "height": 417
    },
    "id": "DvQGOlDR38wA",
    "outputId": "9521a82c-0784-4b17-da11-596d15a5292d"
   },
   "outputs": [
    {
     "data": {
      "text/html": [
       "<div>\n",
       "<style scoped>\n",
       "    .dataframe tbody tr th:only-of-type {\n",
       "        vertical-align: middle;\n",
       "    }\n",
       "\n",
       "    .dataframe tbody tr th {\n",
       "        vertical-align: top;\n",
       "    }\n",
       "\n",
       "    .dataframe thead th {\n",
       "        text-align: right;\n",
       "    }\n",
       "</style>\n",
       "<table border=\"1\" class=\"dataframe\">\n",
       "  <thead>\n",
       "    <tr style=\"text-align: right;\">\n",
       "      <th></th>\n",
       "      <th>Image_path</th>\n",
       "      <th>Finding</th>\n",
       "    </tr>\n",
       "  </thead>\n",
       "  <tbody>\n",
       "    <tr>\n",
       "      <th>0</th>\n",
       "      <td>A_ADI_LAKSHMI_65Y_F_1</td>\n",
       "      <td>Flaval hypertrophy is at all levels in lumbar ...</td>\n",
       "    </tr>\n",
       "    <tr>\n",
       "      <th>1</th>\n",
       "      <td>A_ADI_LAKSHMI_65Y_F_2</td>\n",
       "      <td>Flaval hypertrophy is at all levels in lumbar ...</td>\n",
       "    </tr>\n",
       "    <tr>\n",
       "      <th>2</th>\n",
       "      <td>A_ADI_LAKSHMI_65Y_F_3</td>\n",
       "      <td>Flaval hypertrophy is at all levels in lumbar ...</td>\n",
       "    </tr>\n",
       "    <tr>\n",
       "      <th>3</th>\n",
       "      <td>A_ADI_LAKSHMI_65Y_F_4</td>\n",
       "      <td>Flaval hypertrophy is at all levels in lumbar ...</td>\n",
       "    </tr>\n",
       "    <tr>\n",
       "      <th>4</th>\n",
       "      <td>A_ADI_LAKSHMI_65Y_F_5</td>\n",
       "      <td>Flaval hypertrophy is at all levels in lumbar ...</td>\n",
       "    </tr>\n",
       "    <tr>\n",
       "      <th>...</th>\n",
       "      <td>...</td>\n",
       "      <td>...</td>\n",
       "    </tr>\n",
       "    <tr>\n",
       "      <th>555</th>\n",
       "      <td>SK_ASHA_35Y_16</td>\n",
       "      <td>No significant abnormality detected.</td>\n",
       "    </tr>\n",
       "    <tr>\n",
       "      <th>556</th>\n",
       "      <td>SK_ASHA_35Y_17</td>\n",
       "      <td>No significant abnormality detected.</td>\n",
       "    </tr>\n",
       "    <tr>\n",
       "      <th>557</th>\n",
       "      <td>SK_ASHA_35Y_18</td>\n",
       "      <td>No significant abnormality detected.</td>\n",
       "    </tr>\n",
       "    <tr>\n",
       "      <th>558</th>\n",
       "      <td>SK_ASHA_35Y_19</td>\n",
       "      <td>No significant abnormality detected.</td>\n",
       "    </tr>\n",
       "    <tr>\n",
       "      <th>559</th>\n",
       "      <td>SK_ASHA_35Y_20</td>\n",
       "      <td>No significant abnormality detected.</td>\n",
       "    </tr>\n",
       "  </tbody>\n",
       "</table>\n",
       "<p>560 rows × 2 columns</p>\n",
       "</div>"
      ],
      "text/plain": [
       "                Image_path                                            Finding\n",
       "0    A_ADI_LAKSHMI_65Y_F_1  Flaval hypertrophy is at all levels in lumbar ...\n",
       "1    A_ADI_LAKSHMI_65Y_F_2  Flaval hypertrophy is at all levels in lumbar ...\n",
       "2    A_ADI_LAKSHMI_65Y_F_3  Flaval hypertrophy is at all levels in lumbar ...\n",
       "3    A_ADI_LAKSHMI_65Y_F_4  Flaval hypertrophy is at all levels in lumbar ...\n",
       "4    A_ADI_LAKSHMI_65Y_F_5  Flaval hypertrophy is at all levels in lumbar ...\n",
       "..                     ...                                                ...\n",
       "555         SK_ASHA_35Y_16              No significant abnormality detected. \n",
       "556         SK_ASHA_35Y_17              No significant abnormality detected. \n",
       "557         SK_ASHA_35Y_18              No significant abnormality detected. \n",
       "558         SK_ASHA_35Y_19              No significant abnormality detected. \n",
       "559         SK_ASHA_35Y_20              No significant abnormality detected. \n",
       "\n",
       "[560 rows x 2 columns]"
      ]
     },
     "execution_count": 30,
     "metadata": {},
     "output_type": "execute_result"
    }
   ],
   "source": [
    "dataset"
   ]
  },
  {
   "cell_type": "code",
   "execution_count": 33,
   "metadata": {
    "id": "9D1YTORLNdPg"
   },
   "outputs": [],
   "source": [
    "dataset = dataset.sample(frac=1).reset_index(drop=True).copy()"
   ]
  },
  {
   "cell_type": "markdown",
   "metadata": {
    "id": "4kDA7Xm4LKXP"
   },
   "source": []
  },
  {
   "cell_type": "code",
   "execution_count": 34,
   "metadata": {
    "colab": {
     "base_uri": "https://localhost:8080/"
    },
    "id": "sX9lCm-B4Tas",
    "outputId": "168af36f-4fb4-4054-925c-3869e793d808"
   },
   "outputs": [
    {
     "name": "stdout",
     "output_type": "stream",
     "text": [
      "Dataset Shape: (560, 2)\n"
     ]
    }
   ],
   "source": [
    "\n",
    "print('Dataset Shape:', dataset.shape)"
   ]
  },
  {
   "cell_type": "code",
   "execution_count": 35,
   "metadata": {
    "id": "z2Y_6lKt4XmQ"
   },
   "outputs": [],
   "source": [
    "def absolute_path(x): # making the paths absolute to get the image data along with Impession\n",
    "    '''Makes the path absolute '''\n",
    "    x = 'Data/'+ x + '.jpg'\n",
    "    return x"
   ]
  },
  {
   "cell_type": "code",
   "execution_count": 36,
   "metadata": {
    "id": "IRdusZtS6kpR"
   },
   "outputs": [],
   "source": [
    "dataset['Image_path'] = dataset['Image_path'].apply(lambda x : absolute_path(x)) "
   ]
  },
  {
   "cell_type": "code",
   "execution_count": 37,
   "metadata": {
    "colab": {
     "base_uri": "https://localhost:8080/",
     "height": 203
    },
    "id": "Ll2dmKz965Zt",
    "outputId": "34f2a7af-a123-4485-c356-5b0095d2d884"
   },
   "outputs": [
    {
     "data": {
      "text/html": [
       "<div>\n",
       "<style scoped>\n",
       "    .dataframe tbody tr th:only-of-type {\n",
       "        vertical-align: middle;\n",
       "    }\n",
       "\n",
       "    .dataframe tbody tr th {\n",
       "        vertical-align: top;\n",
       "    }\n",
       "\n",
       "    .dataframe thead th {\n",
       "        text-align: right;\n",
       "    }\n",
       "</style>\n",
       "<table border=\"1\" class=\"dataframe\">\n",
       "  <thead>\n",
       "    <tr style=\"text-align: right;\">\n",
       "      <th></th>\n",
       "      <th>Image_path</th>\n",
       "      <th>Finding</th>\n",
       "    </tr>\n",
       "  </thead>\n",
       "  <tbody>\n",
       "    <tr>\n",
       "      <th>0</th>\n",
       "      <td>Data/N_SRINU_31Y_M_3.jpg</td>\n",
       "      <td>Spondylolysis with grade 1 listhesis is at L5-...</td>\n",
       "    </tr>\n",
       "    <tr>\n",
       "      <th>1</th>\n",
       "      <td>Data/N_PITCHAMMA_40Y_F_2.jpg</td>\n",
       "      <td>Tranitional vertebra is S1 level-? Lumbarisati...</td>\n",
       "    </tr>\n",
       "    <tr>\n",
       "      <th>2</th>\n",
       "      <td>Data/K_SEEMA_27Y_3.jpg</td>\n",
       "      <td>No significant abnormality detected.</td>\n",
       "    </tr>\n",
       "    <tr>\n",
       "      <th>3</th>\n",
       "      <td>Data/J_SUBBAYAMMA_58Y_F_4.jpg</td>\n",
       "      <td>Central disc extrusion is at L4-5 level, compr...</td>\n",
       "    </tr>\n",
       "    <tr>\n",
       "      <th>4</th>\n",
       "      <td>Data/B_ANKAMMA_65Y_F_4.jpg</td>\n",
       "      <td>Minimal scolisosis of liumbar spine with conve...</td>\n",
       "    </tr>\n",
       "  </tbody>\n",
       "</table>\n",
       "</div>"
      ],
      "text/plain": [
       "                      Image_path                                            Finding\n",
       "0       Data/N_SRINU_31Y_M_3.jpg  Spondylolysis with grade 1 listhesis is at L5-...\n",
       "1   Data/N_PITCHAMMA_40Y_F_2.jpg  Tranitional vertebra is S1 level-? Lumbarisati...\n",
       "2         Data/K_SEEMA_27Y_3.jpg              No significant abnormality detected. \n",
       "3  Data/J_SUBBAYAMMA_58Y_F_4.jpg  Central disc extrusion is at L4-5 level, compr...\n",
       "4     Data/B_ANKAMMA_65Y_F_4.jpg  Minimal scolisosis of liumbar spine with conve..."
      ]
     },
     "execution_count": 37,
     "metadata": {},
     "output_type": "execute_result"
    }
   ],
   "source": [
    "dataset.head()"
   ]
  },
  {
   "cell_type": "code",
   "execution_count": 38,
   "metadata": {
    "colab": {
     "base_uri": "https://localhost:8080/"
    },
    "id": "OPDOUWWW5uag",
    "outputId": "f3623727-f537-4363-a78a-2c734a800c04"
   },
   "outputs": [
    {
     "name": "stdout",
     "output_type": "stream",
     "text": [
      "/content/drive/MyDrive/Main Capstone\n"
     ]
    }
   ],
   "source": [
    "%cd /content/drive/MyDrive/Main Capstone/"
   ]
  },
  {
   "cell_type": "code",
   "execution_count": 46,
   "metadata": {
    "colab": {
     "base_uri": "https://localhost:8080/"
    },
    "id": "NEcLH0bbOIxk",
    "outputId": "f49f32c6-6c8b-4920-a365-e074579f6420"
   },
   "outputs": [
    {
     "name": "stderr",
     "output_type": "stream",
     "text": [
      "100%|██████████| 560/560 [02:42<00:00,  3.45it/s]\n"
     ]
    }
   ],
   "source": [
    "h = []\n",
    "w = []\n",
    "for i in tqdm(np.unique(dataset['Image_path'].values)):\n",
    "    img = cv.imread(i)\n",
    "    h.append(img.shape[0])\n",
    "    w.append(img.shape[0])"
   ]
  },
  {
   "cell_type": "code",
   "execution_count": 47,
   "metadata": {
    "colab": {
     "base_uri": "https://localhost:8080/",
     "height": 312
    },
    "id": "7Q5k5NPBOLoJ",
    "outputId": "2bd91709-2753-4ae7-d5be-b32755824dc5"
   },
   "outputs": [
    {
     "data": {
      "text/plain": [
       "<matplotlib.axes._subplots.AxesSubplot at 0x7f30c94a9a50>"
      ]
     },
     "execution_count": 47,
     "metadata": {},
     "output_type": "execute_result"
    },
    {
     "data": {
      "image/png": "[encoded data removed]",
      "text/plain": [
       "<Figure size 720x288 with 2 Axes>"
      ]
     },
     "metadata": {
      "needs_background": "light"
     },
     "output_type": "display_data"
    }
   ],
   "source": [
    "plt.figure(figsize=(10,4)) #Height and width of the Images\n",
    "plt.subplot(121)\n",
    "plt.title('Height Plot')\n",
    "plt.ylabel('Heights')\n",
    "plt.xlabel('--Images--')\n",
    "sns.scatterplot(range(len(h)), h)\n",
    "plt.subplot(122)\n",
    "plt.title('Width Plot')\n",
    "plt.ylabel('Widths')\n",
    "plt.xlabel('--Images--')\n",
    "sns.scatterplot(range(len(w)), h)"
   ]
  },
  {
   "cell_type": "code",
   "execution_count": null,
   "metadata": {
    "id": "aKXOcFqHvOzT"
   },
   "outputs": [],
   "source": [
    "from tensorflow.keras.layers import Conv2D, BatchNormalization, Activation, MaxPool2D, Conv2DTranspose, Concatenate, Input\n",
    "from tensorflow.keras.models import Model\n",
    "from tensorflow.keras.applications import ResNet50"
   ]
  },
  {
   "cell_type": "code",
   "execution_count": null,
   "metadata": {
    "colab": {
     "base_uri": "https://localhost:8080/"
    },
    "id": "f1mcKpDRyP_S",
    "outputId": "f6dc22e8-e357-4aee-da72-a99ed08d6cc3"
   },
   "outputs": [
    {
     "name": "stdout",
     "output_type": "stream",
     "text": [
      "Downloading data from https://storage.googleapis.com/tensorflow/keras-applications/resnet/resnet50_weights_tf_dim_ordering_tf_kernels_notop.h5\n",
      "94773248/94765736 [==============================] - 1s 0us/step\n",
      "Model: \"resnet50\"\n",
      "__________________________________________________________________________________________________\n",
      "Layer (type)                    Output Shape         Param #     Connected to                     \n",
      "==================================================================================================\n",
      "input_1 (InputLayer)            [(None, 224, 224, 3) 0                                            \n",
      "__________________________________________________________________________________________________\n",
      "conv1_pad (ZeroPadding2D)       (None, 230, 230, 3)  0           input_1[0][0]                    \n",
      "__________________________________________________________________________________________________\n",
      "conv1_conv (Conv2D)             (None, 112, 112, 64) 9472        conv1_pad[0][0]                  \n",
      "__________________________________________________________________________________________________\n",
      "conv1_bn (BatchNormalization)   (None, 112, 112, 64) 256         conv1_conv[0][0]                 \n",
      "__________________________________________________________________________________________________\n",
      "conv1_relu (Activation)         (None, 112, 112, 64) 0           conv1_bn[0][0]                   \n",
      "__________________________________________________________________________________________________\n",
      "pool1_pad (ZeroPadding2D)       (None, 114, 114, 64) 0           conv1_relu[0][0]                 \n",
      "__________________________________________________________________________________________________\n",
      "pool1_pool (MaxPooling2D)       (None, 56, 56, 64)   0           pool1_pad[0][0]                  \n",
      "__________________________________________________________________________________________________\n",
      "conv2_block1_1_conv (Conv2D)    (None, 56, 56, 64)   4160        pool1_pool[0][0]                 \n",
      "__________________________________________________________________________________________________\n",
      "conv2_block1_1_bn (BatchNormali (None, 56, 56, 64)   256         conv2_block1_1_conv[0][0]        \n",
      "__________________________________________________________________________________________________\n",
      "conv2_block1_1_relu (Activation (None, 56, 56, 64)   0           conv2_block1_1_bn[0][0]          \n",
      "__________________________________________________________________________________________________\n",
      "conv2_block1_2_conv (Conv2D)    (None, 56, 56, 64)   36928       conv2_block1_1_relu[0][0]        \n",
      "__________________________________________________________________________________________________\n",
      "conv2_block1_2_bn (BatchNormali (None, 56, 56, 64)   256         conv2_block1_2_conv[0][0]        \n",
      "__________________________________________________________________________________________________\n",
      "conv2_block1_2_relu (Activation (None, 56, 56, 64)   0           conv2_block1_2_bn[0][0]          \n",
      "__________________________________________________________________________________________________\n",
      "conv2_block1_0_conv (Conv2D)    (None, 56, 56, 256)  16640       pool1_pool[0][0]                 \n",
      "__________________________________________________________________________________________________\n",
      "conv2_block1_3_conv (Conv2D)    (None, 56, 56, 256)  16640       conv2_block1_2_relu[0][0]        \n",
      "__________________________________________________________________________________________________\n",
      "conv2_block1_0_bn (BatchNormali (None, 56, 56, 256)  1024        conv2_block1_0_conv[0][0]        \n",
      "__________________________________________________________________________________________________\n",
      "conv2_block1_3_bn (BatchNormali (None, 56, 56, 256)  1024        conv2_block1_3_conv[0][0]        \n",
      "__________________________________________________________________________________________________\n",
      "conv2_block1_add (Add)          (None, 56, 56, 256)  0           conv2_block1_0_bn[0][0]          \n",
      "                                                                 conv2_block1_3_bn[0][0]          \n",
      "__________________________________________________________________________________________________\n",
      "conv2_block1_out (Activation)   (None, 56, 56, 256)  0           conv2_block1_add[0][0]           \n",
      "__________________________________________________________________________________________________\n",
      "conv2_block2_1_conv (Conv2D)    (None, 56, 56, 64)   16448       conv2_block1_out[0][0]           \n",
      "__________________________________________________________________________________________________\n",
      "conv2_block2_1_bn (BatchNormali (None, 56, 56, 64)   256         conv2_block2_1_conv[0][0]        \n",
      "__________________________________________________________________________________________________\n",
      "conv2_block2_1_relu (Activation (None, 56, 56, 64)   0           conv2_block2_1_bn[0][0]          \n",
      "__________________________________________________________________________________________________\n",
      "conv2_block2_2_conv (Conv2D)    (None, 56, 56, 64)   36928       conv2_block2_1_relu[0][0]        \n",
      "__________________________________________________________________________________________________\n",
      "conv2_block2_2_bn (BatchNormali (None, 56, 56, 64)   256         conv2_block2_2_conv[0][0]        \n",
      "__________________________________________________________________________________________________\n",
      "conv2_block2_2_relu (Activation (None, 56, 56, 64)   0           conv2_block2_2_bn[0][0]          \n",
      "__________________________________________________________________________________________________\n",
      "conv2_block2_3_conv (Conv2D)    (None, 56, 56, 256)  16640       conv2_block2_2_relu[0][0]        \n",
      "__________________________________________________________________________________________________\n",
      "conv2_block2_3_bn (BatchNormali (None, 56, 56, 256)  1024        conv2_block2_3_conv[0][0]        \n",
      "__________________________________________________________________________________________________\n",
      "conv2_block2_add (Add)          (None, 56, 56, 256)  0           conv2_block1_out[0][0]           \n",
      "                                                                 conv2_block2_3_bn[0][0]          \n",
      "__________________________________________________________________________________________________\n",
      "conv2_block2_out (Activation)   (None, 56, 56, 256)  0           conv2_block2_add[0][0]           \n",
      "__________________________________________________________________________________________________\n",
      "conv2_block3_1_conv (Conv2D)    (None, 56, 56, 64)   16448       conv2_block2_out[0][0]           \n",
      "__________________________________________________________________________________________________\n",
      "conv2_block3_1_bn (BatchNormali (None, 56, 56, 64)   256         conv2_block3_1_conv[0][0]        \n",
      "__________________________________________________________________________________________________\n",
      "conv2_block3_1_relu (Activation (None, 56, 56, 64)   0           conv2_block3_1_bn[0][0]          \n",
      "__________________________________________________________________________________________________\n",
      "conv2_block3_2_conv (Conv2D)    (None, 56, 56, 64)   36928       conv2_block3_1_relu[0][0]        \n",
      "__________________________________________________________________________________________________\n",
      "conv2_block3_2_bn (BatchNormali (None, 56, 56, 64)   256         conv2_block3_2_conv[0][0]        \n",
      "__________________________________________________________________________________________________\n",
      "conv2_block3_2_relu (Activation (None, 56, 56, 64)   0           conv2_block3_2_bn[0][0]          \n",
      "__________________________________________________________________________________________________\n",
      "conv2_block3_3_conv (Conv2D)    (None, 56, 56, 256)  16640       conv2_block3_2_relu[0][0]        \n",
      "__________________________________________________________________________________________________\n",
      "conv2_block3_3_bn (BatchNormali (None, 56, 56, 256)  1024        conv2_block3_3_conv[0][0]        \n",
      "__________________________________________________________________________________________________\n",
      "conv2_block3_add (Add)          (None, 56, 56, 256)  0           conv2_block2_out[0][0]           \n",
      "                                                                 conv2_block3_3_bn[0][0]          \n",
      "__________________________________________________________________________________________________\n",
      "conv2_block3_out (Activation)   (None, 56, 56, 256)  0           conv2_block3_add[0][0]           \n",
      "__________________________________________________________________________________________________\n",
      "conv3_block1_1_conv (Conv2D)    (None, 28, 28, 128)  32896       conv2_block3_out[0][0]           \n",
      "__________________________________________________________________________________________________\n",
      "conv3_block1_1_bn (BatchNormali (None, 28, 28, 128)  512         conv3_block1_1_conv[0][0]        \n",
      "__________________________________________________________________________________________________\n",
      "conv3_block1_1_relu (Activation (None, 28, 28, 128)  0           conv3_block1_1_bn[0][0]          \n",
      "__________________________________________________________________________________________________\n",
      "conv3_block1_2_conv (Conv2D)    (None, 28, 28, 128)  147584      conv3_block1_1_relu[0][0]        \n",
      "__________________________________________________________________________________________________\n",
      "conv3_block1_2_bn (BatchNormali (None, 28, 28, 128)  512         conv3_block1_2_conv[0][0]        \n",
      "__________________________________________________________________________________________________\n",
      "conv3_block1_2_relu (Activation (None, 28, 28, 128)  0           conv3_block1_2_bn[0][0]          \n",
      "__________________________________________________________________________________________________\n",
      "conv3_block1_0_conv (Conv2D)    (None, 28, 28, 512)  131584      conv2_block3_out[0][0]           \n",
      "__________________________________________________________________________________________________\n",
      "conv3_block1_3_conv (Conv2D)    (None, 28, 28, 512)  66048       conv3_block1_2_relu[0][0]        \n",
      "__________________________________________________________________________________________________\n",
      "conv3_block1_0_bn (BatchNormali (None, 28, 28, 512)  2048        conv3_block1_0_conv[0][0]        \n",
      "__________________________________________________________________________________________________\n",
      "conv3_block1_3_bn (BatchNormali (None, 28, 28, 512)  2048        conv3_block1_3_conv[0][0]        \n",
      "__________________________________________________________________________________________________\n",
      "conv3_block1_add (Add)          (None, 28, 28, 512)  0           conv3_block1_0_bn[0][0]          \n",
      "                                                                 conv3_block1_3_bn[0][0]          \n",
      "__________________________________________________________________________________________________\n",
      "conv3_block1_out (Activation)   (None, 28, 28, 512)  0           conv3_block1_add[0][0]           \n",
      "__________________________________________________________________________________________________\n",
      "conv3_block2_1_conv (Conv2D)    (None, 28, 28, 128)  65664       conv3_block1_out[0][0]           \n",
      "__________________________________________________________________________________________________\n",
      "conv3_block2_1_bn (BatchNormali (None, 28, 28, 128)  512         conv3_block2_1_conv[0][0]        \n",
      "__________________________________________________________________________________________________\n",
      "conv3_block2_1_relu (Activation (None, 28, 28, 128)  0           conv3_block2_1_bn[0][0]          \n",
      "__________________________________________________________________________________________________\n",
      "conv3_block2_2_conv (Conv2D)    (None, 28, 28, 128)  147584      conv3_block2_1_relu[0][0]        \n",
      "__________________________________________________________________________________________________\n",
      "conv3_block2_2_bn (BatchNormali (None, 28, 28, 128)  512         conv3_block2_2_conv[0][0]        \n",
      "__________________________________________________________________________________________________\n",
      "conv3_block2_2_relu (Activation (None, 28, 28, 128)  0           conv3_block2_2_bn[0][0]          \n",
      "__________________________________________________________________________________________________\n",
      "conv3_block2_3_conv (Conv2D)    (None, 28, 28, 512)  66048       conv3_block2_2_relu[0][0]        \n",
      "__________________________________________________________________________________________________\n",
      "conv3_block2_3_bn (BatchNormali (None, 28, 28, 512)  2048        conv3_block2_3_conv[0][0]        \n",
      "__________________________________________________________________________________________________\n",
      "conv3_block2_add (Add)          (None, 28, 28, 512)  0           conv3_block1_out[0][0]           \n",
      "                                                                 conv3_block2_3_bn[0][0]          \n",
      "__________________________________________________________________________________________________\n",
      "conv3_block2_out (Activation)   (None, 28, 28, 512)  0           conv3_block2_add[0][0]           \n",
      "__________________________________________________________________________________________________\n",
      "conv3_block3_1_conv (Conv2D)    (None, 28, 28, 128)  65664       conv3_block2_out[0][0]           \n",
      "__________________________________________________________________________________________________\n",
      "conv3_block3_1_bn (BatchNormali (None, 28, 28, 128)  512         conv3_block3_1_conv[0][0]        \n",
      "__________________________________________________________________________________________________\n",
      "conv3_block3_1_relu (Activation (None, 28, 28, 128)  0           conv3_block3_1_bn[0][0]          \n",
      "__________________________________________________________________________________________________\n",
      "conv3_block3_2_conv (Conv2D)    (None, 28, 28, 128)  147584      conv3_block3_1_relu[0][0]        \n",
      "__________________________________________________________________________________________________\n",
      "conv3_block3_2_bn (BatchNormali (None, 28, 28, 128)  512         conv3_block3_2_conv[0][0]        \n",
      "__________________________________________________________________________________________________\n",
      "conv3_block3_2_relu (Activation (None, 28, 28, 128)  0           conv3_block3_2_bn[0][0]          \n",
      "__________________________________________________________________________________________________\n",
      "conv3_block3_3_conv (Conv2D)    (None, 28, 28, 512)  66048       conv3_block3_2_relu[0][0]        \n",
      "__________________________________________________________________________________________________\n",
      "conv3_block3_3_bn (BatchNormali (None, 28, 28, 512)  2048        conv3_block3_3_conv[0][0]        \n",
      "__________________________________________________________________________________________________\n",
      "conv3_block3_add (Add)          (None, 28, 28, 512)  0           conv3_block2_out[0][0]           \n",
      "                                                                 conv3_block3_3_bn[0][0]          \n",
      "__________________________________________________________________________________________________\n",
      "conv3_block3_out (Activation)   (None, 28, 28, 512)  0           conv3_block3_add[0][0]           \n",
      "__________________________________________________________________________________________________\n",
      "conv3_block4_1_conv (Conv2D)    (None, 28, 28, 128)  65664       conv3_block3_out[0][0]           \n",
      "__________________________________________________________________________________________________\n",
      "conv3_block4_1_bn (BatchNormali (None, 28, 28, 128)  512         conv3_block4_1_conv[0][0]        \n",
      "__________________________________________________________________________________________________\n",
      "conv3_block4_1_relu (Activation (None, 28, 28, 128)  0           conv3_block4_1_bn[0][0]          \n",
      "__________________________________________________________________________________________________\n",
      "conv3_block4_2_conv (Conv2D)    (None, 28, 28, 128)  147584      conv3_block4_1_relu[0][0]        \n",
      "__________________________________________________________________________________________________\n",
      "conv3_block4_2_bn (BatchNormali (None, 28, 28, 128)  512         conv3_block4_2_conv[0][0]        \n",
      "__________________________________________________________________________________________________\n",
      "conv3_block4_2_relu (Activation (None, 28, 28, 128)  0           conv3_block4_2_bn[0][0]          \n",
      "__________________________________________________________________________________________________\n",
      "conv3_block4_3_conv (Conv2D)    (None, 28, 28, 512)  66048       conv3_block4_2_relu[0][0]        \n",
      "__________________________________________________________________________________________________\n",
      "conv3_block4_3_bn (BatchNormali (None, 28, 28, 512)  2048        conv3_block4_3_conv[0][0]        \n",
      "__________________________________________________________________________________________________\n",
      "conv3_block4_add (Add)          (None, 28, 28, 512)  0           conv3_block3_out[0][0]           \n",
      "                                                                 conv3_block4_3_bn[0][0]          \n",
      "__________________________________________________________________________________________________\n",
      "conv3_block4_out (Activation)   (None, 28, 28, 512)  0           conv3_block4_add[0][0]           \n",
      "__________________________________________________________________________________________________\n",
      "conv4_block1_1_conv (Conv2D)    (None, 14, 14, 256)  131328      conv3_block4_out[0][0]           \n",
      "__________________________________________________________________________________________________\n",
      "conv4_block1_1_bn (BatchNormali (None, 14, 14, 256)  1024        conv4_block1_1_conv[0][0]        \n",
      "__________________________________________________________________________________________________\n",
      "conv4_block1_1_relu (Activation (None, 14, 14, 256)  0           conv4_block1_1_bn[0][0]          \n",
      "__________________________________________________________________________________________________\n",
      "conv4_block1_2_conv (Conv2D)    (None, 14, 14, 256)  590080      conv4_block1_1_relu[0][0]        \n",
      "__________________________________________________________________________________________________\n",
      "conv4_block1_2_bn (BatchNormali (None, 14, 14, 256)  1024        conv4_block1_2_conv[0][0]        \n",
      "__________________________________________________________________________________________________\n",
      "conv4_block1_2_relu (Activation (None, 14, 14, 256)  0           conv4_block1_2_bn[0][0]          \n",
      "__________________________________________________________________________________________________\n",
      "conv4_block1_0_conv (Conv2D)    (None, 14, 14, 1024) 525312      conv3_block4_out[0][0]           \n",
      "__________________________________________________________________________________________________\n",
      "conv4_block1_3_conv (Conv2D)    (None, 14, 14, 1024) 263168      conv4_block1_2_relu[0][0]        \n",
      "__________________________________________________________________________________________________\n",
      "conv4_block1_0_bn (BatchNormali (None, 14, 14, 1024) 4096        conv4_block1_0_conv[0][0]        \n",
      "__________________________________________________________________________________________________\n",
      "conv4_block1_3_bn (BatchNormali (None, 14, 14, 1024) 4096        conv4_block1_3_conv[0][0]        \n",
      "__________________________________________________________________________________________________\n",
      "conv4_block1_add (Add)          (None, 14, 14, 1024) 0           conv4_block1_0_bn[0][0]          \n",
      "                                                                 conv4_block1_3_bn[0][0]          \n",
      "__________________________________________________________________________________________________\n",
      "conv4_block1_out (Activation)   (None, 14, 14, 1024) 0           conv4_block1_add[0][0]           \n",
      "__________________________________________________________________________________________________\n",
      "conv4_block2_1_conv (Conv2D)    (None, 14, 14, 256)  262400      conv4_block1_out[0][0]           \n",
      "__________________________________________________________________________________________________\n",
      "conv4_block2_1_bn (BatchNormali (None, 14, 14, 256)  1024        conv4_block2_1_conv[0][0]        \n",
      "__________________________________________________________________________________________________\n",
      "conv4_block2_1_relu (Activation (None, 14, 14, 256)  0           conv4_block2_1_bn[0][0]          \n",
      "__________________________________________________________________________________________________\n",
      "conv4_block2_2_conv (Conv2D)    (None, 14, 14, 256)  590080      conv4_block2_1_relu[0][0]        \n",
      "__________________________________________________________________________________________________\n",
      "conv4_block2_2_bn (BatchNormali (None, 14, 14, 256)  1024        conv4_block2_2_conv[0][0]        \n",
      "__________________________________________________________________________________________________\n",
      "conv4_block2_2_relu (Activation (None, 14, 14, 256)  0           conv4_block2_2_bn[0][0]          \n",
      "__________________________________________________________________________________________________\n",
      "conv4_block2_3_conv (Conv2D)    (None, 14, 14, 1024) 263168      conv4_block2_2_relu[0][0]        \n",
      "__________________________________________________________________________________________________\n",
      "conv4_block2_3_bn (BatchNormali (None, 14, 14, 1024) 4096        conv4_block2_3_conv[0][0]        \n",
      "__________________________________________________________________________________________________\n",
      "conv4_block2_add (Add)          (None, 14, 14, 1024) 0           conv4_block1_out[0][0]           \n",
      "                                                                 conv4_block2_3_bn[0][0]          \n",
      "__________________________________________________________________________________________________\n",
      "conv4_block2_out (Activation)   (None, 14, 14, 1024) 0           conv4_block2_add[0][0]           \n",
      "__________________________________________________________________________________________________\n",
      "conv4_block3_1_conv (Conv2D)    (None, 14, 14, 256)  262400      conv4_block2_out[0][0]           \n",
      "__________________________________________________________________________________________________\n",
      "conv4_block3_1_bn (BatchNormali (None, 14, 14, 256)  1024        conv4_block3_1_conv[0][0]        \n",
      "__________________________________________________________________________________________________\n",
      "conv4_block3_1_relu (Activation (None, 14, 14, 256)  0           conv4_block3_1_bn[0][0]          \n",
      "__________________________________________________________________________________________________\n",
      "conv4_block3_2_conv (Conv2D)    (None, 14, 14, 256)  590080      conv4_block3_1_relu[0][0]        \n",
      "__________________________________________________________________________________________________\n",
      "conv4_block3_2_bn (BatchNormali (None, 14, 14, 256)  1024        conv4_block3_2_conv[0][0]        \n",
      "__________________________________________________________________________________________________\n",
      "conv4_block3_2_relu (Activation (None, 14, 14, 256)  0           conv4_block3_2_bn[0][0]          \n",
      "__________________________________________________________________________________________________\n",
      "conv4_block3_3_conv (Conv2D)    (None, 14, 14, 1024) 263168      conv4_block3_2_relu[0][0]        \n",
      "__________________________________________________________________________________________________\n",
      "conv4_block3_3_bn (BatchNormali (None, 14, 14, 1024) 4096        conv4_block3_3_conv[0][0]        \n",
      "__________________________________________________________________________________________________\n",
      "conv4_block3_add (Add)          (None, 14, 14, 1024) 0           conv4_block2_out[0][0]           \n",
      "                                                                 conv4_block3_3_bn[0][0]          \n",
      "__________________________________________________________________________________________________\n",
      "conv4_block3_out (Activation)   (None, 14, 14, 1024) 0           conv4_block3_add[0][0]           \n",
      "__________________________________________________________________________________________________\n",
      "conv4_block4_1_conv (Conv2D)    (None, 14, 14, 256)  262400      conv4_block3_out[0][0]           \n",
      "__________________________________________________________________________________________________\n",
      "conv4_block4_1_bn (BatchNormali (None, 14, 14, 256)  1024        conv4_block4_1_conv[0][0]        \n",
      "__________________________________________________________________________________________________\n",
      "conv4_block4_1_relu (Activation (None, 14, 14, 256)  0           conv4_block4_1_bn[0][0]          \n",
      "__________________________________________________________________________________________________\n",
      "conv4_block4_2_conv (Conv2D)    (None, 14, 14, 256)  590080      conv4_block4_1_relu[0][0]        \n",
      "__________________________________________________________________________________________________\n",
      "conv4_block4_2_bn (BatchNormali (None, 14, 14, 256)  1024        conv4_block4_2_conv[0][0]        \n",
      "__________________________________________________________________________________________________\n",
      "conv4_block4_2_relu (Activation (None, 14, 14, 256)  0           conv4_block4_2_bn[0][0]          \n",
      "__________________________________________________________________________________________________\n",
      "conv4_block4_3_conv (Conv2D)    (None, 14, 14, 1024) 263168      conv4_block4_2_relu[0][0]        \n",
      "__________________________________________________________________________________________________\n",
      "conv4_block4_3_bn (BatchNormali (None, 14, 14, 1024) 4096        conv4_block4_3_conv[0][0]        \n",
      "__________________________________________________________________________________________________\n",
      "conv4_block4_add (Add)          (None, 14, 14, 1024) 0           conv4_block3_out[0][0]           \n",
      "                                                                 conv4_block4_3_bn[0][0]          \n",
      "__________________________________________________________________________________________________\n",
      "conv4_block4_out (Activation)   (None, 14, 14, 1024) 0           conv4_block4_add[0][0]           \n",
      "__________________________________________________________________________________________________\n",
      "conv4_block5_1_conv (Conv2D)    (None, 14, 14, 256)  262400      conv4_block4_out[0][0]           \n",
      "__________________________________________________________________________________________________\n",
      "conv4_block5_1_bn (BatchNormali (None, 14, 14, 256)  1024        conv4_block5_1_conv[0][0]        \n",
      "__________________________________________________________________________________________________\n",
      "conv4_block5_1_relu (Activation (None, 14, 14, 256)  0           conv4_block5_1_bn[0][0]          \n",
      "__________________________________________________________________________________________________\n",
      "conv4_block5_2_conv (Conv2D)    (None, 14, 14, 256)  590080      conv4_block5_1_relu[0][0]        \n",
      "__________________________________________________________________________________________________\n",
      "conv4_block5_2_bn (BatchNormali (None, 14, 14, 256)  1024        conv4_block5_2_conv[0][0]        \n",
      "__________________________________________________________________________________________________\n",
      "conv4_block5_2_relu (Activation (None, 14, 14, 256)  0           conv4_block5_2_bn[0][0]          \n",
      "__________________________________________________________________________________________________\n",
      "conv4_block5_3_conv (Conv2D)    (None, 14, 14, 1024) 263168      conv4_block5_2_relu[0][0]        \n",
      "__________________________________________________________________________________________________\n",
      "conv4_block5_3_bn (BatchNormali (None, 14, 14, 1024) 4096        conv4_block5_3_conv[0][0]        \n",
      "__________________________________________________________________________________________________\n",
      "conv4_block5_add (Add)          (None, 14, 14, 1024) 0           conv4_block4_out[0][0]           \n",
      "                                                                 conv4_block5_3_bn[0][0]          \n",
      "__________________________________________________________________________________________________\n",
      "conv4_block5_out (Activation)   (None, 14, 14, 1024) 0           conv4_block5_add[0][0]           \n",
      "__________________________________________________________________________________________________\n",
      "conv4_block6_1_conv (Conv2D)    (None, 14, 14, 256)  262400      conv4_block5_out[0][0]           \n",
      "__________________________________________________________________________________________________\n",
      "conv4_block6_1_bn (BatchNormali (None, 14, 14, 256)  1024        conv4_block6_1_conv[0][0]        \n",
      "__________________________________________________________________________________________________\n",
      "conv4_block6_1_relu (Activation (None, 14, 14, 256)  0           conv4_block6_1_bn[0][0]          \n",
      "__________________________________________________________________________________________________\n",
      "conv4_block6_2_conv (Conv2D)    (None, 14, 14, 256)  590080      conv4_block6_1_relu[0][0]        \n",
      "__________________________________________________________________________________________________\n",
      "conv4_block6_2_bn (BatchNormali (None, 14, 14, 256)  1024        conv4_block6_2_conv[0][0]        \n",
      "__________________________________________________________________________________________________\n",
      "conv4_block6_2_relu (Activation (None, 14, 14, 256)  0           conv4_block6_2_bn[0][0]          \n",
      "__________________________________________________________________________________________________\n",
      "conv4_block6_3_conv (Conv2D)    (None, 14, 14, 1024) 263168      conv4_block6_2_relu[0][0]        \n",
      "__________________________________________________________________________________________________\n",
      "conv4_block6_3_bn (BatchNormali (None, 14, 14, 1024) 4096        conv4_block6_3_conv[0][0]        \n",
      "__________________________________________________________________________________________________\n",
      "conv4_block6_add (Add)          (None, 14, 14, 1024) 0           conv4_block5_out[0][0]           \n",
      "                                                                 conv4_block6_3_bn[0][0]          \n",
      "__________________________________________________________________________________________________\n",
      "conv4_block6_out (Activation)   (None, 14, 14, 1024) 0           conv4_block6_add[0][0]           \n",
      "__________________________________________________________________________________________________\n",
      "conv5_block1_1_conv (Conv2D)    (None, 7, 7, 512)    524800      conv4_block6_out[0][0]           \n",
      "__________________________________________________________________________________________________\n",
      "conv5_block1_1_bn (BatchNormali (None, 7, 7, 512)    2048        conv5_block1_1_conv[0][0]        \n",
      "__________________________________________________________________________________________________\n",
      "conv5_block1_1_relu (Activation (None, 7, 7, 512)    0           conv5_block1_1_bn[0][0]          \n",
      "__________________________________________________________________________________________________\n",
      "conv5_block1_2_conv (Conv2D)    (None, 7, 7, 512)    2359808     conv5_block1_1_relu[0][0]        \n",
      "__________________________________________________________________________________________________\n",
      "conv5_block1_2_bn (BatchNormali (None, 7, 7, 512)    2048        conv5_block1_2_conv[0][0]        \n",
      "__________________________________________________________________________________________________\n",
      "conv5_block1_2_relu (Activation (None, 7, 7, 512)    0           conv5_block1_2_bn[0][0]          \n",
      "__________________________________________________________________________________________________\n",
      "conv5_block1_0_conv (Conv2D)    (None, 7, 7, 2048)   2099200     conv4_block6_out[0][0]           \n",
      "__________________________________________________________________________________________________\n",
      "conv5_block1_3_conv (Conv2D)    (None, 7, 7, 2048)   1050624     conv5_block1_2_relu[0][0]        \n",
      "__________________________________________________________________________________________________\n",
      "conv5_block1_0_bn (BatchNormali (None, 7, 7, 2048)   8192        conv5_block1_0_conv[0][0]        \n",
      "__________________________________________________________________________________________________\n",
      "conv5_block1_3_bn (BatchNormali (None, 7, 7, 2048)   8192        conv5_block1_3_conv[0][0]        \n",
      "__________________________________________________________________________________________________\n",
      "conv5_block1_add (Add)          (None, 7, 7, 2048)   0           conv5_block1_0_bn[0][0]          \n",
      "                                                                 conv5_block1_3_bn[0][0]          \n",
      "__________________________________________________________________________________________________\n",
      "conv5_block1_out (Activation)   (None, 7, 7, 2048)   0           conv5_block1_add[0][0]           \n",
      "__________________________________________________________________________________________________\n",
      "conv5_block2_1_conv (Conv2D)    (None, 7, 7, 512)    1049088     conv5_block1_out[0][0]           \n",
      "__________________________________________________________________________________________________\n",
      "conv5_block2_1_bn (BatchNormali (None, 7, 7, 512)    2048        conv5_block2_1_conv[0][0]        \n",
      "__________________________________________________________________________________________________\n",
      "conv5_block2_1_relu (Activation (None, 7, 7, 512)    0           conv5_block2_1_bn[0][0]          \n",
      "__________________________________________________________________________________________________\n",
      "conv5_block2_2_conv (Conv2D)    (None, 7, 7, 512)    2359808     conv5_block2_1_relu[0][0]        \n",
      "__________________________________________________________________________________________________\n",
      "conv5_block2_2_bn (BatchNormali (None, 7, 7, 512)    2048        conv5_block2_2_conv[0][0]        \n",
      "__________________________________________________________________________________________________\n",
      "conv5_block2_2_relu (Activation (None, 7, 7, 512)    0           conv5_block2_2_bn[0][0]          \n",
      "__________________________________________________________________________________________________\n",
      "conv5_block2_3_conv (Conv2D)    (None, 7, 7, 2048)   1050624     conv5_block2_2_relu[0][0]        \n",
      "__________________________________________________________________________________________________\n",
      "conv5_block2_3_bn (BatchNormali (None, 7, 7, 2048)   8192        conv5_block2_3_conv[0][0]        \n",
      "__________________________________________________________________________________________________\n",
      "conv5_block2_add (Add)          (None, 7, 7, 2048)   0           conv5_block1_out[0][0]           \n",
      "                                                                 conv5_block2_3_bn[0][0]          \n",
      "__________________________________________________________________________________________________\n",
      "conv5_block2_out (Activation)   (None, 7, 7, 2048)   0           conv5_block2_add[0][0]           \n",
      "__________________________________________________________________________________________________\n",
      "conv5_block3_1_conv (Conv2D)    (None, 7, 7, 512)    1049088     conv5_block2_out[0][0]           \n",
      "__________________________________________________________________________________________________\n",
      "conv5_block3_1_bn (BatchNormali (None, 7, 7, 512)    2048        conv5_block3_1_conv[0][0]        \n",
      "__________________________________________________________________________________________________\n",
      "conv5_block3_1_relu (Activation (None, 7, 7, 512)    0           conv5_block3_1_bn[0][0]          \n",
      "__________________________________________________________________________________________________\n",
      "conv5_block3_2_conv (Conv2D)    (None, 7, 7, 512)    2359808     conv5_block3_1_relu[0][0]        \n",
      "__________________________________________________________________________________________________\n",
      "conv5_block3_2_bn (BatchNormali (None, 7, 7, 512)    2048        conv5_block3_2_conv[0][0]        \n",
      "__________________________________________________________________________________________________\n",
      "conv5_block3_2_relu (Activation (None, 7, 7, 512)    0           conv5_block3_2_bn[0][0]          \n",
      "__________________________________________________________________________________________________\n",
      "conv5_block3_3_conv (Conv2D)    (None, 7, 7, 2048)   1050624     conv5_block3_2_relu[0][0]        \n",
      "__________________________________________________________________________________________________\n",
      "conv5_block3_3_bn (BatchNormali (None, 7, 7, 2048)   8192        conv5_block3_3_conv[0][0]        \n",
      "__________________________________________________________________________________________________\n",
      "conv5_block3_add (Add)          (None, 7, 7, 2048)   0           conv5_block2_out[0][0]           \n",
      "                                                                 conv5_block3_3_bn[0][0]          \n",
      "__________________________________________________________________________________________________\n",
      "conv5_block3_out (Activation)   (None, 7, 7, 2048)   0           conv5_block3_add[0][0]           \n",
      "__________________________________________________________________________________________________\n",
      "avg_pool (GlobalAveragePooling2 (None, 2048)         0           conv5_block3_out[0][0]           \n",
      "==================================================================================================\n",
      "Total params: 23,587,712\n",
      "Trainable params: 23,534,592\n",
      "Non-trainable params: 53,120\n",
      "__________________________________________________________________________________________________\n"
     ]
    }
   ],
   "source": [
    "input_shape = (224,224,3) #Pre-trained ResNet50 Model Implementation\n",
    "inputs = Input(input_shape)\n",
    "resnet50 = ResNet50(include_top=False, weights=\"imagenet\", input_tensor=inputs, pooling=\"avg\")\n",
    "resnet50.summary()"
   ]
  },
  {
   "cell_type": "code",
   "execution_count": null,
   "metadata": {
    "id": "QhOE20t55f-V"
   },
   "outputs": [],
   "source": [
    "X = resnet50.output \n",
    "X = Dense(14, activation=\"sigmoid\", name=\"predictions\")(X)\n",
    "model = Model(inputs=resnet50.input, outputs=X)\n"
   ]
  },
  {
   "cell_type": "code",
   "execution_count": null,
   "metadata": {
    "colab": {
     "base_uri": "https://localhost:8080/"
    },
    "id": "22aCE5sr5o_v",
    "outputId": "fcf952a3-2218-414f-c182-2b6f14d51c8d"
   },
   "outputs": [
    {
     "name": "stdout",
     "output_type": "stream",
     "text": [
      "Model: \"model\"\n",
      "__________________________________________________________________________________________________\n",
      "Layer (type)                    Output Shape         Param #     Connected to                     \n",
      "==================================================================================================\n",
      "input_1 (InputLayer)            [(None, 224, 224, 3) 0                                            \n",
      "__________________________________________________________________________________________________\n",
      "conv1_pad (ZeroPadding2D)       (None, 230, 230, 3)  0           input_1[0][0]                    \n",
      "__________________________________________________________________________________________________\n",
      "conv1_conv (Conv2D)             (None, 112, 112, 64) 9472        conv1_pad[0][0]                  \n",
      "__________________________________________________________________________________________________\n",
      "conv1_bn (BatchNormalization)   (None, 112, 112, 64) 256         conv1_conv[0][0]                 \n",
      "__________________________________________________________________________________________________\n",
      "conv1_relu (Activation)         (None, 112, 112, 64) 0           conv1_bn[0][0]                   \n",
      "__________________________________________________________________________________________________\n",
      "pool1_pad (ZeroPadding2D)       (None, 114, 114, 64) 0           conv1_relu[0][0]                 \n",
      "__________________________________________________________________________________________________\n",
      "pool1_pool (MaxPooling2D)       (None, 56, 56, 64)   0           pool1_pad[0][0]                  \n",
      "__________________________________________________________________________________________________\n",
      "conv2_block1_1_conv (Conv2D)    (None, 56, 56, 64)   4160        pool1_pool[0][0]                 \n",
      "__________________________________________________________________________________________________\n",
      "conv2_block1_1_bn (BatchNormali (None, 56, 56, 64)   256         conv2_block1_1_conv[0][0]        \n",
      "__________________________________________________________________________________________________\n",
      "conv2_block1_1_relu (Activation (None, 56, 56, 64)   0           conv2_block1_1_bn[0][0]          \n",
      "__________________________________________________________________________________________________\n",
      "conv2_block1_2_conv (Conv2D)    (None, 56, 56, 64)   36928       conv2_block1_1_relu[0][0]        \n",
      "__________________________________________________________________________________________________\n",
      "conv2_block1_2_bn (BatchNormali (None, 56, 56, 64)   256         conv2_block1_2_conv[0][0]        \n",
      "__________________________________________________________________________________________________\n",
      "conv2_block1_2_relu (Activation (None, 56, 56, 64)   0           conv2_block1_2_bn[0][0]          \n",
      "__________________________________________________________________________________________________\n",
      "conv2_block1_0_conv (Conv2D)    (None, 56, 56, 256)  16640       pool1_pool[0][0]                 \n",
      "__________________________________________________________________________________________________\n",
      "conv2_block1_3_conv (Conv2D)    (None, 56, 56, 256)  16640       conv2_block1_2_relu[0][0]        \n",
      "__________________________________________________________________________________________________\n",
      "conv2_block1_0_bn (BatchNormali (None, 56, 56, 256)  1024        conv2_block1_0_conv[0][0]        \n",
      "__________________________________________________________________________________________________\n",
      "conv2_block1_3_bn (BatchNormali (None, 56, 56, 256)  1024        conv2_block1_3_conv[0][0]        \n",
      "__________________________________________________________________________________________________\n",
      "conv2_block1_add (Add)          (None, 56, 56, 256)  0           conv2_block1_0_bn[0][0]          \n",
      "                                                                 conv2_block1_3_bn[0][0]          \n",
      "__________________________________________________________________________________________________\n",
      "conv2_block1_out (Activation)   (None, 56, 56, 256)  0           conv2_block1_add[0][0]           \n",
      "__________________________________________________________________________________________________\n",
      "conv2_block2_1_conv (Conv2D)    (None, 56, 56, 64)   16448       conv2_block1_out[0][0]           \n",
      "__________________________________________________________________________________________________\n",
      "conv2_block2_1_bn (BatchNormali (None, 56, 56, 64)   256         conv2_block2_1_conv[0][0]        \n",
      "__________________________________________________________________________________________________\n",
      "conv2_block2_1_relu (Activation (None, 56, 56, 64)   0           conv2_block2_1_bn[0][0]          \n",
      "__________________________________________________________________________________________________\n",
      "conv2_block2_2_conv (Conv2D)    (None, 56, 56, 64)   36928       conv2_block2_1_relu[0][0]        \n",
      "__________________________________________________________________________________________________\n",
      "conv2_block2_2_bn (BatchNormali (None, 56, 56, 64)   256         conv2_block2_2_conv[0][0]        \n",
      "__________________________________________________________________________________________________\n",
      "conv2_block2_2_relu (Activation (None, 56, 56, 64)   0           conv2_block2_2_bn[0][0]          \n",
      "__________________________________________________________________________________________________\n",
      "conv2_block2_3_conv (Conv2D)    (None, 56, 56, 256)  16640       conv2_block2_2_relu[0][0]        \n",
      "__________________________________________________________________________________________________\n",
      "conv2_block2_3_bn (BatchNormali (None, 56, 56, 256)  1024        conv2_block2_3_conv[0][0]        \n",
      "__________________________________________________________________________________________________\n",
      "conv2_block2_add (Add)          (None, 56, 56, 256)  0           conv2_block1_out[0][0]           \n",
      "                                                                 conv2_block2_3_bn[0][0]          \n",
      "__________________________________________________________________________________________________\n",
      "conv2_block2_out (Activation)   (None, 56, 56, 256)  0           conv2_block2_add[0][0]           \n",
      "__________________________________________________________________________________________________\n",
      "conv2_block3_1_conv (Conv2D)    (None, 56, 56, 64)   16448       conv2_block2_out[0][0]           \n",
      "__________________________________________________________________________________________________\n",
      "conv2_block3_1_bn (BatchNormali (None, 56, 56, 64)   256         conv2_block3_1_conv[0][0]        \n",
      "__________________________________________________________________________________________________\n",
      "conv2_block3_1_relu (Activation (None, 56, 56, 64)   0           conv2_block3_1_bn[0][0]          \n",
      "__________________________________________________________________________________________________\n",
      "conv2_block3_2_conv (Conv2D)    (None, 56, 56, 64)   36928       conv2_block3_1_relu[0][0]        \n",
      "__________________________________________________________________________________________________\n",
      "conv2_block3_2_bn (BatchNormali (None, 56, 56, 64)   256         conv2_block3_2_conv[0][0]        \n",
      "__________________________________________________________________________________________________\n",
      "conv2_block3_2_relu (Activation (None, 56, 56, 64)   0           conv2_block3_2_bn[0][0]          \n",
      "__________________________________________________________________________________________________\n",
      "conv2_block3_3_conv (Conv2D)    (None, 56, 56, 256)  16640       conv2_block3_2_relu[0][0]        \n",
      "__________________________________________________________________________________________________\n",
      "conv2_block3_3_bn (BatchNormali (None, 56, 56, 256)  1024        conv2_block3_3_conv[0][0]        \n",
      "__________________________________________________________________________________________________\n",
      "conv2_block3_add (Add)          (None, 56, 56, 256)  0           conv2_block2_out[0][0]           \n",
      "                                                                 conv2_block3_3_bn[0][0]          \n",
      "__________________________________________________________________________________________________\n",
      "conv2_block3_out (Activation)   (None, 56, 56, 256)  0           conv2_block3_add[0][0]           \n",
      "__________________________________________________________________________________________________\n",
      "conv3_block1_1_conv (Conv2D)    (None, 28, 28, 128)  32896       conv2_block3_out[0][0]           \n",
      "__________________________________________________________________________________________________\n",
      "conv3_block1_1_bn (BatchNormali (None, 28, 28, 128)  512         conv3_block1_1_conv[0][0]        \n",
      "__________________________________________________________________________________________________\n",
      "conv3_block1_1_relu (Activation (None, 28, 28, 128)  0           conv3_block1_1_bn[0][0]          \n",
      "__________________________________________________________________________________________________\n",
      "conv3_block1_2_conv (Conv2D)    (None, 28, 28, 128)  147584      conv3_block1_1_relu[0][0]        \n",
      "__________________________________________________________________________________________________\n",
      "conv3_block1_2_bn (BatchNormali (None, 28, 28, 128)  512         conv3_block1_2_conv[0][0]        \n",
      "__________________________________________________________________________________________________\n",
      "conv3_block1_2_relu (Activation (None, 28, 28, 128)  0           conv3_block1_2_bn[0][0]          \n",
      "__________________________________________________________________________________________________\n",
      "conv3_block1_0_conv (Conv2D)    (None, 28, 28, 512)  131584      conv2_block3_out[0][0]           \n",
      "__________________________________________________________________________________________________\n",
      "conv3_block1_3_conv (Conv2D)    (None, 28, 28, 512)  66048       conv3_block1_2_relu[0][0]        \n",
      "__________________________________________________________________________________________________\n",
      "conv3_block1_0_bn (BatchNormali (None, 28, 28, 512)  2048        conv3_block1_0_conv[0][0]        \n",
      "__________________________________________________________________________________________________\n",
      "conv3_block1_3_bn (BatchNormali (None, 28, 28, 512)  2048        conv3_block1_3_conv[0][0]        \n",
      "__________________________________________________________________________________________________\n",
      "conv3_block1_add (Add)          (None, 28, 28, 512)  0           conv3_block1_0_bn[0][0]          \n",
      "                                                                 conv3_block1_3_bn[0][0]          \n",
      "__________________________________________________________________________________________________\n",
      "conv3_block1_out (Activation)   (None, 28, 28, 512)  0           conv3_block1_add[0][0]           \n",
      "__________________________________________________________________________________________________\n",
      "conv3_block2_1_conv (Conv2D)    (None, 28, 28, 128)  65664       conv3_block1_out[0][0]           \n",
      "__________________________________________________________________________________________________\n",
      "conv3_block2_1_bn (BatchNormali (None, 28, 28, 128)  512         conv3_block2_1_conv[0][0]        \n",
      "__________________________________________________________________________________________________\n",
      "conv3_block2_1_relu (Activation (None, 28, 28, 128)  0           conv3_block2_1_bn[0][0]          \n",
      "__________________________________________________________________________________________________\n",
      "conv3_block2_2_conv (Conv2D)    (None, 28, 28, 128)  147584      conv3_block2_1_relu[0][0]        \n",
      "__________________________________________________________________________________________________\n",
      "conv3_block2_2_bn (BatchNormali (None, 28, 28, 128)  512         conv3_block2_2_conv[0][0]        \n",
      "__________________________________________________________________________________________________\n",
      "conv3_block2_2_relu (Activation (None, 28, 28, 128)  0           conv3_block2_2_bn[0][0]          \n",
      "__________________________________________________________________________________________________\n",
      "conv3_block2_3_conv (Conv2D)    (None, 28, 28, 512)  66048       conv3_block2_2_relu[0][0]        \n",
      "__________________________________________________________________________________________________\n",
      "conv3_block2_3_bn (BatchNormali (None, 28, 28, 512)  2048        conv3_block2_3_conv[0][0]        \n",
      "__________________________________________________________________________________________________\n",
      "conv3_block2_add (Add)          (None, 28, 28, 512)  0           conv3_block1_out[0][0]           \n",
      "                                                                 conv3_block2_3_bn[0][0]          \n",
      "__________________________________________________________________________________________________\n",
      "conv3_block2_out (Activation)   (None, 28, 28, 512)  0           conv3_block2_add[0][0]           \n",
      "__________________________________________________________________________________________________\n",
      "conv3_block3_1_conv (Conv2D)    (None, 28, 28, 128)  65664       conv3_block2_out[0][0]           \n",
      "__________________________________________________________________________________________________\n",
      "conv3_block3_1_bn (BatchNormali (None, 28, 28, 128)  512         conv3_block3_1_conv[0][0]        \n",
      "__________________________________________________________________________________________________\n",
      "conv3_block3_1_relu (Activation (None, 28, 28, 128)  0           conv3_block3_1_bn[0][0]          \n",
      "__________________________________________________________________________________________________\n",
      "conv3_block3_2_conv (Conv2D)    (None, 28, 28, 128)  147584      conv3_block3_1_relu[0][0]        \n",
      "__________________________________________________________________________________________________\n",
      "conv3_block3_2_bn (BatchNormali (None, 28, 28, 128)  512         conv3_block3_2_conv[0][0]        \n",
      "__________________________________________________________________________________________________\n",
      "conv3_block3_2_relu (Activation (None, 28, 28, 128)  0           conv3_block3_2_bn[0][0]          \n",
      "__________________________________________________________________________________________________\n",
      "conv3_block3_3_conv (Conv2D)    (None, 28, 28, 512)  66048       conv3_block3_2_relu[0][0]        \n",
      "__________________________________________________________________________________________________\n",
      "conv3_block3_3_bn (BatchNormali (None, 28, 28, 512)  2048        conv3_block3_3_conv[0][0]        \n",
      "__________________________________________________________________________________________________\n",
      "conv3_block3_add (Add)          (None, 28, 28, 512)  0           conv3_block2_out[0][0]           \n",
      "                                                                 conv3_block3_3_bn[0][0]          \n",
      "__________________________________________________________________________________________________\n",
      "conv3_block3_out (Activation)   (None, 28, 28, 512)  0           conv3_block3_add[0][0]           \n",
      "__________________________________________________________________________________________________\n",
      "conv3_block4_1_conv (Conv2D)    (None, 28, 28, 128)  65664       conv3_block3_out[0][0]           \n",
      "__________________________________________________________________________________________________\n",
      "conv3_block4_1_bn (BatchNormali (None, 28, 28, 128)  512         conv3_block4_1_conv[0][0]        \n",
      "__________________________________________________________________________________________________\n",
      "conv3_block4_1_relu (Activation (None, 28, 28, 128)  0           conv3_block4_1_bn[0][0]          \n",
      "__________________________________________________________________________________________________\n",
      "conv3_block4_2_conv (Conv2D)    (None, 28, 28, 128)  147584      conv3_block4_1_relu[0][0]        \n",
      "__________________________________________________________________________________________________\n",
      "conv3_block4_2_bn (BatchNormali (None, 28, 28, 128)  512         conv3_block4_2_conv[0][0]        \n",
      "__________________________________________________________________________________________________\n",
      "conv3_block4_2_relu (Activation (None, 28, 28, 128)  0           conv3_block4_2_bn[0][0]          \n",
      "__________________________________________________________________________________________________\n",
      "conv3_block4_3_conv (Conv2D)    (None, 28, 28, 512)  66048       conv3_block4_2_relu[0][0]        \n",
      "__________________________________________________________________________________________________\n",
      "conv3_block4_3_bn (BatchNormali (None, 28, 28, 512)  2048        conv3_block4_3_conv[0][0]        \n",
      "__________________________________________________________________________________________________\n",
      "conv3_block4_add (Add)          (None, 28, 28, 512)  0           conv3_block3_out[0][0]           \n",
      "                                                                 conv3_block4_3_bn[0][0]          \n",
      "__________________________________________________________________________________________________\n",
      "conv3_block4_out (Activation)   (None, 28, 28, 512)  0           conv3_block4_add[0][0]           \n",
      "__________________________________________________________________________________________________\n",
      "conv4_block1_1_conv (Conv2D)    (None, 14, 14, 256)  131328      conv3_block4_out[0][0]           \n",
      "__________________________________________________________________________________________________\n",
      "conv4_block1_1_bn (BatchNormali (None, 14, 14, 256)  1024        conv4_block1_1_conv[0][0]        \n",
      "__________________________________________________________________________________________________\n",
      "conv4_block1_1_relu (Activation (None, 14, 14, 256)  0           conv4_block1_1_bn[0][0]          \n",
      "__________________________________________________________________________________________________\n",
      "conv4_block1_2_conv (Conv2D)    (None, 14, 14, 256)  590080      conv4_block1_1_relu[0][0]        \n",
      "__________________________________________________________________________________________________\n",
      "conv4_block1_2_bn (BatchNormali (None, 14, 14, 256)  1024        conv4_block1_2_conv[0][0]        \n",
      "__________________________________________________________________________________________________\n",
      "conv4_block1_2_relu (Activation (None, 14, 14, 256)  0           conv4_block1_2_bn[0][0]          \n",
      "__________________________________________________________________________________________________\n",
      "conv4_block1_0_conv (Conv2D)    (None, 14, 14, 1024) 525312      conv3_block4_out[0][0]           \n",
      "__________________________________________________________________________________________________\n",
      "conv4_block1_3_conv (Conv2D)    (None, 14, 14, 1024) 263168      conv4_block1_2_relu[0][0]        \n",
      "__________________________________________________________________________________________________\n",
      "conv4_block1_0_bn (BatchNormali (None, 14, 14, 1024) 4096        conv4_block1_0_conv[0][0]        \n",
      "__________________________________________________________________________________________________\n",
      "conv4_block1_3_bn (BatchNormali (None, 14, 14, 1024) 4096        conv4_block1_3_conv[0][0]        \n",
      "__________________________________________________________________________________________________\n",
      "conv4_block1_add (Add)          (None, 14, 14, 1024) 0           conv4_block1_0_bn[0][0]          \n",
      "                                                                 conv4_block1_3_bn[0][0]          \n",
      "__________________________________________________________________________________________________\n",
      "conv4_block1_out (Activation)   (None, 14, 14, 1024) 0           conv4_block1_add[0][0]           \n",
      "__________________________________________________________________________________________________\n",
      "conv4_block2_1_conv (Conv2D)    (None, 14, 14, 256)  262400      conv4_block1_out[0][0]           \n",
      "__________________________________________________________________________________________________\n",
      "conv4_block2_1_bn (BatchNormali (None, 14, 14, 256)  1024        conv4_block2_1_conv[0][0]        \n",
      "__________________________________________________________________________________________________\n",
      "conv4_block2_1_relu (Activation (None, 14, 14, 256)  0           conv4_block2_1_bn[0][0]          \n",
      "__________________________________________________________________________________________________\n",
      "conv4_block2_2_conv (Conv2D)    (None, 14, 14, 256)  590080      conv4_block2_1_relu[0][0]        \n",
      "__________________________________________________________________________________________________\n",
      "conv4_block2_2_bn (BatchNormali (None, 14, 14, 256)  1024        conv4_block2_2_conv[0][0]        \n",
      "__________________________________________________________________________________________________\n",
      "conv4_block2_2_relu (Activation (None, 14, 14, 256)  0           conv4_block2_2_bn[0][0]          \n",
      "__________________________________________________________________________________________________\n",
      "conv4_block2_3_conv (Conv2D)    (None, 14, 14, 1024) 263168      conv4_block2_2_relu[0][0]        \n",
      "__________________________________________________________________________________________________\n",
      "conv4_block2_3_bn (BatchNormali (None, 14, 14, 1024) 4096        conv4_block2_3_conv[0][0]        \n",
      "__________________________________________________________________________________________________\n",
      "conv4_block2_add (Add)          (None, 14, 14, 1024) 0           conv4_block1_out[0][0]           \n",
      "                                                                 conv4_block2_3_bn[0][0]          \n",
      "__________________________________________________________________________________________________\n",
      "conv4_block2_out (Activation)   (None, 14, 14, 1024) 0           conv4_block2_add[0][0]           \n",
      "__________________________________________________________________________________________________\n",
      "conv4_block3_1_conv (Conv2D)    (None, 14, 14, 256)  262400      conv4_block2_out[0][0]           \n",
      "__________________________________________________________________________________________________\n",
      "conv4_block3_1_bn (BatchNormali (None, 14, 14, 256)  1024        conv4_block3_1_conv[0][0]        \n",
      "__________________________________________________________________________________________________\n",
      "conv4_block3_1_relu (Activation (None, 14, 14, 256)  0           conv4_block3_1_bn[0][0]          \n",
      "__________________________________________________________________________________________________\n",
      "conv4_block3_2_conv (Conv2D)    (None, 14, 14, 256)  590080      conv4_block3_1_relu[0][0]        \n",
      "__________________________________________________________________________________________________\n",
      "conv4_block3_2_bn (BatchNormali (None, 14, 14, 256)  1024        conv4_block3_2_conv[0][0]        \n",
      "__________________________________________________________________________________________________\n",
      "conv4_block3_2_relu (Activation (None, 14, 14, 256)  0           conv4_block3_2_bn[0][0]          \n",
      "__________________________________________________________________________________________________\n",
      "conv4_block3_3_conv (Conv2D)    (None, 14, 14, 1024) 263168      conv4_block3_2_relu[0][0]        \n",
      "__________________________________________________________________________________________________\n",
      "conv4_block3_3_bn (BatchNormali (None, 14, 14, 1024) 4096        conv4_block3_3_conv[0][0]        \n",
      "__________________________________________________________________________________________________\n",
      "conv4_block3_add (Add)          (None, 14, 14, 1024) 0           conv4_block2_out[0][0]           \n",
      "                                                                 conv4_block3_3_bn[0][0]          \n",
      "__________________________________________________________________________________________________\n",
      "conv4_block3_out (Activation)   (None, 14, 14, 1024) 0           conv4_block3_add[0][0]           \n",
      "__________________________________________________________________________________________________\n",
      "conv4_block4_1_conv (Conv2D)    (None, 14, 14, 256)  262400      conv4_block3_out[0][0]           \n",
      "__________________________________________________________________________________________________\n",
      "conv4_block4_1_bn (BatchNormali (None, 14, 14, 256)  1024        conv4_block4_1_conv[0][0]        \n",
      "__________________________________________________________________________________________________\n",
      "conv4_block4_1_relu (Activation (None, 14, 14, 256)  0           conv4_block4_1_bn[0][0]          \n",
      "__________________________________________________________________________________________________\n",
      "conv4_block4_2_conv (Conv2D)    (None, 14, 14, 256)  590080      conv4_block4_1_relu[0][0]        \n",
      "__________________________________________________________________________________________________\n",
      "conv4_block4_2_bn (BatchNormali (None, 14, 14, 256)  1024        conv4_block4_2_conv[0][0]        \n",
      "__________________________________________________________________________________________________\n",
      "conv4_block4_2_relu (Activation (None, 14, 14, 256)  0           conv4_block4_2_bn[0][0]          \n",
      "__________________________________________________________________________________________________\n",
      "conv4_block4_3_conv (Conv2D)    (None, 14, 14, 1024) 263168      conv4_block4_2_relu[0][0]        \n",
      "__________________________________________________________________________________________________\n",
      "conv4_block4_3_bn (BatchNormali (None, 14, 14, 1024) 4096        conv4_block4_3_conv[0][0]        \n",
      "__________________________________________________________________________________________________\n",
      "conv4_block4_add (Add)          (None, 14, 14, 1024) 0           conv4_block3_out[0][0]           \n",
      "                                                                 conv4_block4_3_bn[0][0]          \n",
      "__________________________________________________________________________________________________\n",
      "conv4_block4_out (Activation)   (None, 14, 14, 1024) 0           conv4_block4_add[0][0]           \n",
      "__________________________________________________________________________________________________\n",
      "conv4_block5_1_conv (Conv2D)    (None, 14, 14, 256)  262400      conv4_block4_out[0][0]           \n",
      "__________________________________________________________________________________________________\n",
      "conv4_block5_1_bn (BatchNormali (None, 14, 14, 256)  1024        conv4_block5_1_conv[0][0]        \n",
      "__________________________________________________________________________________________________\n",
      "conv4_block5_1_relu (Activation (None, 14, 14, 256)  0           conv4_block5_1_bn[0][0]          \n",
      "__________________________________________________________________________________________________\n",
      "conv4_block5_2_conv (Conv2D)    (None, 14, 14, 256)  590080      conv4_block5_1_relu[0][0]        \n",
      "__________________________________________________________________________________________________\n",
      "conv4_block5_2_bn (BatchNormali (None, 14, 14, 256)  1024        conv4_block5_2_conv[0][0]        \n",
      "__________________________________________________________________________________________________\n",
      "conv4_block5_2_relu (Activation (None, 14, 14, 256)  0           conv4_block5_2_bn[0][0]          \n",
      "__________________________________________________________________________________________________\n",
      "conv4_block5_3_conv (Conv2D)    (None, 14, 14, 1024) 263168      conv4_block5_2_relu[0][0]        \n",
      "__________________________________________________________________________________________________\n",
      "conv4_block5_3_bn (BatchNormali (None, 14, 14, 1024) 4096        conv4_block5_3_conv[0][0]        \n",
      "__________________________________________________________________________________________________\n",
      "conv4_block5_add (Add)          (None, 14, 14, 1024) 0           conv4_block4_out[0][0]           \n",
      "                                                                 conv4_block5_3_bn[0][0]          \n",
      "__________________________________________________________________________________________________\n",
      "conv4_block5_out (Activation)   (None, 14, 14, 1024) 0           conv4_block5_add[0][0]           \n",
      "__________________________________________________________________________________________________\n",
      "conv4_block6_1_conv (Conv2D)    (None, 14, 14, 256)  262400      conv4_block5_out[0][0]           \n",
      "__________________________________________________________________________________________________\n",
      "conv4_block6_1_bn (BatchNormali (None, 14, 14, 256)  1024        conv4_block6_1_conv[0][0]        \n",
      "__________________________________________________________________________________________________\n",
      "conv4_block6_1_relu (Activation (None, 14, 14, 256)  0           conv4_block6_1_bn[0][0]          \n",
      "__________________________________________________________________________________________________\n",
      "conv4_block6_2_conv (Conv2D)    (None, 14, 14, 256)  590080      conv4_block6_1_relu[0][0]        \n",
      "__________________________________________________________________________________________________\n",
      "conv4_block6_2_bn (BatchNormali (None, 14, 14, 256)  1024        conv4_block6_2_conv[0][0]        \n",
      "__________________________________________________________________________________________________\n",
      "conv4_block6_2_relu (Activation (None, 14, 14, 256)  0           conv4_block6_2_bn[0][0]          \n",
      "__________________________________________________________________________________________________\n",
      "conv4_block6_3_conv (Conv2D)    (None, 14, 14, 1024) 263168      conv4_block6_2_relu[0][0]        \n",
      "__________________________________________________________________________________________________\n",
      "conv4_block6_3_bn (BatchNormali (None, 14, 14, 1024) 4096        conv4_block6_3_conv[0][0]        \n",
      "__________________________________________________________________________________________________\n",
      "conv4_block6_add (Add)          (None, 14, 14, 1024) 0           conv4_block5_out[0][0]           \n",
      "                                                                 conv4_block6_3_bn[0][0]          \n",
      "__________________________________________________________________________________________________\n",
      "conv4_block6_out (Activation)   (None, 14, 14, 1024) 0           conv4_block6_add[0][0]           \n",
      "__________________________________________________________________________________________________\n",
      "conv5_block1_1_conv (Conv2D)    (None, 7, 7, 512)    524800      conv4_block6_out[0][0]           \n",
      "__________________________________________________________________________________________________\n",
      "conv5_block1_1_bn (BatchNormali (None, 7, 7, 512)    2048        conv5_block1_1_conv[0][0]        \n",
      "__________________________________________________________________________________________________\n",
      "conv5_block1_1_relu (Activation (None, 7, 7, 512)    0           conv5_block1_1_bn[0][0]          \n",
      "__________________________________________________________________________________________________\n",
      "conv5_block1_2_conv (Conv2D)    (None, 7, 7, 512)    2359808     conv5_block1_1_relu[0][0]        \n",
      "__________________________________________________________________________________________________\n",
      "conv5_block1_2_bn (BatchNormali (None, 7, 7, 512)    2048        conv5_block1_2_conv[0][0]        \n",
      "__________________________________________________________________________________________________\n",
      "conv5_block1_2_relu (Activation (None, 7, 7, 512)    0           conv5_block1_2_bn[0][0]          \n",
      "__________________________________________________________________________________________________\n",
      "conv5_block1_0_conv (Conv2D)    (None, 7, 7, 2048)   2099200     conv4_block6_out[0][0]           \n",
      "__________________________________________________________________________________________________\n",
      "conv5_block1_3_conv (Conv2D)    (None, 7, 7, 2048)   1050624     conv5_block1_2_relu[0][0]        \n",
      "__________________________________________________________________________________________________\n",
      "conv5_block1_0_bn (BatchNormali (None, 7, 7, 2048)   8192        conv5_block1_0_conv[0][0]        \n",
      "__________________________________________________________________________________________________\n",
      "conv5_block1_3_bn (BatchNormali (None, 7, 7, 2048)   8192        conv5_block1_3_conv[0][0]        \n",
      "__________________________________________________________________________________________________\n",
      "conv5_block1_add (Add)          (None, 7, 7, 2048)   0           conv5_block1_0_bn[0][0]          \n",
      "                                                                 conv5_block1_3_bn[0][0]          \n",
      "__________________________________________________________________________________________________\n",
      "conv5_block1_out (Activation)   (None, 7, 7, 2048)   0           conv5_block1_add[0][0]           \n",
      "__________________________________________________________________________________________________\n",
      "conv5_block2_1_conv (Conv2D)    (None, 7, 7, 512)    1049088     conv5_block1_out[0][0]           \n",
      "__________________________________________________________________________________________________\n",
      "conv5_block2_1_bn (BatchNormali (None, 7, 7, 512)    2048        conv5_block2_1_conv[0][0]        \n",
      "__________________________________________________________________________________________________\n",
      "conv5_block2_1_relu (Activation (None, 7, 7, 512)    0           conv5_block2_1_bn[0][0]          \n",
      "__________________________________________________________________________________________________\n",
      "conv5_block2_2_conv (Conv2D)    (None, 7, 7, 512)    2359808     conv5_block2_1_relu[0][0]        \n",
      "__________________________________________________________________________________________________\n",
      "conv5_block2_2_bn (BatchNormali (None, 7, 7, 512)    2048        conv5_block2_2_conv[0][0]        \n",
      "__________________________________________________________________________________________________\n",
      "conv5_block2_2_relu (Activation (None, 7, 7, 512)    0           conv5_block2_2_bn[0][0]          \n",
      "__________________________________________________________________________________________________\n",
      "conv5_block2_3_conv (Conv2D)    (None, 7, 7, 2048)   1050624     conv5_block2_2_relu[0][0]        \n",
      "__________________________________________________________________________________________________\n",
      "conv5_block2_3_bn (BatchNormali (None, 7, 7, 2048)   8192        conv5_block2_3_conv[0][0]        \n",
      "__________________________________________________________________________________________________\n",
      "conv5_block2_add (Add)          (None, 7, 7, 2048)   0           conv5_block1_out[0][0]           \n",
      "                                                                 conv5_block2_3_bn[0][0]          \n",
      "__________________________________________________________________________________________________\n",
      "conv5_block2_out (Activation)   (None, 7, 7, 2048)   0           conv5_block2_add[0][0]           \n",
      "__________________________________________________________________________________________________\n",
      "conv5_block3_1_conv (Conv2D)    (None, 7, 7, 512)    1049088     conv5_block2_out[0][0]           \n",
      "__________________________________________________________________________________________________\n",
      "conv5_block3_1_bn (BatchNormali (None, 7, 7, 512)    2048        conv5_block3_1_conv[0][0]        \n",
      "__________________________________________________________________________________________________\n",
      "conv5_block3_1_relu (Activation (None, 7, 7, 512)    0           conv5_block3_1_bn[0][0]          \n",
      "__________________________________________________________________________________________________\n",
      "conv5_block3_2_conv (Conv2D)    (None, 7, 7, 512)    2359808     conv5_block3_1_relu[0][0]        \n",
      "__________________________________________________________________________________________________\n",
      "conv5_block3_2_bn (BatchNormali (None, 7, 7, 512)    2048        conv5_block3_2_conv[0][0]        \n",
      "__________________________________________________________________________________________________\n",
      "conv5_block3_2_relu (Activation (None, 7, 7, 512)    0           conv5_block3_2_bn[0][0]          \n",
      "__________________________________________________________________________________________________\n",
      "conv5_block3_3_conv (Conv2D)    (None, 7, 7, 2048)   1050624     conv5_block3_2_relu[0][0]        \n",
      "__________________________________________________________________________________________________\n",
      "conv5_block3_3_bn (BatchNormali (None, 7, 7, 2048)   8192        conv5_block3_3_conv[0][0]        \n",
      "__________________________________________________________________________________________________\n",
      "conv5_block3_add (Add)          (None, 7, 7, 2048)   0           conv5_block2_out[0][0]           \n",
      "                                                                 conv5_block3_3_bn[0][0]          \n",
      "__________________________________________________________________________________________________\n",
      "conv5_block3_out (Activation)   (None, 7, 7, 2048)   0           conv5_block3_add[0][0]           \n",
      "__________________________________________________________________________________________________\n",
      "avg_pool (GlobalAveragePooling2 (None, 2048)         0           conv5_block3_out[0][0]           \n",
      "__________________________________________________________________________________________________\n",
      "predictions (Dense)             (None, 14)           28686       avg_pool[0][0]                   \n",
      "==================================================================================================\n",
      "Total params: 23,616,398\n",
      "Trainable params: 23,563,278\n",
      "Non-trainable params: 53,120\n",
      "__________________________________________________________________________________________________\n"
     ]
    }
   ],
   "source": [
    "model.summary()"
   ]
  },
  {
   "cell_type": "code",
   "execution_count": null,
   "metadata": {
    "id": "Dxd19rBysf_y"
   },
   "outputs": [],
   "source": [
    "# chex = densenet.DenseNet121(include_top=False, weights = None, input_shape=(224,224,3), pooling=\"avg\")"
   ]
  },
  {
   "cell_type": "code",
   "execution_count": null,
   "metadata": {
    "id": "91wDKkiUsjj-"
   },
   "outputs": [],
   "source": [
    "# X = chex.output\n",
    "# X = Dense(14, activation=\"sigmoid\", name=\"predictions\")(X)\n",
    "# model = Model(inputs=chex.input, outputs=X)"
   ]
  },
  {
   "cell_type": "code",
   "execution_count": null,
   "metadata": {
    "id": "7wvQ1ppF8NJz"
   },
   "outputs": [],
   "source": [
    "# chex.output"
   ]
  },
  {
   "cell_type": "code",
   "execution_count": null,
   "metadata": {
    "id": "2DbzCYe38dIj"
   },
   "outputs": [],
   "source": [
    "# model.summary()"
   ]
  },
  {
   "cell_type": "code",
   "execution_count": null,
   "metadata": {
    "id": "7XZVpb50sllt"
   },
   "outputs": [],
   "source": [
    "# # This contains weights for the CheXNet network\n",
    "# # It has the weight  for the last layer of the chexnet network as well, therefore an additional layer is added in the\n",
    "# # previous cell block to fit the weights which can be removed later.\n",
    "# model.load_weights('brucechou1983_CheXNet_Keras_0.3.0_weights.h5')"
   ]
  },
  {
   "cell_type": "code",
   "execution_count": null,
   "metadata": {
    "id": "kzSUr937syPB"
   },
   "outputs": [],
   "source": [
    "\n",
    "model = Model(inputs = model.input, outputs = model.layers[-2].output)\n",
    "# model.summary will show you all the layers in the model"
   ]
  },
  {
   "cell_type": "code",
   "execution_count": null,
   "metadata": {
    "colab": {
     "base_uri": "https://localhost:8080/"
    },
    "id": "FJ5cRkvU9afS",
    "outputId": "436cb0d6-5f16-487a-8a76-e9f4b427927e"
   },
   "outputs": [
    {
     "name": "stdout",
     "output_type": "stream",
     "text": [
      "Model: \"model_1\"\n",
      "__________________________________________________________________________________________________\n",
      "Layer (type)                    Output Shape         Param #     Connected to                     \n",
      "==================================================================================================\n",
      "input_1 (InputLayer)            [(None, 224, 224, 3) 0                                            \n",
      "__________________________________________________________________________________________________\n",
      "conv1_pad (ZeroPadding2D)       (None, 230, 230, 3)  0           input_1[0][0]                    \n",
      "__________________________________________________________________________________________________\n",
      "conv1_conv (Conv2D)             (None, 112, 112, 64) 9472        conv1_pad[0][0]                  \n",
      "__________________________________________________________________________________________________\n",
      "conv1_bn (BatchNormalization)   (None, 112, 112, 64) 256         conv1_conv[0][0]                 \n",
      "__________________________________________________________________________________________________\n",
      "conv1_relu (Activation)         (None, 112, 112, 64) 0           conv1_bn[0][0]                   \n",
      "__________________________________________________________________________________________________\n",
      "pool1_pad (ZeroPadding2D)       (None, 114, 114, 64) 0           conv1_relu[0][0]                 \n",
      "__________________________________________________________________________________________________\n",
      "pool1_pool (MaxPooling2D)       (None, 56, 56, 64)   0           pool1_pad[0][0]                  \n",
      "__________________________________________________________________________________________________\n",
      "conv2_block1_1_conv (Conv2D)    (None, 56, 56, 64)   4160        pool1_pool[0][0]                 \n",
      "__________________________________________________________________________________________________\n",
      "conv2_block1_1_bn (BatchNormali (None, 56, 56, 64)   256         conv2_block1_1_conv[0][0]        \n",
      "__________________________________________________________________________________________________\n",
      "conv2_block1_1_relu (Activation (None, 56, 56, 64)   0           conv2_block1_1_bn[0][0]          \n",
      "__________________________________________________________________________________________________\n",
      "conv2_block1_2_conv (Conv2D)    (None, 56, 56, 64)   36928       conv2_block1_1_relu[0][0]        \n",
      "__________________________________________________________________________________________________\n",
      "conv2_block1_2_bn (BatchNormali (None, 56, 56, 64)   256         conv2_block1_2_conv[0][0]        \n",
      "__________________________________________________________________________________________________\n",
      "conv2_block1_2_relu (Activation (None, 56, 56, 64)   0           conv2_block1_2_bn[0][0]          \n",
      "__________________________________________________________________________________________________\n",
      "conv2_block1_0_conv (Conv2D)    (None, 56, 56, 256)  16640       pool1_pool[0][0]                 \n",
      "__________________________________________________________________________________________________\n",
      "conv2_block1_3_conv (Conv2D)    (None, 56, 56, 256)  16640       conv2_block1_2_relu[0][0]        \n",
      "__________________________________________________________________________________________________\n",
      "conv2_block1_0_bn (BatchNormali (None, 56, 56, 256)  1024        conv2_block1_0_conv[0][0]        \n",
      "__________________________________________________________________________________________________\n",
      "conv2_block1_3_bn (BatchNormali (None, 56, 56, 256)  1024        conv2_block1_3_conv[0][0]        \n",
      "__________________________________________________________________________________________________\n",
      "conv2_block1_add (Add)          (None, 56, 56, 256)  0           conv2_block1_0_bn[0][0]          \n",
      "                                                                 conv2_block1_3_bn[0][0]          \n",
      "__________________________________________________________________________________________________\n",
      "conv2_block1_out (Activation)   (None, 56, 56, 256)  0           conv2_block1_add[0][0]           \n",
      "__________________________________________________________________________________________________\n",
      "conv2_block2_1_conv (Conv2D)    (None, 56, 56, 64)   16448       conv2_block1_out[0][0]           \n",
      "__________________________________________________________________________________________________\n",
      "conv2_block2_1_bn (BatchNormali (None, 56, 56, 64)   256         conv2_block2_1_conv[0][0]        \n",
      "__________________________________________________________________________________________________\n",
      "conv2_block2_1_relu (Activation (None, 56, 56, 64)   0           conv2_block2_1_bn[0][0]          \n",
      "__________________________________________________________________________________________________\n",
      "conv2_block2_2_conv (Conv2D)    (None, 56, 56, 64)   36928       conv2_block2_1_relu[0][0]        \n",
      "__________________________________________________________________________________________________\n",
      "conv2_block2_2_bn (BatchNormali (None, 56, 56, 64)   256         conv2_block2_2_conv[0][0]        \n",
      "__________________________________________________________________________________________________\n",
      "conv2_block2_2_relu (Activation (None, 56, 56, 64)   0           conv2_block2_2_bn[0][0]          \n",
      "__________________________________________________________________________________________________\n",
      "conv2_block2_3_conv (Conv2D)    (None, 56, 56, 256)  16640       conv2_block2_2_relu[0][0]        \n",
      "__________________________________________________________________________________________________\n",
      "conv2_block2_3_bn (BatchNormali (None, 56, 56, 256)  1024        conv2_block2_3_conv[0][0]        \n",
      "__________________________________________________________________________________________________\n",
      "conv2_block2_add (Add)          (None, 56, 56, 256)  0           conv2_block1_out[0][0]           \n",
      "                                                                 conv2_block2_3_bn[0][0]          \n",
      "__________________________________________________________________________________________________\n",
      "conv2_block2_out (Activation)   (None, 56, 56, 256)  0           conv2_block2_add[0][0]           \n",
      "__________________________________________________________________________________________________\n",
      "conv2_block3_1_conv (Conv2D)    (None, 56, 56, 64)   16448       conv2_block2_out[0][0]           \n",
      "__________________________________________________________________________________________________\n",
      "conv2_block3_1_bn (BatchNormali (None, 56, 56, 64)   256         conv2_block3_1_conv[0][0]        \n",
      "__________________________________________________________________________________________________\n",
      "conv2_block3_1_relu (Activation (None, 56, 56, 64)   0           conv2_block3_1_bn[0][0]          \n",
      "__________________________________________________________________________________________________\n",
      "conv2_block3_2_conv (Conv2D)    (None, 56, 56, 64)   36928       conv2_block3_1_relu[0][0]        \n",
      "__________________________________________________________________________________________________\n",
      "conv2_block3_2_bn (BatchNormali (None, 56, 56, 64)   256         conv2_block3_2_conv[0][0]        \n",
      "__________________________________________________________________________________________________\n",
      "conv2_block3_2_relu (Activation (None, 56, 56, 64)   0           conv2_block3_2_bn[0][0]          \n",
      "__________________________________________________________________________________________________\n",
      "conv2_block3_3_conv (Conv2D)    (None, 56, 56, 256)  16640       conv2_block3_2_relu[0][0]        \n",
      "__________________________________________________________________________________________________\n",
      "conv2_block3_3_bn (BatchNormali (None, 56, 56, 256)  1024        conv2_block3_3_conv[0][0]        \n",
      "__________________________________________________________________________________________________\n",
      "conv2_block3_add (Add)          (None, 56, 56, 256)  0           conv2_block2_out[0][0]           \n",
      "                                                                 conv2_block3_3_bn[0][0]          \n",
      "__________________________________________________________________________________________________\n",
      "conv2_block3_out (Activation)   (None, 56, 56, 256)  0           conv2_block3_add[0][0]           \n",
      "__________________________________________________________________________________________________\n",
      "conv3_block1_1_conv (Conv2D)    (None, 28, 28, 128)  32896       conv2_block3_out[0][0]           \n",
      "__________________________________________________________________________________________________\n",
      "conv3_block1_1_bn (BatchNormali (None, 28, 28, 128)  512         conv3_block1_1_conv[0][0]        \n",
      "__________________________________________________________________________________________________\n",
      "conv3_block1_1_relu (Activation (None, 28, 28, 128)  0           conv3_block1_1_bn[0][0]          \n",
      "__________________________________________________________________________________________________\n",
      "conv3_block1_2_conv (Conv2D)    (None, 28, 28, 128)  147584      conv3_block1_1_relu[0][0]        \n",
      "__________________________________________________________________________________________________\n",
      "conv3_block1_2_bn (BatchNormali (None, 28, 28, 128)  512         conv3_block1_2_conv[0][0]        \n",
      "__________________________________________________________________________________________________\n",
      "conv3_block1_2_relu (Activation (None, 28, 28, 128)  0           conv3_block1_2_bn[0][0]          \n",
      "__________________________________________________________________________________________________\n",
      "conv3_block1_0_conv (Conv2D)    (None, 28, 28, 512)  131584      conv2_block3_out[0][0]           \n",
      "__________________________________________________________________________________________________\n",
      "conv3_block1_3_conv (Conv2D)    (None, 28, 28, 512)  66048       conv3_block1_2_relu[0][0]        \n",
      "__________________________________________________________________________________________________\n",
      "conv3_block1_0_bn (BatchNormali (None, 28, 28, 512)  2048        conv3_block1_0_conv[0][0]        \n",
      "__________________________________________________________________________________________________\n",
      "conv3_block1_3_bn (BatchNormali (None, 28, 28, 512)  2048        conv3_block1_3_conv[0][0]        \n",
      "__________________________________________________________________________________________________\n",
      "conv3_block1_add (Add)          (None, 28, 28, 512)  0           conv3_block1_0_bn[0][0]          \n",
      "                                                                 conv3_block1_3_bn[0][0]          \n",
      "__________________________________________________________________________________________________\n",
      "conv3_block1_out (Activation)   (None, 28, 28, 512)  0           conv3_block1_add[0][0]           \n",
      "__________________________________________________________________________________________________\n",
      "conv3_block2_1_conv (Conv2D)    (None, 28, 28, 128)  65664       conv3_block1_out[0][0]           \n",
      "__________________________________________________________________________________________________\n",
      "conv3_block2_1_bn (BatchNormali (None, 28, 28, 128)  512         conv3_block2_1_conv[0][0]        \n",
      "__________________________________________________________________________________________________\n",
      "conv3_block2_1_relu (Activation (None, 28, 28, 128)  0           conv3_block2_1_bn[0][0]          \n",
      "__________________________________________________________________________________________________\n",
      "conv3_block2_2_conv (Conv2D)    (None, 28, 28, 128)  147584      conv3_block2_1_relu[0][0]        \n",
      "__________________________________________________________________________________________________\n",
      "conv3_block2_2_bn (BatchNormali (None, 28, 28, 128)  512         conv3_block2_2_conv[0][0]        \n",
      "__________________________________________________________________________________________________\n",
      "conv3_block2_2_relu (Activation (None, 28, 28, 128)  0           conv3_block2_2_bn[0][0]          \n",
      "__________________________________________________________________________________________________\n",
      "conv3_block2_3_conv (Conv2D)    (None, 28, 28, 512)  66048       conv3_block2_2_relu[0][0]        \n",
      "__________________________________________________________________________________________________\n",
      "conv3_block2_3_bn (BatchNormali (None, 28, 28, 512)  2048        conv3_block2_3_conv[0][0]        \n",
      "__________________________________________________________________________________________________\n",
      "conv3_block2_add (Add)          (None, 28, 28, 512)  0           conv3_block1_out[0][0]           \n",
      "                                                                 conv3_block2_3_bn[0][0]          \n",
      "__________________________________________________________________________________________________\n",
      "conv3_block2_out (Activation)   (None, 28, 28, 512)  0           conv3_block2_add[0][0]           \n",
      "__________________________________________________________________________________________________\n",
      "conv3_block3_1_conv (Conv2D)    (None, 28, 28, 128)  65664       conv3_block2_out[0][0]           \n",
      "__________________________________________________________________________________________________\n",
      "conv3_block3_1_bn (BatchNormali (None, 28, 28, 128)  512         conv3_block3_1_conv[0][0]        \n",
      "__________________________________________________________________________________________________\n",
      "conv3_block3_1_relu (Activation (None, 28, 28, 128)  0           conv3_block3_1_bn[0][0]          \n",
      "__________________________________________________________________________________________________\n",
      "conv3_block3_2_conv (Conv2D)    (None, 28, 28, 128)  147584      conv3_block3_1_relu[0][0]        \n",
      "__________________________________________________________________________________________________\n",
      "conv3_block3_2_bn (BatchNormali (None, 28, 28, 128)  512         conv3_block3_2_conv[0][0]        \n",
      "__________________________________________________________________________________________________\n",
      "conv3_block3_2_relu (Activation (None, 28, 28, 128)  0           conv3_block3_2_bn[0][0]          \n",
      "__________________________________________________________________________________________________\n",
      "conv3_block3_3_conv (Conv2D)    (None, 28, 28, 512)  66048       conv3_block3_2_relu[0][0]        \n",
      "__________________________________________________________________________________________________\n",
      "conv3_block3_3_bn (BatchNormali (None, 28, 28, 512)  2048        conv3_block3_3_conv[0][0]        \n",
      "__________________________________________________________________________________________________\n",
      "conv3_block3_add (Add)          (None, 28, 28, 512)  0           conv3_block2_out[0][0]           \n",
      "                                                                 conv3_block3_3_bn[0][0]          \n",
      "__________________________________________________________________________________________________\n",
      "conv3_block3_out (Activation)   (None, 28, 28, 512)  0           conv3_block3_add[0][0]           \n",
      "__________________________________________________________________________________________________\n",
      "conv3_block4_1_conv (Conv2D)    (None, 28, 28, 128)  65664       conv3_block3_out[0][0]           \n",
      "__________________________________________________________________________________________________\n",
      "conv3_block4_1_bn (BatchNormali (None, 28, 28, 128)  512         conv3_block4_1_conv[0][0]        \n",
      "__________________________________________________________________________________________________\n",
      "conv3_block4_1_relu (Activation (None, 28, 28, 128)  0           conv3_block4_1_bn[0][0]          \n",
      "__________________________________________________________________________________________________\n",
      "conv3_block4_2_conv (Conv2D)    (None, 28, 28, 128)  147584      conv3_block4_1_relu[0][0]        \n",
      "__________________________________________________________________________________________________\n",
      "conv3_block4_2_bn (BatchNormali (None, 28, 28, 128)  512         conv3_block4_2_conv[0][0]        \n",
      "__________________________________________________________________________________________________\n",
      "conv3_block4_2_relu (Activation (None, 28, 28, 128)  0           conv3_block4_2_bn[0][0]          \n",
      "__________________________________________________________________________________________________\n",
      "conv3_block4_3_conv (Conv2D)    (None, 28, 28, 512)  66048       conv3_block4_2_relu[0][0]        \n",
      "__________________________________________________________________________________________________\n",
      "conv3_block4_3_bn (BatchNormali (None, 28, 28, 512)  2048        conv3_block4_3_conv[0][0]        \n",
      "__________________________________________________________________________________________________\n",
      "conv3_block4_add (Add)          (None, 28, 28, 512)  0           conv3_block3_out[0][0]           \n",
      "                                                                 conv3_block4_3_bn[0][0]          \n",
      "__________________________________________________________________________________________________\n",
      "conv3_block4_out (Activation)   (None, 28, 28, 512)  0           conv3_block4_add[0][0]           \n",
      "__________________________________________________________________________________________________\n",
      "conv4_block1_1_conv (Conv2D)    (None, 14, 14, 256)  131328      conv3_block4_out[0][0]           \n",
      "__________________________________________________________________________________________________\n",
      "conv4_block1_1_bn (BatchNormali (None, 14, 14, 256)  1024        conv4_block1_1_conv[0][0]        \n",
      "__________________________________________________________________________________________________\n",
      "conv4_block1_1_relu (Activation (None, 14, 14, 256)  0           conv4_block1_1_bn[0][0]          \n",
      "__________________________________________________________________________________________________\n",
      "conv4_block1_2_conv (Conv2D)    (None, 14, 14, 256)  590080      conv4_block1_1_relu[0][0]        \n",
      "__________________________________________________________________________________________________\n",
      "conv4_block1_2_bn (BatchNormali (None, 14, 14, 256)  1024        conv4_block1_2_conv[0][0]        \n",
      "__________________________________________________________________________________________________\n",
      "conv4_block1_2_relu (Activation (None, 14, 14, 256)  0           conv4_block1_2_bn[0][0]          \n",
      "__________________________________________________________________________________________________\n",
      "conv4_block1_0_conv (Conv2D)    (None, 14, 14, 1024) 525312      conv3_block4_out[0][0]           \n",
      "__________________________________________________________________________________________________\n",
      "conv4_block1_3_conv (Conv2D)    (None, 14, 14, 1024) 263168      conv4_block1_2_relu[0][0]        \n",
      "__________________________________________________________________________________________________\n",
      "conv4_block1_0_bn (BatchNormali (None, 14, 14, 1024) 4096        conv4_block1_0_conv[0][0]        \n",
      "__________________________________________________________________________________________________\n",
      "conv4_block1_3_bn (BatchNormali (None, 14, 14, 1024) 4096        conv4_block1_3_conv[0][0]        \n",
      "__________________________________________________________________________________________________\n",
      "conv4_block1_add (Add)          (None, 14, 14, 1024) 0           conv4_block1_0_bn[0][0]          \n",
      "                                                                 conv4_block1_3_bn[0][0]          \n",
      "__________________________________________________________________________________________________\n",
      "conv4_block1_out (Activation)   (None, 14, 14, 1024) 0           conv4_block1_add[0][0]           \n",
      "__________________________________________________________________________________________________\n",
      "conv4_block2_1_conv (Conv2D)    (None, 14, 14, 256)  262400      conv4_block1_out[0][0]           \n",
      "__________________________________________________________________________________________________\n",
      "conv4_block2_1_bn (BatchNormali (None, 14, 14, 256)  1024        conv4_block2_1_conv[0][0]        \n",
      "__________________________________________________________________________________________________\n",
      "conv4_block2_1_relu (Activation (None, 14, 14, 256)  0           conv4_block2_1_bn[0][0]          \n",
      "__________________________________________________________________________________________________\n",
      "conv4_block2_2_conv (Conv2D)    (None, 14, 14, 256)  590080      conv4_block2_1_relu[0][0]        \n",
      "__________________________________________________________________________________________________\n",
      "conv4_block2_2_bn (BatchNormali (None, 14, 14, 256)  1024        conv4_block2_2_conv[0][0]        \n",
      "__________________________________________________________________________________________________\n",
      "conv4_block2_2_relu (Activation (None, 14, 14, 256)  0           conv4_block2_2_bn[0][0]          \n",
      "__________________________________________________________________________________________________\n",
      "conv4_block2_3_conv (Conv2D)    (None, 14, 14, 1024) 263168      conv4_block2_2_relu[0][0]        \n",
      "__________________________________________________________________________________________________\n",
      "conv4_block2_3_bn (BatchNormali (None, 14, 14, 1024) 4096        conv4_block2_3_conv[0][0]        \n",
      "__________________________________________________________________________________________________\n",
      "conv4_block2_add (Add)          (None, 14, 14, 1024) 0           conv4_block1_out[0][0]           \n",
      "                                                                 conv4_block2_3_bn[0][0]          \n",
      "__________________________________________________________________________________________________\n",
      "conv4_block2_out (Activation)   (None, 14, 14, 1024) 0           conv4_block2_add[0][0]           \n",
      "__________________________________________________________________________________________________\n",
      "conv4_block3_1_conv (Conv2D)    (None, 14, 14, 256)  262400      conv4_block2_out[0][0]           \n",
      "__________________________________________________________________________________________________\n",
      "conv4_block3_1_bn (BatchNormali (None, 14, 14, 256)  1024        conv4_block3_1_conv[0][0]        \n",
      "__________________________________________________________________________________________________\n",
      "conv4_block3_1_relu (Activation (None, 14, 14, 256)  0           conv4_block3_1_bn[0][0]          \n",
      "__________________________________________________________________________________________________\n",
      "conv4_block3_2_conv (Conv2D)    (None, 14, 14, 256)  590080      conv4_block3_1_relu[0][0]        \n",
      "__________________________________________________________________________________________________\n",
      "conv4_block3_2_bn (BatchNormali (None, 14, 14, 256)  1024        conv4_block3_2_conv[0][0]        \n",
      "__________________________________________________________________________________________________\n",
      "conv4_block3_2_relu (Activation (None, 14, 14, 256)  0           conv4_block3_2_bn[0][0]          \n",
      "__________________________________________________________________________________________________\n",
      "conv4_block3_3_conv (Conv2D)    (None, 14, 14, 1024) 263168      conv4_block3_2_relu[0][0]        \n",
      "__________________________________________________________________________________________________\n",
      "conv4_block3_3_bn (BatchNormali (None, 14, 14, 1024) 4096        conv4_block3_3_conv[0][0]        \n",
      "__________________________________________________________________________________________________\n",
      "conv4_block3_add (Add)          (None, 14, 14, 1024) 0           conv4_block2_out[0][0]           \n",
      "                                                                 conv4_block3_3_bn[0][0]          \n",
      "__________________________________________________________________________________________________\n",
      "conv4_block3_out (Activation)   (None, 14, 14, 1024) 0           conv4_block3_add[0][0]           \n",
      "__________________________________________________________________________________________________\n",
      "conv4_block4_1_conv (Conv2D)    (None, 14, 14, 256)  262400      conv4_block3_out[0][0]           \n",
      "__________________________________________________________________________________________________\n",
      "conv4_block4_1_bn (BatchNormali (None, 14, 14, 256)  1024        conv4_block4_1_conv[0][0]        \n",
      "__________________________________________________________________________________________________\n",
      "conv4_block4_1_relu (Activation (None, 14, 14, 256)  0           conv4_block4_1_bn[0][0]          \n",
      "__________________________________________________________________________________________________\n",
      "conv4_block4_2_conv (Conv2D)    (None, 14, 14, 256)  590080      conv4_block4_1_relu[0][0]        \n",
      "__________________________________________________________________________________________________\n",
      "conv4_block4_2_bn (BatchNormali (None, 14, 14, 256)  1024        conv4_block4_2_conv[0][0]        \n",
      "__________________________________________________________________________________________________\n",
      "conv4_block4_2_relu (Activation (None, 14, 14, 256)  0           conv4_block4_2_bn[0][0]          \n",
      "__________________________________________________________________________________________________\n",
      "conv4_block4_3_conv (Conv2D)    (None, 14, 14, 1024) 263168      conv4_block4_2_relu[0][0]        \n",
      "__________________________________________________________________________________________________\n",
      "conv4_block4_3_bn (BatchNormali (None, 14, 14, 1024) 4096        conv4_block4_3_conv[0][0]        \n",
      "__________________________________________________________________________________________________\n",
      "conv4_block4_add (Add)          (None, 14, 14, 1024) 0           conv4_block3_out[0][0]           \n",
      "                                                                 conv4_block4_3_bn[0][0]          \n",
      "__________________________________________________________________________________________________\n",
      "conv4_block4_out (Activation)   (None, 14, 14, 1024) 0           conv4_block4_add[0][0]           \n",
      "__________________________________________________________________________________________________\n",
      "conv4_block5_1_conv (Conv2D)    (None, 14, 14, 256)  262400      conv4_block4_out[0][0]           \n",
      "__________________________________________________________________________________________________\n",
      "conv4_block5_1_bn (BatchNormali (None, 14, 14, 256)  1024        conv4_block5_1_conv[0][0]        \n",
      "__________________________________________________________________________________________________\n",
      "conv4_block5_1_relu (Activation (None, 14, 14, 256)  0           conv4_block5_1_bn[0][0]          \n",
      "__________________________________________________________________________________________________\n",
      "conv4_block5_2_conv (Conv2D)    (None, 14, 14, 256)  590080      conv4_block5_1_relu[0][0]        \n",
      "__________________________________________________________________________________________________\n",
      "conv4_block5_2_bn (BatchNormali (None, 14, 14, 256)  1024        conv4_block5_2_conv[0][0]        \n",
      "__________________________________________________________________________________________________\n",
      "conv4_block5_2_relu (Activation (None, 14, 14, 256)  0           conv4_block5_2_bn[0][0]          \n",
      "__________________________________________________________________________________________________\n",
      "conv4_block5_3_conv (Conv2D)    (None, 14, 14, 1024) 263168      conv4_block5_2_relu[0][0]        \n",
      "__________________________________________________________________________________________________\n",
      "conv4_block5_3_bn (BatchNormali (None, 14, 14, 1024) 4096        conv4_block5_3_conv[0][0]        \n",
      "__________________________________________________________________________________________________\n",
      "conv4_block5_add (Add)          (None, 14, 14, 1024) 0           conv4_block4_out[0][0]           \n",
      "                                                                 conv4_block5_3_bn[0][0]          \n",
      "__________________________________________________________________________________________________\n",
      "conv4_block5_out (Activation)   (None, 14, 14, 1024) 0           conv4_block5_add[0][0]           \n",
      "__________________________________________________________________________________________________\n",
      "conv4_block6_1_conv (Conv2D)    (None, 14, 14, 256)  262400      conv4_block5_out[0][0]           \n",
      "__________________________________________________________________________________________________\n",
      "conv4_block6_1_bn (BatchNormali (None, 14, 14, 256)  1024        conv4_block6_1_conv[0][0]        \n",
      "__________________________________________________________________________________________________\n",
      "conv4_block6_1_relu (Activation (None, 14, 14, 256)  0           conv4_block6_1_bn[0][0]          \n",
      "__________________________________________________________________________________________________\n",
      "conv4_block6_2_conv (Conv2D)    (None, 14, 14, 256)  590080      conv4_block6_1_relu[0][0]        \n",
      "__________________________________________________________________________________________________\n",
      "conv4_block6_2_bn (BatchNormali (None, 14, 14, 256)  1024        conv4_block6_2_conv[0][0]        \n",
      "__________________________________________________________________________________________________\n",
      "conv4_block6_2_relu (Activation (None, 14, 14, 256)  0           conv4_block6_2_bn[0][0]          \n",
      "__________________________________________________________________________________________________\n",
      "conv4_block6_3_conv (Conv2D)    (None, 14, 14, 1024) 263168      conv4_block6_2_relu[0][0]        \n",
      "__________________________________________________________________________________________________\n",
      "conv4_block6_3_bn (BatchNormali (None, 14, 14, 1024) 4096        conv4_block6_3_conv[0][0]        \n",
      "__________________________________________________________________________________________________\n",
      "conv4_block6_add (Add)          (None, 14, 14, 1024) 0           conv4_block5_out[0][0]           \n",
      "                                                                 conv4_block6_3_bn[0][0]          \n",
      "__________________________________________________________________________________________________\n",
      "conv4_block6_out (Activation)   (None, 14, 14, 1024) 0           conv4_block6_add[0][0]           \n",
      "__________________________________________________________________________________________________\n",
      "conv5_block1_1_conv (Conv2D)    (None, 7, 7, 512)    524800      conv4_block6_out[0][0]           \n",
      "__________________________________________________________________________________________________\n",
      "conv5_block1_1_bn (BatchNormali (None, 7, 7, 512)    2048        conv5_block1_1_conv[0][0]        \n",
      "__________________________________________________________________________________________________\n",
      "conv5_block1_1_relu (Activation (None, 7, 7, 512)    0           conv5_block1_1_bn[0][0]          \n",
      "__________________________________________________________________________________________________\n",
      "conv5_block1_2_conv (Conv2D)    (None, 7, 7, 512)    2359808     conv5_block1_1_relu[0][0]        \n",
      "__________________________________________________________________________________________________\n",
      "conv5_block1_2_bn (BatchNormali (None, 7, 7, 512)    2048        conv5_block1_2_conv[0][0]        \n",
      "__________________________________________________________________________________________________\n",
      "conv5_block1_2_relu (Activation (None, 7, 7, 512)    0           conv5_block1_2_bn[0][0]          \n",
      "__________________________________________________________________________________________________\n",
      "conv5_block1_0_conv (Conv2D)    (None, 7, 7, 2048)   2099200     conv4_block6_out[0][0]           \n",
      "__________________________________________________________________________________________________\n",
      "conv5_block1_3_conv (Conv2D)    (None, 7, 7, 2048)   1050624     conv5_block1_2_relu[0][0]        \n",
      "__________________________________________________________________________________________________\n",
      "conv5_block1_0_bn (BatchNormali (None, 7, 7, 2048)   8192        conv5_block1_0_conv[0][0]        \n",
      "__________________________________________________________________________________________________\n",
      "conv5_block1_3_bn (BatchNormali (None, 7, 7, 2048)   8192        conv5_block1_3_conv[0][0]        \n",
      "__________________________________________________________________________________________________\n",
      "conv5_block1_add (Add)          (None, 7, 7, 2048)   0           conv5_block1_0_bn[0][0]          \n",
      "                                                                 conv5_block1_3_bn[0][0]          \n",
      "__________________________________________________________________________________________________\n",
      "conv5_block1_out (Activation)   (None, 7, 7, 2048)   0           conv5_block1_add[0][0]           \n",
      "__________________________________________________________________________________________________\n",
      "conv5_block2_1_conv (Conv2D)    (None, 7, 7, 512)    1049088     conv5_block1_out[0][0]           \n",
      "__________________________________________________________________________________________________\n",
      "conv5_block2_1_bn (BatchNormali (None, 7, 7, 512)    2048        conv5_block2_1_conv[0][0]        \n",
      "__________________________________________________________________________________________________\n",
      "conv5_block2_1_relu (Activation (None, 7, 7, 512)    0           conv5_block2_1_bn[0][0]          \n",
      "__________________________________________________________________________________________________\n",
      "conv5_block2_2_conv (Conv2D)    (None, 7, 7, 512)    2359808     conv5_block2_1_relu[0][0]        \n",
      "__________________________________________________________________________________________________\n",
      "conv5_block2_2_bn (BatchNormali (None, 7, 7, 512)    2048        conv5_block2_2_conv[0][0]        \n",
      "__________________________________________________________________________________________________\n",
      "conv5_block2_2_relu (Activation (None, 7, 7, 512)    0           conv5_block2_2_bn[0][0]          \n",
      "__________________________________________________________________________________________________\n",
      "conv5_block2_3_conv (Conv2D)    (None, 7, 7, 2048)   1050624     conv5_block2_2_relu[0][0]        \n",
      "__________________________________________________________________________________________________\n",
      "conv5_block2_3_bn (BatchNormali (None, 7, 7, 2048)   8192        conv5_block2_3_conv[0][0]        \n",
      "__________________________________________________________________________________________________\n",
      "conv5_block2_add (Add)          (None, 7, 7, 2048)   0           conv5_block1_out[0][0]           \n",
      "                                                                 conv5_block2_3_bn[0][0]          \n",
      "__________________________________________________________________________________________________\n",
      "conv5_block2_out (Activation)   (None, 7, 7, 2048)   0           conv5_block2_add[0][0]           \n",
      "__________________________________________________________________________________________________\n",
      "conv5_block3_1_conv (Conv2D)    (None, 7, 7, 512)    1049088     conv5_block2_out[0][0]           \n",
      "__________________________________________________________________________________________________\n",
      "conv5_block3_1_bn (BatchNormali (None, 7, 7, 512)    2048        conv5_block3_1_conv[0][0]        \n",
      "__________________________________________________________________________________________________\n",
      "conv5_block3_1_relu (Activation (None, 7, 7, 512)    0           conv5_block3_1_bn[0][0]          \n",
      "__________________________________________________________________________________________________\n",
      "conv5_block3_2_conv (Conv2D)    (None, 7, 7, 512)    2359808     conv5_block3_1_relu[0][0]        \n",
      "__________________________________________________________________________________________________\n",
      "conv5_block3_2_bn (BatchNormali (None, 7, 7, 512)    2048        conv5_block3_2_conv[0][0]        \n",
      "__________________________________________________________________________________________________\n",
      "conv5_block3_2_relu (Activation (None, 7, 7, 512)    0           conv5_block3_2_bn[0][0]          \n",
      "__________________________________________________________________________________________________\n",
      "conv5_block3_3_conv (Conv2D)    (None, 7, 7, 2048)   1050624     conv5_block3_2_relu[0][0]        \n",
      "__________________________________________________________________________________________________\n",
      "conv5_block3_3_bn (BatchNormali (None, 7, 7, 2048)   8192        conv5_block3_3_conv[0][0]        \n",
      "__________________________________________________________________________________________________\n",
      "conv5_block3_add (Add)          (None, 7, 7, 2048)   0           conv5_block2_out[0][0]           \n",
      "                                                                 conv5_block3_3_bn[0][0]          \n",
      "__________________________________________________________________________________________________\n",
      "conv5_block3_out (Activation)   (None, 7, 7, 2048)   0           conv5_block3_add[0][0]           \n",
      "__________________________________________________________________________________________________\n",
      "avg_pool (GlobalAveragePooling2 (None, 2048)         0           conv5_block3_out[0][0]           \n",
      "==================================================================================================\n",
      "Total params: 23,587,712\n",
      "Trainable params: 23,534,592\n",
      "Non-trainable params: 53,120\n",
      "__________________________________________________________________________________________________\n"
     ]
    }
   ],
   "source": [
    "model.summary() #Summary of the Model and their layers"
   ]
  },
  {
   "cell_type": "code",
   "execution_count": null,
   "metadata": {
    "id": "1bTzRk0isnu0"
   },
   "outputs": [],
   "source": [
    "def load_image(img_name): #Reshaping the Image size and converting it to Array\n",
    "    image = Image.open(img_name)\n",
    "    X = np.asarray(image.convert(\"RGB\"))\n",
    "    X = np.asarray(X)\n",
    "    X = preprocess_input(X)\n",
    "    X = resize(X, (224,224,3))\n",
    "    X = np.expand_dims(X, axis=0)\n",
    "    X = np.asarray(X)\n",
    "    \n",
    "    return X"
   ]
  },
  {
   "cell_type": "code",
   "execution_count": null,
   "metadata": {
    "id": "ru5jjIIps3pz"
   },
   "outputs": [],
   "source": [
    "# img = load_image(dataset['Image_path'][0])\n",
    "# # plt.imshow(img[0])"
   ]
  },
  {
   "cell_type": "code",
   "execution_count": null,
   "metadata": {
    "colab": {
     "base_uri": "https://localhost:8080/"
    },
    "id": "N9C-cb8q-tjD",
    "outputId": "63e7e06c-ecda-408e-d7af-524cd8578c37"
   },
   "outputs": [
    {
     "data": {
      "text/plain": [
       "(560, 2)"
      ]
     },
     "execution_count": 37,
     "metadata": {
      "tags": []
     },
     "output_type": "execute_result"
    }
   ],
   "source": [
    "dataset.shape"
   ]
  },
  {
   "cell_type": "code",
   "execution_count": null,
   "metadata": {
    "colab": {
     "base_uri": "https://localhost:8080/",
     "height": 204
    },
    "id": "YdeeEhUq-3bw",
    "outputId": "ade67c94-e88b-4e0c-f29f-ad2d8e834717"
   },
   "outputs": [
    {
     "data": {
      "text/html": [
       "<div>\n",
       "<style scoped>\n",
       "    .dataframe tbody tr th:only-of-type {\n",
       "        vertical-align: middle;\n",
       "    }\n",
       "\n",
       "    .dataframe tbody tr th {\n",
       "        vertical-align: top;\n",
       "    }\n",
       "\n",
       "    .dataframe thead th {\n",
       "        text-align: right;\n",
       "    }\n",
       "</style>\n",
       "<table border=\"1\" class=\"dataframe\">\n",
       "  <thead>\n",
       "    <tr style=\"text-align: right;\">\n",
       "      <th></th>\n",
       "      <th>Image_path</th>\n",
       "      <th>Finding</th>\n",
       "    </tr>\n",
       "  </thead>\n",
       "  <tbody>\n",
       "    <tr>\n",
       "      <th>0</th>\n",
       "      <td>Data/S_RAMBABU_32Y_M_3.jpg</td>\n",
       "      <td>Central disc protrusion is at L5-S1 level, com...</td>\n",
       "    </tr>\n",
       "    <tr>\n",
       "      <th>1</th>\n",
       "      <td>Data/CH_SRIKANTH_23Y_M_5.jpg</td>\n",
       "      <td>Collapse of L1 vertebra is with focal spinal c...</td>\n",
       "    </tr>\n",
       "    <tr>\n",
       "      <th>2</th>\n",
       "      <td>Data/N_SAVITHRI_45Y_F_4.jpg</td>\n",
       "      <td>Mild diffuse disc bulge is at L3-L4, L4-L5, L5...</td>\n",
       "    </tr>\n",
       "    <tr>\n",
       "      <th>3</th>\n",
       "      <td>Data/N_ANNA_PURNAMMA_84Y_F_1.jpg</td>\n",
       "      <td>Small Disc osteophyte complexes are at C3-C4, ...</td>\n",
       "    </tr>\n",
       "    <tr>\n",
       "      <th>4</th>\n",
       "      <td>Data/S_KOTESWARA_RAO_50Y_M_4.jpg</td>\n",
       "      <td>PLIF status is noted at L4,L5 level.Post opera...</td>\n",
       "    </tr>\n",
       "  </tbody>\n",
       "</table>\n",
       "</div>"
      ],
      "text/plain": [
       "                         Image_path                                            Finding\n",
       "0        Data/S_RAMBABU_32Y_M_3.jpg  Central disc protrusion is at L5-S1 level, com...\n",
       "1      Data/CH_SRIKANTH_23Y_M_5.jpg  Collapse of L1 vertebra is with focal spinal c...\n",
       "2       Data/N_SAVITHRI_45Y_F_4.jpg  Mild diffuse disc bulge is at L3-L4, L4-L5, L5...\n",
       "3  Data/N_ANNA_PURNAMMA_84Y_F_1.jpg  Small Disc osteophyte complexes are at C3-C4, ...\n",
       "4  Data/S_KOTESWARA_RAO_50Y_M_4.jpg  PLIF status is noted at L4,L5 level.Post opera..."
      ]
     },
     "execution_count": 38,
     "metadata": {
      "tags": []
     },
     "output_type": "execute_result"
    }
   ],
   "source": [
    "dataset.head()"
   ]
  },
  {
   "cell_type": "code",
   "execution_count": null,
   "metadata": {
    "colab": {
     "base_uri": "https://localhost:8080/",
     "height": 35
    },
    "id": "BkcQ_eKnApN6",
    "outputId": "511e4fa3-4e7f-43ef-f5d5-85cb805075ab"
   },
   "outputs": [
    {
     "data": {
      "application/vnd.google.colaboratory.intrinsic+json": {
       "type": "string"
      },
      "text/plain": [
       "'A_ADI_LAKSHMI_65Y_F_1'"
      ]
     },
     "execution_count": 39,
     "metadata": {
      "tags": []
     },
     "output_type": "execute_result"
    }
   ],
   "source": [
    "t = 'Data/A_ADI_LAKSHMI_65Y_F_1.jpg'\n",
    "t.split('/')[1].split('.')[0]"
   ]
  },
  {
   "cell_type": "code",
   "execution_count": null,
   "metadata": {
    "id": "ZdWTY1q4-GPy"
   },
   "outputs": [],
   "source": [
    "def train_test_split(data): #Spiliting the Data into Train and Test\n",
    "    # persons = data.tolist()\n",
    "    persons_train = data[:400]\n",
    "    persons_test = data[401:]\n",
    "    return persons_train, persons_test"
   ]
  },
  {
   "cell_type": "code",
   "execution_count": null,
   "metadata": {
    "id": "zmX0JlpS-k3i"
   },
   "outputs": [],
   "source": [
    "images_train, images_test = train_test_split(dataset)"
   ]
  },
  {
   "cell_type": "code",
   "execution_count": null,
   "metadata": {
    "colab": {
     "base_uri": "https://localhost:8080/",
     "height": 204
    },
    "id": "snkK8SW56pWg",
    "outputId": "72224b8e-7e18-49bc-bece-f2c1f10c4aa6"
   },
   "outputs": [
    {
     "data": {
      "text/html": [
       "<div>\n",
       "<style scoped>\n",
       "    .dataframe tbody tr th:only-of-type {\n",
       "        vertical-align: middle;\n",
       "    }\n",
       "\n",
       "    .dataframe tbody tr th {\n",
       "        vertical-align: top;\n",
       "    }\n",
       "\n",
       "    .dataframe thead th {\n",
       "        text-align: right;\n",
       "    }\n",
       "</style>\n",
       "<table border=\"1\" class=\"dataframe\">\n",
       "  <thead>\n",
       "    <tr style=\"text-align: right;\">\n",
       "      <th></th>\n",
       "      <th>Image_path</th>\n",
       "      <th>Finding</th>\n",
       "    </tr>\n",
       "  </thead>\n",
       "  <tbody>\n",
       "    <tr>\n",
       "      <th>395</th>\n",
       "      <td>Data/B_PARAIAH_48Y_5.jpg</td>\n",
       "      <td>No significant abnormality detected.</td>\n",
       "    </tr>\n",
       "    <tr>\n",
       "      <th>396</th>\n",
       "      <td>Data/A_J_CH_RANI_38Y_15.jpg</td>\n",
       "      <td>No significant abnormality detected.</td>\n",
       "    </tr>\n",
       "    <tr>\n",
       "      <th>397</th>\n",
       "      <td>Data/N_ANKALAMMA_47Y_F_3.jpg</td>\n",
       "      <td>Small Disc osteophyte complexes are at C3-C4, ...</td>\n",
       "    </tr>\n",
       "    <tr>\n",
       "      <th>398</th>\n",
       "      <td>Data/A_J_CH_RANI_38Y_16.jpg</td>\n",
       "      <td>No significant abnormality detected.</td>\n",
       "    </tr>\n",
       "    <tr>\n",
       "      <th>399</th>\n",
       "      <td>Data/D_VENKATASIVA_KUMARI_41Y_F_1.jpg</td>\n",
       "      <td>Small disc osteophyte complexes are at C3-C4, ...</td>\n",
       "    </tr>\n",
       "  </tbody>\n",
       "</table>\n",
       "</div>"
      ],
      "text/plain": [
       "                                Image_path                                            Finding\n",
       "395               Data/B_PARAIAH_48Y_5.jpg               No significant abnormality detected.\n",
       "396            Data/A_J_CH_RANI_38Y_15.jpg              No significant abnormality detected. \n",
       "397           Data/N_ANKALAMMA_47Y_F_3.jpg  Small Disc osteophyte complexes are at C3-C4, ...\n",
       "398            Data/A_J_CH_RANI_38Y_16.jpg              No significant abnormality detected. \n",
       "399  Data/D_VENKATASIVA_KUMARI_41Y_F_1.jpg  Small disc osteophyte complexes are at C3-C4, ..."
      ]
     },
     "execution_count": 42,
     "metadata": {
      "tags": []
     },
     "output_type": "execute_result"
    }
   ],
   "source": [
    "images_train.tail()"
   ]
  },
  {
   "cell_type": "code",
   "execution_count": null,
   "metadata": {
    "colab": {
     "base_uri": "https://localhost:8080/",
     "height": 35
    },
    "id": "ZzZwXoSs-_eh",
    "outputId": "6bf5c1d7-3256-429e-9117-e0ede9c76fbf"
   },
   "outputs": [
    {
     "data": {
      "application/vnd.google.colaboratory.intrinsic+json": {
       "type": "string"
      },
      "text/plain": [
       "'Data/S_RAMBABU_32Y_M_3.jpg'"
      ]
     },
     "execution_count": 43,
     "metadata": {
      "tags": []
     },
     "output_type": "execute_result"
    }
   ],
   "source": [
    "a,b = images_train.values[0]\n",
    "a"
   ]
  },
  {
   "cell_type": "code",
   "execution_count": null,
   "metadata": {
    "colab": {
     "base_uri": "https://localhost:8080/",
     "height": 419
    },
    "id": "KOaN6SYO7PvE",
    "outputId": "d4a2af20-8c93-4a35-c7de-eed922f69e96"
   },
   "outputs": [
    {
     "data": {
      "text/html": [
       "<div>\n",
       "<style scoped>\n",
       "    .dataframe tbody tr th:only-of-type {\n",
       "        vertical-align: middle;\n",
       "    }\n",
       "\n",
       "    .dataframe tbody tr th {\n",
       "        vertical-align: top;\n",
       "    }\n",
       "\n",
       "    .dataframe thead th {\n",
       "        text-align: right;\n",
       "    }\n",
       "</style>\n",
       "<table border=\"1\" class=\"dataframe\">\n",
       "  <thead>\n",
       "    <tr style=\"text-align: right;\">\n",
       "      <th></th>\n",
       "      <th>Image_path</th>\n",
       "      <th>Finding</th>\n",
       "    </tr>\n",
       "  </thead>\n",
       "  <tbody>\n",
       "    <tr>\n",
       "      <th>401</th>\n",
       "      <td>Data/D_GOPI_KRISHNA_REDDY_20Y_M_4.jpg</td>\n",
       "      <td>Diffuse disc bulge is at L3-L4, L4-L5, L5-S1 l...</td>\n",
       "    </tr>\n",
       "    <tr>\n",
       "      <th>402</th>\n",
       "      <td>Data/K_SEEMA_27Y_11.jpg</td>\n",
       "      <td>No significant abnormality detected.</td>\n",
       "    </tr>\n",
       "    <tr>\n",
       "      <th>403</th>\n",
       "      <td>Data/A_NARASAMMA_62Y_F_5.jpg</td>\n",
       "      <td>Post operative changes in posterior elements o...</td>\n",
       "    </tr>\n",
       "    <tr>\n",
       "      <th>404</th>\n",
       "      <td>Data/D_CHINA_BRAHAMAIAH_60Y_M_5.jpg</td>\n",
       "      <td>Grade 1 spondylolisthesis is at L5-S1 level wi...</td>\n",
       "    </tr>\n",
       "    <tr>\n",
       "      <th>405</th>\n",
       "      <td>Data/S_NAGA_RATNAM_70Y_F_3.jpg</td>\n",
       "      <td>C3,C4 congenital block vertebra is noted.Disc ...</td>\n",
       "    </tr>\n",
       "    <tr>\n",
       "      <th>...</th>\n",
       "      <td>...</td>\n",
       "      <td>...</td>\n",
       "    </tr>\n",
       "    <tr>\n",
       "      <th>555</th>\n",
       "      <td>Data/A_NARASAMMA_45Y_F_4.jpg</td>\n",
       "      <td>Diffuse disc bulge is noted at L3-L4, L4-L5, L...</td>\n",
       "    </tr>\n",
       "    <tr>\n",
       "      <th>556</th>\n",
       "      <td>Data/D_JAYA_RAMULU_55Y_M_1.jpg</td>\n",
       "      <td>Small Disc osteophyte complexes are at C3-C4, ...</td>\n",
       "    </tr>\n",
       "    <tr>\n",
       "      <th>557</th>\n",
       "      <td>Data/B_PARAIAH_48Y_11.jpg</td>\n",
       "      <td>No significant abnormality detected.</td>\n",
       "    </tr>\n",
       "    <tr>\n",
       "      <th>558</th>\n",
       "      <td>Data/P_HARSHITHA_15Y_19.jpg</td>\n",
       "      <td>No significant abnormality detected.</td>\n",
       "    </tr>\n",
       "    <tr>\n",
       "      <th>559</th>\n",
       "      <td>Data/S_RAMBABU_32Y_M_5.jpg</td>\n",
       "      <td>Central disc protrusion is at L5-S1 level, com...</td>\n",
       "    </tr>\n",
       "  </tbody>\n",
       "</table>\n",
       "<p>159 rows × 2 columns</p>\n",
       "</div>"
      ],
      "text/plain": [
       "                                Image_path                                            Finding\n",
       "401  Data/D_GOPI_KRISHNA_REDDY_20Y_M_4.jpg  Diffuse disc bulge is at L3-L4, L4-L5, L5-S1 l...\n",
       "402                Data/K_SEEMA_27Y_11.jpg              No significant abnormality detected. \n",
       "403           Data/A_NARASAMMA_62Y_F_5.jpg  Post operative changes in posterior elements o...\n",
       "404    Data/D_CHINA_BRAHAMAIAH_60Y_M_5.jpg  Grade 1 spondylolisthesis is at L5-S1 level wi...\n",
       "405         Data/S_NAGA_RATNAM_70Y_F_3.jpg  C3,C4 congenital block vertebra is noted.Disc ...\n",
       "..                                     ...                                                ...\n",
       "555           Data/A_NARASAMMA_45Y_F_4.jpg  Diffuse disc bulge is noted at L3-L4, L4-L5, L...\n",
       "556         Data/D_JAYA_RAMULU_55Y_M_1.jpg  Small Disc osteophyte complexes are at C3-C4, ...\n",
       "557              Data/B_PARAIAH_48Y_11.jpg               No significant abnormality detected.\n",
       "558            Data/P_HARSHITHA_15Y_19.jpg               No significant abnormality detected.\n",
       "559             Data/S_RAMBABU_32Y_M_5.jpg  Central disc protrusion is at L5-S1 level, com...\n",
       "\n",
       "[159 rows x 2 columns]"
      ]
     },
     "execution_count": 44,
     "metadata": {
      "tags": []
     },
     "output_type": "execute_result"
    }
   ],
   "source": [
    "images_test"
   ]
  },
  {
   "cell_type": "code",
   "execution_count": null,
   "metadata": {
    "id": "3TOUFQ-Is-e3"
   },
   "outputs": [],
   "source": [
    "def image_features(train,test): #Getting the IMAGE FEATURES\n",
    "    Xnet_features_attention = {}\n",
    "    \n",
    "    for img1 in tqdm(train):\n",
    "        i1 = load_image(img1)\n",
    "        img1_features = model.predict(i1)\n",
    "        print('img1_features',img1_features.shape)\n",
    "        # (None,1024)\n",
    "\n",
    "        input_ = img1_features\n",
    "        key = img1.split('/')[1].split('.')[0]\n",
    "        # input_ = tf.reshape(input_, (img1_features.shape[0], -1, img1_features.shape[-1]))\n",
    "        # print('input_',input_.shape)\n",
    "        Xnet_features_attention[key] = input_\n",
    "    \n",
    "    for img1 in tqdm(test):\n",
    "        i1 = load_image(img1)\n",
    "        img1_features = model.predict(i1)\n",
    "\n",
    "\n",
    "        # i2 = load_image(img2)\n",
    "        # img2_features = model.predict(i2)\n",
    "\n",
    "        input_ = img1_features\n",
    "        key = img1.split('/')[1].split('.')[0]\n",
    "        # input_ = tf.reshape(input_, (input_.shape[0], -1, input_.shape[-1]))\n",
    "\n",
    "        Xnet_features_attention[key] = input_\n",
    "        \n",
    "    return Xnet_features_attention"
   ]
  },
  {
   "cell_type": "code",
   "execution_count": null,
   "metadata": {
    "colab": {
     "base_uri": "https://localhost:8080/"
    },
    "id": "xrGYu5x4DMta",
    "outputId": "9b347d5c-5e4e-4f20-ccae-ee6e1baf4355"
   },
   "outputs": [
    {
     "name": "stderr",
     "output_type": "stream",
     "text": [
      "100%|██████████| 1/1 [00:02<00:00,  2.63s/it]\n",
      "  0%|          | 0/1 [00:00<?, ?it/s]"
     ]
    },
    {
     "name": "stdout",
     "output_type": "stream",
     "text": [
      "img1_features (1, 2048)\n"
     ]
    },
    {
     "name": "stderr",
     "output_type": "stream",
     "text": [
      "100%|██████████| 1/1 [00:00<00:00,  1.05it/s]\n"
     ]
    }
   ],
   "source": [
    "#Xnet_features_attention = image_features(images_train['Image_path'][0:1],images_test['Image_path'][0:1])"
   ]
  },
  {
   "cell_type": "code",
   "execution_count": null,
   "metadata": {
    "id": "kib6XR9dDYMa"
   },
   "outputs": [],
   "source": []
  },
  {
   "cell_type": "code",
   "execution_count": null,
   "metadata": {
    "colab": {
     "base_uri": "https://localhost:8080/",
     "height": 35
    },
    "id": "OivwPe5hDT7k",
    "outputId": "54f70570-1897-4d2c-f5d4-13b30c204ee7"
   },
   "outputs": [
    {
     "data": {
      "application/vnd.google.colaboratory.intrinsic+json": {
       "type": "string"
      },
      "text/plain": [
       "'Data/A_SRINIVAS_REDDY_52Y_M_2.jpg'"
      ]
     },
     "execution_count": 192,
     "metadata": {
      "tags": []
     },
     "output_type": "execute_result"
    }
   ],
   "source": [
    "images_train['Image_path'][0]"
   ]
  },
  {
   "cell_type": "code",
   "execution_count": null,
   "metadata": {
    "colab": {
     "base_uri": "https://localhost:8080/"
    },
    "id": "eL_2pQyOtAru",
    "outputId": "c9f813c9-fe37-4700-f0be-9264ddc5a8d6"
   },
   "outputs": [
    {
     "name": "stdout",
     "output_type": "stream",
     "text": [
      "img1_features (1, 2048)\n"
     ]
    },
    {
     "name": "stderr",
     "output_type": "stream",
     "text": [
      "\r",
      " 99%|█████████▉| 397/400 [02:52<00:01,  2.37it/s]"
     ]
    },
    {
     "name": "stdout",
     "output_type": "stream",
     "text": [
      "img1_features (1, 2048)\n"
     ]
    },
    {
     "name": "stderr",
     "output_type": "stream",
     "text": [
      "\r",
      "100%|█████████▉| 398/400 [02:52<00:00,  2.42it/s]"
     ]
    },
    {
     "name": "stdout",
     "output_type": "stream",
     "text": [
      "img1_features (1, 2048)\n"
     ]
    },
    {
     "name": "stderr",
     "output_type": "stream",
     "text": [
      "\r",
      "100%|█████████▉| 399/400 [02:53<00:00,  2.40it/s]"
     ]
    },
    {
     "name": "stdout",
     "output_type": "stream",
     "text": [
      "img1_features (1, 2048)\n"
     ]
    },
    {
     "name": "stderr",
     "output_type": "stream",
     "text": [
      "100%|██████████| 400/400 [02:53<00:00,  2.30it/s]\n",
      "  0%|          | 0/159 [00:00<?, ?it/s]"
     ]
    },
    {
     "name": "stdout",
     "output_type": "stream",
     "text": [
      "img1_features (1, 2048)\n"
     ]
    },
    {
     "name": "stderr",
     "output_type": "stream",
     "text": [
      "100%|██████████| 159/159 [01:06<00:00,  2.39it/s]\n"
     ]
    }
   ],
   "source": [
    "Xnet_features_attention = image_features(images_train['Image_path'], images_test['Image_path'])"
   ]
  },
  {
   "cell_type": "code",
   "execution_count": null,
   "metadata": {
    "colab": {
     "base_uri": "https://localhost:8080/"
    },
    "id": "gkhYmjsxCshc",
    "outputId": "25b1605c-a552-4bcb-d004-3060982aa7b4"
   },
   "outputs": [
    {
     "data": {
      "text/plain": [
       "(1, 2048)"
      ]
     },
     "execution_count": 47,
     "metadata": {
      "tags": []
     },
     "output_type": "execute_result"
    }
   ],
   "source": [
    "Xnet_features_attention['T_RAJESWARI_45Y_F_1'].shape"
   ]
  },
  {
   "cell_type": "code",
   "execution_count": null,
   "metadata": {
    "id": "vRWNOHx6tCjb"
   },
   "outputs": [],
   "source": [
    "# Xnet_features_attention['Scanned Images/CXR1_1_IM-0001_0'].shape"
   ]
  },
  {
   "cell_type": "code",
   "execution_count": null,
   "metadata": {
    "id": "NmL1KemHtFHL"
   },
   "outputs": [],
   "source": [
    "\n",
    "# save the file for future use\n",
    "f = open('Image_features_attention_restnet50.pickle','wb')\n",
    "pickle.dump(Xnet_features_attention, f)\n",
    "f.close()"
   ]
  },
  {
   "cell_type": "code",
   "execution_count": null,
   "metadata": {
    "id": "fuEFySEPCItW"
   },
   "outputs": [],
   "source": []
  },
  {
   "cell_type": "markdown",
   "metadata": {
    "id": "GUQL5kAwCwhe"
   },
   "source": [
    "# DA and Cleaning"
   ]
  },
  {
   "cell_type": "code",
   "execution_count": null,
   "metadata": {
    "colab": {
     "base_uri": "https://localhost:8080/",
     "height": 204
    },
    "id": "hmEYtklXCxz0",
    "outputId": "5b822c74-f04b-4057-ea41-9fb4df0b7cf1"
   },
   "outputs": [
    {
     "data": {
      "text/html": [
       "<div>\n",
       "<style scoped>\n",
       "    .dataframe tbody tr th:only-of-type {\n",
       "        vertical-align: middle;\n",
       "    }\n",
       "\n",
       "    .dataframe tbody tr th {\n",
       "        vertical-align: top;\n",
       "    }\n",
       "\n",
       "    .dataframe thead th {\n",
       "        text-align: right;\n",
       "    }\n",
       "</style>\n",
       "<table border=\"1\" class=\"dataframe\">\n",
       "  <thead>\n",
       "    <tr style=\"text-align: right;\">\n",
       "      <th></th>\n",
       "      <th>Image_path</th>\n",
       "      <th>Finding</th>\n",
       "    </tr>\n",
       "  </thead>\n",
       "  <tbody>\n",
       "    <tr>\n",
       "      <th>0</th>\n",
       "      <td>Data/S_RAMBABU_32Y_M_3.jpg</td>\n",
       "      <td>Central disc protrusion is at L5-S1 level, com...</td>\n",
       "    </tr>\n",
       "    <tr>\n",
       "      <th>1</th>\n",
       "      <td>Data/CH_SRIKANTH_23Y_M_5.jpg</td>\n",
       "      <td>Collapse of L1 vertebra is with focal spinal c...</td>\n",
       "    </tr>\n",
       "    <tr>\n",
       "      <th>2</th>\n",
       "      <td>Data/N_SAVITHRI_45Y_F_4.jpg</td>\n",
       "      <td>Mild diffuse disc bulge is at L3-L4, L4-L5, L5...</td>\n",
       "    </tr>\n",
       "    <tr>\n",
       "      <th>3</th>\n",
       "      <td>Data/N_ANNA_PURNAMMA_84Y_F_1.jpg</td>\n",
       "      <td>Small Disc osteophyte complexes are at C3-C4, ...</td>\n",
       "    </tr>\n",
       "    <tr>\n",
       "      <th>4</th>\n",
       "      <td>Data/S_KOTESWARA_RAO_50Y_M_4.jpg</td>\n",
       "      <td>PLIF status is noted at L4,L5 level.Post opera...</td>\n",
       "    </tr>\n",
       "  </tbody>\n",
       "</table>\n",
       "</div>"
      ],
      "text/plain": [
       "                         Image_path                                            Finding\n",
       "0        Data/S_RAMBABU_32Y_M_3.jpg  Central disc protrusion is at L5-S1 level, com...\n",
       "1      Data/CH_SRIKANTH_23Y_M_5.jpg  Collapse of L1 vertebra is with focal spinal c...\n",
       "2       Data/N_SAVITHRI_45Y_F_4.jpg  Mild diffuse disc bulge is at L3-L4, L4-L5, L5...\n",
       "3  Data/N_ANNA_PURNAMMA_84Y_F_1.jpg  Small Disc osteophyte complexes are at C3-C4, ...\n",
       "4  Data/S_KOTESWARA_RAO_50Y_M_4.jpg  PLIF status is noted at L4,L5 level.Post opera..."
      ]
     },
     "execution_count": 49,
     "metadata": {
      "tags": []
     },
     "output_type": "execute_result"
    }
   ],
   "source": [
    "images_train.head()"
   ]
  },
  {
   "cell_type": "code",
   "execution_count": null,
   "metadata": {
    "id": "7Xs547SrC0H2"
   },
   "outputs": [],
   "source": [
    "# dataset['Finding'].str.contains('.|,',regex=True)"
   ]
  },
  {
   "cell_type": "code",
   "execution_count": null,
   "metadata": {
    "id": "j_-TK943yaaS"
   },
   "outputs": [],
   "source": [
    "#PRE-PROCESSING the Impressions Text data\n",
    "def rem_punctuations(text):\n",
    "    '''Removes punctuations'''\n",
    "    punctuations = '''!()[]{};:'\"\\,<>/?@#$%^&*~''' # full stop is not removed\n",
    "    new_text = []\n",
    "    for line in text:\n",
    "        for char in line:\n",
    "            if char in punctuations: \n",
    "                line = line.replace(char, \" \")\n",
    "        new_text.append(' '.join(e for e in line.split()))\n",
    "    return new_text\n",
    "\n",
    "def multiple_spaces(text):\n",
    "    new_text = []\n",
    "    for line in text:\n",
    "        temp = ' '.join(e for e in line.split())  # removes multiple_spaces\n",
    "        temp = re.sub(\"'\",'',temp)                # removes apostrophes\n",
    "        temp = re.sub('\\.', ' .', temp)           # addding aspace before fullstop\n",
    "        temp = re.sub(r'\\.\\.+', '.', temp)        # Removes multiple full stops from the text\n",
    "        new_text.append(temp.lower())             # Converts to lowercase\n",
    "    return new_text\n"
   ]
  },
  {
   "cell_type": "code",
   "execution_count": null,
   "metadata": {
    "id": "dAMmL6gzy01d"
   },
   "outputs": [],
   "source": [
    "def text_preprocessing(text):\n",
    "    '''Combines all the preprocess functions'''\n",
    "    new_text = rem_punctuations(text)\n",
    "    new_text = multiple_spaces(new_text)\n",
    "  \n",
    "    return new_text"
   ]
  },
  {
   "cell_type": "code",
   "execution_count": null,
   "metadata": {
    "id": "b41eS_ZN2xLq"
   },
   "outputs": [],
   "source": [
    "images_train['Finding'] = text_preprocessing(images_train['Finding'])\n",
    "images_test['Finding'] = text_preprocessing(images_test['Finding'])\n",
    "# Flaval hypertrophy is at all levels in lumbar spine.Diffuse disc bulge is at L4-L5, L5-S1 levels, compressing thecal sac with focal spinal canal narrowing, encroaching bilateral neural foramen. "
   ]
  },
  {
   "cell_type": "code",
   "execution_count": null,
   "metadata": {
    "colab": {
     "base_uri": "https://localhost:8080/",
     "height": 204
    },
    "id": "GW1lc3lu9Jqi",
    "outputId": "e2ccd15c-8331-4346-9f75-a06692a53bd5"
   },
   "outputs": [
    {
     "data": {
      "text/html": [
       "<div>\n",
       "<style scoped>\n",
       "    .dataframe tbody tr th:only-of-type {\n",
       "        vertical-align: middle;\n",
       "    }\n",
       "\n",
       "    .dataframe tbody tr th {\n",
       "        vertical-align: top;\n",
       "    }\n",
       "\n",
       "    .dataframe thead th {\n",
       "        text-align: right;\n",
       "    }\n",
       "</style>\n",
       "<table border=\"1\" class=\"dataframe\">\n",
       "  <thead>\n",
       "    <tr style=\"text-align: right;\">\n",
       "      <th></th>\n",
       "      <th>Image_path</th>\n",
       "      <th>Finding</th>\n",
       "    </tr>\n",
       "  </thead>\n",
       "  <tbody>\n",
       "    <tr>\n",
       "      <th>0</th>\n",
       "      <td>Data/S_RAMBABU_32Y_M_3.jpg</td>\n",
       "      <td>central disc protrusion is at l5-s1 level comp...</td>\n",
       "    </tr>\n",
       "    <tr>\n",
       "      <th>1</th>\n",
       "      <td>Data/CH_SRIKANTH_23Y_M_5.jpg</td>\n",
       "      <td>collapse of l1 vertebra is with focal spinal c...</td>\n",
       "    </tr>\n",
       "    <tr>\n",
       "      <th>2</th>\n",
       "      <td>Data/N_SAVITHRI_45Y_F_4.jpg</td>\n",
       "      <td>mild diffuse disc bulge is at l3-l4 l4-l5 l5-s...</td>\n",
       "    </tr>\n",
       "    <tr>\n",
       "      <th>3</th>\n",
       "      <td>Data/N_ANNA_PURNAMMA_84Y_F_1.jpg</td>\n",
       "      <td>small disc osteophyte complexes are at c3-c4 c...</td>\n",
       "    </tr>\n",
       "    <tr>\n",
       "      <th>4</th>\n",
       "      <td>Data/S_KOTESWARA_RAO_50Y_M_4.jpg</td>\n",
       "      <td>plif status is noted at l4 l5 level .post oper...</td>\n",
       "    </tr>\n",
       "  </tbody>\n",
       "</table>\n",
       "</div>"
      ],
      "text/plain": [
       "                         Image_path                                            Finding\n",
       "0        Data/S_RAMBABU_32Y_M_3.jpg  central disc protrusion is at l5-s1 level comp...\n",
       "1      Data/CH_SRIKANTH_23Y_M_5.jpg  collapse of l1 vertebra is with focal spinal c...\n",
       "2       Data/N_SAVITHRI_45Y_F_4.jpg  mild diffuse disc bulge is at l3-l4 l4-l5 l5-s...\n",
       "3  Data/N_ANNA_PURNAMMA_84Y_F_1.jpg  small disc osteophyte complexes are at c3-c4 c...\n",
       "4  Data/S_KOTESWARA_RAO_50Y_M_4.jpg  plif status is noted at l4 l5 level .post oper..."
      ]
     },
     "execution_count": 54,
     "metadata": {
      "tags": []
     },
     "output_type": "execute_result"
    }
   ],
   "source": [
    "images_train.head(5)"
   ]
  },
  {
   "cell_type": "code",
   "execution_count": null,
   "metadata": {
    "id": "_tolqyZR9MG4"
   },
   "outputs": [],
   "source": [
    "l = [len(e.split()) for e in images_train['Finding'].values]\n",
    "max_len= max(l)"
   ]
  },
  {
   "cell_type": "code",
   "execution_count": null,
   "metadata": {
    "colab": {
     "base_uri": "https://localhost:8080/",
     "height": 203
    },
    "id": "MQV1LBQtAWVO",
    "outputId": "5946d3d1-9763-4f52-8349-0ef530327718"
   },
   "outputs": [
    {
     "data": {
      "text/html": [
       "<div>\n",
       "<style scoped>\n",
       "    .dataframe tbody tr th:only-of-type {\n",
       "        vertical-align: middle;\n",
       "    }\n",
       "\n",
       "    .dataframe tbody tr th {\n",
       "        vertical-align: top;\n",
       "    }\n",
       "\n",
       "    .dataframe thead th {\n",
       "        text-align: right;\n",
       "    }\n",
       "</style>\n",
       "<table border=\"1\" class=\"dataframe\">\n",
       "  <thead>\n",
       "    <tr style=\"text-align: right;\">\n",
       "      <th></th>\n",
       "      <th>Image_path</th>\n",
       "      <th>Finding</th>\n",
       "    </tr>\n",
       "  </thead>\n",
       "  <tbody>\n",
       "    <tr>\n",
       "      <th>0</th>\n",
       "      <td>Data/K_SEEMA_27Y_14.jpg</td>\n",
       "      <td>no significant abnormality detected .</td>\n",
       "    </tr>\n",
       "    <tr>\n",
       "      <th>1</th>\n",
       "      <td>Data/K_JHANSI_RANI_60Y_F_5.jpg</td>\n",
       "      <td>diffuse disc bulge is at l3-l4 l4-l5 l5-s1 lev...</td>\n",
       "    </tr>\n",
       "    <tr>\n",
       "      <th>2</th>\n",
       "      <td>Data/KHASIM_BIAG_31Y_4.jpg</td>\n",
       "      <td>no significant abnormality detected .</td>\n",
       "    </tr>\n",
       "    <tr>\n",
       "      <th>3</th>\n",
       "      <td>Data/U_VIJAYA_45Y_F_5.jpg</td>\n",
       "      <td>grade 1 retrolisthesis is at l5-s1 level with ...</td>\n",
       "    </tr>\n",
       "    <tr>\n",
       "      <th>4</th>\n",
       "      <td>Data/D_TIRUPATHAMMA_40Y_F_3.jpg</td>\n",
       "      <td>small disc osteophyte complexes are at c3-c4 c...</td>\n",
       "    </tr>\n",
       "  </tbody>\n",
       "</table>\n",
       "</div>"
      ],
      "text/plain": [
       "                        Image_path                                            Finding\n",
       "0          Data/K_SEEMA_27Y_14.jpg              no significant abnormality detected .\n",
       "1   Data/K_JHANSI_RANI_60Y_F_5.jpg  diffuse disc bulge is at l3-l4 l4-l5 l5-s1 lev...\n",
       "2       Data/KHASIM_BIAG_31Y_4.jpg              no significant abnormality detected .\n",
       "3        Data/U_VIJAYA_45Y_F_5.jpg  grade 1 retrolisthesis is at l5-s1 level with ...\n",
       "4  Data/D_TIRUPATHAMMA_40Y_F_3.jpg  small disc osteophyte complexes are at c3-c4 c..."
      ]
     },
     "execution_count": 86,
     "metadata": {
      "tags": []
     },
     "output_type": "execute_result"
    }
   ],
   "source": [
    "images_train.head(5)"
   ]
  },
  {
   "cell_type": "code",
   "execution_count": null,
   "metadata": {
    "colab": {
     "base_uri": "https://localhost:8080/",
     "height": 298
    },
    "id": "wV2aUWGPAYpJ",
    "outputId": "981e4c14-7c34-4d20-fd16-baede3480d6e"
   },
   "outputs": [
    {
     "data": {
      "text/plain": [
       "Text(0, 0.5, 'Number of words')"
      ]
     },
     "execution_count": 87,
     "metadata": {
      "tags": []
     },
     "output_type": "execute_result"
    },
    {
     "data": {
      "image/png": "[encoded data removed]",
      "text/plain": [
       "<Figure size 432x288 with 1 Axes>"
      ]
     },
     "metadata": {
      "needs_background": "light",
      "tags": []
     },
     "output_type": "display_data"
    }
   ],
   "source": [
    "plt.title('Number of Words per Report')\n",
    "sns.scatterplot(range(images_train.shape[0]), l)\n",
    "plt.ylabel('Number of words')"
   ]
  },
  {
   "cell_type": "code",
   "execution_count": null,
   "metadata": {
    "id": "atv4ExDdAtby"
   },
   "outputs": [],
   "source": [
    "\n",
    "l = []\n",
    "for i in images_train['Finding'].values:\n",
    "    l.extend(i.split())\n",
    "\n",
    "\n",
    "c = Counter(l)\n",
    "\n",
    "words = []\n",
    "count = []\n",
    "for k,v in c.items():\n",
    "    words.append(k)\n",
    "    count.append(v)\n",
    "words_count = list(zip(count, words))\n",
    "\n",
    "\n",
    "top_50_words = sorted(words_count)[::-1][:50]\n",
    "bottom_50_words = sorted(words_count)[:50]"
   ]
  },
  {
   "cell_type": "code",
   "execution_count": null,
   "metadata": {
    "colab": {
     "base_uri": "https://localhost:8080/",
     "height": 403
    },
    "id": "VNarj8IxA1Q9",
    "outputId": "6a63b7a8-5d87-4042-c2b4-c133feb28c5c"
   },
   "outputs": [
    {
     "data": {
      "image/png": "[encoded data removed]",
      "text/plain": [
       "<Figure size 1080x360 with 1 Axes>"
      ]
     },
     "metadata": {
      "needs_background": "light",
      "tags": []
     },
     "output_type": "display_data"
    }
   ],
   "source": [
    "plt.figure(figsize=(15,5))\n",
    "plt.bar(range(50), [c for c,w in top_50_words])\n",
    "plt.title('Top 50 Most Occuring Words')\n",
    "plt.xlabel('Words')\n",
    "plt.ylabel('Count')\n",
    "plt.xticks(ticks=range(50), labels=[w for c,w in top_50_words], rotation=90);"
   ]
  },
  {
   "cell_type": "code",
   "execution_count": null,
   "metadata": {
    "colab": {
     "base_uri": "https://localhost:8080/",
     "height": 432
    },
    "id": "SdLZV3yYDk0Y",
    "outputId": "98a4c168-418a-4bf1-9790-46918db94813"
   },
   "outputs": [
    {
     "data": {
      "image/png": "[encoded data removed]",
      "text/plain": [
       "<Figure size 1080x360 with 1 Axes>"
      ]
     },
     "metadata": {
      "needs_background": "light",
      "tags": []
     },
     "output_type": "display_data"
    }
   ],
   "source": [
    "plt.figure(figsize=(15,5))\n",
    "plt.bar(range(50), [c for c,w in bottom_50_words])\n",
    "plt.title('Top 50 Least Occuring Words')\n",
    "plt.xlabel('Words')\n",
    "plt.ylabel('Count')\n",
    "plt.xticks(ticks=range(50), labels=[w for c,w in bottom_50_words], rotation=90);"
   ]
  },
  {
   "cell_type": "code",
   "execution_count": null,
   "metadata": {
    "colab": {
     "base_uri": "https://localhost:8080/",
     "height": 716
    },
    "id": "oo9i6Xa2EH3E",
    "outputId": "49375ba1-944c-49d1-b69d-4f24fee638a2"
   },
   "outputs": [
    {
     "data": {
      "image/png": "[encoded data removed]",
      "text/plain": [
       "<Figure size 864x864 with 1 Axes>"
      ]
     },
     "metadata": {
      "needs_background": "light",
      "tags": []
     },
     "output_type": "display_data"
    }
   ],
   "source": [
    "w = WordCloud(height=1500, width=1500).generate(str(l))\n",
    "\n",
    "plt.figure(figsize=(12,12))\n",
    "plt.title('WordCloud of Reports')\n",
    "plt.imshow(w);"
   ]
  },
  {
   "cell_type": "code",
   "execution_count": null,
   "metadata": {
    "id": "ToYm0BNkWGcb"
   },
   "outputs": [],
   "source": [
    "def remodelling(x):\n",
    "    '''adds start and end tokens to a sentence '''\n",
    "    return '<start>' + ' ' + x + ' ' + '<end>'\n",
    "images_train['Finding'] = images_train['Finding'].apply(lambda x : remodelling(x))\n",
    "images_test['Finding'] = images_test['Finding'].apply(lambda x : remodelling(x))"
   ]
  },
  {
   "cell_type": "code",
   "execution_count": null,
   "metadata": {
    "id": "-UmqJQbuEOFE"
   },
   "outputs": [],
   "source": [
    "# save the cleaned data(STRUCTURED DATA)\n",
    "images_train.to_csv('Train_Data.csv', index=False)\n",
    "images_test.to_csv('Test_Data.csv', index=False)"
   ]
  },
  {
   "cell_type": "code",
   "execution_count": null,
   "metadata": {
    "id": "A7eCOON5kFXj"
   },
   "outputs": [],
   "source": []
  },
  {
   "cell_type": "code",
   "execution_count": null,
   "metadata": {
    "id": "zyHOlw9sE8It"
   },
   "outputs": [],
   "source": []
  },
  {
   "cell_type": "markdown",
   "metadata": {
    "id": "rEeR6awUUJDh"
   },
   "source": [
    "#Encoder - Decoder"
   ]
  },
  {
   "cell_type": "code",
   "execution_count": null,
   "metadata": {
    "id": "0hiCjup9HH7N"
   },
   "outputs": [],
   "source": [
    "train_dataset = pd.read_csv('Train_Data.csv')\n",
    "test_dataset = pd.read_csv('Test_Data.csv')"
   ]
  },
  {
   "cell_type": "code",
   "execution_count": null,
   "metadata": {
    "colab": {
     "base_uri": "https://localhost:8080/"
    },
    "id": "hMO10YVeUTv5",
    "outputId": "a02d30f9-9876-477c-db98-99fd23ff5f0f"
   },
   "outputs": [
    {
     "data": {
      "text/plain": [
       "((400, 2), (159, 2))"
      ]
     },
     "execution_count": 59,
     "metadata": {
      "tags": []
     },
     "output_type": "execute_result"
    }
   ],
   "source": [
    "train_dataset.shape, test_dataset.shape"
   ]
  },
  {
   "cell_type": "code",
   "execution_count": null,
   "metadata": {
    "id": "WuHiSl2KyYp8"
   },
   "outputs": [],
   "source": [
    "def get_id(x):\n",
    "  id = x.split('/')[1].split('.')[0]\n",
    "  return id"
   ]
  },
  {
   "cell_type": "code",
   "execution_count": null,
   "metadata": {
    "id": "nD-2GeK2yzuI"
   },
   "outputs": [],
   "source": [
    "train_dataset['id'] = train_dataset['Image_path'].apply(get_id)\n",
    "test_dataset['id'] = test_dataset['Image_path'].apply(get_id)"
   ]
  },
  {
   "cell_type": "code",
   "execution_count": null,
   "metadata": {
    "colab": {
     "base_uri": "https://localhost:8080/",
     "height": 419
    },
    "id": "k-1KYQHDVepm",
    "outputId": "a2fcb46b-c231-45e8-cb29-acff6def314a"
   },
   "outputs": [
    {
     "data": {
      "text/html": [
       "<div>\n",
       "<style scoped>\n",
       "    .dataframe tbody tr th:only-of-type {\n",
       "        vertical-align: middle;\n",
       "    }\n",
       "\n",
       "    .dataframe tbody tr th {\n",
       "        vertical-align: top;\n",
       "    }\n",
       "\n",
       "    .dataframe thead th {\n",
       "        text-align: right;\n",
       "    }\n",
       "</style>\n",
       "<table border=\"1\" class=\"dataframe\">\n",
       "  <thead>\n",
       "    <tr style=\"text-align: right;\">\n",
       "      <th></th>\n",
       "      <th>Image_path</th>\n",
       "      <th>Finding</th>\n",
       "      <th>id</th>\n",
       "    </tr>\n",
       "  </thead>\n",
       "  <tbody>\n",
       "    <tr>\n",
       "      <th>0</th>\n",
       "      <td>Data/D_GOPI_KRISHNA_REDDY_20Y_M_4.jpg</td>\n",
       "      <td>&lt;start&gt; diffuse disc bulge is at l3-l4 l4-l5 l...</td>\n",
       "      <td>D_GOPI_KRISHNA_REDDY_20Y_M_4</td>\n",
       "    </tr>\n",
       "    <tr>\n",
       "      <th>1</th>\n",
       "      <td>Data/K_SEEMA_27Y_11.jpg</td>\n",
       "      <td>&lt;start&gt; no significant abnormality detected . ...</td>\n",
       "      <td>K_SEEMA_27Y_11</td>\n",
       "    </tr>\n",
       "    <tr>\n",
       "      <th>2</th>\n",
       "      <td>Data/A_NARASAMMA_62Y_F_5.jpg</td>\n",
       "      <td>&lt;start&gt; post operative changes in posterior el...</td>\n",
       "      <td>A_NARASAMMA_62Y_F_5</td>\n",
       "    </tr>\n",
       "    <tr>\n",
       "      <th>3</th>\n",
       "      <td>Data/D_CHINA_BRAHAMAIAH_60Y_M_5.jpg</td>\n",
       "      <td>&lt;start&gt; grade 1 spondylolisthesis is at l5-s1 ...</td>\n",
       "      <td>D_CHINA_BRAHAMAIAH_60Y_M_5</td>\n",
       "    </tr>\n",
       "    <tr>\n",
       "      <th>4</th>\n",
       "      <td>Data/S_NAGA_RATNAM_70Y_F_3.jpg</td>\n",
       "      <td>&lt;start&gt; c3 c4 congenital block vertebra is not...</td>\n",
       "      <td>S_NAGA_RATNAM_70Y_F_3</td>\n",
       "    </tr>\n",
       "    <tr>\n",
       "      <th>...</th>\n",
       "      <td>...</td>\n",
       "      <td>...</td>\n",
       "      <td>...</td>\n",
       "    </tr>\n",
       "    <tr>\n",
       "      <th>154</th>\n",
       "      <td>Data/A_NARASAMMA_45Y_F_4.jpg</td>\n",
       "      <td>&lt;start&gt; diffuse disc bulge is noted at l3-l4 l...</td>\n",
       "      <td>A_NARASAMMA_45Y_F_4</td>\n",
       "    </tr>\n",
       "    <tr>\n",
       "      <th>155</th>\n",
       "      <td>Data/D_JAYA_RAMULU_55Y_M_1.jpg</td>\n",
       "      <td>&lt;start&gt; small disc osteophyte complexes are at...</td>\n",
       "      <td>D_JAYA_RAMULU_55Y_M_1</td>\n",
       "    </tr>\n",
       "    <tr>\n",
       "      <th>156</th>\n",
       "      <td>Data/B_PARAIAH_48Y_11.jpg</td>\n",
       "      <td>&lt;start&gt; no significant abnormality detected . ...</td>\n",
       "      <td>B_PARAIAH_48Y_11</td>\n",
       "    </tr>\n",
       "    <tr>\n",
       "      <th>157</th>\n",
       "      <td>Data/P_HARSHITHA_15Y_19.jpg</td>\n",
       "      <td>&lt;start&gt; no significant abnormality detected . ...</td>\n",
       "      <td>P_HARSHITHA_15Y_19</td>\n",
       "    </tr>\n",
       "    <tr>\n",
       "      <th>158</th>\n",
       "      <td>Data/S_RAMBABU_32Y_M_5.jpg</td>\n",
       "      <td>&lt;start&gt; central disc protrusion is at l5-s1 le...</td>\n",
       "      <td>S_RAMBABU_32Y_M_5</td>\n",
       "    </tr>\n",
       "  </tbody>\n",
       "</table>\n",
       "<p>159 rows × 3 columns</p>\n",
       "</div>"
      ],
      "text/plain": [
       "                                Image_path  ...                            id\n",
       "0    Data/D_GOPI_KRISHNA_REDDY_20Y_M_4.jpg  ...  D_GOPI_KRISHNA_REDDY_20Y_M_4\n",
       "1                  Data/K_SEEMA_27Y_11.jpg  ...                K_SEEMA_27Y_11\n",
       "2             Data/A_NARASAMMA_62Y_F_5.jpg  ...           A_NARASAMMA_62Y_F_5\n",
       "3      Data/D_CHINA_BRAHAMAIAH_60Y_M_5.jpg  ...    D_CHINA_BRAHAMAIAH_60Y_M_5\n",
       "4           Data/S_NAGA_RATNAM_70Y_F_3.jpg  ...         S_NAGA_RATNAM_70Y_F_3\n",
       "..                                     ...  ...                           ...\n",
       "154           Data/A_NARASAMMA_45Y_F_4.jpg  ...           A_NARASAMMA_45Y_F_4\n",
       "155         Data/D_JAYA_RAMULU_55Y_M_1.jpg  ...         D_JAYA_RAMULU_55Y_M_1\n",
       "156              Data/B_PARAIAH_48Y_11.jpg  ...              B_PARAIAH_48Y_11\n",
       "157            Data/P_HARSHITHA_15Y_19.jpg  ...            P_HARSHITHA_15Y_19\n",
       "158             Data/S_RAMBABU_32Y_M_5.jpg  ...             S_RAMBABU_32Y_M_5\n",
       "\n",
       "[159 rows x 3 columns]"
      ]
     },
     "execution_count": 62,
     "metadata": {
      "tags": []
     },
     "output_type": "execute_result"
    }
   ],
   "source": [
    "test_dataset"
   ]
  },
  {
   "cell_type": "code",
   "execution_count": null,
   "metadata": {
    "colab": {
     "base_uri": "https://localhost:8080/",
     "height": 204
    },
    "id": "ssPQKsc5lHcX",
    "outputId": "ba6d571e-2b60-4587-9116-c95c137bf1f1"
   },
   "outputs": [
    {
     "data": {
      "text/html": [
       "<div>\n",
       "<style scoped>\n",
       "    .dataframe tbody tr th:only-of-type {\n",
       "        vertical-align: middle;\n",
       "    }\n",
       "\n",
       "    .dataframe tbody tr th {\n",
       "        vertical-align: top;\n",
       "    }\n",
       "\n",
       "    .dataframe thead th {\n",
       "        text-align: right;\n",
       "    }\n",
       "</style>\n",
       "<table border=\"1\" class=\"dataframe\">\n",
       "  <thead>\n",
       "    <tr style=\"text-align: right;\">\n",
       "      <th></th>\n",
       "      <th>Image_path</th>\n",
       "      <th>Finding</th>\n",
       "      <th>id</th>\n",
       "    </tr>\n",
       "  </thead>\n",
       "  <tbody>\n",
       "    <tr>\n",
       "      <th>0</th>\n",
       "      <td>Data/S_RAMBABU_32Y_M_3.jpg</td>\n",
       "      <td>&lt;start&gt; central disc protrusion is at l5-s1 le...</td>\n",
       "      <td>S_RAMBABU_32Y_M_3</td>\n",
       "    </tr>\n",
       "    <tr>\n",
       "      <th>1</th>\n",
       "      <td>Data/CH_SRIKANTH_23Y_M_5.jpg</td>\n",
       "      <td>&lt;start&gt; collapse of l1 vertebra is with focal ...</td>\n",
       "      <td>CH_SRIKANTH_23Y_M_5</td>\n",
       "    </tr>\n",
       "    <tr>\n",
       "      <th>2</th>\n",
       "      <td>Data/N_SAVITHRI_45Y_F_4.jpg</td>\n",
       "      <td>&lt;start&gt; mild diffuse disc bulge is at l3-l4 l4...</td>\n",
       "      <td>N_SAVITHRI_45Y_F_4</td>\n",
       "    </tr>\n",
       "    <tr>\n",
       "      <th>3</th>\n",
       "      <td>Data/N_ANNA_PURNAMMA_84Y_F_1.jpg</td>\n",
       "      <td>&lt;start&gt; small disc osteophyte complexes are at...</td>\n",
       "      <td>N_ANNA_PURNAMMA_84Y_F_1</td>\n",
       "    </tr>\n",
       "    <tr>\n",
       "      <th>4</th>\n",
       "      <td>Data/S_KOTESWARA_RAO_50Y_M_4.jpg</td>\n",
       "      <td>&lt;start&gt; plif status is noted at l4 l5 level .p...</td>\n",
       "      <td>S_KOTESWARA_RAO_50Y_M_4</td>\n",
       "    </tr>\n",
       "  </tbody>\n",
       "</table>\n",
       "</div>"
      ],
      "text/plain": [
       "                         Image_path  ...                       id\n",
       "0        Data/S_RAMBABU_32Y_M_3.jpg  ...        S_RAMBABU_32Y_M_3\n",
       "1      Data/CH_SRIKANTH_23Y_M_5.jpg  ...      CH_SRIKANTH_23Y_M_5\n",
       "2       Data/N_SAVITHRI_45Y_F_4.jpg  ...       N_SAVITHRI_45Y_F_4\n",
       "3  Data/N_ANNA_PURNAMMA_84Y_F_1.jpg  ...  N_ANNA_PURNAMMA_84Y_F_1\n",
       "4  Data/S_KOTESWARA_RAO_50Y_M_4.jpg  ...  S_KOTESWARA_RAO_50Y_M_4\n",
       "\n",
       "[5 rows x 3 columns]"
      ]
     },
     "execution_count": 63,
     "metadata": {
      "tags": []
     },
     "output_type": "execute_result"
    }
   ],
   "source": [
    "train_dataset.head()"
   ]
  },
  {
   "cell_type": "code",
   "execution_count": null,
   "metadata": {
    "colab": {
     "base_uri": "https://localhost:8080/",
     "height": 419
    },
    "id": "lWYMFl-aLcv3",
    "outputId": "7cf3be2e-4c51-4fbf-c3b3-8996c39bd9f5"
   },
   "outputs": [
    {
     "data": {
      "text/html": [
       "<div>\n",
       "<style scoped>\n",
       "    .dataframe tbody tr th:only-of-type {\n",
       "        vertical-align: middle;\n",
       "    }\n",
       "\n",
       "    .dataframe tbody tr th {\n",
       "        vertical-align: top;\n",
       "    }\n",
       "\n",
       "    .dataframe thead th {\n",
       "        text-align: right;\n",
       "    }\n",
       "</style>\n",
       "<table border=\"1\" class=\"dataframe\">\n",
       "  <thead>\n",
       "    <tr style=\"text-align: right;\">\n",
       "      <th></th>\n",
       "      <th>Image_path</th>\n",
       "      <th>Finding</th>\n",
       "      <th>id</th>\n",
       "    </tr>\n",
       "  </thead>\n",
       "  <tbody>\n",
       "    <tr>\n",
       "      <th>0</th>\n",
       "      <td>Data/D_GOPI_KRISHNA_REDDY_20Y_M_4.jpg</td>\n",
       "      <td>&lt;start&gt; diffuse disc bulge is at l3-l4 l4-l5 l...</td>\n",
       "      <td>D_GOPI_KRISHNA_REDDY_20Y_M_4</td>\n",
       "    </tr>\n",
       "    <tr>\n",
       "      <th>1</th>\n",
       "      <td>Data/K_SEEMA_27Y_11.jpg</td>\n",
       "      <td>&lt;start&gt; no significant abnormality detected . ...</td>\n",
       "      <td>K_SEEMA_27Y_11</td>\n",
       "    </tr>\n",
       "    <tr>\n",
       "      <th>2</th>\n",
       "      <td>Data/A_NARASAMMA_62Y_F_5.jpg</td>\n",
       "      <td>&lt;start&gt; post operative changes in posterior el...</td>\n",
       "      <td>A_NARASAMMA_62Y_F_5</td>\n",
       "    </tr>\n",
       "    <tr>\n",
       "      <th>3</th>\n",
       "      <td>Data/D_CHINA_BRAHAMAIAH_60Y_M_5.jpg</td>\n",
       "      <td>&lt;start&gt; grade 1 spondylolisthesis is at l5-s1 ...</td>\n",
       "      <td>D_CHINA_BRAHAMAIAH_60Y_M_5</td>\n",
       "    </tr>\n",
       "    <tr>\n",
       "      <th>4</th>\n",
       "      <td>Data/S_NAGA_RATNAM_70Y_F_3.jpg</td>\n",
       "      <td>&lt;start&gt; c3 c4 congenital block vertebra is not...</td>\n",
       "      <td>S_NAGA_RATNAM_70Y_F_3</td>\n",
       "    </tr>\n",
       "    <tr>\n",
       "      <th>...</th>\n",
       "      <td>...</td>\n",
       "      <td>...</td>\n",
       "      <td>...</td>\n",
       "    </tr>\n",
       "    <tr>\n",
       "      <th>154</th>\n",
       "      <td>Data/A_NARASAMMA_45Y_F_4.jpg</td>\n",
       "      <td>&lt;start&gt; diffuse disc bulge is noted at l3-l4 l...</td>\n",
       "      <td>A_NARASAMMA_45Y_F_4</td>\n",
       "    </tr>\n",
       "    <tr>\n",
       "      <th>155</th>\n",
       "      <td>Data/D_JAYA_RAMULU_55Y_M_1.jpg</td>\n",
       "      <td>&lt;start&gt; small disc osteophyte complexes are at...</td>\n",
       "      <td>D_JAYA_RAMULU_55Y_M_1</td>\n",
       "    </tr>\n",
       "    <tr>\n",
       "      <th>156</th>\n",
       "      <td>Data/B_PARAIAH_48Y_11.jpg</td>\n",
       "      <td>&lt;start&gt; no significant abnormality detected . ...</td>\n",
       "      <td>B_PARAIAH_48Y_11</td>\n",
       "    </tr>\n",
       "    <tr>\n",
       "      <th>157</th>\n",
       "      <td>Data/P_HARSHITHA_15Y_19.jpg</td>\n",
       "      <td>&lt;start&gt; no significant abnormality detected . ...</td>\n",
       "      <td>P_HARSHITHA_15Y_19</td>\n",
       "    </tr>\n",
       "    <tr>\n",
       "      <th>158</th>\n",
       "      <td>Data/S_RAMBABU_32Y_M_5.jpg</td>\n",
       "      <td>&lt;start&gt; central disc protrusion is at l5-s1 le...</td>\n",
       "      <td>S_RAMBABU_32Y_M_5</td>\n",
       "    </tr>\n",
       "  </tbody>\n",
       "</table>\n",
       "<p>159 rows × 3 columns</p>\n",
       "</div>"
      ],
      "text/plain": [
       "                                Image_path  ...                            id\n",
       "0    Data/D_GOPI_KRISHNA_REDDY_20Y_M_4.jpg  ...  D_GOPI_KRISHNA_REDDY_20Y_M_4\n",
       "1                  Data/K_SEEMA_27Y_11.jpg  ...                K_SEEMA_27Y_11\n",
       "2             Data/A_NARASAMMA_62Y_F_5.jpg  ...           A_NARASAMMA_62Y_F_5\n",
       "3      Data/D_CHINA_BRAHAMAIAH_60Y_M_5.jpg  ...    D_CHINA_BRAHAMAIAH_60Y_M_5\n",
       "4           Data/S_NAGA_RATNAM_70Y_F_3.jpg  ...         S_NAGA_RATNAM_70Y_F_3\n",
       "..                                     ...  ...                           ...\n",
       "154           Data/A_NARASAMMA_45Y_F_4.jpg  ...           A_NARASAMMA_45Y_F_4\n",
       "155         Data/D_JAYA_RAMULU_55Y_M_1.jpg  ...         D_JAYA_RAMULU_55Y_M_1\n",
       "156              Data/B_PARAIAH_48Y_11.jpg  ...              B_PARAIAH_48Y_11\n",
       "157            Data/P_HARSHITHA_15Y_19.jpg  ...            P_HARSHITHA_15Y_19\n",
       "158             Data/S_RAMBABU_32Y_M_5.jpg  ...             S_RAMBABU_32Y_M_5\n",
       "\n",
       "[159 rows x 3 columns]"
      ]
     },
     "execution_count": 64,
     "metadata": {
      "tags": []
     },
     "output_type": "execute_result"
    }
   ],
   "source": [
    "test_dataset"
   ]
  },
  {
   "cell_type": "code",
   "execution_count": null,
   "metadata": {
    "id": "-Ga7HhBvUV5g"
   },
   "outputs": [],
   "source": [
    "pad_size = 153   # Max length"
   ]
  },
  {
   "cell_type": "code",
   "execution_count": null,
   "metadata": {
    "id": "I9WaHX-4XRWH"
   },
   "outputs": [],
   "source": [
    "X_train, X_test = train_dataset['id'], test_dataset['id']\n",
    "y_train, y_test = train_dataset['Finding'], test_dataset['Finding']"
   ]
  },
  {
   "cell_type": "code",
   "execution_count": null,
   "metadata": {
    "colab": {
     "base_uri": "https://localhost:8080/"
    },
    "id": "eSV_u-bZqwUU",
    "outputId": "396cb1be-b133-4153-f6f4-c19f460d1b4b"
   },
   "outputs": [
    {
     "data": {
      "text/plain": [
       "0      D_GOPI_KRISHNA_REDDY_20Y_M_4\n",
       "1                    K_SEEMA_27Y_11\n",
       "2               A_NARASAMMA_62Y_F_5\n",
       "3        D_CHINA_BRAHAMAIAH_60Y_M_5\n",
       "4             S_NAGA_RATNAM_70Y_F_3\n",
       "                   ...             \n",
       "154             A_NARASAMMA_45Y_F_4\n",
       "155           D_JAYA_RAMULU_55Y_M_1\n",
       "156                B_PARAIAH_48Y_11\n",
       "157              P_HARSHITHA_15Y_19\n",
       "158               S_RAMBABU_32Y_M_5\n",
       "Name: id, Length: 159, dtype: object"
      ]
     },
     "execution_count": 67,
     "metadata": {
      "tags": []
     },
     "output_type": "execute_result"
    }
   ],
   "source": [
    "X_test"
   ]
  },
  {
   "cell_type": "code",
   "execution_count": null,
   "metadata": {
    "colab": {
     "base_uri": "https://localhost:8080/"
    },
    "id": "Yz8Yy8ffq1cl",
    "outputId": "20cd9f52-cfbe-4089-e45d-ca0aa6ec5ec1"
   },
   "outputs": [
    {
     "data": {
      "text/plain": [
       "0      <start> diffuse disc bulge is at l3-l4 l4-l5 l...\n",
       "1      <start> no significant abnormality detected . ...\n",
       "2      <start> post operative changes in posterior el...\n",
       "3      <start> grade 1 spondylolisthesis is at l5-s1 ...\n",
       "4      <start> c3 c4 congenital block vertebra is not...\n",
       "                             ...                        \n",
       "154    <start> diffuse disc bulge is noted at l3-l4 l...\n",
       "155    <start> small disc osteophyte complexes are at...\n",
       "156    <start> no significant abnormality detected . ...\n",
       "157    <start> no significant abnormality detected . ...\n",
       "158    <start> central disc protrusion is at l5-s1 le...\n",
       "Name: Finding, Length: 159, dtype: object"
      ]
     },
     "execution_count": 68,
     "metadata": {
      "tags": []
     },
     "output_type": "execute_result"
    }
   ],
   "source": [
    "y_test"
   ]
  },
  {
   "cell_type": "code",
   "execution_count": null,
   "metadata": {
    "colab": {
     "base_uri": "https://localhost:8080/"
    },
    "id": "-cJ4fDILyG5S",
    "outputId": "a52fed48-cbe2-4c05-f51c-0d894aae00da"
   },
   "outputs": [
    {
     "data": {
      "text/plain": [
       "0                 S_RAMBABU_32Y_M_3\n",
       "1               CH_SRIKANTH_23Y_M_5\n",
       "2                N_SAVITHRI_45Y_F_4\n",
       "3           N_ANNA_PURNAMMA_84Y_F_1\n",
       "4           S_KOTESWARA_RAO_50Y_M_4\n",
       "                   ...             \n",
       "395                 B_PARAIAH_48Y_5\n",
       "396              A_J_CH_RANI_38Y_15\n",
       "397             N_ANKALAMMA_47Y_F_3\n",
       "398              A_J_CH_RANI_38Y_16\n",
       "399    D_VENKATASIVA_KUMARI_41Y_F_1\n",
       "Name: id, Length: 400, dtype: object"
      ]
     },
     "execution_count": 69,
     "metadata": {
      "tags": []
     },
     "output_type": "execute_result"
    }
   ],
   "source": [
    "X_train"
   ]
  },
  {
   "cell_type": "code",
   "execution_count": null,
   "metadata": {
    "id": "6gCJn7JjXZ6P"
   },
   "outputs": [],
   "source": [
    "tokenizer = Tokenizer(filters='!\"#$%&()*+,-/:;<=>?@[\\\\]^_`{|}~\\t\\n')\n",
    "tokenizer.fit_on_texts(y_train.values)\n"
   ]
  },
  {
   "cell_type": "code",
   "execution_count": null,
   "metadata": {
    "colab": {
     "base_uri": "https://localhost:8080/"
    },
    "id": "Id32MO0_nnzs",
    "outputId": "fc24ef38-3c18-42c6-e9d3-8eff8d0a068b"
   },
   "outputs": [
    {
     "data": {
      "text/plain": [
       "8"
      ]
     },
     "execution_count": 71,
     "metadata": {
      "tags": []
     },
     "output_type": "execute_result"
    }
   ],
   "source": [
    "tokenizer.word_index['start']"
   ]
  },
  {
   "cell_type": "code",
   "execution_count": null,
   "metadata": {
    "colab": {
     "base_uri": "https://localhost:8080/"
    },
    "id": "E-DQHT3oneKs",
    "outputId": "a9cdb2ad-e2fa-467d-e85e-d87dc16bf309"
   },
   "outputs": [
    {
     "data": {
      "text/plain": [
       "0      <start> central disc protrusion is at l5-s1 le...\n",
       "1      <start> collapse of l1 vertebra is with focal ...\n",
       "2      <start> mild diffuse disc bulge is at l3-l4 l4...\n",
       "3      <start> small disc osteophyte complexes are at...\n",
       "4      <start> plif status is noted at l4 l5 level .p...\n",
       "                             ...                        \n",
       "395    <start> no significant abnormality detected . ...\n",
       "396    <start> no significant abnormality detected . ...\n",
       "397    <start> small disc osteophyte complexes are at...\n",
       "398    <start> no significant abnormality detected . ...\n",
       "399    <start> small disc osteophyte complexes are at...\n",
       "Name: Finding, Length: 400, dtype: object"
      ]
     },
     "execution_count": 72,
     "metadata": {
      "tags": []
     },
     "output_type": "execute_result"
    }
   ],
   "source": [
    "y_train"
   ]
  },
  {
   "cell_type": "code",
   "execution_count": null,
   "metadata": {
    "colab": {
     "base_uri": "https://localhost:8080/"
    },
    "id": "B_dhORRbXi3m",
    "outputId": "eb9992cb-40fd-4ee9-bb0b-de8e5823683f"
   },
   "outputs": [
    {
     "name": "stdout",
     "output_type": "stream",
     "text": [
      "/content/drive/MyDrive/Main Capstone\n"
     ]
    }
   ],
   "source": [
    "%cd /content/drive/MyDrive/Main Capstone/\n",
    "\n",
    "f = open('Image_features_attention_restnet50.pickle','rb') # contains the features from chexNet\n",
    "Xnet_Features = pickle.load(f)\n",
    "f.close()"
   ]
  },
  {
   "cell_type": "code",
   "execution_count": null,
   "metadata": {
    "colab": {
     "base_uri": "https://localhost:8080/"
    },
    "id": "QLI2-eE8tI3q",
    "outputId": "48d932a2-38b2-477b-e822-ba0076784d26"
   },
   "outputs": [
    {
     "data": {
      "text/plain": [
       "(1, 2048)"
      ]
     },
     "execution_count": 74,
     "metadata": {
      "tags": []
     },
     "output_type": "execute_result"
    }
   ],
   "source": [
    "Xnet_Features['D_JAYA_RAMULU_55Y_M_2'].shape"
   ]
  },
  {
   "cell_type": "code",
   "execution_count": null,
   "metadata": {
    "id": "9rG9ojpmBl0J"
   },
   "outputs": [],
   "source": [
    "# Xnet_Features"
   ]
  },
  {
   "cell_type": "code",
   "execution_count": null,
   "metadata": {
    "id": "Ox7_Y-FjXry_"
   },
   "outputs": [],
   "source": [
    "f = open('glove.840B.300d.pkl','rb') # 300d glove vectors  \n",
    "glove_vectors = pickle.load(f)\n",
    "f.close()"
   ]
  },
  {
   "cell_type": "code",
   "execution_count": null,
   "metadata": {
    "id": "_nEbKHsHkGIg"
   },
   "outputs": [],
   "source": [
    "vocab_size = len(tokenizer.word_index.keys()) + 1"
   ]
  },
  {
   "cell_type": "code",
   "execution_count": null,
   "metadata": {
    "id": "-fSG_seKkIYF"
   },
   "outputs": [],
   "source": [
    "embedding_matrix = np.zeros((vocab_size,300))\n",
    "for word, i in tokenizer.word_index.items():\n",
    "    if word in glove_vectors.keys():\n",
    "        vec = glove_vectors[word]\n",
    "        embedding_matrix[i] = vec\n",
    "    else:\n",
    "        continue"
   ]
  },
  {
   "cell_type": "code",
   "execution_count": null,
   "metadata": {
    "id": "VcftufXNkKSD"
   },
   "outputs": [],
   "source": [
    "BATCH_SIZE = 14"
   ]
  },
  {
   "cell_type": "code",
   "execution_count": null,
   "metadata": {
    "id": "2TmySAJ4kKvF"
   },
   "outputs": [],
   "source": [
    "def load_image(id_, report):\n",
    "    '''Loads the Image Features with their corresponding Ids'''\n",
    "    img_feature = Xnet_Features[id_.decode('utf-8')][0]\n",
    "    return img_feature, report"
   ]
  },
  {
   "cell_type": "code",
   "execution_count": null,
   "metadata": {
    "colab": {
     "base_uri": "https://localhost:8080/"
    },
    "id": "AFZTsIZkwACT",
    "outputId": "f8d08c62-c9eb-4583-8b6e-a05fb82ba04f"
   },
   "outputs": [
    {
     "data": {
      "text/plain": [
       "array([[0.        , 0.07958701, 0.        , ..., 3.5342507 , 0.01681539,\n",
       "        0.        ]], dtype=float32)"
      ]
     },
     "execution_count": 80,
     "metadata": {
      "tags": []
     },
     "output_type": "execute_result"
    }
   ],
   "source": [
    "Xnet_Features['SK_ASHA_35Y_13']"
   ]
  },
  {
   "cell_type": "code",
   "execution_count": null,
   "metadata": {
    "id": "HkI2aqICkKyI"
   },
   "outputs": [],
   "source": [
    "def create_dataset(img_name, caption):\n",
    "    dataset = tf.data.Dataset.from_tensor_slices((img_name, caption))\n",
    "    print(\"Type\",type(dataset))\n",
    "    print(dataset)\n",
    "    # for ele in dataset:\n",
    "    #     print(ele)\n",
    "    # print(tf.data.Dataset.from_tensor_slices((img_name, caption)))\n",
    "  #   print('dataset', dataset)\n",
    "  # # Use map to load the numpy files in parallel\n",
    "    dataset = dataset.map(lambda item1, item2: tf.numpy_function(load_image, [item1, item2], [tf.float32, tf.string]),\n",
    "                           num_parallel_calls=tf.data.experimental.AUTOTUNE)\n",
    "\n",
    "  # # Shuffle and batch\n",
    "    dataset = dataset.shuffle(500).batch(BATCH_SIZE).prefetch(buffer_size=tf.data.experimental.AUTOTUNE)\n",
    "    return dataset"
   ]
  },
  {
   "cell_type": "code",
   "execution_count": null,
   "metadata": {
    "colab": {
     "base_uri": "https://localhost:8080/"
    },
    "id": "kXLmPQhYkVeY",
    "outputId": "7def9cf0-ede4-435c-b029-470b3ab9465b"
   },
   "outputs": [
    {
     "name": "stdout",
     "output_type": "stream",
     "text": [
      "Type <class 'tensorflow.python.data.ops.dataset_ops.TensorSliceDataset'>\n",
      "<TensorSliceDataset shapes: ((), ()), types: (tf.string, tf.string)>\n"
     ]
    }
   ],
   "source": [
    "train_generator = create_dataset(X_train, y_train)\n"
   ]
  },
  {
   "cell_type": "code",
   "execution_count": null,
   "metadata": {
    "colab": {
     "base_uri": "https://localhost:8080/"
    },
    "id": "DmIlX11D6PkJ",
    "outputId": "f629a474-e209-4fda-932a-27e20e131c16"
   },
   "outputs": [
    {
     "data": {
      "text/plain": [
       "tensorflow.python.data.ops.dataset_ops.PrefetchDataset"
      ]
     },
     "execution_count": 83,
     "metadata": {
      "tags": []
     },
     "output_type": "execute_result"
    }
   ],
   "source": [
    "type(train_generator)"
   ]
  },
  {
   "cell_type": "code",
   "execution_count": null,
   "metadata": {
    "colab": {
     "base_uri": "https://localhost:8080/"
    },
    "id": "8Fp_l41C7RPl",
    "outputId": "2167a239-d65d-42e8-e2c9-e667bb495478"
   },
   "outputs": [
    {
     "data": {
      "text/plain": [
       "<PrefetchDataset shapes: (<unknown>, <unknown>), types: (tf.float32, tf.string)>"
      ]
     },
     "execution_count": 84,
     "metadata": {
      "tags": []
     },
     "output_type": "execute_result"
    }
   ],
   "source": [
    "train_generator"
   ]
  },
  {
   "cell_type": "code",
   "execution_count": null,
   "metadata": {
    "id": "0jMB4O-KCHHt"
   },
   "outputs": [],
   "source": [
    "# for ele, x in train_generator:\n",
    "#       print(ele,x)"
   ]
  },
  {
   "cell_type": "code",
   "execution_count": null,
   "metadata": {
    "colab": {
     "base_uri": "https://localhost:8080/"
    },
    "id": "EQc30KrhAvv2",
    "outputId": "743ab43c-38d0-49b3-b0f4-36d11cf1bcb1"
   },
   "outputs": [
    {
     "data": {
      "text/plain": [
       "tensorflow.python.data.ops.dataset_ops.PrefetchDataset"
      ]
     },
     "execution_count": 85,
     "metadata": {
      "tags": []
     },
     "output_type": "execute_result"
    }
   ],
   "source": [
    "type(train_generator)"
   ]
  },
  {
   "cell_type": "code",
   "execution_count": null,
   "metadata": {
    "colab": {
     "base_uri": "https://localhost:8080/"
    },
    "id": "w3cWaaJO_RSF",
    "outputId": "5c7e2b4b-ca14-4bd1-8c4a-760ca8b1b495"
   },
   "outputs": [
    {
     "data": {
      "text/plain": [
       "<PrefetchDataset shapes: (<unknown>, <unknown>), types: (tf.float32, tf.string)>"
      ]
     },
     "execution_count": 86,
     "metadata": {
      "tags": []
     },
     "output_type": "execute_result"
    }
   ],
   "source": [
    "train_generator"
   ]
  },
  {
   "cell_type": "code",
   "execution_count": null,
   "metadata": {
    "colab": {
     "base_uri": "https://localhost:8080/"
    },
    "id": "AnOPN1Vzokij",
    "outputId": "8c057db7-f796-4f39-f3ea-07cd0aa5280c"
   },
   "outputs": [
    {
     "data": {
      "text/plain": [
       "((400,), (400,))"
      ]
     },
     "execution_count": 87,
     "metadata": {
      "tags": []
     },
     "output_type": "execute_result"
    }
   ],
   "source": [
    "X_train.shape, y_train.shape"
   ]
  },
  {
   "cell_type": "code",
   "execution_count": null,
   "metadata": {
    "colab": {
     "base_uri": "https://localhost:8080/"
    },
    "id": "sY_MVVEEohbA",
    "outputId": "a5b9d9a1-9e50-4f3a-8be4-eca05e79710e"
   },
   "outputs": [
    {
     "data": {
      "text/plain": [
       "0      <start> central disc protrusion is at l5-s1 le...\n",
       "1      <start> collapse of l1 vertebra is with focal ...\n",
       "2      <start> mild diffuse disc bulge is at l3-l4 l4...\n",
       "3      <start> small disc osteophyte complexes are at...\n",
       "4      <start> plif status is noted at l4 l5 level .p...\n",
       "                             ...                        \n",
       "395    <start> no significant abnormality detected . ...\n",
       "396    <start> no significant abnormality detected . ...\n",
       "397    <start> small disc osteophyte complexes are at...\n",
       "398    <start> no significant abnormality detected . ...\n",
       "399    <start> small disc osteophyte complexes are at...\n",
       "Name: Finding, Length: 400, dtype: object"
      ]
     },
     "execution_count": 88,
     "metadata": {
      "tags": []
     },
     "output_type": "execute_result"
    }
   ],
   "source": [
    "y_train"
   ]
  },
  {
   "cell_type": "code",
   "execution_count": null,
   "metadata": {
    "colab": {
     "base_uri": "https://localhost:8080/"
    },
    "id": "bHXN9yiuoec2",
    "outputId": "c5160dea-15e3-4ee5-ba54-f5f5e7e6b2de"
   },
   "outputs": [
    {
     "data": {
      "text/plain": [
       "0                 S_RAMBABU_32Y_M_3\n",
       "1               CH_SRIKANTH_23Y_M_5\n",
       "2                N_SAVITHRI_45Y_F_4\n",
       "3           N_ANNA_PURNAMMA_84Y_F_1\n",
       "4           S_KOTESWARA_RAO_50Y_M_4\n",
       "                   ...             \n",
       "395                 B_PARAIAH_48Y_5\n",
       "396              A_J_CH_RANI_38Y_15\n",
       "397             N_ANKALAMMA_47Y_F_3\n",
       "398              A_J_CH_RANI_38Y_16\n",
       "399    D_VENKATASIVA_KUMARI_41Y_F_1\n",
       "Name: id, Length: 400, dtype: object"
      ]
     },
     "execution_count": 89,
     "metadata": {
      "tags": []
     },
     "output_type": "execute_result"
    }
   ],
   "source": [
    "X_train"
   ]
  },
  {
   "cell_type": "code",
   "execution_count": null,
   "metadata": {
    "colab": {
     "base_uri": "https://localhost:8080/"
    },
    "id": "LmWmsqTFoW0S",
    "outputId": "825c5cc1-ebd4-4be6-9254-647db415f31d"
   },
   "outputs": [
    {
     "data": {
      "text/plain": [
       "<PrefetchDataset shapes: (<unknown>, <unknown>), types: (tf.float32, tf.string)>"
      ]
     },
     "execution_count": 90,
     "metadata": {
      "tags": []
     },
     "output_type": "execute_result"
    }
   ],
   "source": [
    "train_generator"
   ]
  },
  {
   "cell_type": "code",
   "execution_count": null,
   "metadata": {
    "id": "jt8oXYxTkbGU"
   },
   "outputs": [],
   "source": [
    "def bytes_to_string(arr):\n",
    "    '''The generator gives provides data in bytes. This function converts them back to strings for manipulation'''\n",
    "    for i in range(len(arr)):\n",
    "        arr[i] = arr[i].decode('utf-8')\n",
    "    return arr"
   ]
  },
  {
   "cell_type": "code",
   "execution_count": null,
   "metadata": {
    "id": "o0YKhaH-ke25"
   },
   "outputs": [],
   "source": [
    "def convert(images, reports):\n",
    "    '''This function takes the batch of data and converts them into a new dataset(A WORD BY WORD DATASET)'''\n",
    "    imgs = []\n",
    "    in_reports = []\n",
    "    out_reports = []\n",
    "    for i in range(len(images)):\n",
    "        sequence = [tokenizer.word_index[e] for e in reports[i].split() if e in tokenizer.word_index.keys()]\n",
    "      #  print(sequence)\n",
    "        for j in range(1,len(sequence)):\n",
    "\n",
    "            in_seq = sequence[:j]\n",
    "            out_seq = sequence[j]\n",
    "            out_seq = tf.keras.utils.to_categorical(out_seq, num_classes=vocab_size)\n",
    "\n",
    "            imgs.append(images[i])\n",
    "          #  print(in_seq)\n",
    "            in_reports.append(in_seq)\n",
    "           # print(out_seq)\n",
    "            out_reports.append(out_seq)\n",
    "        \n",
    "    return np.array(imgs), np.array(in_reports), np.array(out_reports)"
   ]
  },
  {
   "cell_type": "code",
   "execution_count": null,
   "metadata": {
    "id": "Ymo9zHevkhE4"
   },
   "outputs": [],
   "source": [
    "np.random.seed(42)\n",
    "\n",
    "##fixing tensorflow RS\n",
    "tf.random.set_seed(32)\n",
    "\n",
    "##python RS\n",
    "random.seed(12)"
   ]
  },
  {
   "cell_type": "code",
   "execution_count": null,
   "metadata": {
    "id": "nWYVeho1kK0n"
   },
   "outputs": [],
   "source": [
    "# input1 = Input(shape=(49,1024), name='Image_1')\n",
    "# dense1 = Dense(256, kernel_initializer=tf.keras.initializers.glorot_uniform(seed = 56), name='dense_encoder')(input1)\n",
    "\n",
    "# input2 = Input(shape=(82), name='Text_Input')\n",
    "# emb_layer = Embedding(input_dim = vocab_size, output_dim = 300, input_length=82, mask_zero=True, trainable=False, \n",
    "#                 weights=[embedding_matrix], name=\"Embedding_layer\")\n",
    "# emb = emb_layer(input2)\n",
    "\n",
    "# LSTM1 = LSTM(units=256, activation='tanh', recurrent_activation='sigmoid', use_bias=True, \n",
    "#             kernel_initializer=tf.keras.initializers.glorot_uniform(seed=23),\n",
    "#             recurrent_initializer=tf.keras.initializers.orthogonal(seed=7),\n",
    "#             bias_initializer=tf.keras.initializers.zeros(), return_sequences=True, name=\"LSTM1\")(emb)\n",
    "# #LSTM1_output = LSTM1(emb)\n",
    "\n",
    "# LSTM2 = LSTM(units=256, activation='tanh', recurrent_activation='sigmoid', use_bias=True, \n",
    "#             kernel_initializer=tf.keras.initializers.glorot_uniform(seed=23),\n",
    "#             recurrent_initializer=tf.keras.initializers.orthogonal(seed=7),\n",
    "#             bias_initializer=tf.keras.initializers.zeros(), name=\"LSTM2\")\n",
    "# LSTM2_output = LSTM2(LSTM1)\n",
    "\n",
    "# dropout1 = Dropout(0.5, name='dropout1')(LSTM2_output)\n",
    "\n",
    "# dec =  tf.keras.layers.Add()([dense1, dropout1])\n",
    "\n",
    "# fc1 = Dense(256, activation='relu', kernel_initializer=tf.keras.initializers.he_normal(seed = 63), name='fc1')\n",
    "# fc1_output = fc1(dec)\n",
    "# dropout2 = Dropout(0.4, name='dropout2')(fc1_output)\n",
    "# output_layer = Dense(vocab_size, activation='softmax', name='Output_layer')\n",
    "# output = output_layer(dropout2)\n",
    "\n",
    "# encoder_decoder = Model(inputs = [input1, input2], outputs = output)\n",
    "# encoder_decoder.summary()"
   ]
  },
  {
   "cell_type": "code",
   "execution_count": null,
   "metadata": {
    "colab": {
     "base_uri": "https://localhost:8080/"
    },
    "id": "JQlYyd0FzEPg",
    "outputId": "521345ec-d17d-4e98-b73f-886d0b1235d2"
   },
   "outputs": [
    {
     "name": "stdout",
     "output_type": "stream",
     "text": [
      "Model: \"model_2\"\n",
      "__________________________________________________________________________________________________\n",
      "Layer (type)                    Output Shape         Param #     Connected to                     \n",
      "==================================================================================================\n",
      "Text_Input (InputLayer)         [(None, 82)]         0                                            \n",
      "__________________________________________________________________________________________________\n",
      "Embedding_layer (Embedding)     (None, 82, 300)      54900       Text_Input[0][0]                 \n",
      "__________________________________________________________________________________________________\n",
      "LSTM1 (LSTM)                    (None, 82, 256)      570368      Embedding_layer[0][0]            \n",
      "__________________________________________________________________________________________________\n",
      "Image_1 (InputLayer)            [(None, 2048)]       0                                            \n",
      "__________________________________________________________________________________________________\n",
      "LSTM2 (LSTM)                    (None, 256)          525312      LSTM1[0][0]                      \n",
      "__________________________________________________________________________________________________\n",
      "dense_encoder (Dense)           (None, 256)          524544      Image_1[0][0]                    \n",
      "__________________________________________________________________________________________________\n",
      "dropout1 (Dropout)              (None, 256)          0           LSTM2[0][0]                      \n",
      "__________________________________________________________________________________________________\n",
      "add (Add)                       (None, 256)          0           dense_encoder[0][0]              \n",
      "                                                                 dropout1[0][0]                   \n",
      "__________________________________________________________________________________________________\n",
      "fc1 (Dense)                     (None, 256)          65792       add[0][0]                        \n",
      "__________________________________________________________________________________________________\n",
      "dropout2 (Dropout)              (None, 256)          0           fc1[0][0]                        \n",
      "__________________________________________________________________________________________________\n",
      "Output_layer (Dense)            (None, 183)          47031       dropout2[0][0]                   \n",
      "==================================================================================================\n",
      "Total params: 1,787,947\n",
      "Trainable params: 1,733,047\n",
      "Non-trainable params: 54,900\n",
      "__________________________________________________________________________________________________\n"
     ]
    }
   ],
   "source": [
    "input1 = Input(shape=(2048), name='Image_1')\n",
    "dense1 = Dense(256, kernel_initializer=tf.keras.initializers.glorot_uniform(seed = 56), name='dense_encoder')(input1)\n",
    "input2 = Input(shape=(82), name='Text_Input')\n",
    "emb_layer = Embedding(input_dim = vocab_size, output_dim = 300, input_length=82, mask_zero=True, trainable=False, \n",
    "                weights=[embedding_matrix], name=\"Embedding_layer\")\n",
    "emb = emb_layer(input2)\n",
    "\n",
    "LSTM1 = LSTM(units=256, activation='tanh', recurrent_activation='sigmoid', use_bias=True, \n",
    "            kernel_initializer=tf.keras.initializers.glorot_uniform(seed=23),\n",
    "            recurrent_initializer=tf.keras.initializers.orthogonal(seed=7),\n",
    "            bias_initializer=tf.keras.initializers.zeros(), return_sequences=True, name=\"LSTM1\")(emb)\n",
    "#LSTM1_output = LSTM1(emb)\n",
    "\n",
    "LSTM2 = LSTM(units=256, activation='tanh', recurrent_activation='sigmoid', use_bias=True, \n",
    "            kernel_initializer=tf.keras.initializers.glorot_uniform(seed=23),\n",
    "            recurrent_initializer=tf.keras.initializers.orthogonal(seed=7),\n",
    "            bias_initializer=tf.keras.initializers.zeros(), name=\"LSTM2\")\n",
    "LSTM2_output = LSTM2(LSTM1)\n",
    "\n",
    "# distributed = TimeDistributed(Dense(56))(LSTM2_output)\n",
    "# pool = AveragePooling1D()(distributed)\n",
    "\n",
    "dropout1 = Dropout(0.5, name='dropout1')(LSTM2_output)\n",
    "dec =  tf.keras.layers.Add()([dense1, dropout1])\n",
    "\n",
    "fc1 = Dense(256, activation='relu', kernel_initializer=tf.keras.initializers.he_normal(seed = 63), name='fc1')\n",
    "fc1_output = fc1(dec)\n",
    "dropout2 = Dropout(0.4, name='dropout2')(fc1_output)\n",
    "output_layer = Dense(vocab_size, activation='softmax', name='Output_layer')\n",
    "output = output_layer(dropout2)\n",
    "\n",
    "encoder_decoder = Model(inputs = [input1, input2], outputs = output)\n",
    "encoder_decoder.summary()"
   ]
  },
  {
   "cell_type": "code",
   "execution_count": null,
   "metadata": {
    "colab": {
     "base_uri": "https://localhost:8080/",
     "height": 856
    },
    "id": "yPWVSicbkllW",
    "outputId": "9e86870e-281c-4152-e67c-9e9ffe0f868c"
   },
   "outputs": [
    {
     "data": {
      "image/png": "[encoded data removed]",
      "text/plain": [
       "<IPython.core.display.Image object>"
      ]
     },
     "execution_count": 95,
     "metadata": {
      "tags": []
     },
     "output_type": "execute_result"
    }
   ],
   "source": [
    "tf.keras.utils.plot_model(encoder_decoder)"
   ]
  },
  {
   "cell_type": "code",
   "execution_count": null,
   "metadata": {
    "id": "FEwvBSigkpKz"
   },
   "outputs": [],
   "source": [
    "optimizer = tf.keras.optimizers.Adam(0.001)"
   ]
  },
  {
   "cell_type": "code",
   "execution_count": null,
   "metadata": {
    "id": "PI8VCiqAkqyl"
   },
   "outputs": [],
   "source": [
    "loss_function = tf.keras.losses.CategoricalCrossentropy(from_logits=False, reduction='auto')\n",
    "\n",
    "def maskedLoss(y_true, y_pred):\n",
    "    #getting mask value\n",
    "    mask = tf.math.logical_not(tf.math.equal(y_true, 0))\n",
    "    \n",
    "    #calculating the loss\n",
    "    loss_ = loss_function(y_true, y_pred)\n",
    "    \n",
    "    #converting mask dtype to loss_ dtype\n",
    "    mask = tf.cast(mask, dtype=loss_.dtype)\n",
    "    \n",
    "    #applying the mask to loss\n",
    "    loss_ = loss_*mask\n",
    "    \n",
    "    #getting mean over all the values\n",
    "    loss_ = tf.reduce_mean(loss_)\n",
    "    return loss_"
   ]
  },
  {
   "cell_type": "code",
   "execution_count": null,
   "metadata": {
    "id": "mzLxdB71ktd3"
   },
   "outputs": [],
   "source": [
    "encoder_decoder.compile(optimizer, loss = maskedLoss)"
   ]
  },
  {
   "cell_type": "code",
   "execution_count": null,
   "metadata": {
    "id": "MhQdhI0lkvBE"
   },
   "outputs": [],
   "source": [
    "current_time = datetime.datetime.now().strftime(\"%Y%m%d-%H%M%S\")\n",
    "train_log_dir = 'Tensorboard/logs_m1/fit3/' + current_time + '/train'\n",
    "val_log_dir = 'Tensorboard/logs_m1/fit3/' + current_time + '/test'\n",
    "train_summary_writer = tf.summary.create_file_writer(train_log_dir)\n",
    "val_summary_writer = tf.summary.create_file_writer(val_log_dir)"
   ]
  },
  {
   "cell_type": "code",
   "execution_count": null,
   "metadata": {
    "colab": {
     "base_uri": "https://localhost:8080/"
    },
    "id": "xov2lvV7kK3k",
    "outputId": "36468cb0-f003-4a23-f35f-c86ca5402b5e"
   },
   "outputs": [
    {
     "name": "stdout",
     "output_type": "stream",
     "text": [
      "EPOCH :  1\n",
      "Training Loss: 0.024199126554386958,\n",
      "Time Taken for this Epoch : 141.9408884048462 sec\n",
      "EPOCH :  2\n",
      "Training Loss: 0.017377152207440565,\n",
      "Time Taken for this Epoch : 116.25182485580444 sec\n",
      "EPOCH :  3\n",
      "Training Loss: 0.01353771991229483,\n",
      "Time Taken for this Epoch : 135.26888847351074 sec\n",
      "EPOCH :  4\n",
      "Training Loss: 0.010568030910300357,\n",
      "Time Taken for this Epoch : 122.13730144500732 sec\n",
      "EPOCH :  5\n",
      "Training Loss: 0.008606380018006479,\n",
      "Time Taken for this Epoch : 121.82084465026855 sec\n",
      "EPOCH :  6\n",
      "Training Loss: 0.007392407843976149,\n",
      "Time Taken for this Epoch : 116.90248417854309 sec\n",
      "EPOCH :  7\n",
      "Training Loss: 0.006218086462467909,\n",
      "Time Taken for this Epoch : 141.91903257369995 sec\n",
      "EPOCH :  8\n",
      "Training Loss: 0.005194949510041624,\n",
      "Time Taken for this Epoch : 114.96054649353027 sec\n",
      "EPOCH :  9\n",
      "Training Loss: 0.004658891994040459,\n",
      "Time Taken for this Epoch : 120.32445240020752 sec\n",
      "EPOCH :  10\n",
      "Training Loss: 0.0039945538987272555,\n",
      "Time Taken for this Epoch : 141.92048120498657 sec\n",
      "EPOCH :  11\n",
      "Training Loss: 0.003481585033504026,\n",
      "Time Taken for this Epoch : 117.11159014701843 sec\n",
      "EPOCH :  12\n",
      "Training Loss: 0.0030436452652793378,\n",
      "Time Taken for this Epoch : 141.91792464256287 sec\n",
      "EPOCH :  13\n",
      "Training Loss: 0.002791364078543016,\n",
      "Time Taken for this Epoch : 112.55205011367798 sec\n",
      "EPOCH :  14\n",
      "Training Loss: 0.0024204953557013403,\n",
      "Time Taken for this Epoch : 141.91654777526855 sec\n",
      "EPOCH :  15\n",
      "Training Loss: 0.0020990730138562086,\n",
      "Time Taken for this Epoch : 115.27509021759033 sec\n",
      "EPOCH :  16\n",
      "Training Loss: 0.0018296174530405551,\n",
      "Time Taken for this Epoch : 141.92275834083557 sec\n",
      "EPOCH :  17\n",
      "Training Loss: 0.0016783656444334025,\n",
      "Time Taken for this Epoch : 141.91608667373657 sec\n",
      "EPOCH :  18\n",
      "Training Loss: 0.0016002877237042412,\n",
      "Time Taken for this Epoch : 119.33409595489502 sec\n",
      "EPOCH :  19\n",
      "Training Loss: 0.0014203696233120614,\n",
      "Time Taken for this Epoch : 119.75364995002747 sec\n",
      "EPOCH :  20\n",
      "Training Loss: 0.0013113659432357444,\n",
      "Time Taken for this Epoch : 141.9147322177887 sec\n",
      "EPOCH :  21\n",
      "Training Loss: 0.0012200840262396792,\n",
      "Time Taken for this Epoch : 141.91541695594788 sec\n",
      "EPOCH :  22\n",
      "Training Loss: 0.0011068133774512847,\n",
      "Time Taken for this Epoch : 118.7211492061615 sec\n",
      "EPOCH :  23\n",
      "Training Loss: 0.0009925331999381473,\n",
      "Time Taken for this Epoch : 141.91461396217346 sec\n",
      "EPOCH :  24\n",
      "Training Loss: 0.0009252127950146262,\n",
      "Time Taken for this Epoch : 141.92017197608948 sec\n",
      "EPOCH :  25\n",
      "Training Loss: 0.0008633098675220806,\n",
      "Time Taken for this Epoch : 113.06522607803345 sec\n",
      "EPOCH :  26\n",
      "Training Loss: 0.0007753593215186681,\n",
      "Time Taken for this Epoch : 141.91758918762207 sec\n",
      "EPOCH :  27\n",
      "Training Loss: 0.0007333304435763109,\n",
      "Time Taken for this Epoch : 141.91405129432678 sec\n",
      "EPOCH :  28\n",
      "Training Loss: 0.0006847413657981503,\n",
      "Time Taken for this Epoch : 118.00397729873657 sec\n",
      "EPOCH :  29\n",
      "Training Loss: 0.0006955487873970664,\n",
      "Time Taken for this Epoch : 141.91369557380676 sec\n",
      "EPOCH :  30\n",
      "Training Loss: 0.0006833390091612403,\n",
      "Time Taken for this Epoch : 141.91593670845032 sec\n",
      "EPOCH :  31\n",
      "Training Loss: 0.0006222468967150364,\n",
      "Time Taken for this Epoch : 120.29595255851746 sec\n",
      "EPOCH :  32\n",
      "Training Loss: 0.0007057251984536249,\n",
      "Time Taken for this Epoch : 141.9164743423462 sec\n",
      "EPOCH :  33\n",
      "Training Loss: 0.0006526118262887134,\n",
      "Time Taken for this Epoch : 141.9133632183075 sec\n",
      "EPOCH :  34\n",
      "Training Loss: 0.0005771388335103568,\n",
      "Time Taken for this Epoch : 117.43936800956726 sec\n",
      "EPOCH :  35\n",
      "Training Loss: 0.00047661793463963216,\n",
      "Time Taken for this Epoch : 141.91589736938477 sec\n",
      "EPOCH :  36\n",
      "Training Loss: 0.00045865260939795656,\n",
      "Time Taken for this Epoch : 121.51737976074219 sec\n",
      "EPOCH :  37\n",
      "Training Loss: 0.0004094271768865708,\n",
      "Time Taken for this Epoch : 118.05145215988159 sec\n",
      "EPOCH :  38\n",
      "Training Loss: 0.00043916749616203433,\n",
      "Time Taken for this Epoch : 141.91381669044495 sec\n",
      "EPOCH :  39\n",
      "Training Loss: 0.0003955819847760722,\n",
      "Time Taken for this Epoch : 121.24880266189575 sec\n",
      "EPOCH :  40\n",
      "Training Loss: 0.0003494463619842593,\n",
      "Time Taken for this Epoch : 141.9219629764557 sec\n",
      "EPOCH :  41\n",
      "Training Loss: 0.00033683438648170395,\n",
      "Time Taken for this Epoch : 122.17175340652466 sec\n",
      "EPOCH :  42\n",
      "Training Loss: 0.00033209639358184565,\n",
      "Time Taken for this Epoch : 141.9166042804718 sec\n",
      "EPOCH :  43\n",
      "Training Loss: 0.0003534347223259309,\n",
      "Time Taken for this Epoch : 126.04701375961304 sec\n",
      "EPOCH :  44\n",
      "Training Loss: 0.0003584366812512079,\n",
      "Time Taken for this Epoch : 125.08810615539551 sec\n",
      "EPOCH :  45\n",
      "Training Loss: 0.0003206200240778604,\n",
      "Time Taken for this Epoch : 141.91847395896912 sec\n",
      "EPOCH :  46\n",
      "Training Loss: 0.0003012561784479268,\n",
      "Time Taken for this Epoch : 121.20471811294556 sec\n",
      "EPOCH :  47\n",
      "Training Loss: 0.00027602827010144083,\n",
      "Time Taken for this Epoch : 119.65726947784424 sec\n",
      "EPOCH :  48\n",
      "Training Loss: 0.0002535402491048444,\n",
      "Time Taken for this Epoch : 141.91375255584717 sec\n",
      "EPOCH :  49\n",
      "Training Loss: 0.0002260845709055762,\n",
      "Time Taken for this Epoch : 141.91287183761597 sec\n",
      "EPOCH :  50\n",
      "Training Loss: 0.0002813593107150934,\n",
      "Time Taken for this Epoch : 141.92290472984314 sec\n"
     ]
    }
   ],
   "source": [
    "epoch_train_loss = []\n",
    "epoch_val_loss = []\n",
    "\n",
    "for epoch in range(50):\n",
    "    print('EPOCH : ',epoch+1)\n",
    "    start = time.time()\n",
    "    batch_loss_tr = 0\n",
    "    batch_loss_vl = 0\n",
    "    \n",
    "    for img, report in train_generator:\n",
    "       \n",
    "        r1 = bytes_to_string(report.numpy())\n",
    "        # print(f'Image shapee : {img.shape}')\n",
    "        img_input, rep_input, output_word = convert(img.numpy(), r1)\n",
    "        rep_input = pad_sequences(rep_input, maxlen=82, padding='post')\n",
    "        # print(img_input,rep_input,output_word)\n",
    "        results = encoder_decoder.train_on_batch([img_input, rep_input], output_word)\n",
    "        # print(f'Results ---> {results}')\n",
    "        \n",
    "        batch_loss_tr += results\n",
    "\n",
    "    train_loss = batch_loss_tr/(X_train.shape[0]//14)\n",
    " #   print('Saving Tensorboard')\n",
    "    with train_summary_writer.as_default():\n",
    "        tf.summary.scalar('loss', train_loss, step = epoch)\n",
    "    \n",
    "    # for img, report in cv_generator:\n",
    "        \n",
    "    #     r1 = bytes_to_string(report.numpy())\n",
    "    #     img_input, rep_input, output_word = convert(img.numpy(), r1)\n",
    "    #     rep_input = pad_sequences(rep_input, maxlen=153, padding='post')\n",
    "    #     results = encoder_decoder.test_on_batch([img_input, rep_input], output_word)\n",
    "    #     batch_loss_vl += results\n",
    "    \n",
    "    # val_loss = batch_loss_vl/(X_cv.shape[0]//14)\n",
    "    \n",
    "    # with val_summary_writer.as_default():\n",
    "    #     tf.summary.scalar('loss', val_loss, step = epoch)\n",
    "\n",
    "    epoch_train_loss.append(train_loss)\n",
    "\n",
    "    # epoch_val_loss.append(val_loss)\n",
    "    \n",
    "    # print('Training Loss: {},  Val Loss: {}'.format(train_loss, val_loss))\n",
    "    print('Training Loss: {},'.format(train_loss))\n",
    "    print('Time Taken for this Epoch : {} sec'.format(time.time()-start))   \n",
    "    encoder_decoder.save_weights('encoder_decoder_epoch_'+ str(epoch+1) + '.h5')"
   ]
  },
  {
   "cell_type": "code",
   "execution_count": null,
   "metadata": {
    "colab": {
     "base_uri": "https://localhost:8080/",
     "height": 35
    },
    "id": "_PUAc4pPkjC_",
    "outputId": "f9a0b7d1-b61e-4e04-bdbd-f962e3aa1e71"
   },
   "outputs": [
    {
     "data": {
      "application/vnd.google.colaboratory.intrinsic+json": {
       "type": "string"
      },
      "text/plain": [
       "'/content/drive/My Drive/Main Capstone'"
      ]
     },
     "execution_count": 140,
     "metadata": {
      "tags": []
     },
     "output_type": "execute_result"
    }
   ],
   "source": [
    "%pwd"
   ]
  },
  {
   "cell_type": "markdown",
   "metadata": {
    "id": "1mzu9Batddme"
   },
   "source": [
    "## Inference Setup"
   ]
  },
  {
   "cell_type": "code",
   "execution_count": null,
   "metadata": {
    "id": "h7D2EIIJXQ0t"
   },
   "outputs": [],
   "source": [
    "# encoder\n",
    "encoder_input = encoder_decoder.input[0]\n",
    "encoder_output = encoder_decoder.get_layer('dense_encoder').output\n",
    "encoder_model = Model(encoder_input, encoder_output)\n",
    "\n",
    "# decoder# \n",
    "text_input = encoder_decoder.input[1]\n",
    "enc_output = Input(shape=(256,), name='Enc_Output')\n",
    "text_output = encoder_decoder.get_layer('LSTM2').output\n",
    "add1 = tf.keras.layers.Add()([text_output, enc_output])\n",
    "fc_1 = fc1(add1)\n",
    "decoder_output = output_layer(fc_1)\n",
    "\n",
    "decoder_model = Model(inputs = [text_input, enc_output], outputs = decoder_output)"
   ]
  },
  {
   "cell_type": "markdown",
   "metadata": {
    "id": "we73w9PHd49d"
   },
   "source": [
    "## Greedy Search"
   ]
  },
  {
   "cell_type": "code",
   "execution_count": null,
   "metadata": {
    "id": "UA59V_-QdvpE"
   },
   "outputs": [],
   "source": [
    "\n",
    "def greedysearch(img):\n",
    "    image = Xnet_Features[img]\n",
    "    input_ = 'start'\n",
    "    image_features = encoder_model.predict(image)\n",
    "    \n",
    "    result = []\n",
    "    for i in range(82):\n",
    "        input_tok = [tokenizer.word_index[w] for w in input_.split()]\n",
    "        input_padded = pad_sequences([input_tok], 82, padding='post')\n",
    "        predictions = decoder_model.predict([input_padded, image_features])\n",
    "        arg = np.argmax(predictions)\n",
    "        if arg != 7:   # endseq\n",
    "            result.append(tokenizer.index_word[arg])\n",
    "            input_ = input_ + ' ' + tokenizer.index_word[arg]\n",
    "        else:\n",
    "            break\n",
    "    rep = ' '.join(e for e in result)\n",
    "    return rep"
   ]
  },
  {
   "cell_type": "code",
   "execution_count": null,
   "metadata": {
    "colab": {
     "base_uri": "https://localhost:8080/",
     "height": 35
    },
    "id": "u_pb7w9BVTQ2",
    "outputId": "ca368b24-c270-4180-8f3d-7263f176da2d"
   },
   "outputs": [
    {
     "data": {
      "application/vnd.google.colaboratory.intrinsic+json": {
       "type": "string"
      },
      "text/plain": [
       "'G_CHINNA_BULLEMMA_45Y_F_3'"
      ]
     },
     "execution_count": 103,
     "metadata": {
      "tags": []
     },
     "output_type": "execute_result"
    }
   ],
   "source": [
    "test_dataset['id'].values[36]"
   ]
  },
  {
   "cell_type": "markdown",
   "metadata": {
    "id": "HhBqvDi1d_q0"
   },
   "source": [
    "## Eg: 1"
   ]
  },
  {
   "cell_type": "code",
   "execution_count": null,
   "metadata": {
    "colab": {
     "base_uri": "https://localhost:8080/",
     "height": 69
    },
    "id": "yxA6jevmd8OJ",
    "outputId": "09b6078d-ac51-41d5-fb75-ff10e00141c4"
   },
   "outputs": [
    {
     "data": {
      "application/vnd.google.colaboratory.intrinsic+json": {
       "type": "string"
      },
      "text/plain": [
       "'disc osteophyte complex at level compressing thecal sac with focal spinal canal narrowing encroaching bilateral neural foramen .diffuse disc bulge is at levels compressing thecal sac with focal spinal canal narrowing encroaching bilateral neural foramen . flaval hypertrophy in all levels in the spine . disc bulge is at levels compressing thecal sac with focal spinal canal narrowing encroaching bilateral neural foramen . flaval hypertrophy in all levels in the spine . disc bulge is at levels compressing thecal sac with focal'"
      ]
     },
     "execution_count": 145,
     "metadata": {
      "tags": []
     },
     "output_type": "execute_result"
    }
   ],
   "source": [
    "res36 = greedysearch(test_dataset['id'].values[36]) # Generated Impressoin result for an MRI Image \n",
    "res36"
   ]
  },
  {
   "cell_type": "code",
   "execution_count": null,
   "metadata": {
    "id": "mU97bLJJsKRT"
   },
   "outputs": [],
   "source": [
    "from google.colab import drive\n",
    "drive.mount('/content/drive')"
   ]
  },
  {
   "cell_type": "code",
   "execution_count": null,
   "metadata": {
    "id": "2DDhQ09VoMtl"
   },
   "outputs": [],
   "source": [
    "Diffuse disc bulge is at L5-S1 level, compressing thecal sac with focal spinal canal narrowing, encroaching bilateral neural foramen."
   ]
  },
  {
   "cell_type": "code",
   "execution_count": null,
   "metadata": {
    "colab": {
     "base_uri": "https://localhost:8080/"
    },
    "id": "so4jw_7UKqzu",
    "outputId": "3c0c2bb2-552e-41fa-b47f-fd1483c89220"
   },
   "outputs": [
    {
     "data": {
      "text/plain": [
       "178"
      ]
     },
     "execution_count": 137,
     "metadata": {
      "tags": []
     },
     "output_type": "execute_result"
    }
   ],
   "source": [
    "w = '<start>'\n",
    "tokenizer.word_index['cage']"
   ]
  },
  {
   "cell_type": "markdown",
   "metadata": {
    "id": "268fNf3ANGgF"
   },
   "source": [
    "#Eg: 1"
   ]
  },
  {
   "cell_type": "markdown",
   "metadata": {
    "id": "Kj5Oyb2XNOFn"
   },
   "source": [
    "#Eg: 2"
   ]
  },
  {
   "cell_type": "code",
   "execution_count": null,
   "metadata": {
    "colab": {
     "base_uri": "https://localhost:8080/",
     "height": 69
    },
    "id": "VmKeiQ6oNPgm",
    "outputId": "0af67476-5219-4bfd-92a6-ed4b45ec2d5c"
   },
   "outputs": [
    {
     "data": {
      "application/vnd.google.colaboratory.intrinsic+json": {
       "type": "string"
      },
      "text/plain": [
       "'disc osteophyte complex at level compressing thecal sac with focal spinal canal narrowing encroaching bilateral neural foramen .diffuse disc bulge is at levels compressing thecal sac with focal spinal canal narrowing encroaching bilateral neural foramen . hypertrophy is at all levels in lumbar spine . disc bulge is at levels compressing thecal sac with focal spinal canal narrowing encroaching bilateral neural foramen . hypertrophy is at all levels in lumbar spine . disc bulge is at levels compressing thecal sac with focal'"
      ]
     },
     "execution_count": 146,
     "metadata": {
      "tags": []
     },
     "output_type": "execute_result"
    }
   ],
   "source": [
    "res72 = greedysearch(test_dataset['id'].values[72]) # Generated Impressoin result for an MRI Image after 20 epochs\n",
    "res72"
   ]
  },
  {
   "cell_type": "code",
   "execution_count": null,
   "metadata": {
    "colab": {
     "base_uri": "https://localhost:8080/",
     "height": 69
    },
    "id": "6MOzwr9ppAkG",
    "outputId": "37a5d8a0-86a3-4b45-b921-f9ba19b8b025"
   },
   "outputs": [
    {
     "data": {
      "application/vnd.google.colaboratory.intrinsic+json": {
       "type": "string"
      },
      "text/plain": [
       "'<start> small disc osteophyte complexes are at c3-c4 c4-c5 c5-c6 c6-c7 levels compressing thecal sac with focal spinal canal narrowing encroaching bilateral neural foramen .diffuse disc bulge is at l3-l4 l4-l5 l5-s1 levels compressing thecal sac with focal spinal canal narrowing encroaching bilateral neural foramen .schmorl s nodes in l1 l2 l3 vertebrae .flaval hypertrophy is at all levels in lumbar spine . <end>'"
      ]
     },
     "execution_count": 147,
     "metadata": {
      "tags": []
     },
     "output_type": "execute_result"
    }
   ],
   "source": [
    "y_test[72] #Original Impression "
   ]
  },
  {
   "cell_type": "markdown",
   "metadata": {
    "id": "jjFn5v74NfRt"
   },
   "source": [
    "#Eg: 3"
   ]
  },
  {
   "cell_type": "code",
   "execution_count": null,
   "metadata": {
    "colab": {
     "base_uri": "https://localhost:8080/",
     "height": 69
    },
    "id": "DXZqiQDBNeYd",
    "outputId": "4e0e2007-a509-4ad8-8609-2c01fcdcb469"
   },
   "outputs": [
    {
     "data": {
      "application/vnd.google.colaboratory.intrinsic+json": {
       "type": "string"
      },
      "text/plain": [
       "'s1 vertebra with grade 1 listhesis is at level with focal spinal canal and bilateral neural foramen narrowing compressing bilateral nerve roots . hypertrophy is at all levels in lumbar spine . disc bulge is at levels compressing thecal sac with focal spinal canal narrowing encroaching bilateral neural foramen . hypertrophy is at all levels in lumbar spine . disc bulge is at levels compressing thecal sac with focal spinal canal narrowing encroaching bilateral neural foramen . hypertrophy is at all levels'"
      ]
     },
     "execution_count": 149,
     "metadata": {
      "tags": []
     },
     "output_type": "execute_result"
    }
   ],
   "source": [
    "res108 = greedysearch(test_dataset['id'].values[108])  # Generated Impressoin result for an MRI Image after 20 epochs\n",
    "res108"
   ]
  },
  {
   "cell_type": "code",
   "execution_count": null,
   "metadata": {
    "colab": {
     "base_uri": "https://localhost:8080/",
     "height": 69
    },
    "id": "ZbO8QUmxNjRV",
    "outputId": "27cd82c5-7a6e-4a14-a69a-be364d2eb72e"
   },
   "outputs": [
    {
     "data": {
      "application/vnd.google.colaboratory.intrinsic+json": {
       "type": "string"
      },
      "text/plain": [
       "'<start> small disc osteophyte complexes are at c3-c4 c4-c5 c5-c6 c6-c7 levels compressing thecal sac with focal spinal canal narrowing encroaching bilateral neural foramen .central disc protrusion is at l4-5 l5-s1 levels compressing thecal sac with focal spinal canal narrowing encroaching bilateral neural foramen .annular fissure is in l4-5 l5-s1 intervertebral discs . <end>'"
      ]
     },
     "execution_count": 149,
     "metadata": {
      "tags": []
     },
     "output_type": "execute_result"
    }
   ],
   "source": [
    "y_test[108] #Original Impression"
   ]
  },
  {
   "cell_type": "markdown",
   "metadata": {
    "id": "WZ3AoI3JNlUR"
   },
   "source": [
    "#Eg: 4"
   ]
  },
  {
   "cell_type": "code",
   "execution_count": null,
   "metadata": {
    "colab": {
     "base_uri": "https://localhost:8080/",
     "height": 69
    },
    "id": "aOTYdUTmNoqP",
    "outputId": "96fd855c-e082-4485-cfdf-daf5b31fc30b"
   },
   "outputs": [
    {
     "data": {
      "application/vnd.google.colaboratory.intrinsic+json": {
       "type": "string"
      },
      "text/plain": [
       "'disc osteophyte complex at level compressing thecal sac with focal spinal canal narrowing encroaching bilateral neural foramen .diffuse disc bulge is at levels compressing thecal sac with focal spinal canal narrowing encroaching bilateral neural foramen . hypertrophy is at all levels in lumbar spine . disc bulge is at levels compressing thecal sac with focal spinal canal narrowing encroaching bilateral neural foramen . hypertrophy is at all levels in lumbar spine . disc bulge is at levels compressing thecal sac with focal'"
      ]
     },
     "execution_count": 150,
     "metadata": {
      "tags": []
     },
     "output_type": "execute_result"
    }
   ],
   "source": [
    "res37 = greedysearch(test_dataset['id'].values[37])  # Generated Impressoin result for an MRI Image after 20 epochs\n",
    "res37"
   ]
  },
  {
   "cell_type": "code",
   "execution_count": null,
   "metadata": {
    "colab": {
     "base_uri": "https://localhost:8080/",
     "height": 35
    },
    "id": "uTdsCJjCpyms",
    "outputId": "85b6cd5d-a761-41fb-b6c9-25e4b0f01be4"
   },
   "outputs": [
    {
     "data": {
      "application/vnd.google.colaboratory.intrinsic+json": {
       "type": "string"
      },
      "text/plain": [
       "'KHASIM_BIAG_31Y_2'"
      ]
     },
     "execution_count": 154,
     "metadata": {
      "tags": []
     },
     "output_type": "execute_result"
    }
   ],
   "source": [
    "test_dataset['id'].values[37] #Original Impression"
   ]
  },
  {
   "cell_type": "code",
   "execution_count": null,
   "metadata": {
    "colab": {
     "base_uri": "https://localhost:8080/",
     "height": 35
    },
    "id": "kj1l2UI8NsN8",
    "outputId": "80e83f72-f880-4502-b92c-aa45cdd40b77"
   },
   "outputs": [
    {
     "data": {
      "application/vnd.google.colaboratory.intrinsic+json": {
       "type": "string"
      },
      "text/plain": [
       "'<start> no significant abnormality detected . <end>'"
      ]
     },
     "execution_count": 153,
     "metadata": {
      "tags": []
     },
     "output_type": "execute_result"
    }
   ],
   "source": [
    "y_test.values[37] # original"
   ]
  },
  {
   "cell_type": "markdown",
   "metadata": {
    "id": "4KALjZRtNxw-"
   },
   "source": [
    "#Eg: 5"
   ]
  },
  {
   "cell_type": "code",
   "execution_count": null,
   "metadata": {
    "colab": {
     "base_uri": "https://localhost:8080/",
     "height": 69
    },
    "id": "y04ugqdfNz06",
    "outputId": "a7898708-b578-4e36-d7e4-d70a1c35e7b6"
   },
   "outputs": [
    {
     "data": {
      "application/vnd.google.colaboratory.intrinsic+json": {
       "type": "string"
      },
      "text/plain": [
       "'with abnormality canal and with grade 1 listhesis is at level with focal spinal canal and bilateral neural foramen narrowing compressing bilateral nerve roots . disc bulge is at level compressing thecal sac with focal spinal canal narrowing encroaching bilateral neural foramen . flaval hypertrophy in all levels in lumbar spine . are at levels in lumbar spine with left side .flaval is at levels .spondylolysis with grade 1 listhesis is at level with focal spinal canal and bilateral neural foramen narrowing'"
      ]
     },
     "execution_count": 151,
     "metadata": {
      "tags": []
     },
     "output_type": "execute_result"
    }
   ],
   "source": [
    "res0 = greedysearch(test_dataset['id'].values[0]) # Generated Impressoin result for an MRI Image after 20 epochs\n",
    "res0"
   ]
  },
  {
   "cell_type": "code",
   "execution_count": null,
   "metadata": {
    "colab": {
     "base_uri": "https://localhost:8080/",
     "height": 52
    },
    "id": "Mqqdv-NnN2md",
    "outputId": "8928b1d1-dfc0-4306-c525-28db122bc2cb"
   },
   "outputs": [
    {
     "data": {
      "application/vnd.google.colaboratory.intrinsic+json": {
       "type": "string"
      },
      "text/plain": [
       "'<start> spondylolysis with grade 1 listhesis is at l5-s1 level with focal spinal canal and bilateral neural foramen narrowing compressing bilateral nerve roots .flaval hypertrophy is noted at all levels in lumbar spine . <end>'"
      ]
     },
     "execution_count": 156,
     "metadata": {
      "tags": []
     },
     "output_type": "execute_result"
    }
   ],
   "source": [
    "y_test.values[0] #Original Impression"
   ]
  },
  {
   "cell_type": "markdown",
   "metadata": {
    "id": "P8BOLYJsN9MU"
   },
   "source": [
    "#BLEU SCORE"
   ]
  },
  {
   "cell_type": "code",
   "execution_count": null,
   "metadata": {
    "id": "ZKFw0iGkN774"
   },
   "outputs": [],
   "source": [
    "def rem_fullstops(text):\n",
    "    '''Removes punctuations'''\n",
    "    punctuations = '''.''' # full stop is not removed\n",
    "    new_text = []\n",
    "    for char in text:\n",
    "        if char in punctuations: \n",
    "            text = text.replace(char, \"\")\n",
    "    new_text.append(' '.join(e for e in text.split()))\n",
    "    return new_text[0]"
   ]
  },
  {
   "cell_type": "code",
   "execution_count": null,
   "metadata": {
    "colab": {
     "base_uri": "https://localhost:8080/",
     "height": 419
    },
    "id": "KBnNRradqNWC",
    "outputId": "d364f8ec-c6eb-468e-cf16-a503d6caad19"
   },
   "outputs": [
    {
     "data": {
      "text/html": [
       "<div>\n",
       "<style scoped>\n",
       "    .dataframe tbody tr th:only-of-type {\n",
       "        vertical-align: middle;\n",
       "    }\n",
       "\n",
       "    .dataframe tbody tr th {\n",
       "        vertical-align: top;\n",
       "    }\n",
       "\n",
       "    .dataframe thead th {\n",
       "        text-align: right;\n",
       "    }\n",
       "</style>\n",
       "<table border=\"1\" class=\"dataframe\">\n",
       "  <thead>\n",
       "    <tr style=\"text-align: right;\">\n",
       "      <th></th>\n",
       "      <th>Image_path</th>\n",
       "      <th>Finding</th>\n",
       "      <th>id</th>\n",
       "    </tr>\n",
       "  </thead>\n",
       "  <tbody>\n",
       "    <tr>\n",
       "      <th>0</th>\n",
       "      <td>Data/D_GOPI_KRISHNA_REDDY_20Y_M_4.jpg</td>\n",
       "      <td>&lt;start&gt; diffuse disc bulge is at l3-l4 l4-l5 l...</td>\n",
       "      <td>D_GOPI_KRISHNA_REDDY_20Y_M_4</td>\n",
       "    </tr>\n",
       "    <tr>\n",
       "      <th>1</th>\n",
       "      <td>Data/K_SEEMA_27Y_11.jpg</td>\n",
       "      <td>&lt;start&gt; no significant abnormality detected . ...</td>\n",
       "      <td>K_SEEMA_27Y_11</td>\n",
       "    </tr>\n",
       "    <tr>\n",
       "      <th>2</th>\n",
       "      <td>Data/A_NARASAMMA_62Y_F_5.jpg</td>\n",
       "      <td>&lt;start&gt; post operative changes in posterior el...</td>\n",
       "      <td>A_NARASAMMA_62Y_F_5</td>\n",
       "    </tr>\n",
       "    <tr>\n",
       "      <th>3</th>\n",
       "      <td>Data/D_CHINA_BRAHAMAIAH_60Y_M_5.jpg</td>\n",
       "      <td>&lt;start&gt; grade 1 spondylolisthesis is at l5-s1 ...</td>\n",
       "      <td>D_CHINA_BRAHAMAIAH_60Y_M_5</td>\n",
       "    </tr>\n",
       "    <tr>\n",
       "      <th>4</th>\n",
       "      <td>Data/S_NAGA_RATNAM_70Y_F_3.jpg</td>\n",
       "      <td>&lt;start&gt; c3 c4 congenital block vertebra is not...</td>\n",
       "      <td>S_NAGA_RATNAM_70Y_F_3</td>\n",
       "    </tr>\n",
       "    <tr>\n",
       "      <th>...</th>\n",
       "      <td>...</td>\n",
       "      <td>...</td>\n",
       "      <td>...</td>\n",
       "    </tr>\n",
       "    <tr>\n",
       "      <th>154</th>\n",
       "      <td>Data/A_NARASAMMA_45Y_F_4.jpg</td>\n",
       "      <td>&lt;start&gt; diffuse disc bulge is noted at l3-l4 l...</td>\n",
       "      <td>A_NARASAMMA_45Y_F_4</td>\n",
       "    </tr>\n",
       "    <tr>\n",
       "      <th>155</th>\n",
       "      <td>Data/D_JAYA_RAMULU_55Y_M_1.jpg</td>\n",
       "      <td>&lt;start&gt; small disc osteophyte complexes are at...</td>\n",
       "      <td>D_JAYA_RAMULU_55Y_M_1</td>\n",
       "    </tr>\n",
       "    <tr>\n",
       "      <th>156</th>\n",
       "      <td>Data/B_PARAIAH_48Y_11.jpg</td>\n",
       "      <td>&lt;start&gt; no significant abnormality detected . ...</td>\n",
       "      <td>B_PARAIAH_48Y_11</td>\n",
       "    </tr>\n",
       "    <tr>\n",
       "      <th>157</th>\n",
       "      <td>Data/P_HARSHITHA_15Y_19.jpg</td>\n",
       "      <td>&lt;start&gt; no significant abnormality detected . ...</td>\n",
       "      <td>P_HARSHITHA_15Y_19</td>\n",
       "    </tr>\n",
       "    <tr>\n",
       "      <th>158</th>\n",
       "      <td>Data/S_RAMBABU_32Y_M_5.jpg</td>\n",
       "      <td>&lt;start&gt; central disc protrusion is at l5-s1 le...</td>\n",
       "      <td>S_RAMBABU_32Y_M_5</td>\n",
       "    </tr>\n",
       "  </tbody>\n",
       "</table>\n",
       "<p>159 rows × 3 columns</p>\n",
       "</div>"
      ],
      "text/plain": [
       "                                Image_path  ...                            id\n",
       "0    Data/D_GOPI_KRISHNA_REDDY_20Y_M_4.jpg  ...  D_GOPI_KRISHNA_REDDY_20Y_M_4\n",
       "1                  Data/K_SEEMA_27Y_11.jpg  ...                K_SEEMA_27Y_11\n",
       "2             Data/A_NARASAMMA_62Y_F_5.jpg  ...           A_NARASAMMA_62Y_F_5\n",
       "3      Data/D_CHINA_BRAHAMAIAH_60Y_M_5.jpg  ...    D_CHINA_BRAHAMAIAH_60Y_M_5\n",
       "4           Data/S_NAGA_RATNAM_70Y_F_3.jpg  ...         S_NAGA_RATNAM_70Y_F_3\n",
       "..                                     ...  ...                           ...\n",
       "154           Data/A_NARASAMMA_45Y_F_4.jpg  ...           A_NARASAMMA_45Y_F_4\n",
       "155         Data/D_JAYA_RAMULU_55Y_M_1.jpg  ...         D_JAYA_RAMULU_55Y_M_1\n",
       "156              Data/B_PARAIAH_48Y_11.jpg  ...              B_PARAIAH_48Y_11\n",
       "157            Data/P_HARSHITHA_15Y_19.jpg  ...            P_HARSHITHA_15Y_19\n",
       "158             Data/S_RAMBABU_32Y_M_5.jpg  ...             S_RAMBABU_32Y_M_5\n",
       "\n",
       "[159 rows x 3 columns]"
      ]
     },
     "execution_count": 105,
     "metadata": {
      "tags": []
     },
     "output_type": "execute_result"
    }
   ],
   "source": [
    "test_dataset"
   ]
  },
  {
   "cell_type": "markdown",
   "metadata": {
    "id": "wpJumshRODob"
   },
   "source": [
    "#CV BLEU"
   ]
  },
  {
   "cell_type": "code",
   "execution_count": null,
   "metadata": {
    "colab": {
     "base_uri": "https://localhost:8080/"
    },
    "id": "vj1JEPQZOEgo",
    "outputId": "e538c75e-a2f1-4eb2-8d45-2fbfdaffc44d"
   },
   "outputs": [
    {
     "name": "stderr",
     "output_type": "stream",
     "text": [
      "159it [17:38,  6.66s/it]\n"
     ]
    }
   ],
   "source": [
    "bleu1 = []\n",
    "bleu2 = []\n",
    "bleu3 = []\n",
    "bleu4 = []\n",
    "for img, rep in tqdm(zip(X_test.values, y_test.values)):\n",
    "    \n",
    "    rep = rem_fullstops(rep)\n",
    "    rep = rep.split()[1:]\n",
    "    rep = rep[:len(rep)-1]\n",
    "    rep = ' '.join(e for e in rep)\n",
    "    \n",
    "    pred_rep = greedysearch(img)\n",
    "    pred_rep = rem_fullstops(pred_rep)\n",
    "    \n",
    "    bleu1.append(sentence_bleu([rep.split()], pred_rep.split(), weights = (1,0,0,0)))\n",
    "    bleu2.append(sentence_bleu([rep.split()], pred_rep.split(), weights = (0.5,0.5,0,0)))\n",
    "    bleu3.append(sentence_bleu([rep.split()], pred_rep.split(), weights = (0.33,0.33,0.33,0)))\n",
    "    bleu4.append(sentence_bleu([rep.split()], pred_rep.split(), weights = (0.25,0.25,0.25,0.25)))"
   ]
  },
  {
   "cell_type": "code",
   "execution_count": null,
   "metadata": {
    "colab": {
     "base_uri": "https://localhost:8080/"
    },
    "id": "8t2voGGoOTeR",
    "outputId": "beb6b408-e0ef-4166-dfe5-3c4d5602063c"
   },
   "outputs": [
    {
     "name": "stdout",
     "output_type": "stream",
     "text": [
      "Bleu1 Score:  0.2564280282900576\n",
      "Bleu2 Score:  0.2261556695202685\n",
      "Bleu3 Score:  0.20515515575140741\n",
      "Bleu4 Score:  0.19154198491270832\n"
     ]
    }
   ],
   "source": [
    "#Blue Score for the Generated Sentences\n",
    "print('Bleu1 Score: ', sum(bleu1)/X_test.shape[0])\n",
    "print('Bleu2 Score: ', sum(bleu2)/X_test.shape[0])\n",
    "print('Bleu3 Score: ', sum(bleu3)/X_test.shape[0])\n",
    "print('Bleu4 Score: ', sum(bleu4)/X_test.shape[0])"
   ]
  }
 ],
 "metadata": {
  "colab": {
   "collapsed_sections": [],
   "name": "Image_features_with_restnet50.ipynb",
   "provenance": []
  },
  "kernelspec": {
   "display_name": "Python 3",
   "language": "python",
   "name": "python3"
  },
  "language_info": {
   "codemirror_mode": {
    "name": "ipython",
    "version": 3
   },
   "file_extension": ".py",
   "mimetype": "text/x-python",
   "name": "python",
   "nbconvert_exporter": "python",
   "pygments_lexer": "ipython3",
   "version": "3.7.6"
  }
 },
 "nbformat": 4,
 "nbformat_minor": 1
}
