{
 "cells": [
  {
   "cell_type": "markdown",
   "metadata": {
    "id": "Hbln1O8gBEih"
   },
   "source": [
    "![alt text](https://drive.google.com/uc?export=view&id=1UXScsVx_Wni_JuDdB8LeTnM6jsPfIwkW)\n",
    "\n",
    "Proprietary content. © Great Learning. All Rights Reserved. Unauthorized use or distribution prohibited."
   ]
  },
  {
   "cell_type": "markdown",
   "metadata": {
    "id": "Q91KqmCRu64D"
   },
   "source": [
    "# Mobile Phone Detection in an Image\n",
    "\n",
    "## Domain\n",
    "Mobile Phones, Computer Vision\n",
    "\n",
    "## Business Context\n",
    "The ability to process visual information using machine learning algorithms can be very useful. Electronics companies can use it to identify the presence of a mobile in an image (location), mobile brand just by looking at the image, and minor damages if there are any. The computer vision field has multiple applications and based on the available data it can be used to meet business objectives.\n",
    "Here, we will use a simple convolutional neural network to classify images with and without mobile phones. \n",
    " \n",
    "## Objective\n",
    "\n",
    "Given the images and label whether an image has a mobile phone or not, can you train a model that allows you to map and find the presence of mobile phones within the selected images.\n"
   ]
  },
  {
   "cell_type": "markdown",
   "metadata": {
    "id": "b0Qw0vEHBUvm"
   },
   "source": [
    "### Package version\n",
    "- tensorflow==2.3.0\n",
    "- matplotlib==3.2.1\n",
    "- h5py==2.10.0\n",
    "- google==2.0.3"
   ]
  },
  {
   "cell_type": "markdown",
   "metadata": {
    "id": "yapdCjMwFl02"
   },
   "source": [
    "## Table of Content\n",
    "\n",
    "1. Import Libraries\n",
    "\n",
    "2. Setting options\n",
    "\n",
    "3. Read Data\n",
    "\n",
    "4. Data Analysis and Preparation\n",
    "\n",
    "5. Visualize and Standardize the data\n",
    "\n",
    "6. Model Building and Testing\n",
    "\n",
    "7. Transfer Learning\n",
    "\n",
    "8. Conclusion and Interpretation\n",
    "\n",
    "9. Further Explore"
   ]
  },
  {
   "cell_type": "markdown",
   "metadata": {
    "id": "mSnjdKmpG82x"
   },
   "source": [
    "## 1. Import Libraries"
   ]
  },
  {
   "cell_type": "markdown",
   "metadata": {
    "id": "8z2Z7-OAs8QG"
   },
   "source": [
    "Let us start by mounting the drive"
   ]
  },
  {
   "cell_type": "code",
   "execution_count": null,
   "metadata": {
    "colab": {
     "base_uri": "https://localhost:8080/"
    },
    "id": "REFUdThmpz_d",
    "outputId": "c51d4874-5130-4d36-970b-0c263da9efe3"
   },
   "outputs": [
    {
     "name": "stdout",
     "output_type": "stream",
     "text": [
      "Mounted at /content/drive\n"
     ]
    }
   ],
   "source": [
    "from google.colab import drive\n",
    "drive.mount('/content/drive')"
   ]
  },
  {
   "cell_type": "markdown",
   "metadata": {
    "id": "ucnevGLoyKf_"
   },
   "source": [
    "Let us check for the version of installed tensorflow."
   ]
  },
  {
   "cell_type": "code",
   "execution_count": 245,
   "metadata": {
    "colab": {
     "base_uri": "https://localhost:8080/"
    },
    "id": "W5as47YxyJVk",
    "outputId": "1a1ad8ff-579f-455e-8e82-82b2d726eadb"
   },
   "outputs": [
    {
     "name": "stdout",
     "output_type": "stream",
     "text": [
      "2.4.1\n"
     ]
    }
   ],
   "source": [
    "# used to supress display of warnings\n",
    "import warnings\n",
    "\n",
    "# os is used to provide a way of using operating system dependent functionality\n",
    "# We use it for setting working folder\n",
    "import os\n",
    "\n",
    "# Pandas is used for data manipulation and analysis\n",
    "import pandas as pd \n",
    "\n",
    "# Numpy is used for large, multi-dimensional arrays and matrices, along with mathematical operators on these arrays\n",
    "import numpy as np\n",
    "\n",
    "# Matplotlib is a data visualization library for 2D plots of arrays, built on NumPy arrays \n",
    "# and designed to work with the broader SciPy stack\n",
    "import matplotlib.pyplot as plt\n",
    "%matplotlib inline\n",
    "from matplotlib import pyplot\n",
    "\n",
    "# Seaborn is based on matplotlib, which aids in drawing attractive and informative statistical graphics.\n",
    "import seaborn as sns\n",
    "import tensorflow \n",
    "print(tensorflow.__version__)\n",
    "\n",
    "\n",
    "from keras.utils import np_utils\n",
    "from keras.models import Sequential\n",
    "from keras.layers.core import Dense, Dropout, Activation, Flatten\n",
    "from keras.layers.convolutional import Conv2D, MaxPooling2D\n",
    "from keras.optimizers import SGD\n",
    "from keras.constraints import maxnorm\n",
    "from PIL import Image\n",
    "from PIL import ImageMath"
   ]
  },
  {
   "cell_type": "markdown",
   "metadata": {
    "id": "MRj03V7AHAYe"
   },
   "source": [
    "## 2. Setting Options"
   ]
  },
  {
   "cell_type": "code",
   "execution_count": 246,
   "metadata": {
    "id": "qCKU7-YkHDq3"
   },
   "outputs": [],
   "source": [
    "# suppress display of warnings\n",
    "warnings.filterwarnings('ignore')\n",
    "\n",
    "# display all dataframe columns\n",
    "pd.options.display.max_columns = None\n",
    "\n",
    "# to set the limit to 3 decimals\n",
    "pd.options.display.float_format = '{:.7f}'.format\n",
    "\n",
    "# display all dataframe rows\n",
    "pd.options.display.max_rows = None"
   ]
  },
  {
   "cell_type": "markdown",
   "metadata": {
    "id": "ufAqcNVCHIut"
   },
   "source": [
    "## 3. Read Data"
   ]
  },
  {
   "cell_type": "code",
   "execution_count": 246,
   "metadata": {
    "id": "jYr5YyNJ5mdT"
   },
   "outputs": [],
   "source": []
  },
  {
   "cell_type": "markdown",
   "metadata": {
    "id": "8lsux2ZwyTTR"
   },
   "source": [
    "### Import the images given in two separate folders and answer following questions. \n",
    "\n",
    "###How many images are there in train and test data"
   ]
  },
  {
   "cell_type": "code",
   "execution_count": 247,
   "metadata": {
    "colab": {
     "base_uri": "https://localhost:8080/"
    },
    "id": "MRDO3see9ch8",
    "outputId": "b89c4655-f5ad-4631-8635-746493c178db"
   },
   "outputs": [
    {
     "data": {
      "text/plain": [
       "121"
      ]
     },
     "execution_count": 247,
     "metadata": {
      "tags": []
     },
     "output_type": "execute_result"
    }
   ],
   "source": [
    "import os \n",
    "no_mobile = os.listdir('/content/drive/MyDrive/dataset/Lab files CV with CNN_Questions and data set/mobile-images/no-mobile')\n",
    "len(no_mobile)"
   ]
  },
  {
   "cell_type": "code",
   "execution_count": 248,
   "metadata": {
    "colab": {
     "base_uri": "https://localhost:8080/"
    },
    "id": "9lm6BCdq935L",
    "outputId": "35875ed8-8cac-441c-a023-ef46ce3c11ed"
   },
   "outputs": [
    {
     "data": {
      "text/plain": [
       "124"
      ]
     },
     "execution_count": 248,
     "metadata": {
      "tags": []
     },
     "output_type": "execute_result"
    }
   ],
   "source": [
    "import os \n",
    "yes_mobile = os.listdir('/content/drive/MyDrive/dataset/Lab files CV with CNN_Questions and data set/mobile-images/yes-mobile')\n",
    "len(yes_mobile)"
   ]
  },
  {
   "cell_type": "markdown",
   "metadata": {
    "id": "t3NWL9_NIdwK"
   },
   "source": [
    "###  What is the percentage of images with and without mobile phone in the train and test data"
   ]
  },
  {
   "cell_type": "code",
   "execution_count": 249,
   "metadata": {
    "colab": {
     "base_uri": "https://localhost:8080/"
    },
    "id": "jWKt4mRgCrFt",
    "outputId": "3b2fa07b-c8dc-4010-db0c-a55f48afa424"
   },
   "outputs": [
    {
     "data": {
      "text/plain": [
       "0.49387755102040815"
      ]
     },
     "execution_count": 249,
     "metadata": {
      "tags": []
     },
     "output_type": "execute_result"
    }
   ],
   "source": [
    "121/(121+124)"
   ]
  },
  {
   "cell_type": "code",
   "execution_count": 250,
   "metadata": {
    "colab": {
     "base_uri": "https://localhost:8080/"
    },
    "id": "mQVQB66D-lnt",
    "outputId": "921c6393-2a15-40ba-8467-373a2fadc3db"
   },
   "outputs": [
    {
     "data": {
      "text/plain": [
       "0.5061224489795918"
      ]
     },
     "execution_count": 250,
     "metadata": {
      "tags": []
     },
     "output_type": "execute_result"
    }
   ],
   "source": [
    "124/(121+124)"
   ]
  },
  {
   "cell_type": "markdown",
   "metadata": {
    "id": "Yr0O2qKwInra"
   },
   "source": [
    "### Visualize a few images to understand the data."
   ]
  },
  {
   "cell_type": "code",
   "execution_count": 251,
   "metadata": {
    "colab": {
     "base_uri": "https://localhost:8080/",
     "height": 285
    },
    "id": "Jk_qfwQfCrDW",
    "outputId": "ce321307-2f9d-4706-8eba-26c1ab63859d"
   },
   "outputs": [
    {
     "data": {
      "text/plain": [
       "<matplotlib.image.AxesImage at 0x7fd1ac7f3750>"
      ]
     },
     "execution_count": 251,
     "metadata": {
      "tags": []
     },
     "output_type": "execute_result"
    },
    {
     "data": {
      "image/png": "[encoded data removed]",
      "text/plain": [
       "<Figure size 432x288 with 1 Axes>"
      ]
     },
     "metadata": {
      "needs_background": "light",
      "tags": []
     },
     "output_type": "display_data"
    }
   ],
   "source": [
    "import cv2\n",
    "img = cv2.imread('/content/drive/MyDrive/dataset/Lab files CV with CNN_Questions and data set/mobile-images/yes-mobile/img131.png')\n",
    "plt.imshow(img)"
   ]
  },
  {
   "cell_type": "markdown",
   "metadata": {
    "id": "vF82QoNLxCjp"
   },
   "source": [
    "## 4. Data Analysis and Preparation"
   ]
  },
  {
   "cell_type": "markdown",
   "metadata": {
    "id": "LDYN63hu2s97"
   },
   "source": [
    "### Read image files and save it to an array AND save their corresponding label to a list ( YES-Mobile - 1, NO-Mobile - 0)\n",
    "### Check shape and size of the images"
   ]
  },
  {
   "cell_type": "code",
   "execution_count": 252,
   "metadata": {
    "id": "7ehjt6kGAkNX"
   },
   "outputs": [],
   "source": [
    "yes_img = []\n",
    "yes_label = []"
   ]
  },
  {
   "cell_type": "code",
   "execution_count": 253,
   "metadata": {
    "id": "zWPOVY3gDOQo"
   },
   "outputs": [],
   "source": [
    "os.chdir('/content/drive/MyDrive/dataset/Lab files CV with CNN_Questions and data set/mobile-images/yes-mobile')\n",
    "path = '/content/drive/MyDrive/dataset/Lab files CV with CNN_Questions and data set/mobile-images/'\n",
    "for i in os.listdir(path + '/yes-mobile'):\n",
    "  a = cv2.imread(i)\n",
    "  a = cv2.resize(a, (128,128))\n",
    "  yes_img.append(a)\n",
    "  yes_label.append(1)"
   ]
  },
  {
   "cell_type": "code",
   "execution_count": 254,
   "metadata": {
    "colab": {
     "base_uri": "https://localhost:8080/"
    },
    "id": "EkxN_9FWCVav",
    "outputId": "09e1bd95-0dc3-4ff9-bd40-bfe8af2ae534"
   },
   "outputs": [
    {
     "data": {
      "text/plain": [
       "(128, 128, 3)"
      ]
     },
     "execution_count": 254,
     "metadata": {
      "tags": []
     },
     "output_type": "execute_result"
    }
   ],
   "source": [
    "yes_img[1].shape"
   ]
  },
  {
   "cell_type": "code",
   "execution_count": 255,
   "metadata": {
    "colab": {
     "base_uri": "https://localhost:8080/"
    },
    "id": "zX4G7xQhEGTz",
    "outputId": "37bacb3b-ad19-45dc-d060-f8b0b673a226"
   },
   "outputs": [
    {
     "data": {
      "text/plain": [
       "124"
      ]
     },
     "execution_count": 255,
     "metadata": {
      "tags": []
     },
     "output_type": "execute_result"
    }
   ],
   "source": [
    "len(yes_img)"
   ]
  },
  {
   "cell_type": "code",
   "execution_count": 256,
   "metadata": {
    "id": "658rcf3jCEMb"
   },
   "outputs": [],
   "source": [
    "no_img = []\n",
    "no_label = []\n",
    "os.chdir('/content/drive/MyDrive/dataset/Lab files CV with CNN_Questions and data set/mobile-images/no-mobile')\n",
    "path = '/content/drive/MyDrive/dataset/Lab files CV with CNN_Questions and data set/mobile-images/'\n",
    "for i in os.listdir(path + '/no-mobile'):\n",
    "  a = cv2.imread(i)\n",
    "  a = cv2.resize(a, (128,128))\n",
    "  no_img.append(a)\n",
    "  no_label.append(0)"
   ]
  },
  {
   "cell_type": "code",
   "execution_count": 257,
   "metadata": {
    "colab": {
     "base_uri": "https://localhost:8080/"
    },
    "id": "nK1lCNjnAsJ4",
    "outputId": "117bf84f-98b3-4cfc-f61b-d80239980f00"
   },
   "outputs": [
    {
     "data": {
      "text/plain": [
       "(128, 128, 3)"
      ]
     },
     "execution_count": 257,
     "metadata": {
      "tags": []
     },
     "output_type": "execute_result"
    }
   ],
   "source": [
    "  no_img[1].shape"
   ]
  },
  {
   "cell_type": "code",
   "execution_count": 258,
   "metadata": {
    "colab": {
     "base_uri": "https://localhost:8080/"
    },
    "id": "lUy5zCa5EJuZ",
    "outputId": "add487f8-749d-4f57-f796-64c92280fde8"
   },
   "outputs": [
    {
     "data": {
      "text/plain": [
       "121"
      ]
     },
     "execution_count": 258,
     "metadata": {
      "tags": []
     },
     "output_type": "execute_result"
    }
   ],
   "source": [
    "len(no_img)"
   ]
  },
  {
   "cell_type": "markdown",
   "metadata": {
    "id": "JVZ2zlPNDOmi"
   },
   "source": [
    "### Concatenate above two arrays (array having image details of with and without mobile) into one variable and check the final size of the data\n",
    "### Concatenate lists having label data into one list"
   ]
  },
  {
   "cell_type": "code",
   "execution_count": 259,
   "metadata": {
    "colab": {
     "base_uri": "https://localhost:8080/"
    },
    "id": "88u5BB9NDs2N",
    "outputId": "e0eb7641-36dc-41f8-8072-7c3590693aa1"
   },
   "outputs": [
    {
     "data": {
      "text/plain": [
       "245"
      ]
     },
     "execution_count": 259,
     "metadata": {
      "tags": []
     },
     "output_type": "execute_result"
    }
   ],
   "source": [
    "X_img =  np.concatenate((yes_img, no_img), axis=0)\n",
    "len(X_img)"
   ]
  },
  {
   "cell_type": "code",
   "execution_count": 260,
   "metadata": {
    "colab": {
     "base_uri": "https://localhost:8080/"
    },
    "id": "Jxpjg-DYF8FP",
    "outputId": "0cda6d36-70cf-4912-d70d-6a455a0a2335"
   },
   "outputs": [
    {
     "data": {
      "text/plain": [
       "245"
      ]
     },
     "execution_count": 260,
     "metadata": {
      "tags": []
     },
     "output_type": "execute_result"
    }
   ],
   "source": [
    "labels =  np.concatenate((yes_label, no_label), axis=0)\n",
    "len(labels)"
   ]
  },
  {
   "cell_type": "markdown",
   "metadata": {
    "id": "rVv66DvSDvY0"
   },
   "source": [
    "### Shuffle the above data and labels ( Data and label should be in sync)"
   ]
  },
  {
   "cell_type": "code",
   "execution_count": 261,
   "metadata": {
    "id": "JC2Uu4r0EFDX"
   },
   "outputs": [],
   "source": [
    "from sklearn.utils import shuffle\n",
    "X, y  = shuffle(X_img, labels, random_state = 1)"
   ]
  },
  {
   "cell_type": "markdown",
   "metadata": {
    "id": "LUvm8AMvEFaA"
   },
   "source": [
    "### Split the data into train and test"
   ]
  },
  {
   "cell_type": "code",
   "execution_count": 262,
   "metadata": {
    "id": "dSjDH_KYEJhX"
   },
   "outputs": [],
   "source": [
    "from sklearn.model_selection import train_test_split\n",
    "X_train, X_test, y_train, y_test = train_test_split(X,y,random_state = 1)"
   ]
  },
  {
   "cell_type": "code",
   "execution_count": 263,
   "metadata": {
    "colab": {
     "base_uri": "https://localhost:8080/"
    },
    "id": "efB2rVrKI0e5",
    "outputId": "78248dbe-e0c6-4f1b-ad1e-08803da45066"
   },
   "outputs": [
    {
     "data": {
      "text/plain": [
       "numpy.ndarray"
      ]
     },
     "execution_count": 263,
     "metadata": {
      "tags": []
     },
     "output_type": "execute_result"
    }
   ],
   "source": [
    "type(X_train)"
   ]
  },
  {
   "cell_type": "code",
   "execution_count": 264,
   "metadata": {
    "colab": {
     "base_uri": "https://localhost:8080/"
    },
    "id": "6qtzGjqFG6fs",
    "outputId": "294fc21d-2a23-4304-f120-72ff6f419756"
   },
   "outputs": [
    {
     "data": {
      "text/plain": [
       "(183, 128, 128, 3)"
      ]
     },
     "execution_count": 264,
     "metadata": {
      "tags": []
     },
     "output_type": "execute_result"
    }
   ],
   "source": [
    "X_train.shape"
   ]
  },
  {
   "cell_type": "code",
   "execution_count": 265,
   "metadata": {
    "colab": {
     "base_uri": "https://localhost:8080/"
    },
    "id": "BA0AWb34G9c5",
    "outputId": "d9d2fa32-bee8-40b2-fb61-786e9dbf8ace"
   },
   "outputs": [
    {
     "data": {
      "text/plain": [
       "(62, 128, 128, 3)"
      ]
     },
     "execution_count": 265,
     "metadata": {
      "tags": []
     },
     "output_type": "execute_result"
    }
   ],
   "source": [
    "X_test.shape"
   ]
  },
  {
   "cell_type": "code",
   "execution_count": 266,
   "metadata": {
    "colab": {
     "base_uri": "https://localhost:8080/"
    },
    "id": "A0O4iJN7H0bk",
    "outputId": "a7eadf13-9c70-40f0-cd88-23faf2d93ff8"
   },
   "outputs": [
    {
     "data": {
      "text/plain": [
       "list"
      ]
     },
     "execution_count": 266,
     "metadata": {
      "tags": []
     },
     "output_type": "execute_result"
    }
   ],
   "source": [
    "type(yes_img)"
   ]
  },
  {
   "cell_type": "markdown",
   "metadata": {
    "id": "hXC7babK32WW"
   },
   "source": [
    "### Read the label csv and plot frequency distribution of \"label\""
   ]
  },
  {
   "cell_type": "code",
   "execution_count": 267,
   "metadata": {
    "colab": {
     "base_uri": "https://localhost:8080/",
     "height": 343
    },
    "id": "2p6vCtqPElDG",
    "outputId": "d3e5be1c-a873-4262-aad5-d70c410a148d"
   },
   "outputs": [
    {
     "data": {
      "text/html": [
       "<div>\n",
       "<style scoped>\n",
       "    .dataframe tbody tr th:only-of-type {\n",
       "        vertical-align: middle;\n",
       "    }\n",
       "\n",
       "    .dataframe tbody tr th {\n",
       "        vertical-align: top;\n",
       "    }\n",
       "\n",
       "    .dataframe thead th {\n",
       "        text-align: right;\n",
       "    }\n",
       "</style>\n",
       "<table border=\"1\" class=\"dataframe\">\n",
       "  <thead>\n",
       "    <tr style=\"text-align: right;\">\n",
       "      <th></th>\n",
       "      <th>filename</th>\n",
       "      <th>label</th>\n",
       "    </tr>\n",
       "  </thead>\n",
       "  <tbody>\n",
       "    <tr>\n",
       "      <th>0</th>\n",
       "      <td>img56.png</td>\n",
       "      <td>No</td>\n",
       "    </tr>\n",
       "    <tr>\n",
       "      <th>1</th>\n",
       "      <td>img199.png</td>\n",
       "      <td>Yes</td>\n",
       "    </tr>\n",
       "    <tr>\n",
       "      <th>2</th>\n",
       "      <td>img107.png</td>\n",
       "      <td>No</td>\n",
       "    </tr>\n",
       "    <tr>\n",
       "      <th>3</th>\n",
       "      <td>img123.png</td>\n",
       "      <td>Yes</td>\n",
       "    </tr>\n",
       "    <tr>\n",
       "      <th>4</th>\n",
       "      <td>img193.png</td>\n",
       "      <td>Yes</td>\n",
       "    </tr>\n",
       "    <tr>\n",
       "      <th>5</th>\n",
       "      <td>img165.png</td>\n",
       "      <td>Yes</td>\n",
       "    </tr>\n",
       "    <tr>\n",
       "      <th>6</th>\n",
       "      <td>img36.png</td>\n",
       "      <td>No</td>\n",
       "    </tr>\n",
       "    <tr>\n",
       "      <th>7</th>\n",
       "      <td>img1.png</td>\n",
       "      <td>No</td>\n",
       "    </tr>\n",
       "    <tr>\n",
       "      <th>8</th>\n",
       "      <td>img21.png</td>\n",
       "      <td>No</td>\n",
       "    </tr>\n",
       "    <tr>\n",
       "      <th>9</th>\n",
       "      <td>img218.png</td>\n",
       "      <td>Yes</td>\n",
       "    </tr>\n",
       "  </tbody>\n",
       "</table>\n",
       "</div>"
      ],
      "text/plain": [
       "     filename label\n",
       "0   img56.png    No\n",
       "1  img199.png   Yes\n",
       "2  img107.png    No\n",
       "3  img123.png   Yes\n",
       "4  img193.png   Yes\n",
       "5  img165.png   Yes\n",
       "6   img36.png    No\n",
       "7    img1.png    No\n",
       "8   img21.png    No\n",
       "9  img218.png   Yes"
      ]
     },
     "execution_count": 267,
     "metadata": {
      "tags": []
     },
     "output_type": "execute_result"
    }
   ],
   "source": [
    "label = pd.read_csv(\"/content/drive/MyDrive/dataset/Lab files CV with CNN_Questions and data set/mobile-images-data.csv\")\n",
    "label.head(10)"
   ]
  },
  {
   "cell_type": "code",
   "execution_count": 268,
   "metadata": {
    "colab": {
     "base_uri": "https://localhost:8080/"
    },
    "id": "O6Yujc8AJT7h",
    "outputId": "72d152ac-840b-4ea4-dfca-7ad8098038d0"
   },
   "outputs": [
    {
     "data": {
      "text/plain": [
       "Yes    124\n",
       "No     121\n",
       "Name: label, dtype: int64"
      ]
     },
     "execution_count": 268,
     "metadata": {
      "tags": []
     },
     "output_type": "execute_result"
    }
   ],
   "source": [
    "pd.value_counts(label['label'])"
   ]
  },
  {
   "cell_type": "markdown",
   "metadata": {
    "id": "IERuYS1BHuCq"
   },
   "source": [
    "## 5. Visualize and Standardize the data"
   ]
  },
  {
   "cell_type": "markdown",
   "metadata": {
    "id": "kxODV6HKykuc"
   },
   "source": [
    "### Visualise the first 10 images in the X_train data and print their corresponding labels."
   ]
  },
  {
   "cell_type": "code",
   "execution_count": 269,
   "metadata": {
    "colab": {
     "base_uri": "https://localhost:8080/",
     "height": 76
    },
    "id": "__YELlwqE8Cl",
    "outputId": "26ed859d-4d9b-4ee9-9f89-93096d7577bb"
   },
   "outputs": [
    {
     "data": {
      "image/png": "[encoded data removed]",
      "text/plain": [
       "<Figure size 432x288 with 10 Axes>"
      ]
     },
     "metadata": {
      "needs_background": "light",
      "tags": []
     },
     "output_type": "display_data"
    },
    {
     "name": "stdout",
     "output_type": "stream",
     "text": [
      "label for eACH of the above image : [0 1 1 1 1 1 0 1 1 1]\n"
     ]
    }
   ],
   "source": [
    "for i in range(10):\n",
    "  plt.subplot(1,10,i+1)\n",
    "  plt.imshow(X_train[i],cmap=\"gray\")\n",
    "  plt.axis('off')\n",
    "plt.show()\n",
    "print('label for eACH of the above image : %s' % (y_train[0:10]))"
   ]
  },
  {
   "cell_type": "markdown",
   "metadata": {
    "id": "y1ZC0x0I3-jo"
   },
   "source": [
    "### Print shape of the X train and X test data"
   ]
  },
  {
   "cell_type": "code",
   "execution_count": 270,
   "metadata": {
    "colab": {
     "base_uri": "https://localhost:8080/"
    },
    "id": "Dm8gmQt2FEUd",
    "outputId": "1ecd5845-97a6-4935-ee4f-d2967a2529bb"
   },
   "outputs": [
    {
     "data": {
      "text/plain": [
       "(183, 128, 128, 3)"
      ]
     },
     "execution_count": 270,
     "metadata": {
      "tags": []
     },
     "output_type": "execute_result"
    }
   ],
   "source": [
    "X_train.shape"
   ]
  },
  {
   "cell_type": "code",
   "execution_count": 271,
   "metadata": {
    "colab": {
     "base_uri": "https://localhost:8080/"
    },
    "id": "FjB7OLsfLhHw",
    "outputId": "ecc7be34-6ac5-40f2-8f95-34fdc31dbe42"
   },
   "outputs": [
    {
     "data": {
      "text/plain": [
       "(62, 128, 128, 3)"
      ]
     },
     "execution_count": 271,
     "metadata": {
      "tags": []
     },
     "output_type": "execute_result"
    }
   ],
   "source": [
    "X_test.shape"
   ]
  },
  {
   "cell_type": "markdown",
   "metadata": {
    "id": "kzoyeXHOy80N"
   },
   "source": [
    "### Reshape the X_train and X_test to make it suitable for the input layer\n"
   ]
  },
  {
   "cell_type": "code",
   "execution_count": 272,
   "metadata": {
    "colab": {
     "base_uri": "https://localhost:8080/"
    },
    "id": "x8vzSTf3FQ26",
    "outputId": "212ca6bb-205c-4a05-afff-857b1a2a83e7"
   },
   "outputs": [
    {
     "data": {
      "text/plain": [
       "(183, 128, 128, 3)"
      ]
     },
     "execution_count": 272,
     "metadata": {
      "tags": []
     },
     "output_type": "execute_result"
    }
   ],
   "source": [
    "X_train.shape"
   ]
  },
  {
   "cell_type": "code",
   "execution_count": 273,
   "metadata": {
    "colab": {
     "base_uri": "https://localhost:8080/"
    },
    "id": "ql0Zk09QOKB9",
    "outputId": "557595f3-9496-4f78-a98f-e76e56cca836"
   },
   "outputs": [
    {
     "data": {
      "text/plain": [
       "(62, 128, 128, 3)"
      ]
     },
     "execution_count": 273,
     "metadata": {
      "tags": []
     },
     "output_type": "execute_result"
    }
   ],
   "source": [
    "X_test.shape"
   ]
  },
  {
   "cell_type": "markdown",
   "metadata": {
    "id": "W1Zgo_3LFSWE"
   },
   "source": [
    "### Normalize the data by dividing by 255"
   ]
  },
  {
   "cell_type": "code",
   "execution_count": 274,
   "metadata": {
    "id": "AMDN2gK0FZ22"
   },
   "outputs": [],
   "source": [
    "X_train_std = X_train/255.0"
   ]
  },
  {
   "cell_type": "code",
   "execution_count": 275,
   "metadata": {
    "id": "LgLUIqcmPqsc"
   },
   "outputs": [],
   "source": [
    "X_test_std = X_test/255.0"
   ]
  },
  {
   "cell_type": "markdown",
   "metadata": {
    "id": "bogxx3cezol1"
   },
   "source": [
    "###  One hot encode the labels for train and test data \n",
    "Hint:- We need to one hot encode the labels for the model to understand the labels better. We will be using categorical cross entropy as our loss function and for this purpose we need our labels to be in one hot encoded format."
   ]
  },
  {
   "cell_type": "code",
   "execution_count": 276,
   "metadata": {
    "colab": {
     "base_uri": "https://localhost:8080/"
    },
    "id": "4R0pPQFBFjp1",
    "outputId": "d977e85f-8413-45f8-91e1-4eae3860f8c5"
   },
   "outputs": [
    {
     "data": {
      "text/plain": [
       "array([0, 1, 1, 1, 1, 1, 0, 1, 1, 1, 1, 0, 1, 0, 1, 1, 0, 0, 0, 0, 1, 1,\n",
       "       1, 1, 0, 0, 0, 0, 0, 1, 0, 0, 1, 0, 1, 0, 1, 0, 1, 1, 0, 1, 0, 0,\n",
       "       0, 1, 0, 0, 0, 0, 0, 1, 0, 1, 1, 1, 0, 1, 1, 0, 0, 0, 0, 1, 0, 0,\n",
       "       0, 0, 0, 1, 1, 0, 1, 0, 0, 1, 1, 1, 1, 0, 1, 0, 0, 1, 0, 1, 1, 0,\n",
       "       1, 0, 1, 0, 1, 1, 0, 0, 0, 1, 0, 1, 1, 1, 1, 1, 1, 0, 0, 1, 1, 0,\n",
       "       0, 0, 1, 1, 0, 1, 1, 0, 0, 1, 1, 0, 1, 1, 1, 1, 0, 0, 0, 0, 1, 0,\n",
       "       1, 1, 0, 1, 1, 0, 0, 0, 1, 0, 0, 0, 0, 0, 1, 1, 0, 0, 0, 0, 0, 1,\n",
       "       0, 0, 1, 0, 0, 1, 1, 1, 0, 1, 1, 1, 0, 0, 1, 1, 0, 1, 0, 0, 1, 1,\n",
       "       0, 0, 1, 0, 0, 0, 1])"
      ]
     },
     "execution_count": 276,
     "metadata": {
      "tags": []
     },
     "output_type": "execute_result"
    }
   ],
   "source": [
    "y_train"
   ]
  },
  {
   "cell_type": "code",
   "execution_count": 277,
   "metadata": {
    "id": "dwf30rHyP1fJ"
   },
   "outputs": [],
   "source": [
    "from tensorflow.keras.utils import to_categorical\n",
    "y_train_onehot =to_categorical(y_train)\n",
    "y_test_onehot = to_categorical(y_test)"
   ]
  },
  {
   "cell_type": "markdown",
   "metadata": {
    "id": "xztigzzfITt-"
   },
   "source": [
    "## 6. Model building & Testing"
   ]
  },
  {
   "cell_type": "code",
   "execution_count": 278,
   "metadata": {
    "id": "9GQA7VGqQL4G"
   },
   "outputs": [],
   "source": [
    "from tensorflow.keras import optimizers\n",
    "from tensorflow.keras.models import Sequential\n",
    "from tensorflow.keras.layers import Dense,Flatten\n",
    "from tensorflow.keras import layers"
   ]
  },
  {
   "cell_type": "markdown",
   "metadata": {
    "id": "UJDUoaEj1d6e"
   },
   "source": [
    "### Define the model architecture using TensorFlow with a Conv2D layer followed by dense layers with activation as ReLu and softmax respectively. "
   ]
  },
  {
   "cell_type": "code",
   "execution_count": 279,
   "metadata": {
    "id": "RhT_PLicFuDu"
   },
   "outputs": [],
   "source": [
    "nb_epoch = 30\n",
    "rows, cols = 128,128\n",
    "n_channels = 3\n",
    "n_classes = 2\n",
    "n_filter = 32\n",
    "n_pool = 2\n",
    "n_conv = 3\n",
    "def CNN_Model():\n",
    "  model = Sequential()\n",
    "  # Input Layer\n",
    "  model.add(Conv2D(n_filter, (n_conv,n_conv), activation = 'relu', input_shape = (rows, cols, n_channels)))\n",
    "\n",
    "  # Hidden Layers\n",
    "  model.add(layers.MaxPooling2D((2,2)))\n",
    "  model.add(Conv2D(n_filter, (n_conv,n_conv), activation = 'relu'))\n",
    "  model.add(layers.MaxPooling2D((2,2)))\n",
    "  model.add(layers.Flatten())\n",
    "\n",
    "  # Output Layer\n",
    "  model.add(Dense(n_classes, activation = 'softmax'))\n",
    "  return model"
   ]
  },
  {
   "cell_type": "code",
   "execution_count": 280,
   "metadata": {
    "id": "97Pfm935acUC"
   },
   "outputs": [],
   "source": [
    "cnn = CNN_model()"
   ]
  },
  {
   "cell_type": "markdown",
   "metadata": {
    "id": "DAJbHWAbF1Ko"
   },
   "source": [
    "### Compile the above model using appropriate loss and optimizers. Try with sgd, adam optimizer and \"accuracy\" as metrics. "
   ]
  },
  {
   "cell_type": "code",
   "execution_count": 281,
   "metadata": {
    "id": "wBcO5lBmGMCW"
   },
   "outputs": [],
   "source": [
    "sgd = optimizers.Adam(lr = 1e-3)\n",
    "cnn.compile(loss = 'binary_crossentropy', optimizer = sgd, metrics=['accuracy'])"
   ]
  },
  {
   "cell_type": "markdown",
   "metadata": {
    "id": "5t90ufg46jLl"
   },
   "source": [
    "### Fit the model on the training dataset along with it's equivalent one hot encoded labels"
   ]
  },
  {
   "cell_type": "code",
   "execution_count": 282,
   "metadata": {
    "colab": {
     "base_uri": "https://localhost:8080/"
    },
    "id": "1OSrPoT9GPKs",
    "outputId": "520903ab-bc68-4f45-d0e6-892fe76be451"
   },
   "outputs": [
    {
     "name": "stdout",
     "output_type": "stream",
     "text": [
      "Epoch 1/30\n",
      "6/6 - 1s - loss: 0.6728 - accuracy: 0.5738 - val_loss: 0.6156 - val_accuracy: 0.7742\n",
      "Epoch 2/30\n",
      "6/6 - 0s - loss: 0.5690 - accuracy: 0.7705 - val_loss: 0.5011 - val_accuracy: 0.8548\n",
      "Epoch 3/30\n",
      "6/6 - 0s - loss: 0.4379 - accuracy: 0.8415 - val_loss: 0.5570 - val_accuracy: 0.7742\n",
      "Epoch 4/30\n",
      "6/6 - 0s - loss: 0.3657 - accuracy: 0.8743 - val_loss: 0.3989 - val_accuracy: 0.8710\n",
      "Epoch 5/30\n",
      "6/6 - 0s - loss: 0.2984 - accuracy: 0.8962 - val_loss: 0.3617 - val_accuracy: 0.8387\n",
      "Epoch 6/30\n",
      "6/6 - 0s - loss: 0.2798 - accuracy: 0.9235 - val_loss: 0.3151 - val_accuracy: 0.9032\n",
      "Epoch 7/30\n",
      "6/6 - 0s - loss: 0.2554 - accuracy: 0.9126 - val_loss: 0.4019 - val_accuracy: 0.8387\n",
      "Epoch 8/30\n",
      "6/6 - 0s - loss: 0.1986 - accuracy: 0.9290 - val_loss: 0.7842 - val_accuracy: 0.7419\n",
      "Epoch 9/30\n",
      "6/6 - 0s - loss: 0.1589 - accuracy: 0.9399 - val_loss: 0.5389 - val_accuracy: 0.8387\n",
      "Epoch 10/30\n",
      "6/6 - 0s - loss: 0.1041 - accuracy: 0.9727 - val_loss: 0.4924 - val_accuracy: 0.8065\n",
      "Epoch 11/30\n",
      "6/6 - 0s - loss: 0.0797 - accuracy: 0.9891 - val_loss: 0.4617 - val_accuracy: 0.8387\n",
      "Epoch 12/30\n",
      "6/6 - 0s - loss: 0.0711 - accuracy: 0.9781 - val_loss: 0.3764 - val_accuracy: 0.8387\n",
      "Epoch 13/30\n",
      "6/6 - 0s - loss: 0.0938 - accuracy: 0.9836 - val_loss: 0.5817 - val_accuracy: 0.8065\n",
      "Epoch 14/30\n",
      "6/6 - 0s - loss: 0.0582 - accuracy: 0.9891 - val_loss: 0.3577 - val_accuracy: 0.8710\n",
      "Epoch 15/30\n",
      "6/6 - 0s - loss: 0.0408 - accuracy: 0.9891 - val_loss: 0.5523 - val_accuracy: 0.8065\n",
      "Epoch 16/30\n",
      "6/6 - 0s - loss: 0.0295 - accuracy: 0.9945 - val_loss: 0.5456 - val_accuracy: 0.7903\n",
      "Epoch 17/30\n",
      "6/6 - 0s - loss: 0.0257 - accuracy: 1.0000 - val_loss: 0.8044 - val_accuracy: 0.7903\n",
      "Epoch 18/30\n",
      "6/6 - 0s - loss: 0.0243 - accuracy: 0.9945 - val_loss: 0.5405 - val_accuracy: 0.8226\n",
      "Epoch 19/30\n",
      "6/6 - 0s - loss: 0.0167 - accuracy: 1.0000 - val_loss: 0.6200 - val_accuracy: 0.8387\n",
      "Epoch 20/30\n",
      "6/6 - 0s - loss: 0.0138 - accuracy: 0.9945 - val_loss: 0.7923 - val_accuracy: 0.7903\n",
      "Epoch 21/30\n",
      "6/6 - 0s - loss: 0.0108 - accuracy: 1.0000 - val_loss: 0.8075 - val_accuracy: 0.7903\n",
      "Epoch 22/30\n",
      "6/6 - 0s - loss: 0.0085 - accuracy: 1.0000 - val_loss: 0.6623 - val_accuracy: 0.8065\n",
      "Epoch 23/30\n",
      "6/6 - 0s - loss: 0.0072 - accuracy: 1.0000 - val_loss: 0.7023 - val_accuracy: 0.7903\n",
      "Epoch 24/30\n",
      "6/6 - 0s - loss: 0.0067 - accuracy: 1.0000 - val_loss: 0.7598 - val_accuracy: 0.7903\n",
      "Epoch 25/30\n",
      "6/6 - 0s - loss: 0.0054 - accuracy: 1.0000 - val_loss: 0.8280 - val_accuracy: 0.7903\n",
      "Epoch 26/30\n",
      "6/6 - 0s - loss: 0.0046 - accuracy: 1.0000 - val_loss: 0.7154 - val_accuracy: 0.8065\n",
      "Epoch 27/30\n",
      "6/6 - 0s - loss: 0.0044 - accuracy: 1.0000 - val_loss: 0.7853 - val_accuracy: 0.8065\n",
      "Epoch 28/30\n",
      "6/6 - 0s - loss: 0.0041 - accuracy: 1.0000 - val_loss: 0.8574 - val_accuracy: 0.7903\n",
      "Epoch 29/30\n",
      "6/6 - 0s - loss: 0.0042 - accuracy: 1.0000 - val_loss: 0.9279 - val_accuracy: 0.7903\n",
      "Epoch 30/30\n",
      "6/6 - 0s - loss: 0.0039 - accuracy: 1.0000 - val_loss: 0.7889 - val_accuracy: 0.7903\n"
     ]
    }
   ],
   "source": [
    "history = cnn.fit(X_train_std, y_train_onehot, validation_data=(X_test_std, y_test_onehot), batch_size=32, epochs = nb_epoch, verbose=2)"
   ]
  },
  {
   "cell_type": "markdown",
   "metadata": {
    "id": "PJ44TJ4gGQUC"
   },
   "source": [
    "### Evaluate the model on test data and print loss and accuracy"
   ]
  },
  {
   "cell_type": "code",
   "execution_count": 283,
   "metadata": {
    "colab": {
     "base_uri": "https://localhost:8080/"
    },
    "id": "ThluFnGNGWh7",
    "outputId": "4bf0bb82-a9a6-4bd0-9ed8-ba570b2c9bdf"
   },
   "outputs": [
    {
     "name": "stdout",
     "output_type": "stream",
     "text": [
      "2/2 [==============================] - 0s 8ms/step - loss: 0.7889 - accuracy: 0.7903\n"
     ]
    },
    {
     "data": {
      "text/plain": [
       "[0.7888821959495544, 0.7903226017951965]"
      ]
     },
     "execution_count": 283,
     "metadata": {
      "tags": []
     },
     "output_type": "execute_result"
    }
   ],
   "source": [
    "cnn.evaluate(X_test_std, y_test_onehot)"
   ]
  },
  {
   "cell_type": "markdown",
   "metadata": {
    "id": "hyzKGfaKGapH"
   },
   "source": [
    "### Predict label data of the test data and check confusion matrix"
   ]
  },
  {
   "cell_type": "code",
   "execution_count": 284,
   "metadata": {
    "colab": {
     "base_uri": "https://localhost:8080/"
    },
    "id": "jqlmsPhxGh-K",
    "outputId": "190d9e42-1f3f-4980-ee37-0d2e4e174ae2"
   },
   "outputs": [
    {
     "data": {
      "text/plain": [
       "array([1, 1, 0, 0, 0, 1, 0, 0, 0, 1, 0, 0, 0, 1, 0, 1, 1, 0, 1, 1, 1, 1,\n",
       "       1, 0, 1, 0, 1, 0, 0, 1, 0, 1, 1, 1, 0, 0, 0, 0, 1, 0, 0, 1, 0, 1,\n",
       "       0, 1, 0, 1, 0, 1, 0, 1, 0, 0, 0, 0, 1, 0, 0, 0, 0, 1])"
      ]
     },
     "execution_count": 284,
     "metadata": {
      "tags": []
     },
     "output_type": "execute_result"
    }
   ],
   "source": [
    "y_pred = cnn.predict(X_test_std)\n",
    "y_pred_class = np.argmax(y_pred, axis=1)\n",
    "y_pred_class"
   ]
  },
  {
   "cell_type": "code",
   "execution_count": 285,
   "metadata": {
    "colab": {
     "base_uri": "https://localhost:8080/"
    },
    "id": "tDN8nIFxiNlA",
    "outputId": "86fbb103-7281-4462-cd57-e820a8563043"
   },
   "outputs": [
    {
     "data": {
      "text/plain": [
       "array([[24,  2],\n",
       "       [11, 25]])"
      ]
     },
     "execution_count": 285,
     "metadata": {
      "tags": []
     },
     "output_type": "execute_result"
    }
   ],
   "source": [
    "from sklearn.metrics import confusion_matrix\n",
    "confusion_matrix(y_test, y_pred_class)"
   ]
  },
  {
   "cell_type": "markdown",
   "metadata": {
    "id": "C3cctwoeGwHa"
   },
   "source": [
    "### Display test images and their predicted label for a few samples"
   ]
  },
  {
   "cell_type": "code",
   "execution_count": 286,
   "metadata": {
    "colab": {
     "base_uri": "https://localhost:8080/",
     "height": 93
    },
    "id": "FvbAyNElHH_G",
    "outputId": "3e89b0e1-183e-486d-9552-acf61b1edb27"
   },
   "outputs": [
    {
     "data": {
      "image/png": "[encoded data removed]",
      "text/plain": [
       "<Figure size 432x288 with 10 Axes>"
      ]
     },
     "metadata": {
      "needs_background": "light",
      "tags": []
     },
     "output_type": "display_data"
    },
    {
     "name": "stdout",
     "output_type": "stream",
     "text": [
      "Predicted label for each of the above image : [1 1 0 0 0 1 0 0 0 1]\n",
      "Original label for each of the above image : [1 1 1 0 0 1 1 1 0 1]\n"
     ]
    }
   ],
   "source": [
    "for i in range(10):\n",
    "  plt.subplot(1,10,i+1)\n",
    "  plt.imshow(X_test_std[i],cmap=\"gray\")\n",
    "  plt.axis('off')\n",
    "plt.show()\n",
    "print('Predicted label for each of the above image : %s' % (y_pred_class[0:10]))\n",
    "print('Original label for each of the above image : %s' % (y_test[0:10]))"
   ]
  },
  {
   "cell_type": "code",
   "execution_count": 287,
   "metadata": {
    "colab": {
     "base_uri": "https://localhost:8080/",
     "height": 121
    },
    "id": "zg-TfuQMkydO",
    "outputId": "c32a914a-7b8c-4c40-fe26-942267bbec83"
   },
   "outputs": [
    {
     "data": {
      "image/png": "[encoded data removed]",
      "text/plain": [
       "<Figure size 864x576 with 10 Axes>"
      ]
     },
     "metadata": {
      "needs_background": "light",
      "tags": []
     },
     "output_type": "display_data"
    }
   ],
   "source": [
    "sample = cnn.predict_classes(X_test_std)\n",
    "\n",
    "test_pred = X_test_std\n",
    "def show_pred(show, test_pred, sample):\n",
    "    fig, axs = plt.subplots(1, show, figsize=(12, 8))\n",
    "    for i in range(0, show):\n",
    "        axs[i].imshow(test_pred[i], label=sample[i])\n",
    "        axs[i].set_title('Label: {}'.format(sample[i]))\n",
    "        \n",
    "show_pred(10, test_pred, sample)"
   ]
  },
  {
   "cell_type": "markdown",
   "metadata": {
    "id": "BNEGriNi44lj"
   },
   "source": [
    "## 7. Transfer Learning"
   ]
  },
  {
   "cell_type": "markdown",
   "metadata": {
    "id": "SXqAmN9X5B_H"
   },
   "source": [
    "### Import pre-trained VGG16 model. Make the last three 3 layers trainable and add one dense layer and an output layer.\n"
   ]
  },
  {
   "cell_type": "code",
   "execution_count": 288,
   "metadata": {
    "id": "YPmUgRMU5WGw"
   },
   "outputs": [],
   "source": [
    "from tensorflow.keras.applications.vgg16 import VGG16\n",
    "cnn_vgg16 = VGG16(weights = 'imagenet', include_top = False, input_shape = (128,128,3))\n",
    "\n",
    "#Freezing all the layers excpt the last 3 layers\n",
    "for layers in cnn_vgg16.layers[:-3]:\n",
    "  layers.trainable = False"
   ]
  },
  {
   "cell_type": "code",
   "execution_count": 293,
   "metadata": {
    "colab": {
     "base_uri": "https://localhost:8080/"
    },
    "id": "8i2y1X3fnWHT",
    "outputId": "b3dc3d70-c222-4500-bd94-beed5e90cb07"
   },
   "outputs": [
    {
     "data": {
      "text/plain": [
       "<tensorflow.python.keras.engine.sequential.Sequential at 0x7fd14e11ee50>"
      ]
     },
     "execution_count": 293,
     "metadata": {
      "tags": []
     },
     "output_type": "execute_result"
    }
   ],
   "source": [
    "from tensorflow.keras import layers\n",
    "cnn_tl = Sequential()\n",
    "cnn_tl.add(cnn_vgg16)\n",
    "\n",
    "cnn_tl.add(layers.Flatten())\n",
    "cnn_tl.add(layers.Dense(1024, activation= 'relu'))\n",
    "cnn_tl.add(layers.Dropout(0.5))\n",
    "cnn_tl.add(layers.Dense(2, activation= 'softmax'))\n",
    "\n",
    "cnn_tl"
   ]
  },
  {
   "cell_type": "code",
   "execution_count": 294,
   "metadata": {
    "colab": {
     "base_uri": "https://localhost:8080/"
    },
    "id": "zE_dEDiYpIYG",
    "outputId": "5df31e47-26ae-460e-e9e4-c47f7ee5bfa3"
   },
   "outputs": [
    {
     "name": "stdout",
     "output_type": "stream",
     "text": [
      "Model: \"sequential_12\"\n",
      "_________________________________________________________________\n",
      "Layer (type)                 Output Shape              Param #   \n",
      "=================================================================\n",
      "vgg16 (Functional)           (None, 4, 4, 512)         14714688  \n",
      "_________________________________________________________________\n",
      "flatten_9 (Flatten)          (None, 8192)              0         \n",
      "_________________________________________________________________\n",
      "dense_12 (Dense)             (None, 1024)              8389632   \n",
      "_________________________________________________________________\n",
      "dropout_3 (Dropout)          (None, 1024)              0         \n",
      "_________________________________________________________________\n",
      "dense_13 (Dense)             (None, 2)                 2050      \n",
      "=================================================================\n",
      "Total params: 23,106,370\n",
      "Trainable params: 13,111,298\n",
      "Non-trainable params: 9,995,072\n",
      "_________________________________________________________________\n"
     ]
    }
   ],
   "source": [
    "cnn_tl.summary()"
   ]
  },
  {
   "cell_type": "markdown",
   "metadata": {
    "id": "faP2Ot1O5WOw"
   },
   "source": [
    "### Complie the above model using appropriate loss and optimizer"
   ]
  },
  {
   "cell_type": "code",
   "execution_count": 295,
   "metadata": {
    "id": "borpxcFM5f9Y"
   },
   "outputs": [],
   "source": [
    "cnn_tl.compile(loss = 'binary_crossentropy', optimizer = sgd, metrics=['accuracy'])"
   ]
  },
  {
   "cell_type": "markdown",
   "metadata": {
    "id": "G8JY2kIS5gEQ"
   },
   "source": [
    "### Fit the above model "
   ]
  },
  {
   "cell_type": "code",
   "execution_count": 296,
   "metadata": {
    "colab": {
     "base_uri": "https://localhost:8080/"
    },
    "id": "8Zi6ZLGc6Mdg",
    "outputId": "1241222b-0a14-4f0d-b0eb-a995847bcc87"
   },
   "outputs": [
    {
     "name": "stdout",
     "output_type": "stream",
     "text": [
      "Epoch 1/30\n",
      "6/6 - 8s - loss: 3.0214 - accuracy: 0.6230 - val_loss: 0.4571 - val_accuracy: 0.9194\n",
      "Epoch 2/30\n",
      "6/6 - 0s - loss: 1.6844 - accuracy: 0.8415 - val_loss: 0.3821 - val_accuracy: 0.9194\n",
      "Epoch 3/30\n",
      "6/6 - 0s - loss: 0.2906 - accuracy: 0.9454 - val_loss: 0.4338 - val_accuracy: 0.9355\n",
      "Epoch 4/30\n",
      "6/6 - 0s - loss: 0.2454 - accuracy: 0.9672 - val_loss: 0.5482 - val_accuracy: 0.9355\n",
      "Epoch 5/30\n",
      "6/6 - 0s - loss: 0.1957 - accuracy: 0.9617 - val_loss: 0.3699 - val_accuracy: 0.9516\n",
      "Epoch 6/30\n",
      "6/6 - 0s - loss: 0.1246 - accuracy: 0.9727 - val_loss: 0.1873 - val_accuracy: 0.9677\n",
      "Epoch 7/30\n",
      "6/6 - 0s - loss: 0.0407 - accuracy: 0.9891 - val_loss: 0.1845 - val_accuracy: 0.9677\n",
      "Epoch 8/30\n",
      "6/6 - 0s - loss: 0.0336 - accuracy: 0.9945 - val_loss: 0.1843 - val_accuracy: 0.9677\n",
      "Epoch 9/30\n",
      "6/6 - 0s - loss: 0.0410 - accuracy: 0.9891 - val_loss: 0.2080 - val_accuracy: 0.9677\n",
      "Epoch 10/30\n",
      "6/6 - 0s - loss: 0.0115 - accuracy: 0.9945 - val_loss: 0.1416 - val_accuracy: 0.9677\n",
      "Epoch 11/30\n",
      "6/6 - 0s - loss: 4.7907e-04 - accuracy: 1.0000 - val_loss: 0.3216 - val_accuracy: 0.9677\n",
      "Epoch 12/30\n",
      "6/6 - 0s - loss: 0.0012 - accuracy: 1.0000 - val_loss: 0.2571 - val_accuracy: 0.9677\n",
      "Epoch 13/30\n",
      "6/6 - 0s - loss: 9.1158e-05 - accuracy: 1.0000 - val_loss: 0.2779 - val_accuracy: 0.9677\n",
      "Epoch 14/30\n",
      "6/6 - 0s - loss: 0.0228 - accuracy: 0.9945 - val_loss: 0.2594 - val_accuracy: 0.9677\n",
      "Epoch 15/30\n",
      "6/6 - 0s - loss: 6.5198e-04 - accuracy: 1.0000 - val_loss: 0.2381 - val_accuracy: 0.9677\n",
      "Epoch 16/30\n",
      "6/6 - 0s - loss: 4.5619e-04 - accuracy: 1.0000 - val_loss: 0.2277 - val_accuracy: 0.9677\n",
      "Epoch 17/30\n",
      "6/6 - 0s - loss: 1.9975e-04 - accuracy: 1.0000 - val_loss: 0.2191 - val_accuracy: 0.9677\n",
      "Epoch 18/30\n",
      "6/6 - 0s - loss: 8.3547e-04 - accuracy: 1.0000 - val_loss: 0.1786 - val_accuracy: 0.9677\n",
      "Epoch 19/30\n",
      "6/6 - 0s - loss: 2.2694e-04 - accuracy: 1.0000 - val_loss: 0.1625 - val_accuracy: 0.9677\n",
      "Epoch 20/30\n",
      "6/6 - 0s - loss: 8.4744e-05 - accuracy: 1.0000 - val_loss: 0.1568 - val_accuracy: 0.9677\n",
      "Epoch 21/30\n",
      "6/6 - 0s - loss: 8.4111e-05 - accuracy: 1.0000 - val_loss: 0.1553 - val_accuracy: 0.9677\n",
      "Epoch 22/30\n",
      "6/6 - 0s - loss: 6.5638e-05 - accuracy: 1.0000 - val_loss: 0.1566 - val_accuracy: 0.9677\n",
      "Epoch 23/30\n",
      "6/6 - 0s - loss: 2.0866e-04 - accuracy: 1.0000 - val_loss: 0.1600 - val_accuracy: 0.9677\n",
      "Epoch 24/30\n",
      "6/6 - 0s - loss: 6.5636e-05 - accuracy: 1.0000 - val_loss: 0.1653 - val_accuracy: 0.9677\n",
      "Epoch 25/30\n",
      "6/6 - 0s - loss: 3.8152e-04 - accuracy: 1.0000 - val_loss: 0.1755 - val_accuracy: 0.9677\n",
      "Epoch 26/30\n",
      "6/6 - 0s - loss: 3.4782e-05 - accuracy: 1.0000 - val_loss: 0.1861 - val_accuracy: 0.9677\n",
      "Epoch 27/30\n",
      "6/6 - 0s - loss: 4.8647e-05 - accuracy: 1.0000 - val_loss: 0.1932 - val_accuracy: 0.9677\n",
      "Epoch 28/30\n",
      "6/6 - 0s - loss: 2.7536e-05 - accuracy: 1.0000 - val_loss: 0.1981 - val_accuracy: 0.9677\n",
      "Epoch 29/30\n",
      "6/6 - 0s - loss: 2.7710e-05 - accuracy: 1.0000 - val_loss: 0.2020 - val_accuracy: 0.9677\n",
      "Epoch 30/30\n",
      "6/6 - 0s - loss: 0.0011 - accuracy: 1.0000 - val_loss: 0.1967 - val_accuracy: 0.9677\n"
     ]
    },
    {
     "data": {
      "text/plain": [
       "<tensorflow.python.keras.callbacks.History at 0x7fd148426350>"
      ]
     },
     "execution_count": 296,
     "metadata": {
      "tags": []
     },
     "output_type": "execute_result"
    }
   ],
   "source": [
    "cnn_tl.fit(X_train_std, y_train_onehot, validation_data=(X_test_std, y_test_onehot), batch_size=32, epochs = nb_epoch, verbose=2)"
   ]
  },
  {
   "cell_type": "markdown",
   "metadata": {
    "id": "7kFI6yre6Ml2"
   },
   "source": [
    "### Evaluate the above model and print accuracy and confusion matrix"
   ]
  },
  {
   "cell_type": "code",
   "execution_count": 297,
   "metadata": {
    "colab": {
     "base_uri": "https://localhost:8080/"
    },
    "id": "56Tg2ARz6SZH",
    "outputId": "8023c860-fc30-445f-ca2d-a4948331e820"
   },
   "outputs": [
    {
     "name": "stdout",
     "output_type": "stream",
     "text": [
      "2/2 [==============================] - 0s 57ms/step - loss: 0.1967 - accuracy: 0.9677\n"
     ]
    },
    {
     "data": {
      "text/plain": [
       "[0.19669868052005768, 0.9677419066429138]"
      ]
     },
     "execution_count": 297,
     "metadata": {
      "tags": []
     },
     "output_type": "execute_result"
    }
   ],
   "source": [
    "cnn_tl.evaluate(X_test_std, y_test_onehot)"
   ]
  },
  {
   "cell_type": "code",
   "execution_count": 298,
   "metadata": {
    "colab": {
     "base_uri": "https://localhost:8080/"
    },
    "id": "JxMaiE6btrbZ",
    "outputId": "acfd5079-e85c-48e2-a48f-5d98494f0e06"
   },
   "outputs": [
    {
     "data": {
      "text/plain": [
       "array([1, 1, 1, 0, 0, 1, 0, 1, 0, 1, 0, 1, 1, 1, 0, 0, 1, 0, 1, 1, 1, 1,\n",
       "       1, 1, 1, 0, 1, 0, 1, 1, 0, 1, 1, 0, 0, 0, 0, 1, 1, 0, 0, 1, 1, 1,\n",
       "       0, 1, 0, 1, 0, 1, 0, 1, 1, 0, 0, 0, 1, 0, 0, 0, 0, 1])"
      ]
     },
     "execution_count": 298,
     "metadata": {
      "tags": []
     },
     "output_type": "execute_result"
    }
   ],
   "source": [
    "y_pred = cnn_tl.predict(X_test_std)\n",
    "y_pred_class = np.argmax(y_pred, axis=1)\n",
    "y_pred_class"
   ]
  },
  {
   "cell_type": "code",
   "execution_count": 299,
   "metadata": {
    "colab": {
     "base_uri": "https://localhost:8080/"
    },
    "id": "xKV2ac4At17d",
    "outputId": "3a341ecd-d2c1-4c8d-ff19-7fe659750572"
   },
   "outputs": [
    {
     "data": {
      "text/plain": [
       "array([[26,  0],\n",
       "       [ 2, 34]])"
      ]
     },
     "execution_count": 299,
     "metadata": {
      "tags": []
     },
     "output_type": "execute_result"
    }
   ],
   "source": [
    "confusion_matrix(y_test, y_pred_class)"
   ]
  },
  {
   "cell_type": "markdown",
   "metadata": {
    "id": "algw3-VGIj-N"
   },
   "source": [
    "## 8. Conclusion and Interpretation\n"
   ]
  },
  {
   "cell_type": "markdown",
   "metadata": {
    "id": "5ixHI0FcHIMo"
   },
   "source": [
    "### Write your observations and findings"
   ]
  },
  {
   "cell_type": "code",
   "execution_count": null,
   "metadata": {
    "id": "vvg4_sXHHOkB"
   },
   "outputs": [],
   "source": [
    "Compare to the CNN model, transfer learning VGG16 model could predict the images very effictively with added hidden and dense layers. "
   ]
  },
  {
   "cell_type": "markdown",
   "metadata": {
    "id": "R_Bud7eiJk7x"
   },
   "source": [
    "## 9. Further explore (Optional)"
   ]
  },
  {
   "cell_type": "markdown",
   "metadata": {
    "id": "ZruCtc4GGkVr"
   },
   "source": [
    "### Print following plots\n",
    "1. Plot training accuracy vs validation accuracy\n",
    "2. Plot training loss vs validation loss"
   ]
  },
  {
   "cell_type": "code",
   "execution_count": 300,
   "metadata": {
    "colab": {
     "base_uri": "https://localhost:8080/",
     "height": 314
    },
    "id": "2nf532Q_HWWM",
    "outputId": "1b265a0a-92e3-46c3-9f42-d671c3b713b2"
   },
   "outputs": [
    {
     "data": {
      "text/plain": [
       "<Figure size 432x288 with 0 Axes>"
      ]
     },
     "execution_count": 300,
     "metadata": {
      "tags": []
     },
     "output_type": "execute_result"
    },
    {
     "data": {
      "image/png": "[encoded data removed]",
      "text/plain": [
       "<Figure size 432x288 with 1 Axes>"
      ]
     },
     "metadata": {
      "needs_background": "light",
      "tags": []
     },
     "output_type": "display_data"
    },
    {
     "data": {
      "text/plain": [
       "<Figure size 432x288 with 0 Axes>"
      ]
     },
     "metadata": {
      "tags": []
     },
     "output_type": "display_data"
    }
   ],
   "source": [
    "accuracy      = history.history['accuracy']\n",
    "val_accuracy  = history.history['val_accuracy']\n",
    "loss     = history.history['loss']\n",
    "val_loss = history.history['val_loss']\n",
    "\n",
    "epochs   = range(len(accuracy)) # Get number of epochs\n",
    "\n",
    "plt.plot  ( epochs, accuracy, label = 'training accuracy' )\n",
    "plt.plot  ( epochs, val_accuracy, label = 'validation accuracy' )\n",
    "plt.title ('Training and validation accuracy')\n",
    "plt.legend(loc = 'lower right')\n",
    "plt.figure()\n"
   ]
  },
  {
   "cell_type": "markdown",
   "metadata": {
    "id": "NKEwRyW9JnCd"
   },
   "source": [
    "### Try changing a few hyperparameters such as number of layers in the network or number of units in a hidden layer or try different activation functions in the hidden layers and see if you get better results than the one in this notebook? "
   ]
  },
  {
   "cell_type": "code",
   "execution_count": null,
   "metadata": {
    "id": "OFRVkBdnHbW4"
   },
   "outputs": [],
   "source": []
  }
 ],
 "metadata": {
  "accelerator": "GPU",
  "colab": {
   "collapsed_sections": [],
   "name": "CNN- Question Notebook.ipynb",
   "provenance": []
  },
  "kernelspec": {
   "display_name": "Python 3",
   "language": "python",
   "name": "python3"
  },
  "language_info": {
   "codemirror_mode": {
    "name": "ipython",
    "version": 3
   },
   "file_extension": ".py",
   "mimetype": "text/x-python",
   "name": "python",
   "nbconvert_exporter": "python",
   "pygments_lexer": "ipython3",
   "version": "3.7.6"
  }
 },
 "nbformat": 4,
 "nbformat_minor": 1
}
