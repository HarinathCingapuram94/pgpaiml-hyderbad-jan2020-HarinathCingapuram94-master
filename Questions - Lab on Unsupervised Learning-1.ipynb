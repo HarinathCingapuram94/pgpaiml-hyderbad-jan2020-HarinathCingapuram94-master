{
 "cells": [
  {
   "cell_type": "markdown",
   "metadata": {
    "colab_type": "text",
    "id": "0zAbYvv-WCve"
   },
   "source": [
    "# Principal Component Analysis with Cancer Data"
   ]
  },
  {
   "cell_type": "code",
   "execution_count": 15,
   "metadata": {
    "colab": {},
    "colab_type": "code",
    "id": "1waXlt6iWCvh"
   },
   "outputs": [],
   "source": [
    "#Import all the necessary modules\n",
    "#Import all the necessary modules\n",
    "import pandas as pd\n",
    "import numpy as np\n",
    "import os\n",
    "import seaborn as sns\n",
    "import matplotlib.pyplot as plt\n",
    "%matplotlib inline"
   ]
  },
  {
   "cell_type": "markdown",
   "metadata": {
    "colab_type": "text",
    "id": "6FZ90t1vWCvq"
   },
   "source": [
    "# Q1. Load the Data file ( Breast Cancer CSV) into Python DataFrame and view top 10 rows"
   ]
  },
  {
   "cell_type": "code",
   "execution_count": 27,
   "metadata": {
    "colab": {},
    "colab_type": "code",
    "id": "HdpptBPZSM4P"
   },
   "outputs": [
    {
     "data": {
      "text/html": [
       "<div>\n",
       "<style scoped>\n",
       "    .dataframe tbody tr th:only-of-type {\n",
       "        vertical-align: middle;\n",
       "    }\n",
       "\n",
       "    .dataframe tbody tr th {\n",
       "        vertical-align: top;\n",
       "    }\n",
       "\n",
       "    .dataframe thead th {\n",
       "        text-align: right;\n",
       "    }\n",
       "</style>\n",
       "<table border=\"1\" class=\"dataframe\">\n",
       "  <thead>\n",
       "    <tr style=\"text-align: right;\">\n",
       "      <th></th>\n",
       "      <th>ID</th>\n",
       "      <th>ClumpThickness</th>\n",
       "      <th>Cell Size</th>\n",
       "      <th>Cell Shape</th>\n",
       "      <th>Marginal Adhesion</th>\n",
       "      <th>Single Epithelial Cell Size</th>\n",
       "      <th>Bare Nuclei</th>\n",
       "      <th>Normal Nucleoli</th>\n",
       "      <th>Bland Chromatin</th>\n",
       "      <th>Mitoses</th>\n",
       "      <th>Class</th>\n",
       "    </tr>\n",
       "  </thead>\n",
       "  <tbody>\n",
       "    <tr>\n",
       "      <th>0</th>\n",
       "      <td>1000025</td>\n",
       "      <td>5</td>\n",
       "      <td>1</td>\n",
       "      <td>1</td>\n",
       "      <td>1</td>\n",
       "      <td>2</td>\n",
       "      <td>1</td>\n",
       "      <td>3</td>\n",
       "      <td>1</td>\n",
       "      <td>1</td>\n",
       "      <td>2</td>\n",
       "    </tr>\n",
       "    <tr>\n",
       "      <th>1</th>\n",
       "      <td>1002945</td>\n",
       "      <td>5</td>\n",
       "      <td>4</td>\n",
       "      <td>4</td>\n",
       "      <td>5</td>\n",
       "      <td>7</td>\n",
       "      <td>10</td>\n",
       "      <td>3</td>\n",
       "      <td>2</td>\n",
       "      <td>1</td>\n",
       "      <td>2</td>\n",
       "    </tr>\n",
       "    <tr>\n",
       "      <th>2</th>\n",
       "      <td>1015425</td>\n",
       "      <td>3</td>\n",
       "      <td>1</td>\n",
       "      <td>1</td>\n",
       "      <td>1</td>\n",
       "      <td>2</td>\n",
       "      <td>2</td>\n",
       "      <td>3</td>\n",
       "      <td>1</td>\n",
       "      <td>1</td>\n",
       "      <td>2</td>\n",
       "    </tr>\n",
       "    <tr>\n",
       "      <th>3</th>\n",
       "      <td>1016277</td>\n",
       "      <td>6</td>\n",
       "      <td>8</td>\n",
       "      <td>8</td>\n",
       "      <td>1</td>\n",
       "      <td>3</td>\n",
       "      <td>4</td>\n",
       "      <td>3</td>\n",
       "      <td>7</td>\n",
       "      <td>1</td>\n",
       "      <td>2</td>\n",
       "    </tr>\n",
       "    <tr>\n",
       "      <th>4</th>\n",
       "      <td>1017023</td>\n",
       "      <td>4</td>\n",
       "      <td>1</td>\n",
       "      <td>1</td>\n",
       "      <td>3</td>\n",
       "      <td>2</td>\n",
       "      <td>1</td>\n",
       "      <td>3</td>\n",
       "      <td>1</td>\n",
       "      <td>1</td>\n",
       "      <td>2</td>\n",
       "    </tr>\n",
       "    <tr>\n",
       "      <th>5</th>\n",
       "      <td>1017122</td>\n",
       "      <td>8</td>\n",
       "      <td>10</td>\n",
       "      <td>10</td>\n",
       "      <td>8</td>\n",
       "      <td>7</td>\n",
       "      <td>10</td>\n",
       "      <td>9</td>\n",
       "      <td>7</td>\n",
       "      <td>1</td>\n",
       "      <td>4</td>\n",
       "    </tr>\n",
       "    <tr>\n",
       "      <th>6</th>\n",
       "      <td>1018099</td>\n",
       "      <td>1</td>\n",
       "      <td>1</td>\n",
       "      <td>1</td>\n",
       "      <td>1</td>\n",
       "      <td>2</td>\n",
       "      <td>10</td>\n",
       "      <td>3</td>\n",
       "      <td>1</td>\n",
       "      <td>1</td>\n",
       "      <td>2</td>\n",
       "    </tr>\n",
       "    <tr>\n",
       "      <th>7</th>\n",
       "      <td>1018561</td>\n",
       "      <td>2</td>\n",
       "      <td>1</td>\n",
       "      <td>2</td>\n",
       "      <td>1</td>\n",
       "      <td>2</td>\n",
       "      <td>1</td>\n",
       "      <td>3</td>\n",
       "      <td>1</td>\n",
       "      <td>1</td>\n",
       "      <td>2</td>\n",
       "    </tr>\n",
       "    <tr>\n",
       "      <th>8</th>\n",
       "      <td>1033078</td>\n",
       "      <td>2</td>\n",
       "      <td>1</td>\n",
       "      <td>1</td>\n",
       "      <td>1</td>\n",
       "      <td>2</td>\n",
       "      <td>1</td>\n",
       "      <td>1</td>\n",
       "      <td>1</td>\n",
       "      <td>5</td>\n",
       "      <td>2</td>\n",
       "    </tr>\n",
       "    <tr>\n",
       "      <th>9</th>\n",
       "      <td>1033078</td>\n",
       "      <td>4</td>\n",
       "      <td>2</td>\n",
       "      <td>1</td>\n",
       "      <td>1</td>\n",
       "      <td>2</td>\n",
       "      <td>1</td>\n",
       "      <td>2</td>\n",
       "      <td>1</td>\n",
       "      <td>1</td>\n",
       "      <td>2</td>\n",
       "    </tr>\n",
       "  </tbody>\n",
       "</table>\n",
       "</div>"
      ],
      "text/plain": [
       "        ID  ClumpThickness  Cell Size  Cell Shape  Marginal Adhesion  \\\n",
       "0  1000025               5          1           1                  1   \n",
       "1  1002945               5          4           4                  5   \n",
       "2  1015425               3          1           1                  1   \n",
       "3  1016277               6          8           8                  1   \n",
       "4  1017023               4          1           1                  3   \n",
       "5  1017122               8         10          10                  8   \n",
       "6  1018099               1          1           1                  1   \n",
       "7  1018561               2          1           2                  1   \n",
       "8  1033078               2          1           1                  1   \n",
       "9  1033078               4          2           1                  1   \n",
       "\n",
       "   Single Epithelial Cell Size Bare Nuclei  Normal Nucleoli  Bland Chromatin  \\\n",
       "0                            2           1                3                1   \n",
       "1                            7          10                3                2   \n",
       "2                            2           2                3                1   \n",
       "3                            3           4                3                7   \n",
       "4                            2           1                3                1   \n",
       "5                            7          10                9                7   \n",
       "6                            2          10                3                1   \n",
       "7                            2           1                3                1   \n",
       "8                            2           1                1                1   \n",
       "9                            2           1                2                1   \n",
       "\n",
       "   Mitoses  Class  \n",
       "0        1      2  \n",
       "1        1      2  \n",
       "2        1      2  \n",
       "3        1      2  \n",
       "4        1      2  \n",
       "5        1      4  \n",
       "6        1      2  \n",
       "7        1      2  \n",
       "8        5      2  \n",
       "9        1      2  "
      ]
     },
     "execution_count": 27,
     "metadata": {},
     "output_type": "execute_result"
    }
   ],
   "source": [
    "df = pd.read_csv(\"Cancer.csv\")\n",
    "df.head(10)"
   ]
  },
  {
   "cell_type": "code",
   "execution_count": null,
   "metadata": {
    "colab": {},
    "colab_type": "code",
    "id": "xusO2ruNWCv4"
   },
   "outputs": [],
   "source": [
    "  # Id columns is to identify rows hence can be skipped in analysis\n",
    "  # All columns have numerical values\n",
    "  # Class would be the target variable. Should be removed when PCA is done"
   ]
  },
  {
   "cell_type": "markdown",
   "metadata": {
    "colab_type": "text",
    "id": "KYTFwE0iWCv_"
   },
   "source": [
    "# Q2 Print the datatypes of each column and the shape of the dataset. Perform descriptive analysis "
   ]
  },
  {
   "cell_type": "code",
   "execution_count": 4,
   "metadata": {
    "colab": {},
    "colab_type": "code",
    "id": "abAqUIqjSM4X",
    "scrolled": true
   },
   "outputs": [
    {
     "name": "stdout",
     "output_type": "stream",
     "text": [
      "<class 'pandas.core.frame.DataFrame'>\n",
      "RangeIndex: 699 entries, 0 to 698\n",
      "Data columns (total 11 columns):\n",
      " #   Column                       Non-Null Count  Dtype \n",
      "---  ------                       --------------  ----- \n",
      " 0   ID                           699 non-null    int64 \n",
      " 1   ClumpThickness               699 non-null    int64 \n",
      " 2   Cell Size                    699 non-null    int64 \n",
      " 3   Cell Shape                   699 non-null    int64 \n",
      " 4   Marginal Adhesion            699 non-null    int64 \n",
      " 5   Single Epithelial Cell Size  699 non-null    int64 \n",
      " 6   Bare Nuclei                  699 non-null    object\n",
      " 7   Normal Nucleoli              699 non-null    int64 \n",
      " 8   Bland Chromatin              699 non-null    int64 \n",
      " 9   Mitoses                      699 non-null    int64 \n",
      " 10  Class                        699 non-null    int64 \n",
      "dtypes: int64(10), object(1)\n",
      "memory usage: 60.2+ KB\n"
     ]
    }
   ],
   "source": [
    "df.info()"
   ]
  },
  {
   "cell_type": "code",
   "execution_count": 5,
   "metadata": {
    "scrolled": true
   },
   "outputs": [
    {
     "data": {
      "text/plain": [
       "(699, 11)"
      ]
     },
     "execution_count": 5,
     "metadata": {},
     "output_type": "execute_result"
    }
   ],
   "source": [
    "df.shape"
   ]
  },
  {
   "cell_type": "code",
   "execution_count": 6,
   "metadata": {},
   "outputs": [
    {
     "data": {
      "text/html": [
       "<div>\n",
       "<style scoped>\n",
       "    .dataframe tbody tr th:only-of-type {\n",
       "        vertical-align: middle;\n",
       "    }\n",
       "\n",
       "    .dataframe tbody tr th {\n",
       "        vertical-align: top;\n",
       "    }\n",
       "\n",
       "    .dataframe thead th {\n",
       "        text-align: right;\n",
       "    }\n",
       "</style>\n",
       "<table border=\"1\" class=\"dataframe\">\n",
       "  <thead>\n",
       "    <tr style=\"text-align: right;\">\n",
       "      <th></th>\n",
       "      <th>ID</th>\n",
       "      <th>ClumpThickness</th>\n",
       "      <th>Cell Size</th>\n",
       "      <th>Cell Shape</th>\n",
       "      <th>Marginal Adhesion</th>\n",
       "      <th>Single Epithelial Cell Size</th>\n",
       "      <th>Normal Nucleoli</th>\n",
       "      <th>Bland Chromatin</th>\n",
       "      <th>Mitoses</th>\n",
       "      <th>Class</th>\n",
       "    </tr>\n",
       "  </thead>\n",
       "  <tbody>\n",
       "    <tr>\n",
       "      <th>count</th>\n",
       "      <td>6.990000e+02</td>\n",
       "      <td>699.000000</td>\n",
       "      <td>699.000000</td>\n",
       "      <td>699.000000</td>\n",
       "      <td>699.000000</td>\n",
       "      <td>699.000000</td>\n",
       "      <td>699.000000</td>\n",
       "      <td>699.000000</td>\n",
       "      <td>699.000000</td>\n",
       "      <td>699.000000</td>\n",
       "    </tr>\n",
       "    <tr>\n",
       "      <th>mean</th>\n",
       "      <td>1.071704e+06</td>\n",
       "      <td>4.417740</td>\n",
       "      <td>3.134478</td>\n",
       "      <td>3.207439</td>\n",
       "      <td>2.806867</td>\n",
       "      <td>3.216023</td>\n",
       "      <td>3.437768</td>\n",
       "      <td>2.866953</td>\n",
       "      <td>1.589413</td>\n",
       "      <td>2.689557</td>\n",
       "    </tr>\n",
       "    <tr>\n",
       "      <th>std</th>\n",
       "      <td>6.170957e+05</td>\n",
       "      <td>2.815741</td>\n",
       "      <td>3.051459</td>\n",
       "      <td>2.971913</td>\n",
       "      <td>2.855379</td>\n",
       "      <td>2.214300</td>\n",
       "      <td>2.438364</td>\n",
       "      <td>3.053634</td>\n",
       "      <td>1.715078</td>\n",
       "      <td>0.951273</td>\n",
       "    </tr>\n",
       "    <tr>\n",
       "      <th>min</th>\n",
       "      <td>6.163400e+04</td>\n",
       "      <td>1.000000</td>\n",
       "      <td>1.000000</td>\n",
       "      <td>1.000000</td>\n",
       "      <td>1.000000</td>\n",
       "      <td>1.000000</td>\n",
       "      <td>1.000000</td>\n",
       "      <td>1.000000</td>\n",
       "      <td>1.000000</td>\n",
       "      <td>2.000000</td>\n",
       "    </tr>\n",
       "    <tr>\n",
       "      <th>25%</th>\n",
       "      <td>8.706885e+05</td>\n",
       "      <td>2.000000</td>\n",
       "      <td>1.000000</td>\n",
       "      <td>1.000000</td>\n",
       "      <td>1.000000</td>\n",
       "      <td>2.000000</td>\n",
       "      <td>2.000000</td>\n",
       "      <td>1.000000</td>\n",
       "      <td>1.000000</td>\n",
       "      <td>2.000000</td>\n",
       "    </tr>\n",
       "    <tr>\n",
       "      <th>50%</th>\n",
       "      <td>1.171710e+06</td>\n",
       "      <td>4.000000</td>\n",
       "      <td>1.000000</td>\n",
       "      <td>1.000000</td>\n",
       "      <td>1.000000</td>\n",
       "      <td>2.000000</td>\n",
       "      <td>3.000000</td>\n",
       "      <td>1.000000</td>\n",
       "      <td>1.000000</td>\n",
       "      <td>2.000000</td>\n",
       "    </tr>\n",
       "    <tr>\n",
       "      <th>75%</th>\n",
       "      <td>1.238298e+06</td>\n",
       "      <td>6.000000</td>\n",
       "      <td>5.000000</td>\n",
       "      <td>5.000000</td>\n",
       "      <td>4.000000</td>\n",
       "      <td>4.000000</td>\n",
       "      <td>5.000000</td>\n",
       "      <td>4.000000</td>\n",
       "      <td>1.000000</td>\n",
       "      <td>4.000000</td>\n",
       "    </tr>\n",
       "    <tr>\n",
       "      <th>max</th>\n",
       "      <td>1.345435e+07</td>\n",
       "      <td>10.000000</td>\n",
       "      <td>10.000000</td>\n",
       "      <td>10.000000</td>\n",
       "      <td>10.000000</td>\n",
       "      <td>10.000000</td>\n",
       "      <td>10.000000</td>\n",
       "      <td>10.000000</td>\n",
       "      <td>10.000000</td>\n",
       "      <td>4.000000</td>\n",
       "    </tr>\n",
       "  </tbody>\n",
       "</table>\n",
       "</div>"
      ],
      "text/plain": [
       "                 ID  ClumpThickness   Cell Size  Cell Shape  \\\n",
       "count  6.990000e+02      699.000000  699.000000  699.000000   \n",
       "mean   1.071704e+06        4.417740    3.134478    3.207439   \n",
       "std    6.170957e+05        2.815741    3.051459    2.971913   \n",
       "min    6.163400e+04        1.000000    1.000000    1.000000   \n",
       "25%    8.706885e+05        2.000000    1.000000    1.000000   \n",
       "50%    1.171710e+06        4.000000    1.000000    1.000000   \n",
       "75%    1.238298e+06        6.000000    5.000000    5.000000   \n",
       "max    1.345435e+07       10.000000   10.000000   10.000000   \n",
       "\n",
       "       Marginal Adhesion  Single Epithelial Cell Size  Normal Nucleoli  \\\n",
       "count         699.000000                   699.000000       699.000000   \n",
       "mean            2.806867                     3.216023         3.437768   \n",
       "std             2.855379                     2.214300         2.438364   \n",
       "min             1.000000                     1.000000         1.000000   \n",
       "25%             1.000000                     2.000000         2.000000   \n",
       "50%             1.000000                     2.000000         3.000000   \n",
       "75%             4.000000                     4.000000         5.000000   \n",
       "max            10.000000                    10.000000        10.000000   \n",
       "\n",
       "       Bland Chromatin     Mitoses       Class  \n",
       "count       699.000000  699.000000  699.000000  \n",
       "mean          2.866953    1.589413    2.689557  \n",
       "std           3.053634    1.715078    0.951273  \n",
       "min           1.000000    1.000000    2.000000  \n",
       "25%           1.000000    1.000000    2.000000  \n",
       "50%           1.000000    1.000000    2.000000  \n",
       "75%           4.000000    1.000000    4.000000  \n",
       "max          10.000000   10.000000    4.000000  "
      ]
     },
     "execution_count": 6,
     "metadata": {},
     "output_type": "execute_result"
    }
   ],
   "source": [
    "df.describe()"
   ]
  },
  {
   "cell_type": "markdown",
   "metadata": {
    "colab_type": "text",
    "id": "ecghJZJIWCwW"
   },
   "source": [
    "# Q3 Check for missing value check, incorrect data, duplicate data and perform imputation with mean, median, mode as necessary.\n"
   ]
  },
  {
   "cell_type": "code",
   "execution_count": null,
   "metadata": {},
   "outputs": [],
   "source": [
    "# Check for missing value in any other column"
   ]
  },
  {
   "cell_type": "code",
   "execution_count": 9,
   "metadata": {
    "scrolled": true
   },
   "outputs": [
    {
     "data": {
      "text/plain": [
       "ID                             0\n",
       "ClumpThickness                 0\n",
       "Cell Size                      0\n",
       "Cell Shape                     0\n",
       "Marginal Adhesion              0\n",
       "Single Epithelial Cell Size    0\n",
       "Bare Nuclei                    0\n",
       "Normal Nucleoli                0\n",
       "Bland Chromatin                0\n",
       "Mitoses                        0\n",
       "Class                          0\n",
       "dtype: int64"
      ]
     },
     "execution_count": 9,
     "metadata": {},
     "output_type": "execute_result"
    }
   ],
   "source": [
    "df.isna().sum()"
   ]
  },
  {
   "cell_type": "code",
   "execution_count": 11,
   "metadata": {},
   "outputs": [
    {
     "data": {
      "text/plain": [
       "ID                             0\n",
       "ClumpThickness                 0\n",
       "Cell Size                      0\n",
       "Cell Shape                     0\n",
       "Marginal Adhesion              0\n",
       "Single Epithelial Cell Size    0\n",
       "Bare Nuclei                    0\n",
       "Normal Nucleoli                0\n",
       "Bland Chromatin                0\n",
       "Mitoses                        0\n",
       "Class                          0\n",
       "dtype: int64"
      ]
     },
     "execution_count": 11,
     "metadata": {},
     "output_type": "execute_result"
    }
   ],
   "source": [
    "df.isnull().sum()"
   ]
  },
  {
   "cell_type": "code",
   "execution_count": null,
   "metadata": {},
   "outputs": [],
   "source": [
    "# Get count of rows having ?"
   ]
  },
  {
   "cell_type": "code",
   "execution_count": 29,
   "metadata": {
    "colab": {},
    "colab_type": "code",
    "id": "49KjoukMSM4b"
   },
   "outputs": [
    {
     "data": {
      "text/plain": [
       "16"
      ]
     },
     "execution_count": 29,
     "metadata": {},
     "output_type": "execute_result"
    }
   ],
   "source": [
    "# We could see \"?\" values in column, this should be removed from data set\n",
    "x = df['Bare Nuclei'].value_counts()\n",
    "x['?']\n",
    "\n"
   ]
  },
  {
   "cell_type": "code",
   "execution_count": null,
   "metadata": {},
   "outputs": [],
   "source": [
    "# No missing values found. So let us try to remove ? from bare nuclei column"
   ]
  },
  {
   "cell_type": "code",
   "execution_count": null,
   "metadata": {},
   "outputs": [],
   "source": [
    "# 16 values are corrupted. We can either delete them as it forms roughly 2% of data.\n",
    "# Here we would like to impute it with suitable values"
   ]
  },
  {
   "cell_type": "code",
   "execution_count": 30,
   "metadata": {
    "scrolled": false
   },
   "outputs": [],
   "source": [
    "df['Bare Nuclei'] = df['Bare Nuclei'].replace('?',df['Bare Nuclei'].describe().top)"
   ]
  },
  {
   "cell_type": "code",
   "execution_count": 31,
   "metadata": {},
   "outputs": [],
   "source": [
    "df['Bare Nuclei'] = df['Bare Nuclei'].astype('int64')"
   ]
  },
  {
   "cell_type": "code",
   "execution_count": 20,
   "metadata": {
    "scrolled": true
   },
   "outputs": [
    {
     "name": "stdout",
     "output_type": "stream",
     "text": [
      "<class 'pandas.core.frame.DataFrame'>\n",
      "RangeIndex: 699 entries, 0 to 698\n",
      "Data columns (total 11 columns):\n",
      " #   Column                       Non-Null Count  Dtype\n",
      "---  ------                       --------------  -----\n",
      " 0   ID                           699 non-null    int64\n",
      " 1   ClumpThickness               699 non-null    int64\n",
      " 2   Cell Size                    699 non-null    int64\n",
      " 3   Cell Shape                   699 non-null    int64\n",
      " 4   Marginal Adhesion            699 non-null    int64\n",
      " 5   Single Epithelial Cell Size  699 non-null    int64\n",
      " 6   Bare Nuclei                  699 non-null    int64\n",
      " 7   Normal Nucleoli              699 non-null    int64\n",
      " 8   Bland Chromatin              699 non-null    int64\n",
      " 9   Mitoses                      699 non-null    int64\n",
      " 10  Class                        699 non-null    int64\n",
      "dtypes: int64(11)\n",
      "memory usage: 60.2 KB\n"
     ]
    }
   ],
   "source": [
    "df.info()"
   ]
  },
  {
   "cell_type": "code",
   "execution_count": 21,
   "metadata": {
    "scrolled": true
   },
   "outputs": [
    {
     "data": {
      "text/html": [
       "<div>\n",
       "<style scoped>\n",
       "    .dataframe tbody tr th:only-of-type {\n",
       "        vertical-align: middle;\n",
       "    }\n",
       "\n",
       "    .dataframe tbody tr th {\n",
       "        vertical-align: top;\n",
       "    }\n",
       "\n",
       "    .dataframe thead th {\n",
       "        text-align: right;\n",
       "    }\n",
       "</style>\n",
       "<table border=\"1\" class=\"dataframe\">\n",
       "  <thead>\n",
       "    <tr style=\"text-align: right;\">\n",
       "      <th></th>\n",
       "      <th>ID</th>\n",
       "      <th>ClumpThickness</th>\n",
       "      <th>Cell Size</th>\n",
       "      <th>Cell Shape</th>\n",
       "      <th>Marginal Adhesion</th>\n",
       "      <th>Single Epithelial Cell Size</th>\n",
       "      <th>Bare Nuclei</th>\n",
       "      <th>Normal Nucleoli</th>\n",
       "      <th>Bland Chromatin</th>\n",
       "      <th>Mitoses</th>\n",
       "      <th>Class</th>\n",
       "    </tr>\n",
       "  </thead>\n",
       "  <tbody>\n",
       "    <tr>\n",
       "      <th>count</th>\n",
       "      <td>6.990000e+02</td>\n",
       "      <td>699.000000</td>\n",
       "      <td>699.000000</td>\n",
       "      <td>699.000000</td>\n",
       "      <td>699.000000</td>\n",
       "      <td>699.000000</td>\n",
       "      <td>699.000000</td>\n",
       "      <td>699.000000</td>\n",
       "      <td>699.000000</td>\n",
       "      <td>699.000000</td>\n",
       "      <td>699.000000</td>\n",
       "    </tr>\n",
       "    <tr>\n",
       "      <th>mean</th>\n",
       "      <td>1.071704e+06</td>\n",
       "      <td>4.417740</td>\n",
       "      <td>3.134478</td>\n",
       "      <td>3.207439</td>\n",
       "      <td>2.806867</td>\n",
       "      <td>3.216023</td>\n",
       "      <td>3.486409</td>\n",
       "      <td>3.437768</td>\n",
       "      <td>2.866953</td>\n",
       "      <td>1.589413</td>\n",
       "      <td>2.689557</td>\n",
       "    </tr>\n",
       "    <tr>\n",
       "      <th>std</th>\n",
       "      <td>6.170957e+05</td>\n",
       "      <td>2.815741</td>\n",
       "      <td>3.051459</td>\n",
       "      <td>2.971913</td>\n",
       "      <td>2.855379</td>\n",
       "      <td>2.214300</td>\n",
       "      <td>3.621929</td>\n",
       "      <td>2.438364</td>\n",
       "      <td>3.053634</td>\n",
       "      <td>1.715078</td>\n",
       "      <td>0.951273</td>\n",
       "    </tr>\n",
       "    <tr>\n",
       "      <th>min</th>\n",
       "      <td>6.163400e+04</td>\n",
       "      <td>1.000000</td>\n",
       "      <td>1.000000</td>\n",
       "      <td>1.000000</td>\n",
       "      <td>1.000000</td>\n",
       "      <td>1.000000</td>\n",
       "      <td>1.000000</td>\n",
       "      <td>1.000000</td>\n",
       "      <td>1.000000</td>\n",
       "      <td>1.000000</td>\n",
       "      <td>2.000000</td>\n",
       "    </tr>\n",
       "    <tr>\n",
       "      <th>25%</th>\n",
       "      <td>8.706885e+05</td>\n",
       "      <td>2.000000</td>\n",
       "      <td>1.000000</td>\n",
       "      <td>1.000000</td>\n",
       "      <td>1.000000</td>\n",
       "      <td>2.000000</td>\n",
       "      <td>1.000000</td>\n",
       "      <td>2.000000</td>\n",
       "      <td>1.000000</td>\n",
       "      <td>1.000000</td>\n",
       "      <td>2.000000</td>\n",
       "    </tr>\n",
       "    <tr>\n",
       "      <th>50%</th>\n",
       "      <td>1.171710e+06</td>\n",
       "      <td>4.000000</td>\n",
       "      <td>1.000000</td>\n",
       "      <td>1.000000</td>\n",
       "      <td>1.000000</td>\n",
       "      <td>2.000000</td>\n",
       "      <td>1.000000</td>\n",
       "      <td>3.000000</td>\n",
       "      <td>1.000000</td>\n",
       "      <td>1.000000</td>\n",
       "      <td>2.000000</td>\n",
       "    </tr>\n",
       "    <tr>\n",
       "      <th>75%</th>\n",
       "      <td>1.238298e+06</td>\n",
       "      <td>6.000000</td>\n",
       "      <td>5.000000</td>\n",
       "      <td>5.000000</td>\n",
       "      <td>4.000000</td>\n",
       "      <td>4.000000</td>\n",
       "      <td>5.000000</td>\n",
       "      <td>5.000000</td>\n",
       "      <td>4.000000</td>\n",
       "      <td>1.000000</td>\n",
       "      <td>4.000000</td>\n",
       "    </tr>\n",
       "    <tr>\n",
       "      <th>max</th>\n",
       "      <td>1.345435e+07</td>\n",
       "      <td>10.000000</td>\n",
       "      <td>10.000000</td>\n",
       "      <td>10.000000</td>\n",
       "      <td>10.000000</td>\n",
       "      <td>10.000000</td>\n",
       "      <td>10.000000</td>\n",
       "      <td>10.000000</td>\n",
       "      <td>10.000000</td>\n",
       "      <td>10.000000</td>\n",
       "      <td>4.000000</td>\n",
       "    </tr>\n",
       "  </tbody>\n",
       "</table>\n",
       "</div>"
      ],
      "text/plain": [
       "                 ID  ClumpThickness   Cell Size  Cell Shape  \\\n",
       "count  6.990000e+02      699.000000  699.000000  699.000000   \n",
       "mean   1.071704e+06        4.417740    3.134478    3.207439   \n",
       "std    6.170957e+05        2.815741    3.051459    2.971913   \n",
       "min    6.163400e+04        1.000000    1.000000    1.000000   \n",
       "25%    8.706885e+05        2.000000    1.000000    1.000000   \n",
       "50%    1.171710e+06        4.000000    1.000000    1.000000   \n",
       "75%    1.238298e+06        6.000000    5.000000    5.000000   \n",
       "max    1.345435e+07       10.000000   10.000000   10.000000   \n",
       "\n",
       "       Marginal Adhesion  Single Epithelial Cell Size  Bare Nuclei  \\\n",
       "count         699.000000                   699.000000   699.000000   \n",
       "mean            2.806867                     3.216023     3.486409   \n",
       "std             2.855379                     2.214300     3.621929   \n",
       "min             1.000000                     1.000000     1.000000   \n",
       "25%             1.000000                     2.000000     1.000000   \n",
       "50%             1.000000                     2.000000     1.000000   \n",
       "75%             4.000000                     4.000000     5.000000   \n",
       "max            10.000000                    10.000000    10.000000   \n",
       "\n",
       "       Normal Nucleoli  Bland Chromatin     Mitoses       Class  \n",
       "count       699.000000       699.000000  699.000000  699.000000  \n",
       "mean          3.437768         2.866953    1.589413    2.689557  \n",
       "std           2.438364         3.053634    1.715078    0.951273  \n",
       "min           1.000000         1.000000    1.000000    2.000000  \n",
       "25%           2.000000         1.000000    1.000000    2.000000  \n",
       "50%           3.000000         1.000000    1.000000    2.000000  \n",
       "75%           5.000000         4.000000    1.000000    4.000000  \n",
       "max          10.000000        10.000000   10.000000    4.000000  "
      ]
     },
     "execution_count": 21,
     "metadata": {},
     "output_type": "execute_result"
    }
   ],
   "source": [
    "df.describe(include = 'all')"
   ]
  },
  {
   "cell_type": "code",
   "execution_count": 32,
   "metadata": {},
   "outputs": [
    {
     "data": {
      "text/plain": [
       "(690, 11)"
      ]
     },
     "execution_count": 32,
     "metadata": {},
     "output_type": "execute_result"
    }
   ],
   "source": [
    "df.drop_duplicates(keep ='first', inplace=True)\n",
    "df.shape"
   ]
  },
  {
   "cell_type": "markdown",
   "metadata": {
    "colab_type": "text",
    "id": "YAu8NvGaWCxr"
   },
   "source": [
    "# Q4. Perform bi variate analysis including correlation, pairplots and state the inferences. \n"
   ]
  },
  {
   "cell_type": "code",
   "execution_count": 23,
   "metadata": {
    "colab": {},
    "colab_type": "code",
    "id": "nu6J2sWuSM4m"
   },
   "outputs": [
    {
     "data": {
      "text/html": [
       "<div>\n",
       "<style scoped>\n",
       "    .dataframe tbody tr th:only-of-type {\n",
       "        vertical-align: middle;\n",
       "    }\n",
       "\n",
       "    .dataframe tbody tr th {\n",
       "        vertical-align: top;\n",
       "    }\n",
       "\n",
       "    .dataframe thead th {\n",
       "        text-align: right;\n",
       "    }\n",
       "</style>\n",
       "<table border=\"1\" class=\"dataframe\">\n",
       "  <thead>\n",
       "    <tr style=\"text-align: right;\">\n",
       "      <th></th>\n",
       "      <th>ID</th>\n",
       "      <th>ClumpThickness</th>\n",
       "      <th>Cell Size</th>\n",
       "      <th>Cell Shape</th>\n",
       "      <th>Marginal Adhesion</th>\n",
       "      <th>Single Epithelial Cell Size</th>\n",
       "      <th>Bare Nuclei</th>\n",
       "      <th>Normal Nucleoli</th>\n",
       "      <th>Bland Chromatin</th>\n",
       "      <th>Mitoses</th>\n",
       "      <th>Class</th>\n",
       "    </tr>\n",
       "  </thead>\n",
       "  <tbody>\n",
       "    <tr>\n",
       "      <th>ID</th>\n",
       "      <td>1.000000</td>\n",
       "      <td>-0.059592</td>\n",
       "      <td>-0.043856</td>\n",
       "      <td>-0.042803</td>\n",
       "      <td>-0.066771</td>\n",
       "      <td>-0.048102</td>\n",
       "      <td>-0.091832</td>\n",
       "      <td>-0.059802</td>\n",
       "      <td>-0.054517</td>\n",
       "      <td>-0.036286</td>\n",
       "      <td>-0.080084</td>\n",
       "    </tr>\n",
       "    <tr>\n",
       "      <th>ClumpThickness</th>\n",
       "      <td>-0.059592</td>\n",
       "      <td>1.000000</td>\n",
       "      <td>0.643173</td>\n",
       "      <td>0.653589</td>\n",
       "      <td>0.487715</td>\n",
       "      <td>0.517253</td>\n",
       "      <td>0.590648</td>\n",
       "      <td>0.561063</td>\n",
       "      <td>0.535507</td>\n",
       "      <td>0.350196</td>\n",
       "      <td>0.716812</td>\n",
       "    </tr>\n",
       "    <tr>\n",
       "      <th>Cell Size</th>\n",
       "      <td>-0.043856</td>\n",
       "      <td>0.643173</td>\n",
       "      <td>1.000000</td>\n",
       "      <td>0.905349</td>\n",
       "      <td>0.712933</td>\n",
       "      <td>0.746982</td>\n",
       "      <td>0.684571</td>\n",
       "      <td>0.759632</td>\n",
       "      <td>0.727073</td>\n",
       "      <td>0.459918</td>\n",
       "      <td>0.817586</td>\n",
       "    </tr>\n",
       "    <tr>\n",
       "      <th>Cell Shape</th>\n",
       "      <td>-0.042803</td>\n",
       "      <td>0.653589</td>\n",
       "      <td>0.905349</td>\n",
       "      <td>1.000000</td>\n",
       "      <td>0.690782</td>\n",
       "      <td>0.714243</td>\n",
       "      <td>0.704165</td>\n",
       "      <td>0.738576</td>\n",
       "      <td>0.724519</td>\n",
       "      <td>0.440435</td>\n",
       "      <td>0.817551</td>\n",
       "    </tr>\n",
       "    <tr>\n",
       "      <th>Marginal Adhesion</th>\n",
       "      <td>-0.066771</td>\n",
       "      <td>0.487715</td>\n",
       "      <td>0.712933</td>\n",
       "      <td>0.690782</td>\n",
       "      <td>1.000000</td>\n",
       "      <td>0.608281</td>\n",
       "      <td>0.672512</td>\n",
       "      <td>0.669860</td>\n",
       "      <td>0.602228</td>\n",
       "      <td>0.417008</td>\n",
       "      <td>0.701175</td>\n",
       "    </tr>\n",
       "    <tr>\n",
       "      <th>Single Epithelial Cell Size</th>\n",
       "      <td>-0.048102</td>\n",
       "      <td>0.517253</td>\n",
       "      <td>0.746982</td>\n",
       "      <td>0.714243</td>\n",
       "      <td>0.608281</td>\n",
       "      <td>1.000000</td>\n",
       "      <td>0.580487</td>\n",
       "      <td>0.620526</td>\n",
       "      <td>0.633880</td>\n",
       "      <td>0.482517</td>\n",
       "      <td>0.681063</td>\n",
       "    </tr>\n",
       "    <tr>\n",
       "      <th>Bare Nuclei</th>\n",
       "      <td>-0.091832</td>\n",
       "      <td>0.590648</td>\n",
       "      <td>0.684571</td>\n",
       "      <td>0.704165</td>\n",
       "      <td>0.672512</td>\n",
       "      <td>0.580487</td>\n",
       "      <td>1.000000</td>\n",
       "      <td>0.672754</td>\n",
       "      <td>0.578161</td>\n",
       "      <td>0.342823</td>\n",
       "      <td>0.816655</td>\n",
       "    </tr>\n",
       "    <tr>\n",
       "      <th>Normal Nucleoli</th>\n",
       "      <td>-0.059802</td>\n",
       "      <td>0.561063</td>\n",
       "      <td>0.759632</td>\n",
       "      <td>0.738576</td>\n",
       "      <td>0.669860</td>\n",
       "      <td>0.620526</td>\n",
       "      <td>0.672754</td>\n",
       "      <td>1.000000</td>\n",
       "      <td>0.669099</td>\n",
       "      <td>0.343769</td>\n",
       "      <td>0.756736</td>\n",
       "    </tr>\n",
       "    <tr>\n",
       "      <th>Bland Chromatin</th>\n",
       "      <td>-0.054517</td>\n",
       "      <td>0.535507</td>\n",
       "      <td>0.727073</td>\n",
       "      <td>0.724519</td>\n",
       "      <td>0.602228</td>\n",
       "      <td>0.633880</td>\n",
       "      <td>0.578161</td>\n",
       "      <td>0.669099</td>\n",
       "      <td>1.000000</td>\n",
       "      <td>0.427490</td>\n",
       "      <td>0.715363</td>\n",
       "    </tr>\n",
       "    <tr>\n",
       "      <th>Mitoses</th>\n",
       "      <td>-0.036286</td>\n",
       "      <td>0.350196</td>\n",
       "      <td>0.459918</td>\n",
       "      <td>0.440435</td>\n",
       "      <td>0.417008</td>\n",
       "      <td>0.482517</td>\n",
       "      <td>0.342823</td>\n",
       "      <td>0.343769</td>\n",
       "      <td>0.427490</td>\n",
       "      <td>1.000000</td>\n",
       "      <td>0.423947</td>\n",
       "    </tr>\n",
       "    <tr>\n",
       "      <th>Class</th>\n",
       "      <td>-0.080084</td>\n",
       "      <td>0.716812</td>\n",
       "      <td>0.817586</td>\n",
       "      <td>0.817551</td>\n",
       "      <td>0.701175</td>\n",
       "      <td>0.681063</td>\n",
       "      <td>0.816655</td>\n",
       "      <td>0.756736</td>\n",
       "      <td>0.715363</td>\n",
       "      <td>0.423947</td>\n",
       "      <td>1.000000</td>\n",
       "    </tr>\n",
       "  </tbody>\n",
       "</table>\n",
       "</div>"
      ],
      "text/plain": [
       "                                   ID  ClumpThickness  Cell Size  Cell Shape  \\\n",
       "ID                           1.000000       -0.059592  -0.043856   -0.042803   \n",
       "ClumpThickness              -0.059592        1.000000   0.643173    0.653589   \n",
       "Cell Size                   -0.043856        0.643173   1.000000    0.905349   \n",
       "Cell Shape                  -0.042803        0.653589   0.905349    1.000000   \n",
       "Marginal Adhesion           -0.066771        0.487715   0.712933    0.690782   \n",
       "Single Epithelial Cell Size -0.048102        0.517253   0.746982    0.714243   \n",
       "Bare Nuclei                 -0.091832        0.590648   0.684571    0.704165   \n",
       "Normal Nucleoli             -0.059802        0.561063   0.759632    0.738576   \n",
       "Bland Chromatin             -0.054517        0.535507   0.727073    0.724519   \n",
       "Mitoses                     -0.036286        0.350196   0.459918    0.440435   \n",
       "Class                       -0.080084        0.716812   0.817586    0.817551   \n",
       "\n",
       "                             Marginal Adhesion  Single Epithelial Cell Size  \\\n",
       "ID                                   -0.066771                    -0.048102   \n",
       "ClumpThickness                        0.487715                     0.517253   \n",
       "Cell Size                             0.712933                     0.746982   \n",
       "Cell Shape                            0.690782                     0.714243   \n",
       "Marginal Adhesion                     1.000000                     0.608281   \n",
       "Single Epithelial Cell Size           0.608281                     1.000000   \n",
       "Bare Nuclei                           0.672512                     0.580487   \n",
       "Normal Nucleoli                       0.669860                     0.620526   \n",
       "Bland Chromatin                       0.602228                     0.633880   \n",
       "Mitoses                               0.417008                     0.482517   \n",
       "Class                                 0.701175                     0.681063   \n",
       "\n",
       "                             Bare Nuclei  Normal Nucleoli  Bland Chromatin  \\\n",
       "ID                             -0.091832        -0.059802        -0.054517   \n",
       "ClumpThickness                  0.590648         0.561063         0.535507   \n",
       "Cell Size                       0.684571         0.759632         0.727073   \n",
       "Cell Shape                      0.704165         0.738576         0.724519   \n",
       "Marginal Adhesion               0.672512         0.669860         0.602228   \n",
       "Single Epithelial Cell Size     0.580487         0.620526         0.633880   \n",
       "Bare Nuclei                     1.000000         0.672754         0.578161   \n",
       "Normal Nucleoli                 0.672754         1.000000         0.669099   \n",
       "Bland Chromatin                 0.578161         0.669099         1.000000   \n",
       "Mitoses                         0.342823         0.343769         0.427490   \n",
       "Class                           0.816655         0.756736         0.715363   \n",
       "\n",
       "                              Mitoses     Class  \n",
       "ID                          -0.036286 -0.080084  \n",
       "ClumpThickness               0.350196  0.716812  \n",
       "Cell Size                    0.459918  0.817586  \n",
       "Cell Shape                   0.440435  0.817551  \n",
       "Marginal Adhesion            0.417008  0.701175  \n",
       "Single Epithelial Cell Size  0.482517  0.681063  \n",
       "Bare Nuclei                  0.342823  0.816655  \n",
       "Normal Nucleoli              0.343769  0.756736  \n",
       "Bland Chromatin              0.427490  0.715363  \n",
       "Mitoses                      1.000000  0.423947  \n",
       "Class                        0.423947  1.000000  "
      ]
     },
     "execution_count": 23,
     "metadata": {},
     "output_type": "execute_result"
    }
   ],
   "source": [
    "# Check for correlation of variable\n",
    "df.corr()"
   ]
  },
  {
   "cell_type": "code",
   "execution_count": null,
   "metadata": {
    "colab": {},
    "colab_type": "code",
    "id": "ysZh50iDWCxz"
   },
   "outputs": [],
   "source": [
    "# Cell size shows high significance with cell shape,marginal adhesion, single epithelial cell size,bare nuclei, normal nucleoli \n",
    "# and bland chromatin\n",
    "# Target variable shows high correlation with most of these variables"
   ]
  },
  {
   "cell_type": "code",
   "execution_count": 5,
   "metadata": {
    "colab": {},
    "colab_type": "code",
    "id": "5Wt84dgVSM4s"
   },
   "outputs": [
    {
     "name": "stderr",
     "output_type": "stream",
     "text": [
      "C:\\Users\\harin\\AppData\\Roaming\\Python\\Python37\\site-packages\\seaborn\\distributions.py:369: UserWarning: Default bandwidth for data is 0; skipping density estimation.\n",
      "  warnings.warn(msg, UserWarning)\n",
      "C:\\Users\\harin\\AppData\\Roaming\\Python\\Python37\\site-packages\\seaborn\\distributions.py:369: UserWarning: Default bandwidth for data is 0; skipping density estimation.\n",
      "  warnings.warn(msg, UserWarning)\n",
      "C:\\Users\\harin\\AppData\\Roaming\\Python\\Python37\\site-packages\\seaborn\\distributions.py:369: UserWarning: Default bandwidth for data is 0; skipping density estimation.\n",
      "  warnings.warn(msg, UserWarning)\n",
      "C:\\Users\\harin\\AppData\\Roaming\\Python\\Python37\\site-packages\\seaborn\\distributions.py:369: UserWarning: Default bandwidth for data is 0; skipping density estimation.\n",
      "  warnings.warn(msg, UserWarning)\n",
      "C:\\Users\\harin\\AppData\\Roaming\\Python\\Python37\\site-packages\\seaborn\\distributions.py:369: UserWarning: Default bandwidth for data is 0; skipping density estimation.\n",
      "  warnings.warn(msg, UserWarning)\n",
      "C:\\Users\\harin\\AppData\\Roaming\\Python\\Python37\\site-packages\\seaborn\\distributions.py:369: UserWarning: Default bandwidth for data is 0; skipping density estimation.\n",
      "  warnings.warn(msg, UserWarning)\n",
      "C:\\Users\\harin\\AppData\\Roaming\\Python\\Python37\\site-packages\\seaborn\\distributions.py:369: UserWarning: Default bandwidth for data is 0; skipping density estimation.\n",
      "  warnings.warn(msg, UserWarning)\n"
     ]
    },
    {
     "data": {
      "text/plain": [
       "<seaborn.axisgrid.PairGrid at 0x22c45328d48>"
      ]
     },
     "execution_count": 5,
     "metadata": {},
     "output_type": "execute_result"
    },
    {
     "data": {
      "image/png": "[encoded data removed]",
      "text/plain": [
       "<Figure size 1842.38x1800 with 110 Axes>"
      ]
     },
     "metadata": {
      "needs_background": "light"
     },
     "output_type": "display_data"
    }
   ],
   "source": [
    "#Let us check for pair plots\n",
    "sns.pairplot(df , hue='Class' , diag_kind = 'kde')"
   ]
  },
  {
   "cell_type": "code",
   "execution_count": null,
   "metadata": {
    "colab": {},
    "colab_type": "code",
    "id": "OTh11akvWCx8"
   },
   "outputs": [],
   "source": [
    "# Relationship between variables shows come correlation. \n",
    "# Distribution of variables shows most of the values are concentrated on lower side, though range remains same for all that is \n",
    "# Between 1 to 10"
   ]
  },
  {
   "cell_type": "markdown",
   "metadata": {
    "colab_type": "text",
    "id": "9hxe7D9BWCx-"
   },
   "source": [
    "# Q5 Remove any unwanted columns or outliers, standardize variables in pre-processing step"
   ]
  },
  {
   "cell_type": "code",
   "execution_count": null,
   "metadata": {},
   "outputs": [],
   "source": [
    "df.drop(\"ID\", axis=1, inplace = True)"
   ]
  },
  {
   "cell_type": "code",
   "execution_count": 45,
   "metadata": {
    "scrolled": true
   },
   "outputs": [
    {
     "data": {
      "text/plain": [
       "(690, 10)"
      ]
     },
     "execution_count": 45,
     "metadata": {},
     "output_type": "execute_result"
    }
   ],
   "source": [
    "df.shape"
   ]
  },
  {
   "cell_type": "code",
   "execution_count": 38,
   "metadata": {
    "scrolled": true
   },
   "outputs": [
    {
     "data": {
      "text/html": [
       "<div>\n",
       "<style scoped>\n",
       "    .dataframe tbody tr th:only-of-type {\n",
       "        vertical-align: middle;\n",
       "    }\n",
       "\n",
       "    .dataframe tbody tr th {\n",
       "        vertical-align: top;\n",
       "    }\n",
       "\n",
       "    .dataframe thead th {\n",
       "        text-align: right;\n",
       "    }\n",
       "</style>\n",
       "<table border=\"1\" class=\"dataframe\">\n",
       "  <thead>\n",
       "    <tr style=\"text-align: right;\">\n",
       "      <th></th>\n",
       "      <th>ClumpThickness</th>\n",
       "      <th>Cell Size</th>\n",
       "      <th>Cell Shape</th>\n",
       "      <th>Marginal Adhesion</th>\n",
       "      <th>Single Epithelial Cell Size</th>\n",
       "      <th>Bare Nuclei</th>\n",
       "      <th>Normal Nucleoli</th>\n",
       "      <th>Bland Chromatin</th>\n",
       "      <th>Mitoses</th>\n",
       "      <th>Class</th>\n",
       "    </tr>\n",
       "  </thead>\n",
       "  <tbody>\n",
       "    <tr>\n",
       "      <th>0</th>\n",
       "      <td>5</td>\n",
       "      <td>1</td>\n",
       "      <td>1</td>\n",
       "      <td>1</td>\n",
       "      <td>2</td>\n",
       "      <td>1</td>\n",
       "      <td>3</td>\n",
       "      <td>1</td>\n",
       "      <td>1</td>\n",
       "      <td>2</td>\n",
       "    </tr>\n",
       "    <tr>\n",
       "      <th>1</th>\n",
       "      <td>5</td>\n",
       "      <td>4</td>\n",
       "      <td>4</td>\n",
       "      <td>5</td>\n",
       "      <td>7</td>\n",
       "      <td>10</td>\n",
       "      <td>3</td>\n",
       "      <td>2</td>\n",
       "      <td>1</td>\n",
       "      <td>2</td>\n",
       "    </tr>\n",
       "    <tr>\n",
       "      <th>2</th>\n",
       "      <td>3</td>\n",
       "      <td>1</td>\n",
       "      <td>1</td>\n",
       "      <td>1</td>\n",
       "      <td>2</td>\n",
       "      <td>2</td>\n",
       "      <td>3</td>\n",
       "      <td>1</td>\n",
       "      <td>1</td>\n",
       "      <td>2</td>\n",
       "    </tr>\n",
       "    <tr>\n",
       "      <th>3</th>\n",
       "      <td>6</td>\n",
       "      <td>8</td>\n",
       "      <td>8</td>\n",
       "      <td>1</td>\n",
       "      <td>3</td>\n",
       "      <td>4</td>\n",
       "      <td>3</td>\n",
       "      <td>7</td>\n",
       "      <td>1</td>\n",
       "      <td>2</td>\n",
       "    </tr>\n",
       "    <tr>\n",
       "      <th>4</th>\n",
       "      <td>4</td>\n",
       "      <td>1</td>\n",
       "      <td>1</td>\n",
       "      <td>3</td>\n",
       "      <td>2</td>\n",
       "      <td>1</td>\n",
       "      <td>3</td>\n",
       "      <td>1</td>\n",
       "      <td>1</td>\n",
       "      <td>2</td>\n",
       "    </tr>\n",
       "  </tbody>\n",
       "</table>\n",
       "</div>"
      ],
      "text/plain": [
       "   ClumpThickness  Cell Size  Cell Shape  Marginal Adhesion  \\\n",
       "0               5          1           1                  1   \n",
       "1               5          4           4                  5   \n",
       "2               3          1           1                  1   \n",
       "3               6          8           8                  1   \n",
       "4               4          1           1                  3   \n",
       "\n",
       "   Single Epithelial Cell Size  Bare Nuclei  Normal Nucleoli  Bland Chromatin  \\\n",
       "0                            2            1                3                1   \n",
       "1                            7           10                3                2   \n",
       "2                            2            2                3                1   \n",
       "3                            3            4                3                7   \n",
       "4                            2            1                3                1   \n",
       "\n",
       "   Mitoses  Class  \n",
       "0        1      2  \n",
       "1        1      2  \n",
       "2        1      2  \n",
       "3        1      2  \n",
       "4        1      2  "
      ]
     },
     "execution_count": 38,
     "metadata": {},
     "output_type": "execute_result"
    }
   ],
   "source": [
    "df.head()"
   ]
  },
  {
   "cell_type": "code",
   "execution_count": 39,
   "metadata": {},
   "outputs": [
    {
     "data": {
      "text/plain": [
       "<matplotlib.axes._subplots.AxesSubplot at 0x22c49e10848>"
      ]
     },
     "execution_count": 39,
     "metadata": {},
     "output_type": "execute_result"
    },
    {
     "data": {
      "image/png": "[encoded data removed]",
      "text/plain": [
       "<Figure size 1440x360 with 1 Axes>"
      ]
     },
     "metadata": {
      "needs_background": "light"
     },
     "output_type": "display_data"
    }
   ],
   "source": [
    "df.boxplot(figsize=(20,5))"
   ]
  },
  {
   "cell_type": "code",
   "execution_count": 40,
   "metadata": {
    "colab": {},
    "colab_type": "code",
    "id": "9i0Qqn28SM4_",
    "scrolled": true
   },
   "outputs": [
    {
     "data": {
      "text/html": [
       "<div>\n",
       "<style scoped>\n",
       "    .dataframe tbody tr th:only-of-type {\n",
       "        vertical-align: middle;\n",
       "    }\n",
       "\n",
       "    .dataframe tbody tr th {\n",
       "        vertical-align: top;\n",
       "    }\n",
       "\n",
       "    .dataframe thead th {\n",
       "        text-align: right;\n",
       "    }\n",
       "</style>\n",
       "<table border=\"1\" class=\"dataframe\">\n",
       "  <thead>\n",
       "    <tr style=\"text-align: right;\">\n",
       "      <th>Class</th>\n",
       "      <th>2</th>\n",
       "      <th>4</th>\n",
       "    </tr>\n",
       "    <tr>\n",
       "      <th>Marginal Adhesion</th>\n",
       "      <th></th>\n",
       "      <th></th>\n",
       "    </tr>\n",
       "  </thead>\n",
       "  <tbody>\n",
       "    <tr>\n",
       "      <th>1</th>\n",
       "      <td>369</td>\n",
       "      <td>31</td>\n",
       "    </tr>\n",
       "    <tr>\n",
       "      <th>2</th>\n",
       "      <td>37</td>\n",
       "      <td>19</td>\n",
       "    </tr>\n",
       "    <tr>\n",
       "      <th>3</th>\n",
       "      <td>31</td>\n",
       "      <td>27</td>\n",
       "    </tr>\n",
       "    <tr>\n",
       "      <th>4</th>\n",
       "      <td>5</td>\n",
       "      <td>28</td>\n",
       "    </tr>\n",
       "    <tr>\n",
       "      <th>5</th>\n",
       "      <td>4</td>\n",
       "      <td>19</td>\n",
       "    </tr>\n",
       "    <tr>\n",
       "      <th>6</th>\n",
       "      <td>4</td>\n",
       "      <td>18</td>\n",
       "    </tr>\n",
       "    <tr>\n",
       "      <th>7</th>\n",
       "      <td>0</td>\n",
       "      <td>13</td>\n",
       "    </tr>\n",
       "    <tr>\n",
       "      <th>8</th>\n",
       "      <td>0</td>\n",
       "      <td>25</td>\n",
       "    </tr>\n",
       "    <tr>\n",
       "      <th>9</th>\n",
       "      <td>1</td>\n",
       "      <td>4</td>\n",
       "    </tr>\n",
       "    <tr>\n",
       "      <th>10</th>\n",
       "      <td>1</td>\n",
       "      <td>54</td>\n",
       "    </tr>\n",
       "  </tbody>\n",
       "</table>\n",
       "</div>"
      ],
      "text/plain": [
       "Class                2   4\n",
       "Marginal Adhesion         \n",
       "1                  369  31\n",
       "2                   37  19\n",
       "3                   31  27\n",
       "4                    5  28\n",
       "5                    4  19\n",
       "6                    4  18\n",
       "7                    0  13\n",
       "8                    0  25\n",
       "9                    1   4\n",
       "10                   1  54"
      ]
     },
     "execution_count": 40,
     "metadata": {},
     "output_type": "execute_result"
    }
   ],
   "source": [
    "pd.crosstab(df['Marginal Adhesion'],df['Class'])"
   ]
  },
  {
   "cell_type": "code",
   "execution_count": 41,
   "metadata": {},
   "outputs": [],
   "source": [
    "df['Marginal Adhesion'] = np.where(df['Marginal Adhesion'] > 4, 4, df['Marginal Adhesion'])"
   ]
  },
  {
   "cell_type": "code",
   "execution_count": 42,
   "metadata": {
    "scrolled": true
   },
   "outputs": [
    {
     "data": {
      "text/html": [
       "<div>\n",
       "<style scoped>\n",
       "    .dataframe tbody tr th:only-of-type {\n",
       "        vertical-align: middle;\n",
       "    }\n",
       "\n",
       "    .dataframe tbody tr th {\n",
       "        vertical-align: top;\n",
       "    }\n",
       "\n",
       "    .dataframe thead th {\n",
       "        text-align: right;\n",
       "    }\n",
       "</style>\n",
       "<table border=\"1\" class=\"dataframe\">\n",
       "  <thead>\n",
       "    <tr style=\"text-align: right;\">\n",
       "      <th>Class</th>\n",
       "      <th>2</th>\n",
       "      <th>4</th>\n",
       "    </tr>\n",
       "    <tr>\n",
       "      <th>Marginal Adhesion</th>\n",
       "      <th></th>\n",
       "      <th></th>\n",
       "    </tr>\n",
       "  </thead>\n",
       "  <tbody>\n",
       "    <tr>\n",
       "      <th>1</th>\n",
       "      <td>369</td>\n",
       "      <td>31</td>\n",
       "    </tr>\n",
       "    <tr>\n",
       "      <th>2</th>\n",
       "      <td>37</td>\n",
       "      <td>19</td>\n",
       "    </tr>\n",
       "    <tr>\n",
       "      <th>3</th>\n",
       "      <td>31</td>\n",
       "      <td>27</td>\n",
       "    </tr>\n",
       "    <tr>\n",
       "      <th>4</th>\n",
       "      <td>15</td>\n",
       "      <td>161</td>\n",
       "    </tr>\n",
       "  </tbody>\n",
       "</table>\n",
       "</div>"
      ],
      "text/plain": [
       "Class                2    4\n",
       "Marginal Adhesion          \n",
       "1                  369   31\n",
       "2                   37   19\n",
       "3                   31   27\n",
       "4                   15  161"
      ]
     },
     "execution_count": 42,
     "metadata": {},
     "output_type": "execute_result"
    }
   ],
   "source": [
    "pd.crosstab(df['Marginal Adhesion'],df['Class'])"
   ]
  },
  {
   "cell_type": "code",
   "execution_count": 43,
   "metadata": {
    "scrolled": true
   },
   "outputs": [
    {
     "data": {
      "text/plain": [
       "<matplotlib.axes._subplots.AxesSubplot at 0x22c4a145488>"
      ]
     },
     "execution_count": 43,
     "metadata": {},
     "output_type": "execute_result"
    },
    {
     "data": {
      "image/png": "[encoded data removed]",
      "text/plain": [
       "<Figure size 1440x360 with 1 Axes>"
      ]
     },
     "metadata": {
      "needs_background": "light"
     },
     "output_type": "display_data"
    }
   ],
   "source": [
    "df.boxplot(figsize=(20,5))"
   ]
  },
  {
   "cell_type": "code",
   "execution_count": 44,
   "metadata": {},
   "outputs": [
    {
     "data": {
      "text/html": [
       "<div>\n",
       "<style scoped>\n",
       "    .dataframe tbody tr th:only-of-type {\n",
       "        vertical-align: middle;\n",
       "    }\n",
       "\n",
       "    .dataframe tbody tr th {\n",
       "        vertical-align: top;\n",
       "    }\n",
       "\n",
       "    .dataframe thead th {\n",
       "        text-align: right;\n",
       "    }\n",
       "</style>\n",
       "<table border=\"1\" class=\"dataframe\">\n",
       "  <thead>\n",
       "    <tr style=\"text-align: right;\">\n",
       "      <th>Class</th>\n",
       "      <th>2</th>\n",
       "      <th>4</th>\n",
       "    </tr>\n",
       "    <tr>\n",
       "      <th>Single Epithelial Cell Size</th>\n",
       "      <th></th>\n",
       "      <th></th>\n",
       "    </tr>\n",
       "  </thead>\n",
       "  <tbody>\n",
       "    <tr>\n",
       "      <th>1</th>\n",
       "      <td>44</td>\n",
       "      <td>1</td>\n",
       "    </tr>\n",
       "    <tr>\n",
       "      <th>2</th>\n",
       "      <td>359</td>\n",
       "      <td>23</td>\n",
       "    </tr>\n",
       "    <tr>\n",
       "      <th>3</th>\n",
       "      <td>29</td>\n",
       "      <td>42</td>\n",
       "    </tr>\n",
       "    <tr>\n",
       "      <th>4</th>\n",
       "      <td>7</td>\n",
       "      <td>41</td>\n",
       "    </tr>\n",
       "    <tr>\n",
       "      <th>5</th>\n",
       "      <td>5</td>\n",
       "      <td>34</td>\n",
       "    </tr>\n",
       "    <tr>\n",
       "      <th>6</th>\n",
       "      <td>2</td>\n",
       "      <td>39</td>\n",
       "    </tr>\n",
       "    <tr>\n",
       "      <th>7</th>\n",
       "      <td>3</td>\n",
       "      <td>9</td>\n",
       "    </tr>\n",
       "    <tr>\n",
       "      <th>8</th>\n",
       "      <td>2</td>\n",
       "      <td>18</td>\n",
       "    </tr>\n",
       "    <tr>\n",
       "      <th>9</th>\n",
       "      <td>0</td>\n",
       "      <td>2</td>\n",
       "    </tr>\n",
       "    <tr>\n",
       "      <th>10</th>\n",
       "      <td>1</td>\n",
       "      <td>29</td>\n",
       "    </tr>\n",
       "  </tbody>\n",
       "</table>\n",
       "</div>"
      ],
      "text/plain": [
       "Class                          2   4\n",
       "Single Epithelial Cell Size         \n",
       "1                             44   1\n",
       "2                            359  23\n",
       "3                             29  42\n",
       "4                              7  41\n",
       "5                              5  34\n",
       "6                              2  39\n",
       "7                              3   9\n",
       "8                              2  18\n",
       "9                              0   2\n",
       "10                             1  29"
      ]
     },
     "execution_count": 44,
     "metadata": {},
     "output_type": "execute_result"
    }
   ],
   "source": [
    "pd.crosstab(df['Single Epithelial Cell Size'],df['Class'])"
   ]
  },
  {
   "cell_type": "code",
   "execution_count": 46,
   "metadata": {},
   "outputs": [],
   "source": [
    "df['Single Epithelial Cell Size'] = np.where(df['Single Epithelial Cell Size'] > 4, 4, df['Single Epithelial Cell Size'])"
   ]
  },
  {
   "cell_type": "code",
   "execution_count": 47,
   "metadata": {
    "scrolled": true
   },
   "outputs": [
    {
     "data": {
      "text/plain": [
       "<matplotlib.axes._subplots.AxesSubplot at 0x22c4a037308>"
      ]
     },
     "execution_count": 47,
     "metadata": {},
     "output_type": "execute_result"
    },
    {
     "data": {
      "image/png": "[encoded data removed]",
      "text/plain": [
       "<Figure size 1440x360 with 1 Axes>"
      ]
     },
     "metadata": {
      "needs_background": "light"
     },
     "output_type": "display_data"
    }
   ],
   "source": [
    "df.boxplot(figsize=(20,5))"
   ]
  },
  {
   "cell_type": "code",
   "execution_count": 48,
   "metadata": {},
   "outputs": [
    {
     "data": {
      "text/html": [
       "<div>\n",
       "<style scoped>\n",
       "    .dataframe tbody tr th:only-of-type {\n",
       "        vertical-align: middle;\n",
       "    }\n",
       "\n",
       "    .dataframe tbody tr th {\n",
       "        vertical-align: top;\n",
       "    }\n",
       "\n",
       "    .dataframe thead th {\n",
       "        text-align: right;\n",
       "    }\n",
       "</style>\n",
       "<table border=\"1\" class=\"dataframe\">\n",
       "  <thead>\n",
       "    <tr style=\"text-align: right;\">\n",
       "      <th>Class</th>\n",
       "      <th>2</th>\n",
       "      <th>4</th>\n",
       "    </tr>\n",
       "    <tr>\n",
       "      <th>Normal Nucleoli</th>\n",
       "      <th></th>\n",
       "      <th></th>\n",
       "    </tr>\n",
       "  </thead>\n",
       "  <tbody>\n",
       "    <tr>\n",
       "      <th>1</th>\n",
       "      <td>149</td>\n",
       "      <td>2</td>\n",
       "    </tr>\n",
       "    <tr>\n",
       "      <th>2</th>\n",
       "      <td>158</td>\n",
       "      <td>7</td>\n",
       "    </tr>\n",
       "    <tr>\n",
       "      <th>3</th>\n",
       "      <td>125</td>\n",
       "      <td>35</td>\n",
       "    </tr>\n",
       "    <tr>\n",
       "      <th>4</th>\n",
       "      <td>8</td>\n",
       "      <td>32</td>\n",
       "    </tr>\n",
       "    <tr>\n",
       "      <th>5</th>\n",
       "      <td>4</td>\n",
       "      <td>30</td>\n",
       "    </tr>\n",
       "    <tr>\n",
       "      <th>6</th>\n",
       "      <td>1</td>\n",
       "      <td>9</td>\n",
       "    </tr>\n",
       "    <tr>\n",
       "      <th>7</th>\n",
       "      <td>7</td>\n",
       "      <td>64</td>\n",
       "    </tr>\n",
       "    <tr>\n",
       "      <th>8</th>\n",
       "      <td>0</td>\n",
       "      <td>28</td>\n",
       "    </tr>\n",
       "    <tr>\n",
       "      <th>9</th>\n",
       "      <td>0</td>\n",
       "      <td>11</td>\n",
       "    </tr>\n",
       "    <tr>\n",
       "      <th>10</th>\n",
       "      <td>0</td>\n",
       "      <td>20</td>\n",
       "    </tr>\n",
       "  </tbody>\n",
       "</table>\n",
       "</div>"
      ],
      "text/plain": [
       "Class              2   4\n",
       "Normal Nucleoli         \n",
       "1                149   2\n",
       "2                158   7\n",
       "3                125  35\n",
       "4                  8  32\n",
       "5                  4  30\n",
       "6                  1   9\n",
       "7                  7  64\n",
       "8                  0  28\n",
       "9                  0  11\n",
       "10                 0  20"
      ]
     },
     "execution_count": 48,
     "metadata": {},
     "output_type": "execute_result"
    }
   ],
   "source": [
    "pd.crosstab(df['Normal Nucleoli'],df['Class'])"
   ]
  },
  {
   "cell_type": "code",
   "execution_count": 49,
   "metadata": {},
   "outputs": [],
   "source": [
    "df['Normal Nucleoli'] = np.where(df['Normal Nucleoli'] > 4, 4, df['Normal Nucleoli'])"
   ]
  },
  {
   "cell_type": "code",
   "execution_count": 50,
   "metadata": {
    "scrolled": true
   },
   "outputs": [
    {
     "data": {
      "text/plain": [
       "<matplotlib.axes._subplots.AxesSubplot at 0x22c4a324148>"
      ]
     },
     "execution_count": 50,
     "metadata": {},
     "output_type": "execute_result"
    },
    {
     "data": {
      "image/png": "[encoded data removed]",
      "text/plain": [
       "<Figure size 1440x360 with 1 Axes>"
      ]
     },
     "metadata": {
      "needs_background": "light"
     },
     "output_type": "display_data"
    }
   ],
   "source": [
    "df.boxplot(figsize=(20,5))"
   ]
  },
  {
   "cell_type": "code",
   "execution_count": 51,
   "metadata": {
    "scrolled": true
   },
   "outputs": [
    {
     "data": {
      "text/html": [
       "<div>\n",
       "<style scoped>\n",
       "    .dataframe tbody tr th:only-of-type {\n",
       "        vertical-align: middle;\n",
       "    }\n",
       "\n",
       "    .dataframe tbody tr th {\n",
       "        vertical-align: top;\n",
       "    }\n",
       "\n",
       "    .dataframe thead th {\n",
       "        text-align: right;\n",
       "    }\n",
       "</style>\n",
       "<table border=\"1\" class=\"dataframe\">\n",
       "  <thead>\n",
       "    <tr style=\"text-align: right;\">\n",
       "      <th>Class</th>\n",
       "      <th>2</th>\n",
       "      <th>4</th>\n",
       "    </tr>\n",
       "    <tr>\n",
       "      <th>Bland Chromatin</th>\n",
       "      <th></th>\n",
       "      <th></th>\n",
       "    </tr>\n",
       "  </thead>\n",
       "  <tbody>\n",
       "    <tr>\n",
       "      <th>1</th>\n",
       "      <td>396</td>\n",
       "      <td>40</td>\n",
       "    </tr>\n",
       "    <tr>\n",
       "      <th>2</th>\n",
       "      <td>30</td>\n",
       "      <td>6</td>\n",
       "    </tr>\n",
       "    <tr>\n",
       "      <th>3</th>\n",
       "      <td>12</td>\n",
       "      <td>30</td>\n",
       "    </tr>\n",
       "    <tr>\n",
       "      <th>4</th>\n",
       "      <td>1</td>\n",
       "      <td>17</td>\n",
       "    </tr>\n",
       "    <tr>\n",
       "      <th>5</th>\n",
       "      <td>2</td>\n",
       "      <td>17</td>\n",
       "    </tr>\n",
       "    <tr>\n",
       "      <th>6</th>\n",
       "      <td>4</td>\n",
       "      <td>18</td>\n",
       "    </tr>\n",
       "    <tr>\n",
       "      <th>7</th>\n",
       "      <td>2</td>\n",
       "      <td>14</td>\n",
       "    </tr>\n",
       "    <tr>\n",
       "      <th>8</th>\n",
       "      <td>4</td>\n",
       "      <td>20</td>\n",
       "    </tr>\n",
       "    <tr>\n",
       "      <th>9</th>\n",
       "      <td>1</td>\n",
       "      <td>15</td>\n",
       "    </tr>\n",
       "    <tr>\n",
       "      <th>10</th>\n",
       "      <td>0</td>\n",
       "      <td>61</td>\n",
       "    </tr>\n",
       "  </tbody>\n",
       "</table>\n",
       "</div>"
      ],
      "text/plain": [
       "Class              2   4\n",
       "Bland Chromatin         \n",
       "1                396  40\n",
       "2                 30   6\n",
       "3                 12  30\n",
       "4                  1  17\n",
       "5                  2  17\n",
       "6                  4  18\n",
       "7                  2  14\n",
       "8                  4  20\n",
       "9                  1  15\n",
       "10                 0  61"
      ]
     },
     "execution_count": 51,
     "metadata": {},
     "output_type": "execute_result"
    }
   ],
   "source": [
    "pd.crosstab(df['Bland Chromatin'],df['Class'])\n"
   ]
  },
  {
   "cell_type": "code",
   "execution_count": 52,
   "metadata": {},
   "outputs": [],
   "source": [
    "df['Bland Chromatin'] = np.where(df['Bland Chromatin'] > 4, 4, df['Bland Chromatin'])"
   ]
  },
  {
   "cell_type": "code",
   "execution_count": 53,
   "metadata": {},
   "outputs": [
    {
     "data": {
      "text/plain": [
       "<matplotlib.axes._subplots.AxesSubplot at 0x22c4a757908>"
      ]
     },
     "execution_count": 53,
     "metadata": {},
     "output_type": "execute_result"
    },
    {
     "data": {
      "image/png": "[encoded data removed]",
      "text/plain": [
       "<Figure size 1440x360 with 1 Axes>"
      ]
     },
     "metadata": {
      "needs_background": "light"
     },
     "output_type": "display_data"
    }
   ],
   "source": [
    "df.boxplot(figsize=(20,5))"
   ]
  },
  {
   "cell_type": "code",
   "execution_count": 54,
   "metadata": {
    "scrolled": true
   },
   "outputs": [
    {
     "data": {
      "text/html": [
       "<div>\n",
       "<style scoped>\n",
       "    .dataframe tbody tr th:only-of-type {\n",
       "        vertical-align: middle;\n",
       "    }\n",
       "\n",
       "    .dataframe tbody tr th {\n",
       "        vertical-align: top;\n",
       "    }\n",
       "\n",
       "    .dataframe thead th {\n",
       "        text-align: right;\n",
       "    }\n",
       "</style>\n",
       "<table border=\"1\" class=\"dataframe\">\n",
       "  <thead>\n",
       "    <tr style=\"text-align: right;\">\n",
       "      <th>Class</th>\n",
       "      <th>2</th>\n",
       "      <th>4</th>\n",
       "    </tr>\n",
       "    <tr>\n",
       "      <th>Mitoses</th>\n",
       "      <th></th>\n",
       "      <th></th>\n",
       "    </tr>\n",
       "  </thead>\n",
       "  <tbody>\n",
       "    <tr>\n",
       "      <th>1</th>\n",
       "      <td>439</td>\n",
       "      <td>132</td>\n",
       "    </tr>\n",
       "    <tr>\n",
       "      <th>2</th>\n",
       "      <td>8</td>\n",
       "      <td>27</td>\n",
       "    </tr>\n",
       "    <tr>\n",
       "      <th>3</th>\n",
       "      <td>2</td>\n",
       "      <td>30</td>\n",
       "    </tr>\n",
       "    <tr>\n",
       "      <th>4</th>\n",
       "      <td>0</td>\n",
       "      <td>12</td>\n",
       "    </tr>\n",
       "    <tr>\n",
       "      <th>5</th>\n",
       "      <td>1</td>\n",
       "      <td>5</td>\n",
       "    </tr>\n",
       "    <tr>\n",
       "      <th>6</th>\n",
       "      <td>0</td>\n",
       "      <td>3</td>\n",
       "    </tr>\n",
       "    <tr>\n",
       "      <th>7</th>\n",
       "      <td>1</td>\n",
       "      <td>8</td>\n",
       "    </tr>\n",
       "    <tr>\n",
       "      <th>8</th>\n",
       "      <td>1</td>\n",
       "      <td>7</td>\n",
       "    </tr>\n",
       "    <tr>\n",
       "      <th>10</th>\n",
       "      <td>0</td>\n",
       "      <td>14</td>\n",
       "    </tr>\n",
       "  </tbody>\n",
       "</table>\n",
       "</div>"
      ],
      "text/plain": [
       "Class      2    4\n",
       "Mitoses          \n",
       "1        439  132\n",
       "2          8   27\n",
       "3          2   30\n",
       "4          0   12\n",
       "5          1    5\n",
       "6          0    3\n",
       "7          1    8\n",
       "8          1    7\n",
       "10         0   14"
      ]
     },
     "execution_count": 54,
     "metadata": {},
     "output_type": "execute_result"
    }
   ],
   "source": [
    "pd.crosstab(df['Mitoses'],df['Class'])\n"
   ]
  },
  {
   "cell_type": "code",
   "execution_count": 55,
   "metadata": {},
   "outputs": [],
   "source": [
    "df['Mitoses'] = np.where(df['Mitoses'] > 3, 3, df['Mitoses'])"
   ]
  },
  {
   "cell_type": "code",
   "execution_count": 56,
   "metadata": {
    "scrolled": true
   },
   "outputs": [
    {
     "data": {
      "text/plain": [
       "<matplotlib.axes._subplots.AxesSubplot at 0x22c4a86be08>"
      ]
     },
     "execution_count": 56,
     "metadata": {},
     "output_type": "execute_result"
    },
    {
     "data": {
      "image/png": "[encoded data removed]",
      "text/plain": [
       "<Figure size 1440x360 with 1 Axes>"
      ]
     },
     "metadata": {
      "needs_background": "light"
     },
     "output_type": "display_data"
    }
   ],
   "source": [
    "df.boxplot(figsize=(20,5))"
   ]
  },
  {
   "cell_type": "code",
   "execution_count": null,
   "metadata": {},
   "outputs": [],
   "source": [
    "# We could see most of the outliers are now removed."
   ]
  },
  {
   "cell_type": "code",
   "execution_count": 57,
   "metadata": {
    "scrolled": true
   },
   "outputs": [
    {
     "data": {
      "text/html": [
       "<div>\n",
       "<style scoped>\n",
       "    .dataframe tbody tr th:only-of-type {\n",
       "        vertical-align: middle;\n",
       "    }\n",
       "\n",
       "    .dataframe tbody tr th {\n",
       "        vertical-align: top;\n",
       "    }\n",
       "\n",
       "    .dataframe thead th {\n",
       "        text-align: right;\n",
       "    }\n",
       "</style>\n",
       "<table border=\"1\" class=\"dataframe\">\n",
       "  <thead>\n",
       "    <tr style=\"text-align: right;\">\n",
       "      <th></th>\n",
       "      <th>ClumpThickness</th>\n",
       "      <th>Cell Size</th>\n",
       "      <th>Cell Shape</th>\n",
       "      <th>Marginal Adhesion</th>\n",
       "      <th>Single Epithelial Cell Size</th>\n",
       "      <th>Bare Nuclei</th>\n",
       "      <th>Normal Nucleoli</th>\n",
       "      <th>Bland Chromatin</th>\n",
       "      <th>Mitoses</th>\n",
       "      <th>Class</th>\n",
       "    </tr>\n",
       "  </thead>\n",
       "  <tbody>\n",
       "    <tr>\n",
       "      <th>ClumpThickness</th>\n",
       "      <td>1.000000</td>\n",
       "      <td>0.643173</td>\n",
       "      <td>0.653589</td>\n",
       "      <td>0.552497</td>\n",
       "      <td>0.583040</td>\n",
       "      <td>0.590648</td>\n",
       "      <td>0.545899</td>\n",
       "      <td>0.571320</td>\n",
       "      <td>0.426836</td>\n",
       "      <td>0.716812</td>\n",
       "    </tr>\n",
       "    <tr>\n",
       "      <th>Cell Size</th>\n",
       "      <td>0.643173</td>\n",
       "      <td>1.000000</td>\n",
       "      <td>0.905349</td>\n",
       "      <td>0.721004</td>\n",
       "      <td>0.772087</td>\n",
       "      <td>0.684571</td>\n",
       "      <td>0.668433</td>\n",
       "      <td>0.725792</td>\n",
       "      <td>0.510249</td>\n",
       "      <td>0.817586</td>\n",
       "    </tr>\n",
       "    <tr>\n",
       "      <th>Cell Shape</th>\n",
       "      <td>0.653589</td>\n",
       "      <td>0.905349</td>\n",
       "      <td>1.000000</td>\n",
       "      <td>0.703237</td>\n",
       "      <td>0.749581</td>\n",
       "      <td>0.704165</td>\n",
       "      <td>0.657949</td>\n",
       "      <td>0.718065</td>\n",
       "      <td>0.480981</td>\n",
       "      <td>0.817551</td>\n",
       "    </tr>\n",
       "    <tr>\n",
       "      <th>Marginal Adhesion</th>\n",
       "      <td>0.552497</td>\n",
       "      <td>0.721004</td>\n",
       "      <td>0.703237</td>\n",
       "      <td>1.000000</td>\n",
       "      <td>0.694505</td>\n",
       "      <td>0.695921</td>\n",
       "      <td>0.603399</td>\n",
       "      <td>0.652313</td>\n",
       "      <td>0.424121</td>\n",
       "      <td>0.739063</td>\n",
       "    </tr>\n",
       "    <tr>\n",
       "      <th>Single Epithelial Cell Size</th>\n",
       "      <td>0.583040</td>\n",
       "      <td>0.772087</td>\n",
       "      <td>0.749581</td>\n",
       "      <td>0.694505</td>\n",
       "      <td>1.000000</td>\n",
       "      <td>0.681812</td>\n",
       "      <td>0.634845</td>\n",
       "      <td>0.722559</td>\n",
       "      <td>0.464482</td>\n",
       "      <td>0.770886</td>\n",
       "    </tr>\n",
       "    <tr>\n",
       "      <th>Bare Nuclei</th>\n",
       "      <td>0.590648</td>\n",
       "      <td>0.684571</td>\n",
       "      <td>0.704165</td>\n",
       "      <td>0.695921</td>\n",
       "      <td>0.681812</td>\n",
       "      <td>1.000000</td>\n",
       "      <td>0.641447</td>\n",
       "      <td>0.640752</td>\n",
       "      <td>0.451933</td>\n",
       "      <td>0.816655</td>\n",
       "    </tr>\n",
       "    <tr>\n",
       "      <th>Normal Nucleoli</th>\n",
       "      <td>0.545899</td>\n",
       "      <td>0.668433</td>\n",
       "      <td>0.657949</td>\n",
       "      <td>0.603399</td>\n",
       "      <td>0.634845</td>\n",
       "      <td>0.641447</td>\n",
       "      <td>1.000000</td>\n",
       "      <td>0.653469</td>\n",
       "      <td>0.378854</td>\n",
       "      <td>0.725450</td>\n",
       "    </tr>\n",
       "    <tr>\n",
       "      <th>Bland Chromatin</th>\n",
       "      <td>0.571320</td>\n",
       "      <td>0.725792</td>\n",
       "      <td>0.718065</td>\n",
       "      <td>0.652313</td>\n",
       "      <td>0.722559</td>\n",
       "      <td>0.640752</td>\n",
       "      <td>0.653469</td>\n",
       "      <td>1.000000</td>\n",
       "      <td>0.492406</td>\n",
       "      <td>0.766031</td>\n",
       "    </tr>\n",
       "    <tr>\n",
       "      <th>Mitoses</th>\n",
       "      <td>0.426836</td>\n",
       "      <td>0.510249</td>\n",
       "      <td>0.480981</td>\n",
       "      <td>0.424121</td>\n",
       "      <td>0.464482</td>\n",
       "      <td>0.451933</td>\n",
       "      <td>0.378854</td>\n",
       "      <td>0.492406</td>\n",
       "      <td>1.000000</td>\n",
       "      <td>0.521933</td>\n",
       "    </tr>\n",
       "    <tr>\n",
       "      <th>Class</th>\n",
       "      <td>0.716812</td>\n",
       "      <td>0.817586</td>\n",
       "      <td>0.817551</td>\n",
       "      <td>0.739063</td>\n",
       "      <td>0.770886</td>\n",
       "      <td>0.816655</td>\n",
       "      <td>0.725450</td>\n",
       "      <td>0.766031</td>\n",
       "      <td>0.521933</td>\n",
       "      <td>1.000000</td>\n",
       "    </tr>\n",
       "  </tbody>\n",
       "</table>\n",
       "</div>"
      ],
      "text/plain": [
       "                             ClumpThickness  Cell Size  Cell Shape  \\\n",
       "ClumpThickness                     1.000000   0.643173    0.653589   \n",
       "Cell Size                          0.643173   1.000000    0.905349   \n",
       "Cell Shape                         0.653589   0.905349    1.000000   \n",
       "Marginal Adhesion                  0.552497   0.721004    0.703237   \n",
       "Single Epithelial Cell Size        0.583040   0.772087    0.749581   \n",
       "Bare Nuclei                        0.590648   0.684571    0.704165   \n",
       "Normal Nucleoli                    0.545899   0.668433    0.657949   \n",
       "Bland Chromatin                    0.571320   0.725792    0.718065   \n",
       "Mitoses                            0.426836   0.510249    0.480981   \n",
       "Class                              0.716812   0.817586    0.817551   \n",
       "\n",
       "                             Marginal Adhesion  Single Epithelial Cell Size  \\\n",
       "ClumpThickness                        0.552497                     0.583040   \n",
       "Cell Size                             0.721004                     0.772087   \n",
       "Cell Shape                            0.703237                     0.749581   \n",
       "Marginal Adhesion                     1.000000                     0.694505   \n",
       "Single Epithelial Cell Size           0.694505                     1.000000   \n",
       "Bare Nuclei                           0.695921                     0.681812   \n",
       "Normal Nucleoli                       0.603399                     0.634845   \n",
       "Bland Chromatin                       0.652313                     0.722559   \n",
       "Mitoses                               0.424121                     0.464482   \n",
       "Class                                 0.739063                     0.770886   \n",
       "\n",
       "                             Bare Nuclei  Normal Nucleoli  Bland Chromatin  \\\n",
       "ClumpThickness                  0.590648         0.545899         0.571320   \n",
       "Cell Size                       0.684571         0.668433         0.725792   \n",
       "Cell Shape                      0.704165         0.657949         0.718065   \n",
       "Marginal Adhesion               0.695921         0.603399         0.652313   \n",
       "Single Epithelial Cell Size     0.681812         0.634845         0.722559   \n",
       "Bare Nuclei                     1.000000         0.641447         0.640752   \n",
       "Normal Nucleoli                 0.641447         1.000000         0.653469   \n",
       "Bland Chromatin                 0.640752         0.653469         1.000000   \n",
       "Mitoses                         0.451933         0.378854         0.492406   \n",
       "Class                           0.816655         0.725450         0.766031   \n",
       "\n",
       "                              Mitoses     Class  \n",
       "ClumpThickness               0.426836  0.716812  \n",
       "Cell Size                    0.510249  0.817586  \n",
       "Cell Shape                   0.480981  0.817551  \n",
       "Marginal Adhesion            0.424121  0.739063  \n",
       "Single Epithelial Cell Size  0.464482  0.770886  \n",
       "Bare Nuclei                  0.451933  0.816655  \n",
       "Normal Nucleoli              0.378854  0.725450  \n",
       "Bland Chromatin              0.492406  0.766031  \n",
       "Mitoses                      1.000000  0.521933  \n",
       "Class                        0.521933  1.000000  "
      ]
     },
     "execution_count": 57,
     "metadata": {},
     "output_type": "execute_result"
    }
   ],
   "source": [
    "df.corr()"
   ]
  },
  {
   "cell_type": "code",
   "execution_count": 58,
   "metadata": {},
   "outputs": [],
   "source": [
    "df.drop(\"Class\", axis=1, inplace = True)"
   ]
  },
  {
   "cell_type": "code",
   "execution_count": 59,
   "metadata": {
    "scrolled": true
   },
   "outputs": [
    {
     "data": {
      "text/plain": [
       "(690, 9)"
      ]
     },
     "execution_count": 59,
     "metadata": {},
     "output_type": "execute_result"
    }
   ],
   "source": [
    "df.shape"
   ]
  },
  {
   "cell_type": "code",
   "execution_count": 60,
   "metadata": {},
   "outputs": [
    {
     "data": {
      "text/html": [
       "<div>\n",
       "<style scoped>\n",
       "    .dataframe tbody tr th:only-of-type {\n",
       "        vertical-align: middle;\n",
       "    }\n",
       "\n",
       "    .dataframe tbody tr th {\n",
       "        vertical-align: top;\n",
       "    }\n",
       "\n",
       "    .dataframe thead th {\n",
       "        text-align: right;\n",
       "    }\n",
       "</style>\n",
       "<table border=\"1\" class=\"dataframe\">\n",
       "  <thead>\n",
       "    <tr style=\"text-align: right;\">\n",
       "      <th></th>\n",
       "      <th>ClumpThickness</th>\n",
       "      <th>Cell Size</th>\n",
       "      <th>Cell Shape</th>\n",
       "      <th>Marginal Adhesion</th>\n",
       "      <th>Single Epithelial Cell Size</th>\n",
       "      <th>Bare Nuclei</th>\n",
       "      <th>Normal Nucleoli</th>\n",
       "      <th>Bland Chromatin</th>\n",
       "      <th>Mitoses</th>\n",
       "    </tr>\n",
       "  </thead>\n",
       "  <tbody>\n",
       "    <tr>\n",
       "      <th>0</th>\n",
       "      <td>5</td>\n",
       "      <td>1</td>\n",
       "      <td>1</td>\n",
       "      <td>1</td>\n",
       "      <td>2</td>\n",
       "      <td>1</td>\n",
       "      <td>3</td>\n",
       "      <td>1</td>\n",
       "      <td>1</td>\n",
       "    </tr>\n",
       "    <tr>\n",
       "      <th>1</th>\n",
       "      <td>5</td>\n",
       "      <td>4</td>\n",
       "      <td>4</td>\n",
       "      <td>4</td>\n",
       "      <td>4</td>\n",
       "      <td>10</td>\n",
       "      <td>3</td>\n",
       "      <td>2</td>\n",
       "      <td>1</td>\n",
       "    </tr>\n",
       "    <tr>\n",
       "      <th>2</th>\n",
       "      <td>3</td>\n",
       "      <td>1</td>\n",
       "      <td>1</td>\n",
       "      <td>1</td>\n",
       "      <td>2</td>\n",
       "      <td>2</td>\n",
       "      <td>3</td>\n",
       "      <td>1</td>\n",
       "      <td>1</td>\n",
       "    </tr>\n",
       "    <tr>\n",
       "      <th>3</th>\n",
       "      <td>6</td>\n",
       "      <td>8</td>\n",
       "      <td>8</td>\n",
       "      <td>1</td>\n",
       "      <td>3</td>\n",
       "      <td>4</td>\n",
       "      <td>3</td>\n",
       "      <td>4</td>\n",
       "      <td>1</td>\n",
       "    </tr>\n",
       "    <tr>\n",
       "      <th>4</th>\n",
       "      <td>4</td>\n",
       "      <td>1</td>\n",
       "      <td>1</td>\n",
       "      <td>3</td>\n",
       "      <td>2</td>\n",
       "      <td>1</td>\n",
       "      <td>3</td>\n",
       "      <td>1</td>\n",
       "      <td>1</td>\n",
       "    </tr>\n",
       "  </tbody>\n",
       "</table>\n",
       "</div>"
      ],
      "text/plain": [
       "   ClumpThickness  Cell Size  Cell Shape  Marginal Adhesion  \\\n",
       "0               5          1           1                  1   \n",
       "1               5          4           4                  4   \n",
       "2               3          1           1                  1   \n",
       "3               6          8           8                  1   \n",
       "4               4          1           1                  3   \n",
       "\n",
       "   Single Epithelial Cell Size  Bare Nuclei  Normal Nucleoli  Bland Chromatin  \\\n",
       "0                            2            1                3                1   \n",
       "1                            4           10                3                2   \n",
       "2                            2            2                3                1   \n",
       "3                            3            4                3                4   \n",
       "4                            2            1                3                1   \n",
       "\n",
       "   Mitoses  \n",
       "0        1  \n",
       "1        1  \n",
       "2        1  \n",
       "3        1  \n",
       "4        1  "
      ]
     },
     "execution_count": 60,
     "metadata": {},
     "output_type": "execute_result"
    }
   ],
   "source": [
    "df.head()"
   ]
  },
  {
   "cell_type": "code",
   "execution_count": 62,
   "metadata": {},
   "outputs": [],
   "source": [
    "from scipy.stats import zscore"
   ]
  },
  {
   "cell_type": "code",
   "execution_count": 63,
   "metadata": {},
   "outputs": [
    {
     "data": {
      "text/html": [
       "<div>\n",
       "<style scoped>\n",
       "    .dataframe tbody tr th:only-of-type {\n",
       "        vertical-align: middle;\n",
       "    }\n",
       "\n",
       "    .dataframe tbody tr th {\n",
       "        vertical-align: top;\n",
       "    }\n",
       "\n",
       "    .dataframe thead th {\n",
       "        text-align: right;\n",
       "    }\n",
       "</style>\n",
       "<table border=\"1\" class=\"dataframe\">\n",
       "  <thead>\n",
       "    <tr style=\"text-align: right;\">\n",
       "      <th></th>\n",
       "      <th>ClumpThickness</th>\n",
       "      <th>Cell Size</th>\n",
       "      <th>Cell Shape</th>\n",
       "      <th>Marginal Adhesion</th>\n",
       "      <th>Single Epithelial Cell Size</th>\n",
       "      <th>Bare Nuclei</th>\n",
       "      <th>Normal Nucleoli</th>\n",
       "      <th>Bland Chromatin</th>\n",
       "      <th>Mitoses</th>\n",
       "    </tr>\n",
       "  </thead>\n",
       "  <tbody>\n",
       "    <tr>\n",
       "      <th>0</th>\n",
       "      <td>0.202823</td>\n",
       "      <td>-0.701698</td>\n",
       "      <td>-0.745040</td>\n",
       "      <td>-0.781803</td>\n",
       "      <td>-0.616796</td>\n",
       "      <td>-0.686858</td>\n",
       "      <td>0.322808</td>\n",
       "      <td>-0.718310</td>\n",
       "      <td>-0.438024</td>\n",
       "    </tr>\n",
       "    <tr>\n",
       "      <th>1</th>\n",
       "      <td>0.202823</td>\n",
       "      <td>0.285065</td>\n",
       "      <td>0.268920</td>\n",
       "      <td>1.530101</td>\n",
       "      <td>1.459249</td>\n",
       "      <td>1.803153</td>\n",
       "      <td>0.322808</td>\n",
       "      <td>0.046557</td>\n",
       "      <td>-0.438024</td>\n",
       "    </tr>\n",
       "    <tr>\n",
       "      <th>2</th>\n",
       "      <td>-0.507572</td>\n",
       "      <td>-0.701698</td>\n",
       "      <td>-0.745040</td>\n",
       "      <td>-0.781803</td>\n",
       "      <td>-0.616796</td>\n",
       "      <td>-0.410190</td>\n",
       "      <td>0.322808</td>\n",
       "      <td>-0.718310</td>\n",
       "      <td>-0.438024</td>\n",
       "    </tr>\n",
       "    <tr>\n",
       "      <th>3</th>\n",
       "      <td>0.558020</td>\n",
       "      <td>1.600748</td>\n",
       "      <td>1.620866</td>\n",
       "      <td>-0.781803</td>\n",
       "      <td>0.421227</td>\n",
       "      <td>0.143146</td>\n",
       "      <td>0.322808</td>\n",
       "      <td>1.576291</td>\n",
       "      <td>-0.438024</td>\n",
       "    </tr>\n",
       "    <tr>\n",
       "      <th>4</th>\n",
       "      <td>-0.152375</td>\n",
       "      <td>-0.701698</td>\n",
       "      <td>-0.745040</td>\n",
       "      <td>0.759466</td>\n",
       "      <td>-0.616796</td>\n",
       "      <td>-0.686858</td>\n",
       "      <td>0.322808</td>\n",
       "      <td>-0.718310</td>\n",
       "      <td>-0.438024</td>\n",
       "    </tr>\n",
       "  </tbody>\n",
       "</table>\n",
       "</div>"
      ],
      "text/plain": [
       "   ClumpThickness  Cell Size  Cell Shape  Marginal Adhesion  \\\n",
       "0        0.202823  -0.701698   -0.745040          -0.781803   \n",
       "1        0.202823   0.285065    0.268920           1.530101   \n",
       "2       -0.507572  -0.701698   -0.745040          -0.781803   \n",
       "3        0.558020   1.600748    1.620866          -0.781803   \n",
       "4       -0.152375  -0.701698   -0.745040           0.759466   \n",
       "\n",
       "   Single Epithelial Cell Size  Bare Nuclei  Normal Nucleoli  Bland Chromatin  \\\n",
       "0                    -0.616796    -0.686858         0.322808        -0.718310   \n",
       "1                     1.459249     1.803153         0.322808         0.046557   \n",
       "2                    -0.616796    -0.410190         0.322808        -0.718310   \n",
       "3                     0.421227     0.143146         0.322808         1.576291   \n",
       "4                    -0.616796    -0.686858         0.322808        -0.718310   \n",
       "\n",
       "    Mitoses  \n",
       "0 -0.438024  \n",
       "1 -0.438024  \n",
       "2 -0.438024  \n",
       "3 -0.438024  \n",
       "4 -0.438024  "
      ]
     },
     "execution_count": 63,
     "metadata": {},
     "output_type": "execute_result"
    }
   ],
   "source": [
    "df = df.apply(zscore)\n",
    "df.head()"
   ]
  },
  {
   "cell_type": "markdown",
   "metadata": {
    "colab_type": "text",
    "id": "lmMHMAtkWCzm"
   },
   "source": [
    "# Q6 Create a covariance matrix for identifying Principal components"
   ]
  },
  {
   "cell_type": "code",
   "execution_count": 64,
   "metadata": {
    "colab": {},
    "colab_type": "code",
    "id": "X3pUdlSdSM5D"
   },
   "outputs": [
    {
     "data": {
      "text/plain": [
       "array([[1.00145138, 0.64410677, 0.65453792, 0.55329897, 0.58388619,\n",
       "        0.59150555, 0.54669109, 0.57214901, 0.42745595],\n",
       "       [0.64410677, 1.00145138, 0.9066632 , 0.72204998, 0.77320789,\n",
       "        0.68556472, 0.66940328, 0.72684553, 0.51098944],\n",
       "       [0.65453792, 0.9066632 , 1.00145138, 0.7042574 , 0.75066888,\n",
       "        0.70518656, 0.65890363, 0.71910723, 0.48167882],\n",
       "       [0.55329897, 0.72204998, 0.7042574 , 1.00145138, 0.6955125 ,\n",
       "        0.69693138, 0.60427482, 0.65326018, 0.42473633],\n",
       "       [0.58388619, 0.77320789, 0.75066888, 0.6955125 , 1.00145138,\n",
       "        0.68280195, 0.6357667 , 0.72360753, 0.46515627],\n",
       "       [0.59150555, 0.68556472, 0.70518656, 0.69693138, 0.68280195,\n",
       "        1.00145138, 0.64237847, 0.64168219, 0.45258904],\n",
       "       [0.54669109, 0.66940328, 0.65890363, 0.60427482, 0.6357667 ,\n",
       "        0.64237847, 1.00145138, 0.65441737, 0.37940435],\n",
       "       [0.57214901, 0.72684553, 0.71910723, 0.65326018, 0.72360753,\n",
       "        0.64168219, 0.65441737, 1.00145138, 0.49312095],\n",
       "       [0.42745595, 0.51098944, 0.48167882, 0.42473633, 0.46515627,\n",
       "        0.45258904, 0.37940435, 0.49312095, 1.00145138]])"
      ]
     },
     "execution_count": 64,
     "metadata": {},
     "output_type": "execute_result"
    }
   ],
   "source": [
    "# PCA\n",
    "# Step 1 - Create covariance matrix\n",
    "cov_mtrx = np.cov(df.T)\n",
    "cov_mtrx"
   ]
  },
  {
   "cell_type": "markdown",
   "metadata": {
    "colab_type": "text",
    "id": "vbZ-YcsdWCzz"
   },
   "source": [
    "# Q7 Identify eigen values and eigen vector"
   ]
  },
  {
   "cell_type": "code",
   "execution_count": null,
   "metadata": {
    "colab": {},
    "colab_type": "code",
    "id": "sH-AksvLSM5L"
   },
   "outputs": [],
   "source": [
    "# Step 2- Get eigen values and eigen vector"
   ]
  },
  {
   "cell_type": "code",
   "execution_count": 68,
   "metadata": {
    "colab": {},
    "colab_type": "code",
    "id": "YaNotXfFSM5O",
    "scrolled": false
   },
   "outputs": [],
   "source": [
    "eig_vals, eig_vector = np.linalg.eig(cov_mtrx) "
   ]
  },
  {
   "cell_type": "code",
   "execution_count": 69,
   "metadata": {},
   "outputs": [
    {
     "name": "stdout",
     "output_type": "stream",
     "text": [
      "[6.04792928 0.68917013 0.09093497 0.48986979 0.25774747 0.29070405\n",
      " 0.32157813 0.42354515 0.40158344]\n"
     ]
    }
   ],
   "source": [
    "print(eig_vals)"
   ]
  },
  {
   "cell_type": "code",
   "execution_count": 70,
   "metadata": {},
   "outputs": [
    {
     "name": "stdout",
     "output_type": "stream",
     "text": [
      "[[ 0.30685038  0.02771442  0.01819884  0.91455544 -0.07693399  0.11079786\n",
      "  -0.21150379  0.04949763  0.0543418 ]\n",
      " [ 0.37029483 -0.04380153  0.72376996 -0.00538681  0.11028163  0.00802951\n",
      "   0.39017399 -0.28338403 -0.30384608]\n",
      " [ 0.36737965 -0.08093297 -0.67827374  0.05257559  0.23957267 -0.09685064\n",
      "   0.41704388 -0.28558874 -0.2709261 ]\n",
      " [ 0.33680133 -0.15635067 -0.04840994 -0.22919283 -0.00389548  0.68855225\n",
      "  -0.11380673 -0.30484483  0.47670193]\n",
      " [ 0.35158052 -0.08618495 -0.06553048 -0.18658806 -0.78287092 -0.28514413\n",
      "  -0.26576873 -0.19962539 -0.15867127]\n",
      " [ 0.33840962 -0.10302527  0.0817668  -0.0533996   0.218368   -0.60911101\n",
      "   0.04605918  0.09093474  0.66048166]\n",
      " [ 0.32114559 -0.24589447 -0.02788451 -0.11308991 -0.1630472   0.21477587\n",
      "   0.28193821  0.81413994 -0.08836558]\n",
      " [ 0.34333043  0.00344093  0.01605687 -0.2125948   0.48287037 -0.03597463\n",
      "  -0.67401266  0.13724026 -0.35926604]\n",
      " [ 0.24734882  0.94223122 -0.03757184 -0.11230887 -0.06472429  0.06654972\n",
      "   0.09806196  0.11390353  0.07606378]]\n"
     ]
    }
   ],
   "source": [
    "print(eig_vector)"
   ]
  },
  {
   "cell_type": "markdown",
   "metadata": {
    "colab_type": "text",
    "id": "-2KqQg2KWCz7"
   },
   "source": [
    "# Q8 Find variance and cumulative variance by each eigen vector"
   ]
  },
  {
   "cell_type": "code",
   "execution_count": 71,
   "metadata": {
    "colab": {},
    "colab_type": "code",
    "id": "HVrVYdZpSM5e"
   },
   "outputs": [
    {
     "data": {
      "text/plain": [
       "9.013062409288825"
      ]
     },
     "execution_count": 71,
     "metadata": {},
     "output_type": "execute_result"
    }
   ],
   "source": [
    "tot =sum(eig_vals)\n",
    "tot"
   ]
  },
  {
   "cell_type": "code",
   "execution_count": 72,
   "metadata": {
    "colab": {},
    "colab_type": "code",
    "id": "wGszn1TqSM5i",
    "scrolled": true
   },
   "outputs": [
    {
     "data": {
      "text/plain": [
       "[67.1018240325258,\n",
       " 7.64634811126865,\n",
       " 5.435109267691104,\n",
       " 4.699236852495155,\n",
       " 4.455571475411545,\n",
       " 3.567911980369607,\n",
       " 3.225363810432446,\n",
       " 2.8597102104040832,\n",
       " 1.008924259401629]"
      ]
     },
     "execution_count": 72,
     "metadata": {},
     "output_type": "execute_result"
    }
   ],
   "source": [
    "var_explained = [(i/tot)*100 for i in sorted(eig_vals, reverse = True)] \n",
    "var_explained"
   ]
  },
  {
   "cell_type": "code",
   "execution_count": 74,
   "metadata": {},
   "outputs": [],
   "source": [
    "cum_var_explained = np.cumsum(var_explained)"
   ]
  },
  {
   "cell_type": "code",
   "execution_count": 75,
   "metadata": {
    "scrolled": true
   },
   "outputs": [
    {
     "data": {
      "text/plain": [
       "array([ 67.10182403,  74.74817214,  80.18328141,  84.88251826,\n",
       "        89.33808974,  92.90600172,  96.13136553,  98.99107574,\n",
       "       100.        ])"
      ]
     },
     "execution_count": 75,
     "metadata": {},
     "output_type": "execute_result"
    }
   ],
   "source": [
    "cum_var_explained"
   ]
  },
  {
   "cell_type": "code",
   "execution_count": 76,
   "metadata": {},
   "outputs": [
    {
     "data": {
      "text/plain": [
       "[<matplotlib.lines.Line2D at 0x22c4b879c88>]"
      ]
     },
     "execution_count": 76,
     "metadata": {},
     "output_type": "execute_result"
    },
    {
     "data": {
      "image/png": "[encoded data removed]",
      "text/plain": [
       "<Figure size 432x288 with 1 Axes>"
      ]
     },
     "metadata": {
      "needs_background": "light"
     },
     "output_type": "display_data"
    }
   ],
   "source": [
    "plt.plot(var_explained)"
   ]
  },
  {
   "cell_type": "code",
   "execution_count": 86,
   "metadata": {},
   "outputs": [
    {
     "data": {
      "image/png": "[encoded data removed]",
      "text/plain": [
       "<Figure size 432x288 with 1 Axes>"
      ]
     },
     "metadata": {
      "needs_background": "light"
     },
     "output_type": "display_data"
    }
   ],
   "source": [
    "plt.bar(range(1,eig_vals.size+1), var_explained, alpha =0.5 , align = 'center', label = 'Individual; variance captured')\n",
    "plt.step(range(1,eig_vals.size+1), cum_var_explained, where='mid', label = 'Cumulative variance captured')\n",
    "plt.ylabel('Explained Variance %')\n",
    "plt.xlabel('Principle Component')\n",
    "plt.legend(loc = 'best')\n",
    "plt.show()"
   ]
  },
  {
   "cell_type": "markdown",
   "metadata": {
    "colab_type": "text",
    "id": "x8YxQPNGWC0e"
   },
   "source": [
    "# Q9 Use PCA command from sklearn and find Principal Components. Transform data to components formed"
   ]
  },
  {
   "cell_type": "code",
   "execution_count": 87,
   "metadata": {
    "colab": {},
    "colab_type": "code",
    "id": "ZgniQrGWSM5l"
   },
   "outputs": [],
   "source": [
    "from sklearn.decomposition import PCA"
   ]
  },
  {
   "cell_type": "code",
   "execution_count": 89,
   "metadata": {
    "colab": {},
    "colab_type": "code",
    "id": "-06rQu3PSM5o"
   },
   "outputs": [
    {
     "data": {
      "text/plain": [
       "array([[-1.4352106 , -0.15175582, -0.64644685, ...,  0.10617444,\n",
       "         0.12607548, -0.21095364],\n",
       "       [ 1.91648566, -1.07133406,  0.51836855, ..., -1.46178984,\n",
       "        -0.28175016,  0.42363989],\n",
       "       [-1.55956844, -0.19994778,  0.01802253, ..., -0.03795549,\n",
       "         0.28906977,  0.03627804],\n",
       "       ...,\n",
       "       [ 3.65354913,  0.18973634,  0.73432622, ...,  1.8479053 ,\n",
       "         0.69565446, -0.27796564],\n",
       "       [ 2.42424779, -1.14424905,  0.95721379, ...,  0.69949347,\n",
       "         0.00520052, -0.92326943],\n",
       "       [ 3.13116206, -1.31692325,  1.13013066, ...,  0.86460247,\n",
       "         0.02398012, -0.39329355]])"
      ]
     },
     "execution_count": 89,
     "metadata": {},
     "output_type": "execute_result"
    }
   ],
   "source": [
    "pca = PCA(n_components=7)\n",
    "data_reduced = pca.fit_transform(df)\n",
    "data_reduced"
   ]
  },
  {
   "cell_type": "code",
   "execution_count": 91,
   "metadata": {},
   "outputs": [
    {
     "data": {
      "text/plain": [
       "array([[ 0.30685038,  0.37029483,  0.36737965,  0.33680133,  0.35158052,\n",
       "         0.33840962,  0.32114559,  0.34333043,  0.24734882],\n",
       "       [ 0.02771442, -0.04380153, -0.08093297, -0.15635067, -0.08618495,\n",
       "        -0.10302527, -0.24589447,  0.00344093,  0.94223122],\n",
       "       [-0.91455544,  0.00538681, -0.05257559,  0.22919283,  0.18658806,\n",
       "         0.0533996 ,  0.11308991,  0.2125948 ,  0.11230887],\n",
       "       [ 0.04949763, -0.28338403, -0.28558874, -0.30484483, -0.19962539,\n",
       "         0.09093474,  0.81413994,  0.13724026,  0.11390353],\n",
       "       [-0.0543418 ,  0.30384608,  0.2709261 , -0.47670193,  0.15867127,\n",
       "        -0.66048166,  0.08836558,  0.35926604, -0.07606378],\n",
       "       [-0.21150379,  0.39017399,  0.41704388, -0.11380673, -0.26576873,\n",
       "         0.04605918,  0.28193821, -0.67401266,  0.09806196],\n",
       "       [-0.11079786, -0.00802951,  0.09685064, -0.68855225,  0.28514413,\n",
       "         0.60911101, -0.21477587,  0.03597463, -0.06654972]])"
      ]
     },
     "execution_count": 91,
     "metadata": {},
     "output_type": "execute_result"
    }
   ],
   "source": [
    "pca.components_"
   ]
  },
  {
   "cell_type": "markdown",
   "metadata": {
    "colab_type": "text",
    "id": "8L-IGI0QWC0t"
   },
   "source": [
    "# Q10 Find correlation between components and features"
   ]
  },
  {
   "cell_type": "code",
   "execution_count": 92,
   "metadata": {
    "scrolled": true
   },
   "outputs": [
    {
     "data": {
      "text/plain": [
       "Index(['ClumpThickness', 'Cell Size', 'Cell Shape', 'Marginal Adhesion',\n",
       "       'Single Epithelial Cell Size', 'Bare Nuclei', 'Normal Nucleoli',\n",
       "       'Bland Chromatin', 'Mitoses'],\n",
       "      dtype='object')"
      ]
     },
     "execution_count": 92,
     "metadata": {},
     "output_type": "execute_result"
    }
   ],
   "source": [
    "df.columns"
   ]
  },
  {
   "cell_type": "code",
   "execution_count": 94,
   "metadata": {},
   "outputs": [],
   "source": [
    "col = ['ClumpThickness', 'Cell Size', 'Cell Shape', 'Marginal Adhesion',\n",
    "       'Single Epithelial Cell Size', 'Bare Nuclei', 'Normal Nucleoli',\n",
    "       'Bland Chromatin', 'Mitoses']"
   ]
  },
  {
   "cell_type": "code",
   "execution_count": 95,
   "metadata": {
    "colab": {},
    "colab_type": "code",
    "id": "eLi4UsMcSM5r"
   },
   "outputs": [
    {
     "data": {
      "text/html": [
       "<div>\n",
       "<style scoped>\n",
       "    .dataframe tbody tr th:only-of-type {\n",
       "        vertical-align: middle;\n",
       "    }\n",
       "\n",
       "    .dataframe tbody tr th {\n",
       "        vertical-align: top;\n",
       "    }\n",
       "\n",
       "    .dataframe thead th {\n",
       "        text-align: right;\n",
       "    }\n",
       "</style>\n",
       "<table border=\"1\" class=\"dataframe\">\n",
       "  <thead>\n",
       "    <tr style=\"text-align: right;\">\n",
       "      <th></th>\n",
       "      <th>ClumpThickness</th>\n",
       "      <th>Cell Size</th>\n",
       "      <th>Cell Shape</th>\n",
       "      <th>Marginal Adhesion</th>\n",
       "      <th>Single Epithelial Cell Size</th>\n",
       "      <th>Bare Nuclei</th>\n",
       "      <th>Normal Nucleoli</th>\n",
       "      <th>Bland Chromatin</th>\n",
       "      <th>Mitoses</th>\n",
       "    </tr>\n",
       "  </thead>\n",
       "  <tbody>\n",
       "    <tr>\n",
       "      <th>0</th>\n",
       "      <td>0.306850</td>\n",
       "      <td>0.370295</td>\n",
       "      <td>0.367380</td>\n",
       "      <td>0.336801</td>\n",
       "      <td>0.351581</td>\n",
       "      <td>0.338410</td>\n",
       "      <td>0.321146</td>\n",
       "      <td>0.343330</td>\n",
       "      <td>0.247349</td>\n",
       "    </tr>\n",
       "    <tr>\n",
       "      <th>1</th>\n",
       "      <td>0.027714</td>\n",
       "      <td>-0.043802</td>\n",
       "      <td>-0.080933</td>\n",
       "      <td>-0.156351</td>\n",
       "      <td>-0.086185</td>\n",
       "      <td>-0.103025</td>\n",
       "      <td>-0.245894</td>\n",
       "      <td>0.003441</td>\n",
       "      <td>0.942231</td>\n",
       "    </tr>\n",
       "    <tr>\n",
       "      <th>2</th>\n",
       "      <td>-0.914555</td>\n",
       "      <td>0.005387</td>\n",
       "      <td>-0.052576</td>\n",
       "      <td>0.229193</td>\n",
       "      <td>0.186588</td>\n",
       "      <td>0.053400</td>\n",
       "      <td>0.113090</td>\n",
       "      <td>0.212595</td>\n",
       "      <td>0.112309</td>\n",
       "    </tr>\n",
       "    <tr>\n",
       "      <th>3</th>\n",
       "      <td>0.049498</td>\n",
       "      <td>-0.283384</td>\n",
       "      <td>-0.285589</td>\n",
       "      <td>-0.304845</td>\n",
       "      <td>-0.199625</td>\n",
       "      <td>0.090935</td>\n",
       "      <td>0.814140</td>\n",
       "      <td>0.137240</td>\n",
       "      <td>0.113904</td>\n",
       "    </tr>\n",
       "    <tr>\n",
       "      <th>4</th>\n",
       "      <td>-0.054342</td>\n",
       "      <td>0.303846</td>\n",
       "      <td>0.270926</td>\n",
       "      <td>-0.476702</td>\n",
       "      <td>0.158671</td>\n",
       "      <td>-0.660482</td>\n",
       "      <td>0.088366</td>\n",
       "      <td>0.359266</td>\n",
       "      <td>-0.076064</td>\n",
       "    </tr>\n",
       "    <tr>\n",
       "      <th>5</th>\n",
       "      <td>-0.211504</td>\n",
       "      <td>0.390174</td>\n",
       "      <td>0.417044</td>\n",
       "      <td>-0.113807</td>\n",
       "      <td>-0.265769</td>\n",
       "      <td>0.046059</td>\n",
       "      <td>0.281938</td>\n",
       "      <td>-0.674013</td>\n",
       "      <td>0.098062</td>\n",
       "    </tr>\n",
       "    <tr>\n",
       "      <th>6</th>\n",
       "      <td>-0.110798</td>\n",
       "      <td>-0.008030</td>\n",
       "      <td>0.096851</td>\n",
       "      <td>-0.688552</td>\n",
       "      <td>0.285144</td>\n",
       "      <td>0.609111</td>\n",
       "      <td>-0.214776</td>\n",
       "      <td>0.035975</td>\n",
       "      <td>-0.066550</td>\n",
       "    </tr>\n",
       "  </tbody>\n",
       "</table>\n",
       "</div>"
      ],
      "text/plain": [
       "   ClumpThickness  Cell Size  Cell Shape  Marginal Adhesion  \\\n",
       "0        0.306850   0.370295    0.367380           0.336801   \n",
       "1        0.027714  -0.043802   -0.080933          -0.156351   \n",
       "2       -0.914555   0.005387   -0.052576           0.229193   \n",
       "3        0.049498  -0.283384   -0.285589          -0.304845   \n",
       "4       -0.054342   0.303846    0.270926          -0.476702   \n",
       "5       -0.211504   0.390174    0.417044          -0.113807   \n",
       "6       -0.110798  -0.008030    0.096851          -0.688552   \n",
       "\n",
       "   Single Epithelial Cell Size  Bare Nuclei  Normal Nucleoli  Bland Chromatin  \\\n",
       "0                     0.351581     0.338410         0.321146         0.343330   \n",
       "1                    -0.086185    -0.103025        -0.245894         0.003441   \n",
       "2                     0.186588     0.053400         0.113090         0.212595   \n",
       "3                    -0.199625     0.090935         0.814140         0.137240   \n",
       "4                     0.158671    -0.660482         0.088366         0.359266   \n",
       "5                    -0.265769     0.046059         0.281938        -0.674013   \n",
       "6                     0.285144     0.609111        -0.214776         0.035975   \n",
       "\n",
       "    Mitoses  \n",
       "0  0.247349  \n",
       "1  0.942231  \n",
       "2  0.112309  \n",
       "3  0.113904  \n",
       "4 -0.076064  \n",
       "5  0.098062  \n",
       "6 -0.066550  "
      ]
     },
     "execution_count": 95,
     "metadata": {},
     "output_type": "execute_result"
    }
   ],
   "source": [
    "df_comp = pd.DataFrame(pca.components_,columns= col)\n",
    "df_comp"
   ]
  },
  {
   "cell_type": "code",
   "execution_count": 96,
   "metadata": {
    "colab": {},
    "colab_type": "code",
    "id": "bXUp9TCDWC1G"
   },
   "outputs": [
    {
     "data": {
      "text/plain": [
       "<matplotlib.axes._subplots.AxesSubplot at 0x22c4f485c88>"
      ]
     },
     "execution_count": 96,
     "metadata": {},
     "output_type": "execute_result"
    },
    {
     "data": {
      "image/png": "[encoded data removed]",
      "text/plain": [
       "<Figure size 432x288 with 2 Axes>"
      ]
     },
     "metadata": {
      "needs_background": "light"
     },
     "output_type": "display_data"
    }
   ],
   "source": [
    "sns.heatmap(df_comp)"
   ]
  },
  {
   "cell_type": "code",
   "execution_count": null,
   "metadata": {},
   "outputs": [],
   "source": []
  }
 ],
 "metadata": {
  "colab": {
   "collapsed_sections": [
    "9hxe7D9BWCx-",
    "lmMHMAtkWCzm",
    "vbZ-YcsdWCzz",
    "-2KqQg2KWCz7",
    "x8YxQPNGWC0e"
   ],
   "name": "Questions - Lab on Unsupervised Learning.ipynb",
   "provenance": []
  },
  "kernelspec": {
   "display_name": "Python 3",
   "language": "python",
   "name": "python3"
  },
  "language_info": {
   "codemirror_mode": {
    "name": "ipython",
    "version": 3
   },
   "file_extension": ".py",
   "mimetype": "text/x-python",
   "name": "python",
   "nbconvert_exporter": "python",
   "pygments_lexer": "ipython3",
   "version": "3.7.6"
  }
 },
 "nbformat": 4,
 "nbformat_minor": 1
}
