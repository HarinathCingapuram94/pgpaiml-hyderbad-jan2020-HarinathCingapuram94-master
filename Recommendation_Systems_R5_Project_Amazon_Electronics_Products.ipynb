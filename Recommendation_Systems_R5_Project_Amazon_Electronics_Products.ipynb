{
 "cells": [
  {
   "cell_type": "code",
   "execution_count": 1,
   "metadata": {
    "colab": {
     "base_uri": "https://localhost:8080/"
    },
    "id": "THAKxYWgzzo8",
    "outputId": "7ac7b236-f794-4bbd-c2a0-82585370d2bb"
   },
   "outputs": [
    {
     "name": "stdout",
     "output_type": "stream",
     "text": [
      "Mounted at /content/drive\n"
     ]
    }
   ],
   "source": [
    "from google.colab import drive\n",
    "drive.mount('/content/drive')"
   ]
  },
  {
   "cell_type": "code",
   "execution_count": 2,
   "metadata": {
    "id": "ZSIWKtBU0CBg"
   },
   "outputs": [],
   "source": [
    "import pandas as pd # data processing, CSV file I/O (e.g. pd.read_csv)\n",
    "import numpy as np # linear algebra\n",
    "import matplotlib \n",
    "import matplotlib.pyplot as plt\n",
    "import sklearn\n",
    "%matplotlib inline\n",
    "import matplotlib.pyplot as plt \n",
    "plt.rcParams[\"figure.figsize\"] = [10, 8]\n",
    "# Input data files are available in the \"../input/\" directory.\n",
    "# For example, running this (by clicking run or pressing Shift+Enter) will list the files in the input directory\n",
    "\n",
    "import math\n",
    "import seaborn as sns\n",
    "\n",
    "\n",
    "# set seed for reproducibility\n",
    "np.random.seed(0)"
   ]
  },
  {
   "cell_type": "markdown",
   "metadata": {
    "id": "XTkrgQMIApID"
   },
   "source": [
    "# Read and explore the given dataset"
   ]
  },
  {
   "cell_type": "code",
   "execution_count": 3,
   "metadata": {
    "id": "aGDttqzV0h9e"
   },
   "outputs": [],
   "source": [
    "df = pd.read_csv('/content/drive/MyDrive/dataset/Recommendation Systems/Electronic_dataset.csv')"
   ]
  },
  {
   "cell_type": "code",
   "execution_count": null,
   "metadata": {
    "colab": {
     "base_uri": "https://localhost:8080/",
     "height": 195
    },
    "id": "eaoMg_Ez0x9h",
    "outputId": "16edcc4b-f316-49cc-cb11-d489cdbdfa70"
   },
   "outputs": [
    {
     "data": {
      "text/html": [
       "<div>\n",
       "<style scoped>\n",
       "    .dataframe tbody tr th:only-of-type {\n",
       "        vertical-align: middle;\n",
       "    }\n",
       "\n",
       "    .dataframe tbody tr th {\n",
       "        vertical-align: top;\n",
       "    }\n",
       "\n",
       "    .dataframe thead th {\n",
       "        text-align: right;\n",
       "    }\n",
       "</style>\n",
       "<table border=\"1\" class=\"dataframe\">\n",
       "  <thead>\n",
       "    <tr style=\"text-align: right;\">\n",
       "      <th></th>\n",
       "      <th>user_id</th>\n",
       "      <th>prod_id</th>\n",
       "      <th>ratings</th>\n",
       "      <th>timestamp</th>\n",
       "    </tr>\n",
       "  </thead>\n",
       "  <tbody>\n",
       "    <tr>\n",
       "      <th>0</th>\n",
       "      <td>A3L1GVWVJKWZZS</td>\n",
       "      <td>B0058UUR6E</td>\n",
       "      <td>5.0</td>\n",
       "      <td>1364774400</td>\n",
       "    </tr>\n",
       "    <tr>\n",
       "      <th>1</th>\n",
       "      <td>A08831071BVKZMKNCPI5S</td>\n",
       "      <td>B009ID0VVS</td>\n",
       "      <td>5.0</td>\n",
       "      <td>1357257600</td>\n",
       "    </tr>\n",
       "    <tr>\n",
       "      <th>2</th>\n",
       "      <td>A1SINU2I4IOPNU</td>\n",
       "      <td>B000GBO9IM</td>\n",
       "      <td>4.0</td>\n",
       "      <td>1358121600</td>\n",
       "    </tr>\n",
       "    <tr>\n",
       "      <th>3</th>\n",
       "      <td>A3P3P31EEOX2BD</td>\n",
       "      <td>B00CDCIOHO</td>\n",
       "      <td>3.0</td>\n",
       "      <td>1404950400</td>\n",
       "    </tr>\n",
       "    <tr>\n",
       "      <th>4</th>\n",
       "      <td>A3DBLJ3MPBJQMN</td>\n",
       "      <td>B000MS3VGA</td>\n",
       "      <td>5.0</td>\n",
       "      <td>1294444800</td>\n",
       "    </tr>\n",
       "  </tbody>\n",
       "</table>\n",
       "</div>"
      ],
      "text/plain": [
       "                 user_id     prod_id  ratings   timestamp\n",
       "0         A3L1GVWVJKWZZS  B0058UUR6E      5.0  1364774400\n",
       "1  A08831071BVKZMKNCPI5S  B009ID0VVS      5.0  1357257600\n",
       "2         A1SINU2I4IOPNU  B000GBO9IM      4.0  1358121600\n",
       "3         A3P3P31EEOX2BD  B00CDCIOHO      3.0  1404950400\n",
       "4         A3DBLJ3MPBJQMN  B000MS3VGA      5.0  1294444800"
      ]
     },
     "execution_count": 16,
     "metadata": {
      "tags": []
     },
     "output_type": "execute_result"
    }
   ],
   "source": [
    "df.head()"
   ]
  },
  {
   "cell_type": "code",
   "execution_count": null,
   "metadata": {
    "colab": {
     "base_uri": "https://localhost:8080/"
    },
    "id": "ir87Qv-100Dl",
    "outputId": "68e21273-7eb9-40c3-f8e9-4a121b8248ac"
   },
   "outputs": [
    {
     "data": {
      "text/plain": [
       "(500000, 4)"
      ]
     },
     "execution_count": 5,
     "metadata": {
      "tags": []
     },
     "output_type": "execute_result"
    }
   ],
   "source": [
    "df.shape"
   ]
  },
  {
   "cell_type": "code",
   "execution_count": null,
   "metadata": {
    "colab": {
     "base_uri": "https://localhost:8080/"
    },
    "id": "jwA6bp0v02SJ",
    "outputId": "4746c037-3b8f-4d1b-8e54-5633727fbf3a"
   },
   "outputs": [
    {
     "name": "stdout",
     "output_type": "stream",
     "text": [
      "<class 'pandas.core.frame.DataFrame'>\n",
      "RangeIndex: 500000 entries, 0 to 499999\n",
      "Data columns (total 4 columns):\n",
      " #   Column     Non-Null Count   Dtype  \n",
      "---  ------     --------------   -----  \n",
      " 0   user_id    500000 non-null  object \n",
      " 1   prod_id    500000 non-null  object \n",
      " 2   ratings    500000 non-null  float64\n",
      " 3   timestamp  500000 non-null  int64  \n",
      "dtypes: float64(1), int64(1), object(2)\n",
      "memory usage: 15.3+ MB\n"
     ]
    }
   ],
   "source": [
    "df.info()"
   ]
  },
  {
   "cell_type": "code",
   "execution_count": 4,
   "metadata": {
    "id": "jY3BtyKF08bo"
   },
   "outputs": [],
   "source": [
    "df.drop('timestamp', axis=1, inplace= True)"
   ]
  },
  {
   "cell_type": "code",
   "execution_count": null,
   "metadata": {
    "colab": {
     "base_uri": "https://localhost:8080/",
     "height": 195
    },
    "id": "SnsDLQwD1xyV",
    "outputId": "45ee618a-90ce-4f34-a6b9-ce0db33ad8bb"
   },
   "outputs": [
    {
     "data": {
      "text/html": [
       "<div>\n",
       "<style scoped>\n",
       "    .dataframe tbody tr th:only-of-type {\n",
       "        vertical-align: middle;\n",
       "    }\n",
       "\n",
       "    .dataframe tbody tr th {\n",
       "        vertical-align: top;\n",
       "    }\n",
       "\n",
       "    .dataframe thead th {\n",
       "        text-align: right;\n",
       "    }\n",
       "</style>\n",
       "<table border=\"1\" class=\"dataframe\">\n",
       "  <thead>\n",
       "    <tr style=\"text-align: right;\">\n",
       "      <th></th>\n",
       "      <th>user_id</th>\n",
       "      <th>prod_id</th>\n",
       "      <th>ratings</th>\n",
       "    </tr>\n",
       "  </thead>\n",
       "  <tbody>\n",
       "    <tr>\n",
       "      <th>0</th>\n",
       "      <td>A3L1GVWVJKWZZS</td>\n",
       "      <td>B0058UUR6E</td>\n",
       "      <td>5.0</td>\n",
       "    </tr>\n",
       "    <tr>\n",
       "      <th>1</th>\n",
       "      <td>A08831071BVKZMKNCPI5S</td>\n",
       "      <td>B009ID0VVS</td>\n",
       "      <td>5.0</td>\n",
       "    </tr>\n",
       "    <tr>\n",
       "      <th>2</th>\n",
       "      <td>A1SINU2I4IOPNU</td>\n",
       "      <td>B000GBO9IM</td>\n",
       "      <td>4.0</td>\n",
       "    </tr>\n",
       "    <tr>\n",
       "      <th>3</th>\n",
       "      <td>A3P3P31EEOX2BD</td>\n",
       "      <td>B00CDCIOHO</td>\n",
       "      <td>3.0</td>\n",
       "    </tr>\n",
       "    <tr>\n",
       "      <th>4</th>\n",
       "      <td>A3DBLJ3MPBJQMN</td>\n",
       "      <td>B000MS3VGA</td>\n",
       "      <td>5.0</td>\n",
       "    </tr>\n",
       "  </tbody>\n",
       "</table>\n",
       "</div>"
      ],
      "text/plain": [
       "                 user_id     prod_id  ratings\n",
       "0         A3L1GVWVJKWZZS  B0058UUR6E      5.0\n",
       "1  A08831071BVKZMKNCPI5S  B009ID0VVS      5.0\n",
       "2         A1SINU2I4IOPNU  B000GBO9IM      4.0\n",
       "3         A3P3P31EEOX2BD  B00CDCIOHO      3.0\n",
       "4         A3DBLJ3MPBJQMN  B000MS3VGA      5.0"
      ]
     },
     "execution_count": 8,
     "metadata": {
      "tags": []
     },
     "output_type": "execute_result"
    }
   ],
   "source": [
    "df.head()"
   ]
  },
  {
   "cell_type": "code",
   "execution_count": 5,
   "metadata": {
    "id": "2rycMVcv1y3s"
   },
   "outputs": [],
   "source": [
    "df.rename(columns={'user_id' : 'users', 'prod_id':'items'}, inplace= True)"
   ]
  },
  {
   "cell_type": "code",
   "execution_count": null,
   "metadata": {
    "colab": {
     "base_uri": "https://localhost:8080/",
     "height": 195
    },
    "id": "nxG1LSRP2gO4",
    "outputId": "6528c4bc-b89f-4df6-9391-3effa4ef31e2"
   },
   "outputs": [
    {
     "data": {
      "text/html": [
       "<div>\n",
       "<style scoped>\n",
       "    .dataframe tbody tr th:only-of-type {\n",
       "        vertical-align: middle;\n",
       "    }\n",
       "\n",
       "    .dataframe tbody tr th {\n",
       "        vertical-align: top;\n",
       "    }\n",
       "\n",
       "    .dataframe thead th {\n",
       "        text-align: right;\n",
       "    }\n",
       "</style>\n",
       "<table border=\"1\" class=\"dataframe\">\n",
       "  <thead>\n",
       "    <tr style=\"text-align: right;\">\n",
       "      <th></th>\n",
       "      <th>users</th>\n",
       "      <th>items</th>\n",
       "      <th>ratings</th>\n",
       "    </tr>\n",
       "  </thead>\n",
       "  <tbody>\n",
       "    <tr>\n",
       "      <th>0</th>\n",
       "      <td>A3L1GVWVJKWZZS</td>\n",
       "      <td>B0058UUR6E</td>\n",
       "      <td>5.0</td>\n",
       "    </tr>\n",
       "    <tr>\n",
       "      <th>1</th>\n",
       "      <td>A08831071BVKZMKNCPI5S</td>\n",
       "      <td>B009ID0VVS</td>\n",
       "      <td>5.0</td>\n",
       "    </tr>\n",
       "    <tr>\n",
       "      <th>2</th>\n",
       "      <td>A1SINU2I4IOPNU</td>\n",
       "      <td>B000GBO9IM</td>\n",
       "      <td>4.0</td>\n",
       "    </tr>\n",
       "    <tr>\n",
       "      <th>3</th>\n",
       "      <td>A3P3P31EEOX2BD</td>\n",
       "      <td>B00CDCIOHO</td>\n",
       "      <td>3.0</td>\n",
       "    </tr>\n",
       "    <tr>\n",
       "      <th>4</th>\n",
       "      <td>A3DBLJ3MPBJQMN</td>\n",
       "      <td>B000MS3VGA</td>\n",
       "      <td>5.0</td>\n",
       "    </tr>\n",
       "  </tbody>\n",
       "</table>\n",
       "</div>"
      ],
      "text/plain": [
       "                   users       items  ratings\n",
       "0         A3L1GVWVJKWZZS  B0058UUR6E      5.0\n",
       "1  A08831071BVKZMKNCPI5S  B009ID0VVS      5.0\n",
       "2         A1SINU2I4IOPNU  B000GBO9IM      4.0\n",
       "3         A3P3P31EEOX2BD  B00CDCIOHO      3.0\n",
       "4         A3DBLJ3MPBJQMN  B000MS3VGA      5.0"
      ]
     },
     "execution_count": 15,
     "metadata": {
      "tags": []
     },
     "output_type": "execute_result"
    }
   ],
   "source": [
    "df.head()"
   ]
  },
  {
   "cell_type": "code",
   "execution_count": null,
   "metadata": {
    "colab": {
     "base_uri": "https://localhost:8080/"
    },
    "id": "bQKKlCNk2lIw",
    "outputId": "b26bd10a-e636-45dc-a7e7-2fb8c2427703"
   },
   "outputs": [
    {
     "data": {
      "text/plain": [
       "(500000, 3)"
      ]
     },
     "execution_count": 16,
     "metadata": {
      "tags": []
     },
     "output_type": "execute_result"
    }
   ],
   "source": [
    "df.shape"
   ]
  },
  {
   "cell_type": "code",
   "execution_count": null,
   "metadata": {
    "colab": {
     "base_uri": "https://localhost:8080/"
    },
    "id": "HSK4--Y12vY5",
    "outputId": "483fa285-7de5-4c79-94e7-69d488b7e545"
   },
   "outputs": [
    {
     "data": {
      "text/plain": [
       "users      0\n",
       "items      0\n",
       "ratings    0\n",
       "dtype: int64"
      ]
     },
     "execution_count": 17,
     "metadata": {
      "tags": []
     },
     "output_type": "execute_result"
    }
   ],
   "source": [
    "df.isnull().sum()"
   ]
  },
  {
   "cell_type": "code",
   "execution_count": null,
   "metadata": {
    "colab": {
     "base_uri": "https://localhost:8080/"
    },
    "id": "wkVj23GW2zfN",
    "outputId": "6d0932d6-c2fb-4530-d926-41a71bf52465"
   },
   "outputs": [
    {
     "data": {
      "text/plain": [
       "users      0\n",
       "items      0\n",
       "ratings    0\n",
       "dtype: int64"
      ]
     },
     "execution_count": 19,
     "metadata": {
      "tags": []
     },
     "output_type": "execute_result"
    }
   ],
   "source": [
    "df.isna().sum()"
   ]
  },
  {
   "cell_type": "code",
   "execution_count": 6,
   "metadata": {
    "colab": {
     "base_uri": "https://localhost:8080/",
     "height": 77
    },
    "id": "KYycUwJI2PlJ",
    "outputId": "a35ac1c1-991c-4a44-cdac-4af753f16fba"
   },
   "outputs": [
    {
     "data": {
      "text/html": [
       "<div>\n",
       "<style scoped>\n",
       "    .dataframe tbody tr th:only-of-type {\n",
       "        vertical-align: middle;\n",
       "    }\n",
       "\n",
       "    .dataframe tbody tr th {\n",
       "        vertical-align: top;\n",
       "    }\n",
       "\n",
       "    .dataframe thead th {\n",
       "        text-align: right;\n",
       "    }\n",
       "</style>\n",
       "<table border=\"1\" class=\"dataframe\">\n",
       "  <thead>\n",
       "    <tr style=\"text-align: right;\">\n",
       "      <th></th>\n",
       "      <th>count</th>\n",
       "      <th>mean</th>\n",
       "      <th>std</th>\n",
       "      <th>min</th>\n",
       "      <th>25%</th>\n",
       "      <th>50%</th>\n",
       "      <th>75%</th>\n",
       "      <th>max</th>\n",
       "    </tr>\n",
       "  </thead>\n",
       "  <tbody>\n",
       "    <tr>\n",
       "      <th>ratings</th>\n",
       "      <td>500000.0</td>\n",
       "      <td>4.013172</td>\n",
       "      <td>1.379996</td>\n",
       "      <td>1.0</td>\n",
       "      <td>3.0</td>\n",
       "      <td>5.0</td>\n",
       "      <td>5.0</td>\n",
       "      <td>5.0</td>\n",
       "    </tr>\n",
       "  </tbody>\n",
       "</table>\n",
       "</div>"
      ],
      "text/plain": [
       "            count      mean       std  min  25%  50%  75%  max\n",
       "ratings  500000.0  4.013172  1.379996  1.0  3.0  5.0  5.0  5.0"
      ]
     },
     "execution_count": 6,
     "metadata": {
      "tags": []
     },
     "output_type": "execute_result"
    }
   ],
   "source": [
    "df.describe().T # Rating are ranging from 1-5"
   ]
  },
  {
   "cell_type": "code",
   "execution_count": null,
   "metadata": {
    "colab": {
     "base_uri": "https://localhost:8080/"
    },
    "id": "Bd9gWz8Q-tAS",
    "outputId": "7e691b6e-a49a-4173-d393-981c08a660ac"
   },
   "outputs": [
    {
     "data": {
      "text/plain": [
       "A680RUE1FDO8B     36\n",
       "A3OXHLG6DIBRW8    34\n",
       "ADLVFFE4VBT8      30\n",
       "A5JLAU2ARJ0BO     29\n",
       "A2NOW4U7W3F7RI    28\n",
       "Name: users, dtype: int64"
      ]
     },
     "execution_count": 37,
     "metadata": {
      "tags": []
     },
     "output_type": "execute_result"
    }
   ],
   "source": [
    "df['users'].value_counts().head() # A680RUE1FDO8B user given more number of reviews"
   ]
  },
  {
   "cell_type": "code",
   "execution_count": null,
   "metadata": {
    "colab": {
     "base_uri": "https://localhost:8080/"
    },
    "id": "UPUoD03M-2O2",
    "outputId": "22d9f8f8-591e-4fef-8968-ad20863ea9c7"
   },
   "outputs": [
    {
     "data": {
      "text/plain": [
       "B0074BW614    1138\n",
       "B00DR0PDNE    1094\n",
       "B007WTAJTO     883\n",
       "B0019EHU8G     774\n",
       "B006GWO5WK     770\n",
       "Name: items, dtype: int64"
      ]
     },
     "execution_count": 38,
     "metadata": {
      "tags": []
     },
     "output_type": "execute_result"
    }
   ],
   "source": [
    "df['items'].value_counts().head() # B0074BW614 product has been rated more than any other items"
   ]
  },
  {
   "cell_type": "code",
   "execution_count": null,
   "metadata": {
    "colab": {
     "base_uri": "https://localhost:8080/"
    },
    "id": "xnynAnJ52_9U",
    "outputId": "a4b5b221-51ba-424a-ba21-e38d98e7e5d2"
   },
   "outputs": [
    {
     "name": "stdout",
     "output_type": "stream",
     "text": [
      "User: 448368\n",
      "Item: 130138\n",
      "Rating: 5\n"
     ]
    }
   ],
   "source": [
    "print(\"User:\" ,df['users'].nunique())\n",
    "print(\"Item:\" ,df['items'].nunique())\n",
    "print(\"Rating:\", df['ratings'].nunique()) "
   ]
  },
  {
   "cell_type": "code",
   "execution_count": null,
   "metadata": {
    "colab": {
     "base_uri": "https://localhost:8080/",
     "height": 386
    },
    "id": "1jtU50_w34-0",
    "outputId": "3dbcf17f-ff86-4f0e-ead9-cc37642da458"
   },
   "outputs": [
    {
     "data": {
      "text/plain": [
       "<seaborn.axisgrid.FacetGrid at 0x7f4b7da77e90>"
      ]
     },
     "execution_count": 24,
     "metadata": {
      "tags": []
     },
     "output_type": "execute_result"
    },
    {
     "data": {
      "image/png": "[encoded data removed]",
      "text/plain": [
       "<Figure size 360x360 with 1 Axes>"
      ]
     },
     "metadata": {
      "needs_background": "light",
      "tags": []
     },
     "output_type": "display_data"
    }
   ],
   "source": [
    "sns.displot(df.ratings)"
   ]
  },
  {
   "cell_type": "markdown",
   "metadata": {
    "id": "xqrpl0rg7o6j"
   },
   "source": [
    "## **Popularity Based**"
   ]
  },
  {
   "cell_type": "code",
   "execution_count": 9,
   "metadata": {
    "colab": {
     "base_uri": "https://localhost:8080/"
    },
    "id": "V0kiRmNC5AOR",
    "outputId": "174be1ed-d30c-4de8-df39-e1adf667993f"
   },
   "outputs": [
    {
     "data": {
      "text/plain": [
       "items\n",
       "BT008G3W52    5.0\n",
       "B004AC52UC    5.0\n",
       "B004AGJRMC    5.0\n",
       "B004AGED3A    5.0\n",
       "B004AFOK2U    5.0\n",
       "B004AFISUK    5.0\n",
       "B004AFFZNI    5.0\n",
       "B004AFEYU8    5.0\n",
       "B004AEVIOY    5.0\n",
       "B004AEVI4Y    5.0\n",
       "Name: ratings, dtype: float64"
      ]
     },
     "execution_count": 9,
     "metadata": {
      "tags": []
     },
     "output_type": "execute_result"
    }
   ],
   "source": [
    "df.groupby('items')['ratings'].mean().sort_values(ascending=False).head(10) # Most Liked Items"
   ]
  },
  {
   "cell_type": "code",
   "execution_count": 8,
   "metadata": {
    "colab": {
     "base_uri": "https://localhost:8080/"
    },
    "id": "1bhKrRET5KQE",
    "outputId": "78dd3e3e-0dda-4909-a83d-d4358b1d4e28"
   },
   "outputs": [
    {
     "data": {
      "text/plain": [
       "items\n",
       "0439886341    1.0\n",
       "B00028LF8Q    1.0\n",
       "B00DKVY35O    1.0\n",
       "B00DKRX7LO    1.0\n",
       "B0092TLBA8    1.0\n",
       "B0012RX0OI    1.0\n",
       "B0012S503G    1.0\n",
       "B0050UAE5G    1.0\n",
       "B0050UNO44    1.0\n",
       "B00028VKL8    1.0\n",
       "Name: ratings, dtype: float64"
      ]
     },
     "execution_count": 8,
     "metadata": {
      "tags": []
     },
     "output_type": "execute_result"
    }
   ],
   "source": [
    "df.groupby('items')['ratings'].mean().sort_values(ascending=True).head(10) # Least Liked Items"
   ]
  },
  {
   "cell_type": "code",
   "execution_count": 25,
   "metadata": {
    "colab": {
     "base_uri": "https://localhost:8080/"
    },
    "id": "FzjkXchv61sM",
    "outputId": "0157c531-a0a9-4b75-86bd-5ad493b76761"
   },
   "outputs": [
    {
     "data": {
      "text/plain": [
       "users\n",
       "A1G7R0UD9JW9PK    5.0\n",
       "A30YRZHUDGLEK0    5.0\n",
       "A30YQBOZEHKFI4    5.0\n",
       "A1JPRTW3MMXS31    5.0\n",
       "A30YQKSXH97I1I    5.0\n",
       "A30YR30EGAC3VX    5.0\n",
       "A30YRHJ3CMMGAU    5.0\n",
       "A30YRTLX2ZPFK4    5.0\n",
       "A30YSD1KPNIARH    5.0\n",
       "A30YGV6DXW44QU    5.0\n",
       "Name: ratings, dtype: float64"
      ]
     },
     "execution_count": 25,
     "metadata": {
      "tags": []
     },
     "output_type": "execute_result"
    }
   ],
   "source": [
    "df.groupby('users')['ratings'].mean().sort_values(ascending=False).head(10) #top users who has given highest ratings "
   ]
  },
  {
   "cell_type": "code",
   "execution_count": null,
   "metadata": {
    "colab": {
     "base_uri": "https://localhost:8080/",
     "height": 386
    },
    "id": "BN2rMK9T7BxQ",
    "outputId": "07f649b2-2e7b-4be8-d389-89955d551c06"
   },
   "outputs": [
    {
     "data": {
      "text/plain": [
       "<seaborn.axisgrid.FacetGrid at 0x7f4b7e769e50>"
      ]
     },
     "execution_count": 32,
     "metadata": {
      "tags": []
     },
     "output_type": "execute_result"
    },
    {
     "data": {
      "image/png": "[encoded data removed]",
      "text/plain": [
       "<Figure size 360x360 with 1 Axes>"
      ]
     },
     "metadata": {
      "needs_background": "light",
      "tags": []
     },
     "output_type": "display_data"
    }
   ],
   "source": [
    "item_rating = pd.DataFrame(df.groupby('users')['ratings'].mean())\n",
    "sns.displot(item_rating.ratings)"
   ]
  },
  {
   "cell_type": "markdown",
   "metadata": {
    "id": "lG5V8tqK9uMx"
   },
   "source": [
    "most of the users have given ratings 5"
   ]
  },
  {
   "cell_type": "code",
   "execution_count": 10,
   "metadata": {
    "id": "_gbF_SY05_vU"
   },
   "outputs": [],
   "source": [
    "users_rating = df.groupby('users')['ratings'].count()\n",
    "items_rating = df.groupby('items')['ratings'].count()"
   ]
  },
  {
   "cell_type": "code",
   "execution_count": 12,
   "metadata": {
    "id": "mU0oIIHB6zU4"
   },
   "outputs": [],
   "source": [
    "df_final = df.join(users_rating,on='users',rsuffix='_user_count')"
   ]
  },
  {
   "cell_type": "code",
   "execution_count": null,
   "metadata": {
    "id": "mCnZKOK97EXn"
   },
   "outputs": [],
   "source": [
    "df_final.rename(columns={'ratings_user_count':'number_ratings_by_user'}, inplace=True)"
   ]
  },
  {
   "cell_type": "code",
   "execution_count": 13,
   "metadata": {
    "colab": {
     "base_uri": "https://localhost:8080/",
     "height": 195
    },
    "id": "9kfisku-7GlE",
    "outputId": "1bdbc16e-4b61-4237-a496-98fd38b22bb3"
   },
   "outputs": [
    {
     "data": {
      "text/html": [
       "<div>\n",
       "<style scoped>\n",
       "    .dataframe tbody tr th:only-of-type {\n",
       "        vertical-align: middle;\n",
       "    }\n",
       "\n",
       "    .dataframe tbody tr th {\n",
       "        vertical-align: top;\n",
       "    }\n",
       "\n",
       "    .dataframe thead th {\n",
       "        text-align: right;\n",
       "    }\n",
       "</style>\n",
       "<table border=\"1\" class=\"dataframe\">\n",
       "  <thead>\n",
       "    <tr style=\"text-align: right;\">\n",
       "      <th></th>\n",
       "      <th>users</th>\n",
       "      <th>items</th>\n",
       "      <th>ratings</th>\n",
       "      <th>ratings_user_count</th>\n",
       "    </tr>\n",
       "  </thead>\n",
       "  <tbody>\n",
       "    <tr>\n",
       "      <th>0</th>\n",
       "      <td>A3L1GVWVJKWZZS</td>\n",
       "      <td>B0058UUR6E</td>\n",
       "      <td>5.0</td>\n",
       "      <td>1</td>\n",
       "    </tr>\n",
       "    <tr>\n",
       "      <th>1</th>\n",
       "      <td>A08831071BVKZMKNCPI5S</td>\n",
       "      <td>B009ID0VVS</td>\n",
       "      <td>5.0</td>\n",
       "      <td>1</td>\n",
       "    </tr>\n",
       "    <tr>\n",
       "      <th>2</th>\n",
       "      <td>A1SINU2I4IOPNU</td>\n",
       "      <td>B000GBO9IM</td>\n",
       "      <td>4.0</td>\n",
       "      <td>1</td>\n",
       "    </tr>\n",
       "    <tr>\n",
       "      <th>3</th>\n",
       "      <td>A3P3P31EEOX2BD</td>\n",
       "      <td>B00CDCIOHO</td>\n",
       "      <td>3.0</td>\n",
       "      <td>1</td>\n",
       "    </tr>\n",
       "    <tr>\n",
       "      <th>4</th>\n",
       "      <td>A3DBLJ3MPBJQMN</td>\n",
       "      <td>B000MS3VGA</td>\n",
       "      <td>5.0</td>\n",
       "      <td>1</td>\n",
       "    </tr>\n",
       "  </tbody>\n",
       "</table>\n",
       "</div>"
      ],
      "text/plain": [
       "                   users       items  ratings  ratings_user_count\n",
       "0         A3L1GVWVJKWZZS  B0058UUR6E      5.0                   1\n",
       "1  A08831071BVKZMKNCPI5S  B009ID0VVS      5.0                   1\n",
       "2         A1SINU2I4IOPNU  B000GBO9IM      4.0                   1\n",
       "3         A3P3P31EEOX2BD  B00CDCIOHO      3.0                   1\n",
       "4         A3DBLJ3MPBJQMN  B000MS3VGA      5.0                   1"
      ]
     },
     "execution_count": 13,
     "metadata": {
      "tags": []
     },
     "output_type": "execute_result"
    }
   ],
   "source": [
    "df_final.head(5)"
   ]
  },
  {
   "cell_type": "code",
   "execution_count": 15,
   "metadata": {
    "id": "-unqaxZy7JSY"
   },
   "outputs": [],
   "source": [
    "df_final = df_final.join(items_rating, on='items', rsuffix='_product_count')"
   ]
  },
  {
   "cell_type": "code",
   "execution_count": 16,
   "metadata": {
    "id": "F7Kgg3SU7L2c"
   },
   "outputs": [],
   "source": [
    "df_final.rename(columns={'ratings_product_count':'number_ratings_for_product'}, inplace=True)"
   ]
  },
  {
   "cell_type": "code",
   "execution_count": 17,
   "metadata": {
    "colab": {
     "base_uri": "https://localhost:8080/",
     "height": 195
    },
    "id": "QHf30tC27OUc",
    "outputId": "c2d6b5c3-ba08-4e5d-938e-fb1dcce4c3e3"
   },
   "outputs": [
    {
     "data": {
      "text/html": [
       "<div>\n",
       "<style scoped>\n",
       "    .dataframe tbody tr th:only-of-type {\n",
       "        vertical-align: middle;\n",
       "    }\n",
       "\n",
       "    .dataframe tbody tr th {\n",
       "        vertical-align: top;\n",
       "    }\n",
       "\n",
       "    .dataframe thead th {\n",
       "        text-align: right;\n",
       "    }\n",
       "</style>\n",
       "<table border=\"1\" class=\"dataframe\">\n",
       "  <thead>\n",
       "    <tr style=\"text-align: right;\">\n",
       "      <th></th>\n",
       "      <th>users</th>\n",
       "      <th>items</th>\n",
       "      <th>ratings</th>\n",
       "      <th>ratings_user_count</th>\n",
       "      <th>number_ratings_for_product</th>\n",
       "    </tr>\n",
       "  </thead>\n",
       "  <tbody>\n",
       "    <tr>\n",
       "      <th>0</th>\n",
       "      <td>A3L1GVWVJKWZZS</td>\n",
       "      <td>B0058UUR6E</td>\n",
       "      <td>5.0</td>\n",
       "      <td>1</td>\n",
       "      <td>183</td>\n",
       "    </tr>\n",
       "    <tr>\n",
       "      <th>1</th>\n",
       "      <td>A08831071BVKZMKNCPI5S</td>\n",
       "      <td>B009ID0VVS</td>\n",
       "      <td>5.0</td>\n",
       "      <td>1</td>\n",
       "      <td>10</td>\n",
       "    </tr>\n",
       "    <tr>\n",
       "      <th>2</th>\n",
       "      <td>A1SINU2I4IOPNU</td>\n",
       "      <td>B000GBO9IM</td>\n",
       "      <td>4.0</td>\n",
       "      <td>1</td>\n",
       "      <td>15</td>\n",
       "    </tr>\n",
       "    <tr>\n",
       "      <th>3</th>\n",
       "      <td>A3P3P31EEOX2BD</td>\n",
       "      <td>B00CDCIOHO</td>\n",
       "      <td>3.0</td>\n",
       "      <td>1</td>\n",
       "      <td>4</td>\n",
       "    </tr>\n",
       "    <tr>\n",
       "      <th>4</th>\n",
       "      <td>A3DBLJ3MPBJQMN</td>\n",
       "      <td>B000MS3VGA</td>\n",
       "      <td>5.0</td>\n",
       "      <td>1</td>\n",
       "      <td>35</td>\n",
       "    </tr>\n",
       "  </tbody>\n",
       "</table>\n",
       "</div>"
      ],
      "text/plain": [
       "                   users  ... number_ratings_for_product\n",
       "0         A3L1GVWVJKWZZS  ...                        183\n",
       "1  A08831071BVKZMKNCPI5S  ...                         10\n",
       "2         A1SINU2I4IOPNU  ...                         15\n",
       "3         A3P3P31EEOX2BD  ...                          4\n",
       "4         A3DBLJ3MPBJQMN  ...                         35\n",
       "\n",
       "[5 rows x 5 columns]"
      ]
     },
     "execution_count": 17,
     "metadata": {
      "tags": []
     },
     "output_type": "execute_result"
    }
   ],
   "source": [
    "df_final.head(5)"
   ]
  },
  {
   "cell_type": "code",
   "execution_count": 19,
   "metadata": {
    "id": "OCg9chlQ7Ubx"
   },
   "outputs": [],
   "source": [
    "dff = df_final.drop(labels=['users'],axis=1)"
   ]
  },
  {
   "cell_type": "code",
   "execution_count": 20,
   "metadata": {
    "colab": {
     "base_uri": "https://localhost:8080/",
     "height": 195
    },
    "id": "JzOOQ-pm7WtD",
    "outputId": "24448175-8905-415b-e762-75c9cccd942b"
   },
   "outputs": [
    {
     "data": {
      "text/html": [
       "<div>\n",
       "<style scoped>\n",
       "    .dataframe tbody tr th:only-of-type {\n",
       "        vertical-align: middle;\n",
       "    }\n",
       "\n",
       "    .dataframe tbody tr th {\n",
       "        vertical-align: top;\n",
       "    }\n",
       "\n",
       "    .dataframe thead th {\n",
       "        text-align: right;\n",
       "    }\n",
       "</style>\n",
       "<table border=\"1\" class=\"dataframe\">\n",
       "  <thead>\n",
       "    <tr style=\"text-align: right;\">\n",
       "      <th></th>\n",
       "      <th>items</th>\n",
       "      <th>ratings</th>\n",
       "      <th>ratings_user_count</th>\n",
       "      <th>number_ratings_for_product</th>\n",
       "    </tr>\n",
       "  </thead>\n",
       "  <tbody>\n",
       "    <tr>\n",
       "      <th>0</th>\n",
       "      <td>B0058UUR6E</td>\n",
       "      <td>5.0</td>\n",
       "      <td>1</td>\n",
       "      <td>183</td>\n",
       "    </tr>\n",
       "    <tr>\n",
       "      <th>1</th>\n",
       "      <td>B009ID0VVS</td>\n",
       "      <td>5.0</td>\n",
       "      <td>1</td>\n",
       "      <td>10</td>\n",
       "    </tr>\n",
       "    <tr>\n",
       "      <th>2</th>\n",
       "      <td>B000GBO9IM</td>\n",
       "      <td>4.0</td>\n",
       "      <td>1</td>\n",
       "      <td>15</td>\n",
       "    </tr>\n",
       "    <tr>\n",
       "      <th>3</th>\n",
       "      <td>B00CDCIOHO</td>\n",
       "      <td>3.0</td>\n",
       "      <td>1</td>\n",
       "      <td>4</td>\n",
       "    </tr>\n",
       "    <tr>\n",
       "      <th>4</th>\n",
       "      <td>B000MS3VGA</td>\n",
       "      <td>5.0</td>\n",
       "      <td>1</td>\n",
       "      <td>35</td>\n",
       "    </tr>\n",
       "  </tbody>\n",
       "</table>\n",
       "</div>"
      ],
      "text/plain": [
       "        items  ratings  ratings_user_count  number_ratings_for_product\n",
       "0  B0058UUR6E      5.0                   1                         183\n",
       "1  B009ID0VVS      5.0                   1                          10\n",
       "2  B000GBO9IM      4.0                   1                          15\n",
       "3  B00CDCIOHO      3.0                   1                           4\n",
       "4  B000MS3VGA      5.0                   1                          35"
      ]
     },
     "execution_count": 20,
     "metadata": {
      "tags": []
     },
     "output_type": "execute_result"
    }
   ],
   "source": [
    "dff.head()"
   ]
  },
  {
   "cell_type": "code",
   "execution_count": 21,
   "metadata": {
    "colab": {
     "base_uri": "https://localhost:8080/"
    },
    "id": "MZSwC75L7YS4",
    "outputId": "ad6ef9c4-da4a-442f-e56e-763676e9b1f0"
   },
   "outputs": [
    {
     "name": "stderr",
     "output_type": "stream",
     "text": [
      "/usr/local/lib/python3.7/dist-packages/ipykernel_launcher.py:1: FutureWarning: Indexing with multiple keys (implicitly converted to a tuple of keys) will be deprecated, use a list instead.\n",
      "  \"\"\"Entry point for launching an IPython kernel.\n"
     ]
    }
   ],
   "source": [
    "popularity_df = dff.groupby('items')['ratings','number_ratings_for_product'].mean().sort_values(by='number_ratings_for_product', ascending=False)"
   ]
  },
  {
   "cell_type": "code",
   "execution_count": 22,
   "metadata": {
    "colab": {
     "base_uri": "https://localhost:8080/",
     "height": 373
    },
    "id": "UvuR7QWv7Z91",
    "outputId": "de30f3d4-87fb-406f-8087-4c5032a84a86"
   },
   "outputs": [
    {
     "data": {
      "text/html": [
       "<div>\n",
       "<style scoped>\n",
       "    .dataframe tbody tr th:only-of-type {\n",
       "        vertical-align: middle;\n",
       "    }\n",
       "\n",
       "    .dataframe tbody tr th {\n",
       "        vertical-align: top;\n",
       "    }\n",
       "\n",
       "    .dataframe thead th {\n",
       "        text-align: right;\n",
       "    }\n",
       "</style>\n",
       "<table border=\"1\" class=\"dataframe\">\n",
       "  <thead>\n",
       "    <tr style=\"text-align: right;\">\n",
       "      <th></th>\n",
       "      <th>ratings</th>\n",
       "      <th>number_ratings_for_product</th>\n",
       "    </tr>\n",
       "    <tr>\n",
       "      <th>items</th>\n",
       "      <th></th>\n",
       "      <th></th>\n",
       "    </tr>\n",
       "  </thead>\n",
       "  <tbody>\n",
       "    <tr>\n",
       "      <th>B0074BW614</th>\n",
       "      <td>4.465729</td>\n",
       "      <td>1138</td>\n",
       "    </tr>\n",
       "    <tr>\n",
       "      <th>B00DR0PDNE</th>\n",
       "      <td>3.943327</td>\n",
       "      <td>1094</td>\n",
       "    </tr>\n",
       "    <tr>\n",
       "      <th>B007WTAJTO</th>\n",
       "      <td>4.417894</td>\n",
       "      <td>883</td>\n",
       "    </tr>\n",
       "    <tr>\n",
       "      <th>B0019EHU8G</th>\n",
       "      <td>4.740310</td>\n",
       "      <td>774</td>\n",
       "    </tr>\n",
       "    <tr>\n",
       "      <th>B006GWO5WK</th>\n",
       "      <td>4.275325</td>\n",
       "      <td>770</td>\n",
       "    </tr>\n",
       "    <tr>\n",
       "      <th>B003ELYQGG</th>\n",
       "      <td>4.386928</td>\n",
       "      <td>765</td>\n",
       "    </tr>\n",
       "    <tr>\n",
       "      <th>B003ES5ZUU</th>\n",
       "      <td>4.684288</td>\n",
       "      <td>681</td>\n",
       "    </tr>\n",
       "    <tr>\n",
       "      <th>B00622AG6S</th>\n",
       "      <td>4.419162</td>\n",
       "      <td>668</td>\n",
       "    </tr>\n",
       "    <tr>\n",
       "      <th>B007R5YDYA</th>\n",
       "      <td>4.738998</td>\n",
       "      <td>659</td>\n",
       "    </tr>\n",
       "    <tr>\n",
       "      <th>B008OHNZI0</th>\n",
       "      <td>4.303905</td>\n",
       "      <td>589</td>\n",
       "    </tr>\n",
       "  </tbody>\n",
       "</table>\n",
       "</div>"
      ],
      "text/plain": [
       "             ratings  number_ratings_for_product\n",
       "items                                           \n",
       "B0074BW614  4.465729                        1138\n",
       "B00DR0PDNE  3.943327                        1094\n",
       "B007WTAJTO  4.417894                         883\n",
       "B0019EHU8G  4.740310                         774\n",
       "B006GWO5WK  4.275325                         770\n",
       "B003ELYQGG  4.386928                         765\n",
       "B003ES5ZUU  4.684288                         681\n",
       "B00622AG6S  4.419162                         668\n",
       "B007R5YDYA  4.738998                         659\n",
       "B008OHNZI0  4.303905                         589"
      ]
     },
     "execution_count": 22,
     "metadata": {
      "tags": []
     },
     "output_type": "execute_result"
    }
   ],
   "source": [
    "popularity_df.head(10)"
   ]
  },
  {
   "cell_type": "markdown",
   "metadata": {
    "id": "V-I5qQzh8ume"
   },
   "source": [
    "The highest no.of ratings given for the product B0074BW614."
   ]
  },
  {
   "cell_type": "code",
   "execution_count": 27,
   "metadata": {
    "colab": {
     "base_uri": "https://localhost:8080/"
    },
    "id": "nRm2Argj88hw",
    "outputId": "26399af2-c10e-4bcc-9d2c-48310e657561"
   },
   "outputs": [
    {
     "name": "stdout",
     "output_type": "stream",
     "text": [
      "Collecting surprise\n",
      "  Downloading https://files.pythonhosted.org/packages/61/de/e5cba8682201fcf9c3719a6fdda95693468ed061945493dea2dd37c5618b/surprise-0.1-py2.py3-none-any.whl\n",
      "Collecting scikit-surprise\n",
      "\u001b[?25l  Downloading https://files.pythonhosted.org/packages/97/37/5d334adaf5ddd65da99fc65f6507e0e4599d092ba048f4302fe8775619e8/scikit-surprise-1.1.1.tar.gz (11.8MB)\n",
      "\u001b[K     |████████████████████████████████| 11.8MB 234kB/s \n",
      "\u001b[?25hRequirement already satisfied: joblib>=0.11 in /usr/local/lib/python3.7/dist-packages (from scikit-surprise->surprise) (1.0.1)\n",
      "Requirement already satisfied: numpy>=1.11.2 in /usr/local/lib/python3.7/dist-packages (from scikit-surprise->surprise) (1.19.5)\n",
      "Requirement already satisfied: scipy>=1.0.0 in /usr/local/lib/python3.7/dist-packages (from scikit-surprise->surprise) (1.4.1)\n",
      "Requirement already satisfied: six>=1.10.0 in /usr/local/lib/python3.7/dist-packages (from scikit-surprise->surprise) (1.15.0)\n",
      "Building wheels for collected packages: scikit-surprise\n",
      "  Building wheel for scikit-surprise (setup.py) ... \u001b[?25l\u001b[?25hdone\n",
      "  Created wheel for scikit-surprise: filename=scikit_surprise-1.1.1-cp37-cp37m-linux_x86_64.whl size=1617547 sha256=68058538b1f31eb9601a08833197f1200014d3cc9abc0db4a6388ea491005a28\n",
      "  Stored in directory: /root/.cache/pip/wheels/78/9c/3d/41b419c9d2aff5b6e2b4c0fc8d25c538202834058f9ed110d0\n",
      "Successfully built scikit-surprise\n",
      "Installing collected packages: scikit-surprise, surprise\n",
      "Successfully installed scikit-surprise-1.1.1 surprise-0.1\n"
     ]
    }
   ],
   "source": [
    "!pip install surprise"
   ]
  },
  {
   "cell_type": "code",
   "execution_count": 28,
   "metadata": {
    "id": "lEiDTD1w8GdB"
   },
   "outputs": [],
   "source": [
    "from surprise import Dataset, Reader\n",
    "from surprise import KNNWithMeans,accuracy,Prediction\n",
    "from surprise import SVD\n",
    "from surprise import accuracy\n",
    "from surprise.model_selection import train_test_split"
   ]
  },
  {
   "cell_type": "code",
   "execution_count": 30,
   "metadata": {
    "id": "TsoxthWH_I55"
   },
   "outputs": [],
   "source": [
    "reader = Reader()\n",
    "\n",
    "data = Dataset.load_from_df(df_final[['users','items','ratings']][:50000], reader=reader)"
   ]
  },
  {
   "cell_type": "code",
   "execution_count": 31,
   "metadata": {
    "id": "hEMkMlzv97gz"
   },
   "outputs": [],
   "source": [
    "trainset, testset, = train_test_split(data, test_size=.3, random_state=123)"
   ]
  },
  {
   "cell_type": "code",
   "execution_count": 33,
   "metadata": {
    "colab": {
     "base_uri": "https://localhost:8080/"
    },
    "id": "mNxbrNh4_Xj5",
    "outputId": "7c8d4bbc-98cc-46d3-948e-a69994b3afa3"
   },
   "outputs": [
    {
     "data": {
      "text/plain": [
       "<surprise.prediction_algorithms.matrix_factorization.SVD at 0x7fa801861fd0>"
      ]
     },
     "execution_count": 33,
     "metadata": {
      "tags": []
     },
     "output_type": "execute_result"
    }
   ],
   "source": [
    "model = SVD()\n",
    "model.fit(trainset)"
   ]
  },
  {
   "cell_type": "code",
   "execution_count": 34,
   "metadata": {
    "id": "9WmZEA0hSwPW"
   },
   "outputs": [],
   "source": [
    "predictions = model.test(testset)"
   ]
  },
  {
   "cell_type": "code",
   "execution_count": 35,
   "metadata": {
    "id": "qeN_JxR4_mPr"
   },
   "outputs": [],
   "source": [
    "from collections import defaultdict\n",
    "def get_top_n(predictions, n=10):\n",
    "    # First map the predictions to each user.\n",
    "    top_n = defaultdict(list)\n",
    "    for uid, iid, true_r, est, _ in predictions:\n",
    "        top_n[uid].append((iid, est))\n",
    "\n",
    "    # Then sort the predictions for each user and retrieve the k highest ones.\n",
    "    for uid, user_ratings in top_n.items():\n",
    "        user_ratings.sort(key=lambda x: x[1], reverse=True)\n",
    "        top_n[uid] = user_ratings[:n]\n",
    "\n",
    "    return top_n"
   ]
  },
  {
   "cell_type": "code",
   "execution_count": 36,
   "metadata": {
    "id": "eDBl9gGG_uKc"
   },
   "outputs": [],
   "source": [
    "top_n = get_top_n(predictions,n=5)"
   ]
  },
  {
   "cell_type": "code",
   "execution_count": 42,
   "metadata": {
    "colab": {
     "base_uri": "https://localhost:8080/"
    },
    "id": "4VXJ5S_V_wWj",
    "outputId": "5bb20dfa-17c0-4379-bd28-02f96d4de389"
   },
   "outputs": [
    {
     "name": "stdout",
     "output_type": "stream",
     "text": [
      "RMSE: 1.3645\n",
      "The RMSE value 1.3644941883938249\n",
      "MAE:  1.0846\n",
      "The MAE value 1.0846281581804882\n"
     ]
    }
   ],
   "source": [
    "print(\"The RMSE value\",accuracy.rmse(predictions))\n",
    "print(\"The MAE value\",accuracy.mae(predictions))"
   ]
  },
  {
   "cell_type": "code",
   "execution_count": 38,
   "metadata": {
    "colab": {
     "base_uri": "https://localhost:8080/"
    },
    "id": "kXP9jOEm_2xZ",
    "outputId": "de41eefe-0726-4daf-da0d-455f1d53414a"
   },
   "outputs": [
    {
     "data": {
      "text/plain": [
       "defaultdict(list,\n",
       "            {'A3NXFO0YEGO65N': [('B004S5ECRA', 4.005942857142857)],\n",
       "             'A188ZV6DL8AZ7N': [('B004Q0PT3I', 4.166149242580214)],\n",
       "             'A1FF0THNPF0GM7': [('B00CUGCAIM', 4.005942857142857)],\n",
       "             'A2V8V236B1HNGU': [('B003IPC5FW', 4.005942857142857)],\n",
       "             'ABYQ5DQ9FIA9F': [('B005Q67LDW', 4.005942857142857)],\n",
       "             'A37XXLO5DI4XDV': [('B003XCHBH2', 4.005942857142857)],\n",
       "             'A2ZYNKEKZLW5O0': [('B007R5YDYA', 4.727178984163186)],\n",
       "             'A3F8JYA9QONBTA': [('B003MX4D0U', 4.034021616846364)],\n",
       "             'A2JOS6IULTWZ9Z': [('B005ENV5QQ', 4.005942857142857)],\n",
       "             'A3F2R2LZT3ATN3': [('B008B81ZDE', 3.9936480367946023)],\n",
       "             'AV1TN3WUWOT0P': [('B00267GDM4', 4.02100763282771),\n",
       "              ('B00ACF8XWA', 4.005942857142857)],\n",
       "             'A2Q1RUIPEVKT28': [('B004JRDRPK', 4.005942857142857)],\n",
       "             'ARYDQJ8CUIL1N': [('B005C31HC0', 3.5731159104170387)],\n",
       "             'A3UOA8WL20X3FY': [('B00J5YM3U2', 4.005942857142857)],\n",
       "             'A2WYJBZ6SWLYOD': [('B00000J1QK', 4.005942857142857)],\n",
       "             'A5FHVP2WP29AI': [('B001GTT0VO', 4.2988555526659615)],\n",
       "             'A32BZ6LCK0UKTT': [('B009B9YVJW', 4.005942857142857)],\n",
       "             'A1TZWECB1JZLKY': [('B005TJAXN6', 4.092943025851467)],\n",
       "             'A4QG0ZDT6ETF6': [('B00CMEN95U', 3.8635354954114765)],\n",
       "             'A1X260R0G6OHWU': [('B005FUGPOU', 3.9252873320880663)],\n",
       "             'A2Q4FGPUE3B8V7': [('B00I8BIB1S', 4.005942857142857)],\n",
       "             'A1VZNYJIK4YWSK': [('B0088PUEPK', 4.136985971504821)],\n",
       "             'A1F2IF3TTFB3ID': [('B0090Z3QG6', 4.223892221378866)],\n",
       "             'A6OFJ38DWR06P': [('B0036F2Z7W', 4.087689681669076)],\n",
       "             'A11L7BMQVL2SRJ': [('B002HNDKVY', 4.005942857142857)],\n",
       "             'A1Y27TCS3PR5ZG': [('B003V8B1PG', 4.006559360773192)],\n",
       "             'A1V4VVBQBFXRHC': [('B006LW0W5Y', 4.005942857142857)],\n",
       "             'A3DYYNCUMNFUPO': [('B0007XXU3E', 3.9319311656211773)],\n",
       "             'AHYOTUG31TJVR': [('B0027VT6V4', 4.115191193673848)],\n",
       "             'A144ZSAXBCIGUE': [('B00FDUHD2K', 4.249238795117071)],\n",
       "             'A1P37UIZP5U8AS': [('B004SB1X44', 4.005942857142857)],\n",
       "             'AOJ3ZS5QU6XMM': [('B00ITCEHAA', 4.005942857142857)],\n",
       "             'A1MH4CDX9LIF9L': [('B008TCW2LG', 4.0452785260430195)],\n",
       "             'ABAOH5G6A4VJT': [('B00BS3NM3A', 4.005942857142857)],\n",
       "             'A87T8M14MB6Q0': [('B00428N9OK', 3.994169752596621)],\n",
       "             'A1EB28HRJJM1CI': [('B0032FOKVA', 4.005942857142857)],\n",
       "             'A2Y41L2NPMG1SU': [('B000CKVOOY', 4.587650505682413)],\n",
       "             'A2V1JOKZKJR5CD': [('B005HPSFWI', 4.005942857142857)],\n",
       "             'A5623QW13KP3K': [('B008MW6Y12', 4.019743476849343)],\n",
       "             'A1RB7868A6GKI7': [('B00BBGIT3M', 4.005942857142857)],\n",
       "             'A3N567YXFQNW8E': [('B0034XRDUA', 4.326484872436442)],\n",
       "             'ALVU3B05IP2F4': [('B001A5QLOS', 4.005942857142857)],\n",
       "             'A1NFKGI0UKNOXS': [('B007NCJ1IA', 4.005942857142857)],\n",
       "             'A114L0XPE7GWVP': [('B005I6BSRA', 4.005942857142857)],\n",
       "             'A1KOEF9Y2TFBX9': [('B00FEE7B1I', 4.2927156285413615)],\n",
       "             'A3UNITKTFPNT9W': [('B001EYU3L2', 4.009453131449644)],\n",
       "             'A2ZG9G973PHFUV': [('B003DZ1652', 4.005942857142857)],\n",
       "             'ASUKCO57O4DLG': [('B000GD3J3G', 4.005942857142857)],\n",
       "             'AGWL4NWRTQ3A8': [('B005DKZTMG', 4.194979265774437)],\n",
       "             'A1RKFNRO4OP610': [('B00EIQTKAS', 4.080523624065795)],\n",
       "             'A2OE03IRA255EK': [('B009O4678C', 4.005942857142857)],\n",
       "             'AA6JYSJNL3WSK': [('B0077SL8GS', 4.009872282103125)],\n",
       "             'A3221BI0S7J5GN': [('B000I4UQL6', 4.005942857142857)],\n",
       "             'A3RKANHIEA9KOD': [('B0015A70O8', 4.157579603563991)],\n",
       "             'A1Q0I904HEJ5L7': [('B009SGOEX6', 4.005942857142857)],\n",
       "             'A1X9OF24IK7CNE': [('B002VG39BI', 3.6336331213370605)],\n",
       "             'AUYVYKGG46MYL': [('B003KPBRRW', 4.163206709572325)],\n",
       "             'A3PP6JBGP4C7CQ': [('B0031MG760', 3.748190480836378)],\n",
       "             'A2IF3Z68FP3MFA': [('B0030FMQ90', 4.154760303149105)],\n",
       "             'A5NHDWO393YMX': [('B00BC36BW0', 4.093093652439424)],\n",
       "             'A80KKMUHNDOSB': [('B007R5YDYA', 4.727178984163186)],\n",
       "             'A3FIP4SQRGFZAW': [('B0007X2GIO', 4.005942857142857)],\n",
       "             'A1WGKIQGKSPHJE': [('B000053HH5', 4.090871539460177)],\n",
       "             'A2UC1O9VTQNUHN': [('B0002BESTQ', 4.005942857142857)],\n",
       "             'A2UDHV056X6341': [('B00EXN4GK0', 4.005942857142857)],\n",
       "             'A3EOUBHWWFERHZ': [('B0087NZ31S', 4.576862637468009)],\n",
       "             'A3FPUIC7EXTBLK': [('B002RM08RE', 4.235378268327778)],\n",
       "             'A121KXHW0J3COG': [('B0074YRGIY', 4.087125094346294)],\n",
       "             'A1AK05CHLZX3GF': [('B007BJT2U2', 4.005942857142857),\n",
       "              ('B00888DJ5Y', 3.924839244680448)],\n",
       "             'ABTJ9HSOTHMM8': [('B002Y32Z5O', 4.005942857142857)],\n",
       "             'A3SP3YLEMHXZON': [('B0091MQ8KE', 4.005942857142857)],\n",
       "             'ATVPLMLHDI9BV': [('B0018P7WZ2', 3.729555141653578)],\n",
       "             'AL8MLZSFDGGCR': [('B00DR0PDNE', 4.050393222322047)],\n",
       "             'APZAA111J7KNI': [('B004SD27WE', 4.074014752653219)],\n",
       "             'A1R554AM5X0JF3': [('B00474JBB4', 4.005942857142857)],\n",
       "             'A36LMY8P49XD12': [('B0009F4OR6', 3.753752332276123)],\n",
       "             'A14SI1COY89FEA': [('B006M99D88', 3.9839461111495944)],\n",
       "             'A1IJ7W7QGVOTN1': [('B005KG44V0', 4.076161100637486)],\n",
       "             'A1RGG3AYYCQB94': [('B004SD1XB0', 4.2834994189357305)],\n",
       "             'A21OA8773GTIKD': [('B00880GMW4', 4.005942857142857)],\n",
       "             'A31F722DD3E761': [('B002M3SKM8', 4.0132482564565555)],\n",
       "             'ABVRRQQCL86JI': [('B004KXEYSW', 4.005942857142857)],\n",
       "             'A2EVGRG50VNUXA': [('B000B74TR2', 4.005942857142857)],\n",
       "             'A3BDO27JYFMGS3': [('B00GOF4MH2', 4.005942857142857)],\n",
       "             'A2BQBFBPINXL7G': [('B002SWIOOM', 4.005942857142857)],\n",
       "             'A2LBN99KCBHEDR': [('B005I6EVUG', 4.007154373945924)],\n",
       "             'A38EZA5ZL3BKMO': [('B0044YYT2S', 4.005942857142857)],\n",
       "             'A1C7TSAVOQXCFD': [('B0039RRC7U', 4.076307409603227)],\n",
       "             'A2W5RVEFAH1ULG': [('B00B8PRRTI', 4.002143879340091)],\n",
       "             'A1D7QI9XORJIN0': [('B002LITI70', 4.136637940897214)],\n",
       "             'A13H3PJZ765M62': [('B00543M8KI', 4.005942857142857)],\n",
       "             'A1OGLOAI2GX1F9': [('B002RWJDB6', 3.4083705548447636)],\n",
       "             'AP1L0AO7H90J2': [('B008OHNZI0', 4.0335500701417555)],\n",
       "             'A1XXPZ8R8ITY0M': [('B000095S9V', 4.005942857142857)],\n",
       "             'AOK21DPFJJNHL': [('B003M8HWDA', 4.0232167722008105)],\n",
       "             'A1NMOPYQXRP1AK': [('B000E204LY', 3.981854114545656)],\n",
       "             'A3HIV2C5BV8ANN': [('B004OA73FM', 4.005942857142857)],\n",
       "             'A190UXZHWVYNWA': [('B002JFFX2E', 4.005942857142857)],\n",
       "             'A1J11XURZHGDH5': [('B002S1CJ2Q', 3.9456287790451063)],\n",
       "             'A23LRGZTWFMM5H': [('B001NKXT2C', 4.005942857142857)],\n",
       "             'ALV1ASF62KOV1': [('B002MCZJ3C', 3.763232411563005)],\n",
       "             'A228BI9KUHPREY': [('B005Z44RAK', 4.005942857142857)],\n",
       "             'A6VD6GFWOEG42': [('B0000AQR8F', 4.005942857142857)],\n",
       "             'AGUT45Z7JB9AD': [('B005DIBH10', 3.7155223888278437)],\n",
       "             'A1JMWVP3NO601S': [('B00316263Y', 4.763893551765741)],\n",
       "             'A2BQIBARA65HSQ': [('B00358TPEQ', 4.088583818999472)],\n",
       "             'AMXSXFQA5M4DQ': [('B006U3O566', 4.252131935317226)],\n",
       "             'A3C5ZTOPYEA60S': [('B00AVYPON8', 4.005942857142857)],\n",
       "             'A38504LMGKWTP9': [('B008HK3WK0', 4.005942857142857)],\n",
       "             'A28BDSJ9RO5CNT': [('B000EYRLXQ', 3.86650404822629)],\n",
       "             'A5DFQGZFLHGMJ': [('B00093IIRA', 4.121805453993028)],\n",
       "             'A1CMD08Z49PGKQ': [('B007R5YDYA', 4.754741513576696),\n",
       "              ('B009289F02', 3.903644264508438),\n",
       "              ('B003ES5ZSW', 3.5653188132175515)],\n",
       "             'A1FSMJYF8YZDRL': [('B0000AOWVC', 4.005942857142857)],\n",
       "             'A3J6YOJM5B1BYR': [('B001PL7NZS', 4.005942857142857)],\n",
       "             'A397C1PRHBID0N': [('B0007LXQBW', 4.005942857142857)],\n",
       "             'AUASMB0DPFOZ4': [('B0007RTPA2', 4.005942857142857)],\n",
       "             'AAQ3GHQN09UUL': [('B004MSJIKY', 4.005942857142857)],\n",
       "             'A2WV47PELTUAZ6': [('B005H3KUC8', 4.005942857142857)],\n",
       "             'AB6B1BIHLG5BD': [('B00D8XNU6C', 4.005942857142857)],\n",
       "             'A33QW2I6YPA2BZ': [('B00E914II6', 4.092633564104301)],\n",
       "             'A2F7CSE6KT7NI4': [('B002SZEOLG', 4.38882445438383),\n",
       "              ('B002VKSXDI', 4.005942857142857)],\n",
       "             'A2H04FC2YNSKOC': [('B001GDPW1C', 4.005942857142857)],\n",
       "             'A10OXHP4LMSIXD': [('B00021XIJW', 3.6308779122863872)],\n",
       "             'A38Y8F2GW5TSD5': [('B00428N9OK', 3.994169752596621)],\n",
       "             'A38FYXLNA0IAFO': [('B005GJ55HI', 4.005942857142857)],\n",
       "             'A3H9VEYR6DZS5B': [('B007KEZMX4', 4.235275624727928)],\n",
       "             'A1KG032TY4BYFG': [('B002V17U54', 3.945626549094531)],\n",
       "             'A3SOFK4DHGY30H': [('B0002HLKIW', 4.005942857142857)],\n",
       "             'A23QU283QFK74F': [('B0014HSPEQ', 4.005942857142857)],\n",
       "             'A3UO195ZCOA59U': [('B00009W5IU', 4.005942857142857)],\n",
       "             'A14YU7HQI5U5UL': [('B001UNPNQ2', 4.088539024481106)],\n",
       "             'A1TBSGJT7NP3SW': [('B00DIOALPE', 3.922395873650826)],\n",
       "             'A89EHXWFGF8B0': [('B000P0S7UK', 4.005942857142857)],\n",
       "             'A2Y7SW357QGWJ3': [('B0039QWR5I', 4.005942857142857)],\n",
       "             'A2RJDWVZUHJI4C': [('B007S9Q04G', 4.005942857142857)],\n",
       "             'A3KL8RRHEXD3BZ': [('B007FQNL08', 4.094939647732069)],\n",
       "             'A3HQZHDFWI3AB1': [('B008B6UA8M', 4.026326317454426)],\n",
       "             'A3TVOCAORP5Q8D': [('B001S35Y5E', 4.077881964135571)],\n",
       "             'A2RDJM4EMJ7ZPP': [('B001B0APOO', 4.005942857142857)],\n",
       "             'A1RRA73ZDB33O3': [('B002PK1566', 4.005942857142857)],\n",
       "             'A2WWO77XDMHCUY': [('B002BZFSYA', 4.0875115188620255)],\n",
       "             'A2AS6AGSSXR1J9': [('B000GIPHNQ', 3.9916827199942584)],\n",
       "             'A2C8BBXZPA9GNL': [('B004RCUUT8', 4.014028070228448)],\n",
       "             'A3VNN7KL0JN9HI': [('B003UDCPEI', 4.092238598194127)],\n",
       "             'A2HXPG9E2YDM5Y': [('B004G6002M', 3.999247660662259)],\n",
       "             'A22FZYH6X02TZN': [('B00ASCDUFW', 4.005942857142857)],\n",
       "             'AE82NMFYTGBDP': [('B000VP049G', 4.005942857142857)],\n",
       "             'A278JWTG0RMBWT': [('B009KMW1QA', 4.005942857142857)],\n",
       "             'A3RFJL4LWD8K9S': [('B0001V3IB6', 4.005942857142857)],\n",
       "             'AU4PDBBLMG965': [('B0098OCKDE', 4.093022356218401)],\n",
       "             'A1Z20XQSFO945E': [('B00FJVE5UG', 4.005942857142857)],\n",
       "             'ACKM8Y03NRO2V': [('B008I641D0', 4.005942857142857)],\n",
       "             'A25RG6A269Z5Z8': [('B006KESOYY', 4.013601196070712)],\n",
       "             'A2TRJU1IPKNH53': [('B000CQ5BEW', 4.005942857142857)],\n",
       "             'A2EVPXRF16TNWH': [('B00D5Q75RC', 4.4514400911599505)],\n",
       "             'AQDPUEROL6WWM': [('B0096YOQRY', 4.193803746081528)],\n",
       "             'AW3XX2FSHY0L1': [('B0011FWU5Q', 4.005942857142857)],\n",
       "             'A2VDT2E2I8PH5W': [('B00DZR4AQK', 4.005942857142857)],\n",
       "             'AD89INUC5ALX8': [('B000MAFPVW', 4.005942857142857)],\n",
       "             'A2BDE7RWPEZVBE': [('B00CL8F98W', 4.005942857142857)],\n",
       "             'A1HLVUYLYJ6EBZ': [('B006BZ5OHW', 3.9390139809999387)],\n",
       "             'A38TP491AGQWIC': [('B00836H2BI', 4.089551539381935)],\n",
       "             'A3AQ1Z9MD48PUX': [('B005NB9QE2', 4.005942857142857)],\n",
       "             'A1R33QKJPRVKRH': [('B00D02AG7C', 4.005306767900008)],\n",
       "             'A2D0CMKI9AJTAU': [('B006ZT4VA0', 4.096663883993321)],\n",
       "             'A1MMK1N5XE5YK3': [('B000GASL82', 4.005942857142857)],\n",
       "             'AAPRKGY5ZZ9XQ': [('B000BIUC7C', 4.005942857142857)],\n",
       "             'A989JXVBN6AAW': [('B0043DKBTK', 4.086306161101642)],\n",
       "             'ADPSXE2B90J52': [('B004BVALYY', 3.920182631507424)],\n",
       "             'A1MBSUJL4EQSFH': [('B007M506WS', 3.8064640825475644)],\n",
       "             'AQNMPFU4UVGNK': [('B000J3G2CS', 4.083607295428317)],\n",
       "             'A28PBML8H8V96R': [('B003FGB8H0', 4.005942857142857)],\n",
       "             'AE8VK90Z90415': [('B009A5204K', 4.086846433130494)],\n",
       "             'A10T7LR8ZWSRKX': [('B003B3P2CY', 3.8529751091422737)],\n",
       "             'A2UGY3N7OXAJK3': [('B0058KANP4', 4.005942857142857)],\n",
       "             'A1NA7T75JQ6QBW': [('B0014KOB6Y', 3.954404446614377)],\n",
       "             'A1KQYKIWKQDJXQ': [('B00009R6WO', 4.005942857142857)],\n",
       "             'A33SAJPK4SQOUR': [('B0023B14TK', 3.85937198201195)],\n",
       "             'AX57EUPNMKPI9': [('B005S6XUXA', 4.333706886588636)],\n",
       "             'A3GLFTTWQ2GFF3': [('B004XC6GJ0', 4.570777485915784)],\n",
       "             'A1ZPJOG81G1LEF': [('B000SZVAGA', 4.005942857142857)],\n",
       "             'AXFJTA87P9093': [('B007BJC8SK', 4.07126913005112)],\n",
       "             'A2OCYB7M43FWQY': [('B00C6RL9AU', 4.005942857142857)],\n",
       "             'A3AIPPJ0OEJ85W': [('B002NGVY8G', 4.091637930602543)],\n",
       "             'A2AXW2BKFCUI4': [('B002HQYM5E', 4.005942857142857)],\n",
       "             'A1S40LCSSQK4AE': [('B009I5AZTY', 4.005942857142857)],\n",
       "             'A2G6PU8C2TA5RW': [('B000056SJT', 4.005942857142857)],\n",
       "             'A19NYFIL593T8P': [('B008PKB146', 4.005942857142857)],\n",
       "             'A1KOA3P49VHXYE': [('B003CP0OT2', 4.343820884052649)],\n",
       "             'AFTFU8I1GIMNS': [('B008R7EVE4', 4.348804101364953)],\n",
       "             'A3IQTJPF9Q0FWR': [('B0006B486K', 4.204822653983126)],\n",
       "             'A1NNEMR9FXTK3G': [('B007POCJXA', 4.005942857142857)],\n",
       "             'A1ZS2J8RF31Q3I': [('B00495XLYO', 4.005942857142857)],\n",
       "             'A3P9G0F88P4SSO': [('B0013D51FW', 4.005942857142857)],\n",
       "             'AUSDVHFAOW4MG': [('B0033ZP5YA', 4.094044032360187)],\n",
       "             'A1JTHDG41CEXRJ': [('B0007MVHZS', 4.005942857142857)],\n",
       "             'A1DB84RDKYKQ91': [('B004JCUP6E', 4.005942857142857)],\n",
       "             'A1E6E411YVITOY': [('B00744T768', 4.005942857142857)],\n",
       "             'A2PCUFCX7N5VBE': [('B0057OCDQS', 4.308753709433066)],\n",
       "             'A2HBMRT4U5G7S3': [('B008RF7I5K', 3.850166415089273)],\n",
       "             'A3IO9K0DBE8KXA': [('B002CVHURQ', 3.542755557464555)],\n",
       "             'A15PZDAXMRH5NL': [('B006ZP8UOW', 3.8876500573520865)],\n",
       "             'A19XOPVFSE5YI0': [('B00AXWGT46', 4.067626140120573)],\n",
       "             'A2X6PICHHEG86Z': [('B0049LBJ56', 3.694034517135204)],\n",
       "             'A33PPOYYHQGUE0': [('B00114162K', 4.0016484649791195)],\n",
       "             'A2FP3ONF0S1FZS': [('B004D0HJBG', 4.005942857142857)],\n",
       "             'A2XS6JUUG42YJW': [('B0015RFJZI', 4.005942857142857)],\n",
       "             'AR29ZC2IRF9TU': [('B008OCF8BW', 4.087745904829226)],\n",
       "             'A301K4FJK8WFI1': [('B001FA1ND2', 4.005942857142857)],\n",
       "             'AQFSG0SJOFGKU': [('B002X8OBVQ', 4.005942857142857)],\n",
       "             'AVERBYTGN8N5J': [('B002LZ2KIM', 4.005942857142857)],\n",
       "             'A3MM9IYEDU3IY': [('B000BZ1P3A', 4.005942857142857)],\n",
       "             'A1IH2JS503TLG4': [('B0002T3UQ0', 3.8323834149123646)],\n",
       "             'A1QGNBIZLAET6Q': [('B004C4WF1C', 4.005942857142857)],\n",
       "             'A1D4JMX6KAI7P8': [('B00BN2AJOQ', 4.005942857142857)],\n",
       "             'A1M5RG42Y6MGAJ': [('B005QX7KYU', 3.996229973806244)],\n",
       "             'A1LQCPRJI4FXWD': [('B0038WVNH6', 4.005942857142857)],\n",
       "             'A2OUWRUD08N12X': [('B001F7AJKI', 4.601874508832124)],\n",
       "             'A1QSRKBKXL7ZDN': [('B00A7Q4LH0', 4.005942857142857)],\n",
       "             'AGF9MXADUGFHL': [('B002VWJWWC', 4.005942857142857)],\n",
       "             'A1CXQRK0K6TY4G': [('B005F6O0PU', 4.005942857142857)],\n",
       "             'A54PYF66EGKHY': [('B003OWKM3G', 4.005942857142857)],\n",
       "             'A130OCFFXZPENQ': [('B003WGJYCY', 3.740998478863152)],\n",
       "             'A1ZKQ2PW4ZI1E9': [('B004SPVZKW', 3.9211397011252895)],\n",
       "             'A3QBKPE8MYP78E': [('B000FBS3US', 4.005942857142857)],\n",
       "             'A271NERN6Y82GO': [('B00AHTZEXM', 4.005942857142857)],\n",
       "             'ABGJ6XIRMXAMT': [('B004GL72K0', 4.160532628399533)],\n",
       "             'A3D9E71R30MPP9': [('B001SER48S', 4.213214719017526)],\n",
       "             'A1EMX52JI30NMN': [('B003U7CUXA', 4.005942857142857)],\n",
       "             'A32WZVC8B5LC9': [('B000097O5F', 4.076717447519612)],\n",
       "             'APP3BLA0UYWX': [('B000CQZHYG', 4.005942857142857)],\n",
       "             'AFJF8W1Z1QP31': [('B000GHIBC6', 4.005942857142857)],\n",
       "             'AO13TNMQBPLZE': [('B0007QKMQY', 4.005942857142857)],\n",
       "             'A1Q4JF2PG5WFW9': [('B00313JWSO', 4.005942857142857)],\n",
       "             'A5J1AJDUP9CNP': [('B00D029NNA', 4.096670124661312)],\n",
       "             'A7EFY9QWW1N6': [('B000CCXCYC', 4.223377596439913),\n",
       "              ('B00180PZHY', 3.757836566246083)],\n",
       "             'A6FVL6VNEO0IT': [('B0015DYMVO', 4.328907411464381)],\n",
       "             'A1TQKE4SIV7S0E': [('B0087EBXKC', 4.005942857142857)],\n",
       "             'A3P06F173LGTHN': [('B0007TJDJI', 4.005942857142857)],\n",
       "             'AH42KC8WDLDAQ': [('B001FA0AJU', 4.005942857142857)],\n",
       "             'A1F1NL5KQLXSH6': [('B0000CBBNM', 4.080070212405959)],\n",
       "             'A2G2B8MJSYC62H': [('B002WQLO5U', 4.005942857142857)],\n",
       "             'A36HAO05EA5RGO': [('B0026JGDMC', 4.005942857142857)],\n",
       "             'ANQRGI79HHJPQ': [('B007WTAJTO', 4.3698168505259)],\n",
       "             'A2152YRBKUFSPP': [('B000WUVVOC', 4.005942857142857)],\n",
       "             'A2NB3VCCMV8RMW': [('B008KLEG9W', 3.917687340323663)],\n",
       "             'ACSO72K45CMO5': [('B000ILIHTC', 4.005942857142857)],\n",
       "             'A1IWNYPPF9QLHW': [('B009OZUPUC', 3.94627096216438)],\n",
       "             'A307UWGZ2P3KY5': [('B003DZJQQI', 4.086948784206383)],\n",
       "             'A242DFC1JJWUP1': [('B001QFXDA2', 3.7642304800961623)],\n",
       "             'ACGSKBNSQWTFH': [('B0002UM0JW', 3.988222419958416),\n",
       "              ('B000HKGK8Y', 3.714260657517644)],\n",
       "             'APXJEGIZH1EZ6': [('B008F6C9GO', 4.005942857142857)],\n",
       "             'A38TRCH3F1VF6': [('B003LR7ME6', 4.424823293763896)],\n",
       "             'A394HRV80ROLDB': [('B0000CEPDF', 4.005942857142857)],\n",
       "             'AFGGKI3B8HLEH': [('B0074BW614', 4.473510744914019)],\n",
       "             'A3PGVJF37JSHFO': [('B006U3ZIM6', 4.0101147507943224)],\n",
       "             'A25IUPTUO0QSYA': [('B009UQZPA0', 3.923186279653641)],\n",
       "             'A3BZ2A0DCJLM11': [('B003Y322RO', 4.005942857142857)],\n",
       "             'A1X0OKTVBVTMSJ': [('B00CWIZ6KW', 4.083913420896059)],\n",
       "             'A2JNQ4P58TJ4CA': [('B001GX8CNM', 4.010882777148848)],\n",
       "             'A28MT9TN6C5RVE': [('B00BHB5NOE', 4.005942857142857)],\n",
       "             'A10XIFS6S6GOR5': [('B001TODUXA', 3.988380124058194)],\n",
       "             'A5XST67MB560Y': [('B000GGQ2ZU', 4.019701142649526)],\n",
       "             'A1WK5022D63UNE': [('B004Z57X42', 4.004164289158659)],\n",
       "             'ASS67JDBMUK0B': [('B000MS3VGA', 3.8444710313141464)],\n",
       "             'A236OVKDX7MHYI': [('B004SO876S', 3.850477227768912)],\n",
       "             'A1J8G5TSJWQLQ1': [('B000F28DP2', 4.209099622753342)],\n",
       "             'A1FNLY31RP8VRS': [('B002TLT10I', 4.091639484410641)],\n",
       "             'A1LWU4DF0T0XZD': [('B007ZKEAS6', 4.005942857142857)],\n",
       "             'A23A3VLVRE3GDU': [('B000JVCPEY', 3.867029241890518)],\n",
       "             'A24CFMVSHOQT3I': [('B0006I09OS', 4.005942857142857)],\n",
       "             'A1T8N3IMN0T3XW': [('B0082YEH8M', 4.123569233232805)],\n",
       "             'A3LVU7249E0VWJ': [('B00001P4ZH', 4.411966504045385)],\n",
       "             'AN9CYOPSEJCPL': [('B007CMHILS', 4.005942857142857)],\n",
       "             'AFFKP7ZMHEYA': [('B000MX48VM', 4.360275445509709)],\n",
       "             'A2AR6CNIURDATH': [('B004LU1CA2', 4.083056900455869)],\n",
       "             'A244RWN05ZMSGT': [('B0001654WC', 3.751065581298115)],\n",
       "             'A1TS2BLFQ23JSX': [('B002K3Z3DO', 4.082792527687437)],\n",
       "             'AUECGSIA0I7DK': [('B009ZMNRXG', 4.005942857142857)],\n",
       "             'A3P67140FRHGBO': [('B001TIG36C', 4.064199702685872)],\n",
       "             'A19ZYFZMMDUPRE': [('B00AEV9MAE', 4.075422767335893)],\n",
       "             'A3TXFZ84M8AZW5': [('B00GN5K5WY', 4.005942857142857)],\n",
       "             'AX3MOQ6QSGQBM': [('B0042X8W0Q', 4.005942857142857)],\n",
       "             'A2TMFYFGBAP1HO': [('B0013AG3DY', 4.005942857142857)],\n",
       "             'A1SDWHQ2JMEZXD': [('B003W21IJU', 4.005942857142857)],\n",
       "             'A3DPYVZSZ89O70': [('B005JACJ50', 3.8283231722736675)],\n",
       "             'A3JSV964J0Q5NZ': [('B007W1QBO4', 4.164659437837659)],\n",
       "             'A1O3CC4XYLO25S': [('B008NPBEJA', 4.007749927214535)],\n",
       "             'A2J24WAPWL8EY8': [('B0092QV9GM', 4.005942857142857)],\n",
       "             'AKDKLZZB7YF5Y': [('B005CT56F8', 3.940228132707735)],\n",
       "             'AKJA72CWWMW3I': [('B00186YU4W', 4.005942857142857)],\n",
       "             'A7N6CVX1XOY1D': [('B001NPDA44', 4.250348395765976)],\n",
       "             'AFQ8YDYYNF9LK': [('B0028Y4BL0', 4.005942857142857)],\n",
       "             'A3PDGWYC08DXF4': [('B0054U6CEE', 4.252916295628285)],\n",
       "             'A396EILSHQWQ1T': [('B003ZSHNEK', 4.081989990258448)],\n",
       "             'A325LZPHDA94LP': [('B0032ALW52', 4.005942857142857)],\n",
       "             'A2TWBCST3A6SKZ': [('B009DKQES0', 4.005942857142857)],\n",
       "             'A1D853YB45XCL1': [('B001RNOHDU', 4.005942857142857)],\n",
       "             'A3C2AB1GIHR3JC': [('B00176SYZE', 4.005942857142857)],\n",
       "             'A2WMO8WQVWOY70': [('B005QBK5V2', 4.466629638686608)],\n",
       "             'A3J44TTDTE9E33': [('B00C9Y2NDM', 4.005942857142857)],\n",
       "             'A3HUORR4TG2EJ9': [('B0041RSPRS', 4.086733021318483)],\n",
       "             'A5M93GEJ6A0GJ': [('B00CL7M648', 4.005942857142857)],\n",
       "             'A2DCGJQIY1E7E5': [('B000GXD7TC', 4.005942857142857)],\n",
       "             'ACHRZ3K7NN9K9': [('B0045EOWMY', 4.005942857142857)],\n",
       "             'AEQHGYUM5AVEV': [('B00BSYCZZ0', 4.005942857142857)],\n",
       "             'AKJZ9VXPBUGPW': [('B002AKN5IM', 4.005942857142857)],\n",
       "             'A3QRIPA9JYWJ9T': [('B004JXVOEU', 4.005942857142857)],\n",
       "             'A3ILBNZRX8EB0T': [('B004WK4XHA', 4.005942857142857)],\n",
       "             'A3JLT5CUKEEKU0': [('B0001NBG54', 4.005942857142857)],\n",
       "             'A271N6XI47NXTX': [('B001QFZMB0', 4.026317657279883)],\n",
       "             'A32IG4MF6UFC2I': [('B001SE3DSI', 4.087132600109135)],\n",
       "             'A2RV56C21T320Y': [('B001BGGD8A', 3.9922627098174894)],\n",
       "             'A3NJKWHL0VGBH2': [('B00DXFDHV8', 4.27004879756759)],\n",
       "             'A61NB1B9RUMNO': [('B005DOK8NW', 4.0568884599509065)],\n",
       "             'A2ABNUBS1YK3SD': [('B00927CIG6', 4.005942857142857)],\n",
       "             'A2P6X8PAP0I7LW': [('B00HWSXTRY', 4.005942857142857)],\n",
       "             'A2ETCT19Z81YUF': [('B002SGKATA', 4.005942857142857)],\n",
       "             'A37DIAUZAJQ09T': [('B00AWKC0EC', 4.134158683492426)],\n",
       "             'A3US7DYQU3AL1A': [('B000A6PPOK', 4.208680752777065)],\n",
       "             'AWT9JKJSNZU2V': [('B000058BCR', 4.005942857142857)],\n",
       "             'A38QGVOTI0A3Z8': [('B000RMPNYO', 4.005942857142857)],\n",
       "             'A3Q4MWCSKS5EFJ': [('B0002CZHN6', 4.159102433121021)],\n",
       "             'AHRCBN93LCG53': [('B008I636D6', 4.325663009847082)],\n",
       "             'A2QA3C7AVAXEDN': [('B004C3AW40', 3.877383518057731)],\n",
       "             'A2Y71IYJXA9OAV': [('B004T335BK', 4.005942857142857)],\n",
       "             'A35OEK3635L4UJ': [('B003DZ14EU', 4.005942857142857)],\n",
       "             'A1RFO6CMLH9EI5': [('B005Y1CYSQ', 4.064916493397462)],\n",
       "             'A3QN5S3EVPPY1Z': [('B0055QZ216', 4.154400301945161)],\n",
       "             'A3OSOSJF0NZBSE': [('B001GTTEBK', 4.229636819095839)],\n",
       "             'A3NZF7VRLPQLU': [('B0075WEYZI', 4.005942857142857)],\n",
       "             'A4DNZSRV1PE7R': [('B008KYY0WW', 4.17005168304031)],\n",
       "             'AWZR0O65DL2Q': [('B001T9NUJE', 4.164347125467467)],\n",
       "             'ADR6SKFTGZAYX': [('B004LSNF04', 4.263144112785182)],\n",
       "             'A13AB46N9XKZO5': [('B00BCPGOD4', 4.1002588127417345)],\n",
       "             'AL20K6L7ZD1WA': [('B002YAOS7A', 4.14853134427833)],\n",
       "             'A1P9APD458HLAF': [('B001G8FY38', 4.005942857142857)],\n",
       "             'A2B9E3JGY5I7BI': [('B002L6HDQA', 4.173000624887891)],\n",
       "             'A9QF7T2BLAU74': [('B00004T8N5', 4.005942857142857)],\n",
       "             'A1D6CKB1J6MQGG': [('B001TH7GSW', 4.41612889815554)],\n",
       "             'AG1T2WG1YT1GO': [('B0042IEVD8', 4.005942857142857)],\n",
       "             'A24YV3JD39T2NA': [('B0076HMDQO', 4.06967161615724)],\n",
       "             'A3R84NRUQCJTMW': [('B00DCEOHH8', 4.005942857142857)],\n",
       "             'A1PIPJ8KXVK7DE': [('B000BFYPM8', 4.005942857142857)],\n",
       "             'A14PLIPTGSUMBB': [('B009WS2NGK', 3.754672677963936)],\n",
       "             'A6GKFH6BJY9TT': [('B007YXA5TC', 4.005942857142857)],\n",
       "             'AOPOOJ249P6P6': [('B005K7192G', 4.541142630470901)],\n",
       "             'A1NMM0RDRF6R84': [('B000RKNYQU', 4.086667161805884)],\n",
       "             'AN2XHN8PGJFNN': [('B007EM7NES', 4.1380875748382415)],\n",
       "             'A2QX8I4IMGDBJB': [('B00005AR7M', 4.005942857142857)],\n",
       "             'A13SNPWFZZHVMA': [('B002MAPRYU', 3.6671030897059125)],\n",
       "             'A1Q1F65YC4U4QO': [('B001S4OTS6', 4.164910841396476)],\n",
       "             'A10RGT5X70462R': [('B002SN8VLC', 4.005942857142857)],\n",
       "             'A12ISMX3HSEN9F': [('B003UI62AG', 4.101390511026846)],\n",
       "             'A9VLQPFVMA4NC': [('B00DGQ0EVU', 4.005942857142857)],\n",
       "             'A3RMYOLYFDCMXU': [('B000E5FQSC', 4.005942857142857)],\n",
       "             'A3TSIVZBA2CCNH': [('B006GWO5WK', 4.287259051979556)],\n",
       "             'AZ7P36WKE2HIZ': [('B002MAPS6W', 3.3455963989638606)],\n",
       "             'A1GDURF6QL69M3': [('B004V9AMI6', 4.005942857142857)],\n",
       "             'A983JCUWB08HC': [('B00CXAKQEU', 4.0238579199008635)],\n",
       "             'A1JANGGF4ZTD0H': [('B002R9CQYK', 3.7977869972003178)],\n",
       "             'A2NIJTXPIASOJG': [('B00BIULEJC', 4.297817149015381)],\n",
       "             'A38DP218G2W3CJ': [('B0098F10SO', 4.005942857142857)],\n",
       "             'A3GB1RNG4BJE0Z': [('B004W86GQS', 3.8703145645663444)],\n",
       "             'A307H8TJBE3LW8': [('B002MAPS6W', 3.317201210642275)],\n",
       "             'A26BZPCT0L49HV': [('B003XM1WE0', 4.481539539513781)],\n",
       "             'A8S5JC8KD6TDD': [('B009A5204K', 4.086846433130494)],\n",
       "             'A2A9CRFVWGQTIC': [('B001U88FAI', 4.005942857142857)],\n",
       "             'A3IWNDBZROYYPW': [('B007I5JT4S', 4.434996425434612)],\n",
       "             'A1STH4RQWEN0YE': [('B004YDUZ22', 4.3054546729795655)],\n",
       "             'AVGWQ2TY99E4K': [('B000VYBM6G', 4.005942857142857)],\n",
       "             'AYSQYNQRZJGY': [('B002X6XDZS', 4.005939528977269)],\n",
       "             'A1LCA8BWJFZTHT': [('B0009S5HQA', 4.140739096102432)],\n",
       "             'A2ZGDSN7DH5ERF': [('B00GGFP2DS', 4.005942857142857)],\n",
       "             'A284YDRIB7YATP': [('B005P99KX4', 3.9428824842866885)],\n",
       "             'A31SJQNMFNNTZS': [('B00005KI3F', 4.005942857142857)],\n",
       "             'A3JTKRNSR8GZKJ': [('B0064T1LWC', 4.005942857142857)],\n",
       "             'A1LOMSBJTMGYR7': [('B004R7A9NU', 4.334553150235972)],\n",
       "             'A3L8LYYEN8KVJY': [('B000VHRDUW', 4.005942857142857)],\n",
       "             'A1WBMMF5QU8S3H': [('B001FWYXBE', 4.005942857142857)],\n",
       "             'A3VUYJ2AUDW5K9': [('B009GF0J2Y', 4.1655965125925825)],\n",
       "             'ASI76TNWTH0MB': [('B001V5J7NY', 4.005942857142857)],\n",
       "             'A1W7AVICB1HML3': [('B00AIWFNUW', 4.005942857142857)],\n",
       "             'A8PZB81FRXH3Y': [('B004TJ6JH6', 4.266785207900989)],\n",
       "             'A2KAOIY8M4D044': [('B00CO07C5U', 4.0723687399985575)],\n",
       "             'A2LLMEZXJISTPZ': [('B000PD5RC8', 4.005942857142857)],\n",
       "             'A5GP49Y2OM85M': [('B00E8CB0XC', 4.005942857142857)],\n",
       "             'A18XZ0HWBKXEDV': [('B003CSM4AQ', 4.005942857142857)],\n",
       "             'AKIANZWV6J3ZD': [('B000I78AU2', 4.005942857142857)],\n",
       "             'A1EVD37ULFNOKU': [('B001FSBZNC', 4.0169831662603475)],\n",
       "             'A3EF8HMUJLQ092': [('B0071O4EKU', 4.21517961248176)],\n",
       "             'A3N71LYOFN4TY0': [('B00IVPU786', 4.219522064349687)],\n",
       "             'A3G84HQNZE8RGE': [('B0009X3JBU', 4.005942857142857)],\n",
       "             'A269SYH6U3GEGP': [('B005FSYOUO', 4.005942857142857)],\n",
       "             'A2DU2ZXSOA7GEF': [('B001CS51DK', 4.005942857142857)],\n",
       "             'A2KHJ7CD582ER8': [('B00DR0PDNE', 4.050393222322047)],\n",
       "             'A2FD3OTWCZ2AQM': [('B007HRTZVO', 4.005942857142857)],\n",
       "             'A2RSQSKJK89IK4': [('B0084FPSWS', 4.005942857142857)],\n",
       "             'A6U1HKMXJFYTV': [('B00BBIUWR6', 4.005942857142857)],\n",
       "             'A1OW31IH3Q4I5D': [('B001F8VOB0', 3.851233609031151)],\n",
       "             'AT1TSNG58GMT': [('B001SAEXHW', 4.086848108659863)],\n",
       "             'A4NV6F50LKO01': [('B00DR0PDNE', 4.050393222322047)],\n",
       "             'A2SJL7A0N42W0L': [('B00BJFS6L0', 4.005942857142857)],\n",
       "             'A28B7SDG01MES': [('B000ANOYMC', 4.005942857142857)],\n",
       "             'A324I5RIMHBJF': [('B000X1XP3U', 3.91834576255117)],\n",
       "             'A1CQHOCRE3MM7G': [('B001LK6ZDO', 4.005942857142857)],\n",
       "             'A2LHJRGPKLG8N9': [('B007OY5V68', 3.855245860958867)],\n",
       "             'ANIP31BTSKZXA': [('B0052OZZYK', 3.841917029342973)],\n",
       "             'A1TE24ZCVML5IF': [('B0007XFGAE', 4.005942857142857)],\n",
       "             'A242005EDYETN': [('B006PJUO6K', 4.005942857142857)],\n",
       "             'A17P96XHEFQW4X': [('B007LBOCVY', 4.092115235426724)],\n",
       "             'A8WXLST0944GZ': [('B00HSGFPC2', 4.005942857142857)],\n",
       "             'A2IATJLZM78N9Z': [('B00DR0PDNE', 4.050393222322047)],\n",
       "             'A6EPTR9ABAQTU': [('B007Y2YVH0', 4.246176733236578)],\n",
       "             'AMBF4PY1O4BAE': [('B007SM7O2U', 3.933535985449608)],\n",
       "             'A2ERDFUXRM9BNM': [('B002G1YPHA', 4.005942857142857)],\n",
       "             'A34Z6RFSXLIJRW': [('B00622AG6S', 4.4211394658051315)],\n",
       "             'A20R0M6FG4WCEG': [('B008RJQ0LE', 4.005942857142857)],\n",
       "             'A7HSQ2DVESQF9': [('B003SX0NFI', 4.161379924988057)],\n",
       "             'AI50S61Z7DJPV': [('B0012S4APK', 4.29165996639856)],\n",
       "             'A2GLAUISMPF5P1': [('B004FLL58Q', 4.005942857142857)],\n",
       "             'A2I524DB1K7T5W': [('B0071I0NQU', 4.005942857142857)],\n",
       "             'A22NMJ9YBNLQ84': [('B0009EJA7G', 4.005942857142857)],\n",
       "             'AMVFS9CFIFYT': [('B003CJTR82', 3.872463714116398)],\n",
       "             'A34M9E4LS5KICZ': [('B004I3WB5M', 4.005942857142857)],\n",
       "             'A1AXQUJ6OJ62CK': [('B003O5VBVK', 4.005942857142857)],\n",
       "             'A1B99FRDWLB2LG': [('B003XMAD22', 3.5359634624838874)],\n",
       "             'A3NW14Q8VQHK5U': [('B00292BT4I', 4.005942857142857)],\n",
       "             'A1VGF1LIWW0NGX': [('B002FU5QM0', 4.011299509658618)],\n",
       "             'ATJ5IKC0BWFMS': [('B001BFLS4U', 3.9238872321886444)],\n",
       "             'A3OR2DH0TR58L4': [('B005Y5872O', 4.497306357354674)],\n",
       "             'A1CIU572HUUE5A': [('B00009XVA3', 4.005942857142857)],\n",
       "             'A2JZUBJM5L6686': [('B00EU4KI0O', 4.005942857142857)],\n",
       "             'A24Y4T8OCYTDYQ': [('B002LM38YK', 3.803923336563799)],\n",
       "             'AU4H7OG5UFDWO': [('B003ULE6GU', 3.9136083217804982)],\n",
       "             'AQD42CH69BRPX': [('B006K551TO', 3.9384228078132923)],\n",
       "             'A11HQVIIXS2X58': [('B002P8LZ36', 4.082932673081572)],\n",
       "             'AM3I2BZZS9WUY': [('B00F4FCQRG', 4.005942857142857)],\n",
       "             'A17B87RIYPL46G': [('B000X24ISU', 4.1761612787914535)],\n",
       "             'A15YDCFSCXE0G6': [('B0051WAPKM', 4.005942857142857)],\n",
       "             'A1SIYCMLNOBXYK': [('B002SNCQLI', 4.005942857142857)],\n",
       "             'A3VZMJER9V7WVM': [('B00F2A1TBC', 3.9981949994899257)],\n",
       "             'A2KJU1OIEVS18U': [('B00BCGRX9M', 4.002697615933335)],\n",
       "             'AFV2T8HQ7AZEZ': [('B000FS5WAA', 4.005942857142857)],\n",
       "             'A2GU6XMMCHEAEY': [('B000OG4E1G', 4.005942857142857)],\n",
       "             'A1IZ0GDKLVKV5A': [('B001E45XT4', 3.845092045525026)],\n",
       "             'AAUXQP3DI7BL8': [('B003XIBC1C', 3.545552479825793)],\n",
       "             'A52XO9JHJQWIN': [('B004NEUKUO', 4.005942857142857)],\n",
       "             'AOMX2D6P82CL2': [('B000VDF5RO', 4.010866900268352)],\n",
       "             'A2RDAZDZ1BTI4A': [('B00005OMMN', 4.005942857142857)],\n",
       "             'A364NH8SBM17HD': [('B0001B4S4C', 4.005942857142857)],\n",
       "             'A2GTQBVT71MVIA': [('B000N99BBC', 4.160910557464314)],\n",
       "             'A2T73BQDZULP63': [('B00007LTBA', 3.2855892316322395)],\n",
       "             'A27KXAV535P1O8': [('B00009W3FR', 3.7536889055993328)],\n",
       "             'AGZZ4GI1F79ZL': [('B001BUNHYO', 4.005942857142857)],\n",
       "             'ANOIV41QEBF0X': [('B002J9HBIO', 4.222607416810673)],\n",
       "             'A3FOCDGS3FBNUE': [('B002V88HFE', 4.588620876254918)],\n",
       "             'A19C3CHEMYM9HX': [('B004M5IUFG', 4.08443845297805)],\n",
       "             'AFNYE9WG0ANJT': [('B005FVNGRI', 3.9489294552261303)],\n",
       "             'A1A3C61XDTUOA0': [('B002A8IDQI', 3.9256780289402005)],\n",
       "             'AJR3KTOSJ2N7F': [('B009D9KOQY', 3.7616301981925373)],\n",
       "             'A3BQTV7OHJRYQR': [('B00F2OTP9Q', 4.005942857142857)],\n",
       "             'AJA2JP1Q0K7N4': [('B0029631VI', 3.842438031196556)],\n",
       "             'A1SINU2I4IOPNU': [('B000GBO9IM', 4.168587367106611)],\n",
       "             'A2CO9VLFBU7P19': [('B005W3DGKQ', 4.005942857142857)],\n",
       "             'A1AL5JHMYTNK1E': [('B000BGKAQM', 4.005942857142857)],\n",
       "             'A1XZ85FGG22LTT': [('B004X69BFW', 4.005942857142857)],\n",
       "             'A2BO18XA8J40YY': [('B00DE0EPCM', 4.093270122543578)],\n",
       "             'AK3IJ0T8OGE37': [('B000UO9KSY', 3.920115263433883)],\n",
       "             'A1I6PJQNKN8NGV': [('B0052YFYFK', 4.36244883392072)],\n",
       "             'A1PIOPJ39RD9M9': [('B004RKQMCY', 4.290726310301059)],\n",
       "             'A1WEHJ1TV7GTRA': [('B005UBNH18', 3.8416583321760114)],\n",
       "             'A3DTYR5XNXS1RM': [('B001A5FH9S', 4.153354286507547)],\n",
       "             'A3LV68KAKDF6TF': [('B004RKQM8I', 4.2769674340132795)],\n",
       "             'AHWXH8CA96IBX': [('B005FVNGRI', 3.9489294552261303)],\n",
       "             'A26N79EZ72DERU': [('B007FOHU5M', 4.08721607835861)],\n",
       "             'A2IM5BGZ3KI5JB': [('B000EN0K94', 4.005942857142857)],\n",
       "             'A4YXMH6WB73MN': [('B00AI07F1Y', 4.08033656972282)],\n",
       "             'A2W4UYGXK0T2U3': [('B0065KXSG2', 4.005942857142857)],\n",
       "             'A3IDUNHX7KS784': [('B003MCSVI6', 3.782584832027151)],\n",
       "             'A2HHAV29CZ1OIE': [('B001HDDMBI', 4.005942857142857)],\n",
       "             'A1X6DN78FBOZ4T': [('B001U3Y8O0', 4.005942857142857)],\n",
       "             'A3DYPN2IAZUONX': [('B0053NBLFW', 4.079455563613134)],\n",
       "             'ABVPEVIS56L7Z': [('B008I21EA2', 3.5039552520669544)],\n",
       "             'A3TI33IZP5HNF0': [('B003DZ166Q', 4.446492196027171)],\n",
       "             'A5F4JI8IHZQKF': [('B000UZXT4E', 4.000153476666608)],\n",
       "             'A3469DRNWN0NHA': [('B00BGGDVOO', 4.511426785084589)],\n",
       "             'A10ARISO1UMIUN': [('B002VPDOH8', 4.005942857142857)],\n",
       "             'AP2TDLQ51RED9': [('B0064L8Q1E', 4.005942857142857)],\n",
       "             'A3VN6J7207W0JJ': [('B0019EQ1RW', 3.793124305976014)],\n",
       "             'A17SV6VJEYQ91E': [('B004QJMQA8', 4.005942857142857)],\n",
       "             'A15B5JKRWEAGUD': [('B000GDXNAK', 4.005942857142857)],\n",
       "             'A3VCG1KYBZDAV3': [('B00CALM12W', 4.005942857142857)],\n",
       "             'A3DQ188X37UXED': [('B009B7804G', 4.080832908703971)],\n",
       "             'A10X1B8FFJI654': [('B0002EON52', 4.005942857142857)],\n",
       "             'AIR252ENSW6QQ': [('B000BQ7GW8', 4.366707799758437)],\n",
       "             'AI5IGYCH0M8SN': [('B000GU78Z4', 4.005942857142857)],\n",
       "             'A17TAG48PVWT16': [('B001TUYQSW', 4.005942857142857)],\n",
       "             'A1DELQS1835067': [('B001E2T6Y4', 3.9315917465110055)],\n",
       "             'AMBGE21WELAX4': [('B001XZ3EI6', 4.005942857142857)],\n",
       "             'AA6P5QRJUD13B': [('B008R9EA4I', 4.005942857142857)],\n",
       "             'A2J567322AOV0F': [('B002HU27UW', 4.146705184654326)],\n",
       "             'A1WGQH1ZE0KNVP': [('B00H2D3N0M', 4.005942857142857)],\n",
       "             'A2JE8HQL9S6TY2': [('B0099717DE', 4.005942857142857)],\n",
       "             'A1PDELVE0Z4X9T': [('B0018P7WZ2', 3.729555141653578)],\n",
       "             'A3CW0ZLUO5X2B1': [('B003T5KXJQ', 4.131030394356304),\n",
       "              ('B000NZVR3Q', 4.09953123055913),\n",
       "              ('B001DTCPBO', 4.062388003542473)],\n",
       "             'A2FDUH8LZBYS7G': [('B00E1XI6N0', 4.005942857142857)],\n",
       "             'A2HUSUWKHBAORM': [('B004UR72IM', 3.92998693952388)],\n",
       "             'AHBDXFCKR7U0Z': [('B003GTSHY8', 4.070175564838341)],\n",
       "             'AMRRLOM3XFSXX': [('B00CKK8GEU', 4.005942857142857)],\n",
       "             'A3EU1MM4H32U8S': [('B000P0UBPE', 4.005942857142857)],\n",
       "             'A218TVF089OT4K': [('B002WE4HE2', 3.7426167435224134)],\n",
       "             'A2HG0V1STB4IAU': [('B001AAN4PW', 4.080188133853428)],\n",
       "             'A27Z4KE0EQAKC2': [('B0007XXHNW', 3.7760504716966374)],\n",
       "             'A2QGUBLKQVJYIT': [('B007GJNSVG', 3.7537450608816605)],\n",
       "             'AR0S3HPVUYF0U': [('B0040BW1KW', 4.005942857142857)],\n",
       "             'A3EPY332KQKQJG': [('B005TJAXN6', 4.092943025851467)],\n",
       "             'A34WL6CYIO56VE': [('B006MVX5B2', 4.085337249048869)],\n",
       "             'A3VFXUBWHT6R61': [('B0016RNX2I', 4.071858594632902)],\n",
       "             'A2S4U1B7NBSRMF': [('B00FBNKG14', 4.005942857142857)],\n",
       "             'A2PJM7DINIZN8R': [('B00447GA2W', 3.7447813510910746)],\n",
       "             'A1Y1G5OMFA5JC5': [('B008Y2SPE4', 4.165126017697182)],\n",
       "             'AHOPHTMKIMDLM': [('B004764AIQ', 4.086848836793945)],\n",
       "             'A342ASONIZ1C8K': [('B0017H4EBG', 3.8544447750189295)],\n",
       "             'A5LRYMAINOY0P': [('B000SAUNH2', 4.005942857142857)],\n",
       "             'A2ZQISQZ0U45V0': [('B0002J5TGY', 3.7585267476983577)],\n",
       "             'AI31FF4LD7UNC': [('B009WN7QTE', 4.005942857142857)],\n",
       "             'A1BJSKD9HW4L0L': [('B000FJ89UO', 4.005942857142857)],\n",
       "             'A2F1MDUT7760XZ': [('B005GWF3P4', 4.005942857142857)],\n",
       "             'A246Y2QH2WMJX5': [('B009SYZ8OC', 4.401737444458229)],\n",
       "             'A33O56M9PF6AM2': [('B001JSJWRY', 4.097895362616386)],\n",
       "             'A3AT0AREQ2Y9WT': [('B000094A61', 4.005942857142857)],\n",
       "             'A2ANQB0CKBE3XA': [('B0009Y7APU', 4.313090897646055)],\n",
       "             'A3S3R7AUA98LEG': [('B00425S1H8', 4.005942857142857)],\n",
       "             'A186LLWR8Q5AC6': [('B007ORX8ME', 4.005942857142857)],\n",
       "             'A24UNXVA4YLXBT': [('B007FGYZFI', 4.162152505775731)],\n",
       "             'AOT0JAU7SUNIL': [('B00007CW54', 4.005942857142857)],\n",
       "             'AA5X3FZQQLY4U': [('B00CVKR2TE', 4.095346240014321)],\n",
       "             'AIZV1DB55L19F': [('B00DR0PDNE', 4.050393222322047)],\n",
       "             'A2M4VHS9VD5GHA': [('B0000A0ADP', 4.005942857142857)],\n",
       "             'A2I0NIM2VL1J5Y': [('B00337WLN6', 4.005942857142857)],\n",
       "             'A1WI4OM8HA4IK4': [('B0002ZAIM8', 4.075236148138708)],\n",
       "             'AN85G70HW0YQH': [('B00AWZFI8C', 4.005942857142857)],\n",
       "             'A3PFBH26G48ZOO': [('B0049S6ZUS', 4.068596113194141)],\n",
       "             'AFQB5KWL4KDLU': [('B004MF9HIU', 4.005942857142857)],\n",
       "             'A3AA0DD9JTLNWW': [('B000VIHFZ4', 4.087173481261139)],\n",
       "             'A3FECHU32A0JJT': [('B00D2IVZPG', 4.054982954910937)],\n",
       "             'ANZ5UYFKI14W9': [('B008JAI2MG', 4.005942857142857)],\n",
       "             'A3376QHQQZ9XL2': [('B00FK2XNB6', 4.017865595525602)],\n",
       "             'A1Y196FCAKOB8N': [('B0007SM8OQ', 3.537413374736977)],\n",
       "             'A379GSZSBQU222': [('B009VO05AG', 4.005942857142857)],\n",
       "             'A22RTM8NQZ8NYP': [('B006OBGEHW', 4.418922346451822)],\n",
       "             'A2PA6MGWOW4VA3': [('B005GMWKAU', 4.005942857142857)],\n",
       "             'AIXCWK0O3I3PR': [('B000ENTFDG', 4.005942857142857)],\n",
       "             'A267EM1WHWU1G6': [('B0082YEH8M', 4.123569233232805)],\n",
       "             'A1NA7W62VGQ5JZ': [('B00004TEUK', 4.005942857142857)],\n",
       "             'A30VKSQ8QUOED4': [('B008DWYBZM', 4.1708813399311095)],\n",
       "             'A1X6584796183M': [('B003ELYQGG', 4.37640766155975)],\n",
       "             'A2X34LIRHZ7OIN': [('B003FP9I28', 4.005942857142857)],\n",
       "             'A2IU3L3MHMNHVN': [('B008CS5QTW', 3.8661035059375664)],\n",
       "             'AFSCUGEIKPT82': [('B00475WJEY', 3.3262171326215224)],\n",
       "             'A27M6POBPDWYM0': [('B00GMTN96U', 4.005942857142857)],\n",
       "             'A3T1GQI1UAG3D8': [('B00742T0SU', 3.912448424081241)],\n",
       "             'A1TXPWO46J0PPQ': [('B0009STJIW', 4.005942857142857)],\n",
       "             'A3MKK3B77VDARB': [('B001MRX3HW', 4.102055247789959)],\n",
       "             'A2LN8IAZGZNBR3': [('B002IO2UM2', 4.077330053752596)],\n",
       "             'A2RTJ9S7092UCT': [('B0038JE07O', 3.6781850524821227)],\n",
       "             'A1QGLSV6U6WHC0': [('B0002BA570', 4.005942857142857)],\n",
       "             'A2LE4WCUFOFS4F': [('B0074FGLUM', 4.349348919767452)],\n",
       "             'A1VI40RZ3JRF5X': [('B007QURBXG', 4.005942857142857)],\n",
       "             'A25YH33WL4P3VN': [('B0001AOGA4', 4.005942857142857)],\n",
       "             'A73LLECL70OK7': [('B0017K6BD2', 4.082061580187106)],\n",
       "             'A2FR2TTW52MOGW': [('B004O6MN7E', 4.08923362276386)],\n",
       "             'A3877XXGBORX14': [('B007IE0XXK', 3.9934435400428936)],\n",
       "             'A2S1YC6LYATBNL': [('B004XL963E', 4.005942857142857)],\n",
       "             'A3TKV434MFARRQ': [('B00429N18S', 4.15910314102986)],\n",
       "             'A9BCCW6NPJ9PW': [('B001Q5EBRQ', 4.005942857142857)],\n",
       "             'A1TB6BPEMXOTGE': [('B0077BB3VA', 3.9271612345694473)],\n",
       "             'A201Y58B2NFA0Q': [('B001F51G16', 4.014182583410085)],\n",
       "             'A218WM0UCPQQX5': [('B004NEJ7HQ', 4.087425789241946)],\n",
       "             'A2U02XTRO8YFZ': [('B0002H0CA4', 4.005942857142857)],\n",
       "             'ARZLW6MFV58E9': [('B004T9RR7C', 3.7526779505903254)],\n",
       "             'A313OBGZ1UYH0P': [('B00009W3BW', 4.005942857142857)],\n",
       "             'A2RKQ5548ZV3DP': [('B000FBK3QK', 4.073899823561844)],\n",
       "             'A21BYLA1IOVFJI': [('B004M8SVAM', 3.6853937044947958)],\n",
       "             'AEJ863F37607T': [('B00A4LAZMS', 4.083481405352707)],\n",
       "             'A12S5GOFWNLU7G': [('B006XXQRSM', 3.85639910134853)],\n",
       "             'A1JE1FQWFSWXO0': [('B00AP66YL8', 3.7512370998445146)],\n",
       "             'A1JM65IO4NTHO8': [('B004SY5O5K', 4.062736622350849)],\n",
       "             'A3FTM7EB8A4O46': [('B000051TIA', 4.005942857142857)],\n",
       "             'A1WMQCLROIDHZE': [('B00DTPYRKC', 4.145952028368355)],\n",
       "             'AVVI487U5SQWN': [('B00CGVF8E4', 4.150103439150081)],\n",
       "             'A29BHCFCMNC936': [('B001S8CRIG', 4.005942857142857)],\n",
       "             'A1KO7O4CWFKSN1': [('B007T1M26I', 4.005942857142857)],\n",
       "             'A1EFXYO0LWPS8N': [('B00269XQ3G', 4.005942857142857)],\n",
       "             'AB0TTS46AODSS': [('B007PFS1JK', 4.08283288281768)],\n",
       "             'A3BUS93115HEAO': [('B009PH58YW', 4.264292715617737)],\n",
       "             'A12FB1I6A859EF': [('B007CO5DZ4', 4.148527971420848)],\n",
       "             'AWBFWK53ZBY2Q': [('B004S39KQA', 4.005942857142857)],\n",
       "             'A3CDZGIFS58E6S': [('B001MQ3CCO', 4.005942857142857)],\n",
       "             'AMMMF1YWZ6XLD': [('B003LWN6UA', 4.005942857142857)],\n",
       "             'AD1LLPS6Y8FCY': [('B001EUG3II', 4.14465514537713)],\n",
       "             'A2C11DO4E8HDVA': [('B000UV4EUG', 4.0851385709889545)],\n",
       "             'A17VRY3DX7YBMQ': [('B00960JPLA', 4.005942857142857)],\n",
       "             'AXPO5LA029PXQ': [('B0015DRB80', 4.005942857142857)],\n",
       "             'A2LIB225AL7B7M': [('B00AWKC0EC', 4.134158683492426)],\n",
       "             'A3MQOWVKGUXT3G': [('B0009W8M8Q', 4.005942857142857)],\n",
       "             'A1NE3W3ZFQBQM3': [('B006CZANTU', 4.090418942560168)],\n",
       "             'AB6R8U3ABAJHY': [('B003ZH13HE', 4.104059827790245)],\n",
       "             'A1XII5DL7MH7GX': [('B005PXMKI2', 3.633490806535941)],\n",
       "             'A28Q7M20J0OA49': [('B0011VR1Y0', 4.005942857142857)],\n",
       "             'A1ZA5SXZS8Z3CK': [('B004SUK5C6', 4.005942857142857)],\n",
       "             'A3RTA19RR5PFTZ': [('B0037SRV5E', 4.137901475016081)],\n",
       "             'A3EWYHYD4X7PXV': [('B008MW6Y12', 4.019743476849343)],\n",
       "             'A2VSN85XB1RZBW': [('B005MTME3U', 4.207901501946782)],\n",
       "             'A1IBEHOOKVMA3E': [('B0053DUO9Q', 4.005942857142857)],\n",
       "             'A1KAQMMRA5RRY9': [('B004WY4U8S', 4.005942857142857)],\n",
       "             'A277GN3987433U': [('B000063KEB', 4.005942857142857)],\n",
       "             'A3LKN9GND01EWJ': [('B007RNCLBY', 4.147870668507515),\n",
       "              ('B002RWJHBM', 4.005942857142857)],\n",
       "             'A30Q5JUJULYNV8': [('B001ET6QFY', 4.005942857142857)],\n",
       "             'A1K9PS2BJ1STF1': [('B0074BW614', 4.473510744914019)],\n",
       "             'A30IRV20FIJTQL': [('B001URY8CI', 4.069334210871442)],\n",
       "             'A1ILQ4OVR008UY': [('B0015TJNEY', 3.6762303388705226)],\n",
       "             'APL3R1M66N69J': [('B007IIT8KU', 4.103444733907334)],\n",
       "             'A1UDV5XW5GCAG2': [('B007BYLKFW', 4.005942857142857)],\n",
       "             'A1Q2F261PWNSOV': [('B000OX06DY', 4.005942857142857)],\n",
       "             'A1JDDNYP1083T8': [('B00DNIIE4A', 4.167948486527529)],\n",
       "             'A3NT59ZHMC2SIN': [('B003WVA6P8', 4.093759722428851)],\n",
       "             'A3I56KH69NX8YE': [('B003YTTN9I', 4.005942857142857)],\n",
       "             'A2LAW18U9EJL68': [('B002SOZ5RY', 4.086502377005271)],\n",
       "             'A1G7YNZXPBWA4Y': [('B0053NBLFW', 4.079455563613134)],\n",
       "             'A1W9XW5SXG4VE3': [('B005PXMKI2', 3.633490806535941)],\n",
       "             'A3RE1U1THTYWWV': [('B00DZWKVUO', 4.005942857142857)],\n",
       "             'A3281TBG6LP2RB': [('B000OHYIDE', 4.001312018690635)],\n",
       "             'A1KZNELJEZNK5J': [('B000A3WS16', 4.0879222598976055)],\n",
       "             'AF999KUJRB9DC': [('B000WL0I1I', 4.149269649433825)],\n",
       "             'A2B5HXXZDUXTS7': [('B00081A2KY', 3.733382161429218)],\n",
       "             'A1MLB863AF50AG': [('B005CI7V1Q', 3.9233186964241886)],\n",
       "             'AZFKLBYSYWF55': [('B00406N41C', 4.005942857142857)],\n",
       "             'A3VMS5TME6WCKL': [('B001D60LG8', 4.052692550442998)],\n",
       "             'A2AM6TP8ICXVTY': [('B00005A1KZ', 3.7603294140495773)],\n",
       "             'A2P5B0IL24AQ51': [('B006JRQXPO', 4.005942857142857)],\n",
       "             'A1IW1R59WV60A3': [('B003V0NXBO', 3.640169689481133)],\n",
       "             'A3VGNM5L88H88P': [('B00009KH0C', 4.005942857142857)],\n",
       "             'A3SWS3XC6828NX': [('B0002CPBWI', 4.140480751567399)],\n",
       "             'A3HRV1OED5TMU2': [('B00825BZUY', 3.802267695659422)],\n",
       "             'AVUZR6RWL3YH3': [('B0020HRCHU', 4.005942857142857)],\n",
       "             'A1LYMYNURB9EWW': [('B00FQQ4PNQ', 4.005942857142857),\n",
       "              ('B002FU5QMK', 3.947656039585211)],\n",
       "             'A1VSOOPMKSR6L9': [('B00E3VGH6I', 4.005942857142857)],\n",
       "             'A3P0IIYQ1TXIQX': [('B00155RGYM', 4.087115829916351)],\n",
       "             'AGRF1BL8VNX1C': [('B003ELYQGG', 4.37640766155975)],\n",
       "             'A1D7ND76Z29TW4': [('B009A6CZ30', 4.005942857142857)],\n",
       "             'A1E4V529RQTUT9': [('B003283M6Q', 4.075255146127165)],\n",
       "             'A4UCNK2WQI0GO': [('B004SD1ZPY', 4.207889529807174)],\n",
       "             'AMN60P2WW04F2': [('B00FFJ0HUE', 3.7563652936215624)],\n",
       "             'A3NMS8DXWJIELA': [('B00BGA9WK2', 3.7970545095326704)],\n",
       "             'ATW3N6ZAYCILS': [('B002RMPHMU', 4.0817162022881615)],\n",
       "             'A19I4HPSQFQ7VO': [('B0000CDJPQ', 4.005942857142857)],\n",
       "             'AY1IOZ4512XJK': [('B0092KRAVQ', 4.076982534474347)],\n",
       "             'A3RLLQT8MBQGA2': [('B005Q79TL8', 4.07672895404763)],\n",
       "             'A3DO8CTP2VKXWH': [('B006ZH0KJS', 4.181697660127767),\n",
       "              ('B004Q3Q9OS', 4.005942857142857)],\n",
       "             'A1H44CUDRPPFXX': [('B0045RU68U', 4.000249750849003)],\n",
       "             'A3ESEDRWKZ25DW': [('B009V53L06', 4.005942857142857)],\n",
       "             'A1VEEEJRT1H4FG': [('B000LTL1GW', 4.005942857142857)],\n",
       "             'A16D37G2ACV38R': [('B00449U3K0', 3.626442047795842)],\n",
       "             'A1DY4Y6S6C6Z3F': [('B0047Q9AXG', 4.005942857142857)],\n",
       "             'A18GTEHR1N1Y3Y': [('B003ZBZ64Q', 4.123172136767821)],\n",
       "             'AS49K1DH5H4I2': [('B00E8HIN78', 4.137431037058675)],\n",
       "             'A1LP3QU3KTG085': [('B001RB24S2', 4.005942857142857)],\n",
       "             'A26VNNZUOF4X44': [('B000XPS3U6', 4.083914723964419)],\n",
       "             'A2GQ8L88F8P8CX': [('B0002UB2K0', 4.008517511161649)],\n",
       "             'A35OJTOYM4V79B': [('B003VTZ070', 4.04815840288814)],\n",
       "             'ADUKL6R3VYOUB': [('B0032GV5JO', 4.005942857142857)],\n",
       "             'A2ONEXTW3WSEYQ': [('B005LXGGM2', 4.005942857142857)],\n",
       "             'ALHFBTFBTWE36': [('B0027P9C9G', 4.078854661498985)],\n",
       "             'AKJHHD5VEH7VG': [('B002L6HDSI', 4.090865990306349)],\n",
       "             'A2MAFE0LDRS4OX': [('B000E636BU', 4.005942857142857)],\n",
       "             'A25EHSFJSQZUM0': [('B0031RG2JC', 4.005942857142857)],\n",
       "             'A3BSDUIDHLGV1L': [('B001UI4RTG', 4.0180793290007815)],\n",
       "             'A14IB0ZXKF2693': [('B000RMHC9I', 4.005942857142857)],\n",
       "             'A1EHO1RWGS9ALN': [('B000P1O73A', 4.227154620567641)],\n",
       "             'ADUZ67VHG62UI': [('B0097BEECI', 4.1120420368926185)],\n",
       "             'A9J7XJZNJ0Y9S': [('B00JGX0KN4', 4.005942857142857)],\n",
       "             'A1KYE54EYKPBSL': [('B000R9AAJA', 4.107612814670971)],\n",
       "             'AFDG5YB8G536P': [('B009LTUB9G', 4.005942857142857)],\n",
       "             'A3JQRPD9FKU5W6': [('B0027VT74U', 4.005942857142857)],\n",
       "             'A1BOY7OVINFFY8': [('B003GD9G7G', 4.005942857142857)],\n",
       "             'A149RNR5RH19YY': [('B003HOXQFM', 3.9867030985551257)],\n",
       "             'A1JGS5KWC37XBT': [('B000EIXWPI', 4.005942857142857)],\n",
       "             'A2YWDTU7C3M2RT': [('B001TH7GUU', 4.441600316077127)],\n",
       "             'AY7RGI58I9W3B': [('B008AJNF78', 3.5415498212272967)],\n",
       "             'A2I1HQKFSRRBNK': [('B003VWU79I', 4.000272360347182)],\n",
       "             'A3CXM4MK9QQ7W': [('B007IMPMW4', 4.297228795786616)],\n",
       "             'A3IYGLSQ6N2G3G': [('B007ZW744Q', 4.005942857142857)],\n",
       "             'A27MYJDA1BUQNL': [('B008V9RW58', 4.0793839015515365)],\n",
       "             'A2NQHJ5KGII8KX': [('B008CS5QTW', 3.8661035059375664)],\n",
       "             'A1LC3USOP779CZ': [('B00013UXS0', 3.9984863853318604)],\n",
       "             'AI8QGNE8AIDHX': [('B007TYUTY2', 4.153723612659547)],\n",
       "             'A20J56SK79MRKZ': [('B0069Y2BVC', 4.005942857142857)],\n",
       "             'A3ATQXCN8SMXPJ': [('B000EPHP4U', 3.7649804969119804)],\n",
       "             'A1M2YVTNIRF1VY': [('B0002L5R78', 4.018201457645894)],\n",
       "             'AOMKUI325W2TJ': [('B00008VSKK', 4.005942857142857)],\n",
       "             'A1YJ09IVYZ0FW0': [('B0074BW614', 4.473510744914019)],\n",
       "             'A33J6IZ6LGV12Z': [('B008PV81KC', 4.005942857142857)],\n",
       "             'A3FFTZ51UPNQ7N': [('B00449U3K0', 3.626442047795842)],\n",
       "             'A2FJO2EP2W79RW': [('B0082AFROO', 4.099978963714612)],\n",
       "             'A1S80H2EOBS599': [('B003B3P2C4', 4.00044291919738)],\n",
       "             'AZ9YXEFWGYF8M': [('B003ZKG10K', 4.0784169678108775)],\n",
       "             'AGCV5Y3ADS2EK': [('B0040GJJ4S', 4.005942857142857)],\n",
       "             'A19PYJP8GN4NI1': [('B003CJTR8M', 4.009223003175509)],\n",
       "             'APXZIXH7CW1LM': [('B0002T2I72', 4.005942857142857)],\n",
       "             'A41LISA0FGEII': [('B001W26TIW', 4.217919104279563)],\n",
       "             'A3E0B0OKCN3G46': [('B0037258F0', 4.005942857142857)],\n",
       "             'A3F6EONY0Y1BTT': [('B003ES5ZUU', 4.537119288587237)],\n",
       "             'A1ELIXA3BVTWV': [('B00C85BAOA', 4.005942857142857)],\n",
       "             'AM5FOWVNHELVR': [('B000P1IOQ6', 4.005942857142857)],\n",
       "             'AFKNNEH1MPBXU': [('B0054YQO5C', 4.138593065436623)],\n",
       "             'A2EOLT4XN7XX7P': [('B003M2YT96', 3.9096324783781067)],\n",
       "             'A2MMPCQ2AWS6VT': [('B005QBK5V2', 4.466629638686608)],\n",
       "             'A8Q2MNKU8H9T6': [('B007FH1KX2', 4.005942857142857)],\n",
       "             'A24HZACO29MI1Z': [('B0074BW614', 4.473510744914019)],\n",
       "             'A2RLKTTQCKAE88': [('B00004S7NW', 4.005942857142857)],\n",
       "             'A231WM2Z2JL0U3': [('B00004S9AK', 4.005942857142857),\n",
       "              ('B00004SA30', 4.005942857142857)],\n",
       "             'A1VLE2SH9J8WYS': [('B003VTZE0I', 3.7889163847461953)],\n",
       "             'AAQT56CETEV0H': [('B0000BZL1P', 4.273975378652533)],\n",
       "             'A35V4OLX8YEUTE': [('B002EVP85K', 4.07387308223425)],\n",
       "             'A2KAY88SZNP6D5': [('B00333F2YU', 3.9362119986615953)],\n",
       "             'A1ZTJ1ZRBUF5E7': [('B0009ZBRS0', 4.091415646323436)],\n",
       "             'A2U1SI2DPDFT2X': [('B000NMKHW6', 4.005942857142857)],\n",
       "             'AQS7LYWBCR2QY': [('B003VANO7C', 4.283324791124914)],\n",
       "             'AUAZWQ8DULN43': [('B0002ARL3C', 3.83975802998484)],\n",
       "             'A3O7H5H6ZUEB0O': [('B005S6XUXA', 4.333706886588636)],\n",
       "             'A14SN5MXAIRJ4J': [('B000F9WFHC', 4.005942857142857)],\n",
       "             'A1LEID6AIX53CH': [('B001GLUJIU', 4.005942857142857)],\n",
       "             'A3LUH58AJVDJQR': [('B004XC6GJ0', 4.570777485915784)],\n",
       "             'A258ORY2G5SHVT': [('B0000XOB7U', 4.0734305707737954)],\n",
       "             'A291XTI6NO7DEG': [('B000XSDKP6', 4.0933635741216845)],\n",
       "             'A1P6542FSO5KMI': [('B005HSG3TC', 3.9915125717013455)],\n",
       "             'A255A7HPESPHK9': [('B003GSLU3E', 3.7383418184620663)],\n",
       "             'ARI0H3P6AUY1D': [('B00474EG82', 4.005942857142857)],\n",
       "             'A2LTCJ3NBIJL0K': [('B008D2POAS', 4.005245754246318)],\n",
       "             'A2X3Q5QJWKQSCU': [('B000UY3NR8', 4.005298680898474)],\n",
       "             'A1VKEX4YJGZPOA': [('B001YSARZ0', 4.005942857142857)],\n",
       "             'A3JVG2UJ0PX4HK': [('B00HRG9GA0', 4.005942857142857)],\n",
       "             'A3LR6J1CG8J7M1': [('B0079LGKYS', 4.005942857142857)],\n",
       "             'AMGEUX1FA3AUG': [('B0017K51WE', 4.005942857142857)],\n",
       "             'A3FA532Q35R325': [('B00C2HQWYW', 4.155143614906301)],\n",
       "             'AFS684GJC30IW': [('B002M03KVC', 4.005942857142857)],\n",
       "             'A3PQ36C3EFB04Y': [('B004VM5RBK', 4.005942857142857)],\n",
       "             'A2RA8C3WS07B84': [('B0037BQJPE', 4.005942857142857)],\n",
       "             'A1V70YNUTVXEJK': [('B000MCLWFI', 4.005942857142857)],\n",
       "             'A34SWGRPB5WT5N': [('B00009UT4A', 4.005942857142857)],\n",
       "             'A2K131082WE64J': [('B001MQ8DPK', 4.085610687661494)],\n",
       "             'A3EU6CU0TGMZPL': [('B004NY9UV4', 4.105470756570784)],\n",
       "             'A3P4K3KBTBHX0V': [('B000BFNOT8', 4.089575055540749)],\n",
       "             'A3D31W5XADXKYQ': [('B004I5BUSO', 4.072340502571609)],\n",
       "             'A2IHH56870LTZ8': [('B00BT7RAPG', 3.8991242677257327)],\n",
       "             'AB5SAH08V6AHC': [('B005UZB7KM', 3.9928489165423393)],\n",
       "             'A39ZBGF2DWF8FY': [('B003D0ID8U', 4.0058247930510555)],\n",
       "             'AQ4ZF0MVKRY7G': [('B000KEOKKM', 4.005942857142857)],\n",
       "             'A2SSBQ66OWBP0G': [('B000CHTHDC', 4.005942857142857)],\n",
       "             'AAE05KS3NMVPL': [('B0001M4E72', 4.005942857142857)],\n",
       "             'A1NDINEYUUTBFS': [('B004OZRWD0', 4.005942857142857)],\n",
       "             'A1JK69IUU2PZ4': [('B001MQ8EM2', 4.005942857142857)],\n",
       "             'A1PMHUHB33HGCS': [('B0013MT5FA', 4.005942857142857)],\n",
       "             'A2RMBKKDOHBQ3E': [('B00009UTQK', 4.005942857142857)],\n",
       "             'A24MK6V4ANS34N': [('B001GNBG30', 4.005942857142857)],\n",
       "             'ATY5KRKTB4UTU': [('B00IFEFMBA', 4.005942857142857)],\n",
       "             'A1CJ89LKDTKPUS': [('B00134VVKU', 3.7541958411451866)],\n",
       "             'A119VFPHRP11MY': [('B0000ATNH3', 4.005942857142857)],\n",
       "             'A1WPI3JIW77B4L': [('B007X9QIXO', 4.005942857142857)],\n",
       "             'A33LEVG8M62Z20': [('B000UHQVOW', 3.929219204869056)],\n",
       "             'A21YHSJY8RD495': [('B007C6ZN3Y', 4.160177224071121)],\n",
       "             'A1K2E64ZB5B8KA': [('B00C8S8S4W', 3.782219185533812)],\n",
       "             'A5PYXHJ92YKEK': [('B0048IATQ0', 3.9169837091949646)],\n",
       "             'A2Z2POIEZ40K6C': [('B00G2J0XUA', 4.093040193880293)],\n",
       "             'A17T9ZNLYS3TCX': [('B0026MRTRW', 4.005942857142857)],\n",
       "             'A1JR97UOX4YH27': [('B004I5D280', 4.005942857142857),\n",
       "              ('B001E1ECOE', 4.005942857142857)],\n",
       "             'A29W7VSTS523MA': [('B009PK9SBS', 4.005942857142857)],\n",
       "             'A1NLFP6VKTHXMC': [('B004S7Q8CA', 3.8323340592089337)],\n",
       "             'A2Y3MGX5K054T0': [('B0051U7BGU', 4.005942857142857)],\n",
       "             'A24K5DAF7EYFXZ': [('B002IT3242', 4.005942857142857)],\n",
       "             'A1VQBEW0G4IH1J': [('B00766BF1E', 4.005942857142857)],\n",
       "             'AHO7BK8TE581B': [('B000SEQGT2', 4.005942857142857)],\n",
       "             'A3SDQ1BJ9RTQ2B': [('B001VO4MOY', 4.005942857142857)],\n",
       "             'AKOQPMD25KAPH': [('B0053OLY9O', 4.295228494275203)],\n",
       "             'A3VAKDULIROABL': [('B002KA52SS', 4.005942857142857)],\n",
       "             'A1V86Z6DQIX6PR': [('B00DR0PDNE', 4.050393222322047)],\n",
       "             'A1N47WRI6K88ZC': [('B001BAW7P4', 4.005942857142857)],\n",
       "             'A21DXJS67RWX4W': [('B00822GIH2', 4.079720356189126)],\n",
       "             'A198UQZTVL59GQ': [('B00BX7SNRG', 4.005942857142857)],\n",
       "             'A25XOTEGNWDOJY': [('B00DPCU1ZO', 4.005942857142857)],\n",
       "             'A2V31AA2NJNAYL': [('B00AWKC0EC', 4.134158683492426)],\n",
       "             'A3JPBQ6YTDWOYS': [('B004SD22PQ', 3.9272799962399474)],\n",
       "             'AQW3GCGRXDPHF': [('B005PSLFGA', 4.055075316731949)],\n",
       "             'A25PM9JGHPU8EI': [('B001E0RZ3U', 3.9319164671164617)],\n",
       "             'A2EJ20IMQDZK6G': [('B005H16S6M', 4.086589329073178)],\n",
       "             'AYYLB62INXUVE': [('B00744T768', 4.005942857142857)],\n",
       "             'A10YIDZFKH4ILO': [('B000XW5WRQ', 4.005942857142857)],\n",
       "             'AWAR7YSI9A8XI': [('B0062P7ISY', 3.4371046222885293)],\n",
       "             'A1N1LYFN1ECX0Q': [('B00B7E1D7W', 4.113462913281244)],\n",
       "             'A1S5O2K9IJ55GM': [('B000HEW0KW', 4.005942857142857)],\n",
       "             'A1MCYBZ2BD634H': [('B0006ZP31K', 4.005942857142857)],\n",
       "             'A2DY2CT1G38Q2Q': [('B001CU48MI', 4.086877334564494)],\n",
       "             'ADRMC3R6LHHIK': [('B007B31IAK', 3.890808691963938)],\n",
       "             'AH0IJP26J0HY': [('B004U1Y2XQ', 3.7593788581900123)],\n",
       "             'A31QWIVYZ7XU53': [('B005I7UQ4K', 4.097051819570502)],\n",
       "             'A1858GJWHW80HB': [('B005FVNGRI', 3.9489294552261303)],\n",
       "             'AEXERC1MCID18': [('B004I00JBI', 4.005942857142857)],\n",
       "             'A3ET7DDXLUWXP6': [('B0017S9NLQ', 4.005942857142857)],\n",
       "             'A3I2IEFXFMBPR8': [('B000HZ48OM', 4.005942857142857)],\n",
       "             'A34OLYJLYA3PEP': [('B00GI4ZXB8', 4.005942857142857)],\n",
       "             'A1T61FJ9QM6OTP': [('B000MW6PGY', 4.005942857142857)],\n",
       "             'A2CW6HY2ENGG3L': [('B000VCYR24', 4.005942857142857)],\n",
       "             'A1HDFT0G12M8G9': [('B000HJPK2C', 4.079631742001689)],\n",
       "             'AGUCK72XORMU1': [('B008M0LXPG', 4.005942857142857)],\n",
       "             'A1QUN9B34BLM5F': [('B002HEWA28', 4.095520600865816)],\n",
       "             'A2UPD80INE2X8C': [('B004N625A0', 4.005942857142857)],\n",
       "             'AAZMM53QH77KT': [('B0009WZBXA', 4.005942857142857)],\n",
       "             'AL3YF6FE4EQHE': [('B003U8CRGY', 4.1424622223404315)],\n",
       "             'A12PCH4W4N0AA9': [('B00G01UPU8', 4.005942857142857)],\n",
       "             'A1W8BW9YVTXKEX': [('B0043RS864', 4.005942857142857)],\n",
       "             'AJ987TDC4TU9Z': [('B00723KZTY', 4.164489057082601)],\n",
       "             'A7RJYJ1J4XWM7': [('B000ME8R22', 3.9219004725154214)],\n",
       "             'AAETSB2NISSYY': [('B005SEFL2U', 4.005942857142857)],\n",
       "             'A1CO5QRJN6N7BQ': [('B004M8SSZK', 4.162889700856572)],\n",
       "             'A2DRBC5U86TGXY': [('B006FQQQDI', 4.013923439130799)],\n",
       "             'A2H763GPQZQBR3': [('B00404LAPQ', 4.005942857142857)],\n",
       "             'A1V03UUW27YH4K': [('B00B87BCGK', 4.005942857142857)],\n",
       "             'A3FILNP2ZH3E7H': [('B009M4X7Z0', 4.005942857142857)],\n",
       "             'AMMLQ26MKHVT4': [('B004CGHDEO', 3.7130018419981647)],\n",
       "             'AWJTSIK06WTFA': [('B001FMXWA2', 4.005942857142857)],\n",
       "             'A1IMDX6TGBLINV': [('B000JLKIHA', 3.912939620899976)],\n",
       "             'A2RBMJLC765BDB': [('B003LRY9Q0', 4.012726552223061)],\n",
       "             'A3TKBUAH4RDOIJ': [('B001MBLBXQ', 4.086804104810406),\n",
       "              ('B0065L9FN6', 4.005942857142857)],\n",
       "             'A27TTLOZKMB2W': [('B000BDH2Y8', 4.09683709436114)],\n",
       "             'A21OSW0X1O8AHH': [('B000PCF7A6', 4.005942857142857)],\n",
       "             'A3TKPR7PEI4F9N': [('B008R7ABNO', 4.096712110345659)],\n",
       "             'A395AL0J4F2S6U': [('B005STVSFY', 4.005942857142857)],\n",
       "             'A6Z1OC2JVKCDT': [('B002HZW6K8', 4.09519984621698)],\n",
       "             'A8B84474GFDQN': [('B000WAHFBK', 4.278905662683776)],\n",
       "             'A90U7LKESD7W7': [('B002MAPRYU', 3.6671030897059125)],\n",
       "             'AH9MWWX1424I': [('B0091Z2XA0', 4.005942857142857)],\n",
       "             'A1SREFHMV1PD': [('B001WFLJW0', 4.07853163139485)],\n",
       "             'A2IL4V7R6SITO9': [('B007M58WWO', 4.085182073756101)],\n",
       "             'A35X8IJK6QDW2N': [('B004WDWTF0', 4.005942857142857)],\n",
       "             'A2NI3LM6FA6ITL': [('B007VGGFZU', 3.8552945378989305)],\n",
       "             'A2F81UZ98CQ9U': [('B003DZ1684', 4.194364715583221)],\n",
       "             'A2KE9DTDDZHPZ7': [('B005QZXCYK', 4.005942857142857)],\n",
       "             'A2E5ZLFPFIH8MF': [('B00746W3HG', 4.302906189965888)],\n",
       "             'AE06WBWNUROR1': [('B00E5HXJEI', 3.9231517424820783)],\n",
       "             'AVV2V46YR89K': [('B0085DAQR6', 4.005942857142857)],\n",
       "             'A1DDOGA354YSA7': [('B0041LYY6K', 3.8663667478334975)],\n",
       "             'A24CU4KLH3V6WC': [('B005O7PYZU', 4.005942857142857)],\n",
       "             'AMVITXVIIXDHP': [('B00FQ1NHA8', 4.073767689790284)],\n",
       "             'AXL5TOI7G0Y0G': [('B005DJNRQM', 4.077206346801259)],\n",
       "             'A2Z1GI3BKVQOKR': [('B001BRPLZU', 4.005942857142857)],\n",
       "             'A3RI2C0RY4DHK': [('B00543FWDI', 4.005942857142857)],\n",
       "             'AMZT1GC0AN4Q0': [('B009E11R5I', 4.005942857142857)],\n",
       "             'AFP196NJUTN7L': [('B0061R1XI4', 3.7901580817163643)],\n",
       "             'A18OGI8A465XV9': [('B0001LS3EI', 4.005942857142857)],\n",
       "             'ACGHBKTQ0RFW3': [('B002Y27P6O', 3.9482094126786085)],\n",
       "             'A2XFFDGUSCARE1': [('B007M506WS', 3.8064640825475644)],\n",
       "             'A1FEWT7H2D2MA9': [('B00G5R5534', 4.005580824909256)],\n",
       "             'A1JWYQ1YDUOX4U': [('B00ADE3XXY', 4.005942857142857)],\n",
       "             'A2SILX1K0815XV': [('B005G20RV4', 4.005942857142857)],\n",
       "             'AENP9H5T64KVZ': [('B00139XOCI', 3.9974897549284107)],\n",
       "             'A3F98LRJAY8ZTE': [('B004NBZ98K', 4.13780451016824)],\n",
       "             'A3HD53ZOCEW47W': [('B0028Y4D9A', 4.005942857142857)],\n",
       "             'A5QFAZUCR4NKA': [('B002Q0W82A', 3.752285408675812)],\n",
       "             'A3LJ84YRVEO7B1': [('B008BMWPKW', 4.005942857142857)],\n",
       "             'A2H75HHISUL398': [('B005ILWY9G', 4.005942857142857)],\n",
       "             'A8S1ZWZ4ONMXE': [('B00HLZS9KU', 4.005942857142857)],\n",
       "             'A3J39WCKWAXJ1': [('B001D8CCYK', 3.7663313298557948)],\n",
       "             'A2JG84JVWIV6BU': [('B002MAPRYU', 3.6671030897059125)],\n",
       "             'A1QR2ZTNF3EFVZ': [('B008OHRJ32', 4.2141819946098495)],\n",
       "             'A1ZE020J0M1603': [('B001FFYVQS', 4.005942857142857)],\n",
       "             'A13JSAG5X98R3I': [('B00BQ5KHJW', 4.005942857142857)],\n",
       "             'A141D5RQLF573M': [('B00155184G', 4.005942857142857)],\n",
       "             'AP5HV28KTP59O': [('B003CEOF3Y', 4.005942857142857)],\n",
       "             'A1HO3RBGXMFD7M': [('B0097BEDOC', 3.700622615410442)],\n",
       "             'A11MZQJQ8OO1L': [('B0011X5I7U', 4.003034204303805)],\n",
       "             'A1GIAXP91PH6CW': [('B008WJ6ISY', 4.005942857142857)],\n",
       "             'A19V21AS709VTC': [('B0027ZAM9A', 4.005942857142857)],\n",
       "             'AJQC7C9BL4VK7': [('B006W8U2WU', 4.005942857142857)],\n",
       "             'A5KB5C6N0ZU7P': [('B0015H7924', 4.005942857142857)],\n",
       "             'A1ROH33NYFX35O': [('B003BVA7BM', 3.9252003914643216)],\n",
       "             'A1OTVOJ9PFBYOC': [('B008UHK3KM', 3.7036428266371915)],\n",
       "             'A4VEKNHHOZIMJ': [('B003ZX871I', 4.086185716930561)],\n",
       "             'A1N8V6Q1IATBY3': [('B003CHMCXG', 4.088662267133102)],\n",
       "             'A2K2COTBZ8ELQ7': [('B001LQQM5E', 4.005942857142857)],\n",
       "             'A2X8WM3NN96KL1': [('B006GWO5WK', 4.287259051979556)],\n",
       "             'A2V66GIRLAY1SU': [('B007I5JT4S', 4.434996425434612)],\n",
       "             'A11KJDLWMCLYSG': [('B00HHEBUIS', 4.005942857142857)],\n",
       "             'A16DBY223L1Y7P': [('B000JNQSIQ', 3.8339059652037317)],\n",
       "             'AJJZWD7JOUW4J': [('B001G5Z82I', 4.0909936120328325)],\n",
       "             'ANBY4F3SGFEL7': [('B007L2OQLO', 4.005942857142857)],\n",
       "             'ANRP5KNK1CNO3': [('B0032HMSIU', 4.005942857142857)],\n",
       "             'A2JL9JKMXB1X5K': [('B005D1R07M', 3.8319105223232803)],\n",
       "             'A21BRJ72OZGU98': [('B0002ER2ZA', 4.088295114328658)],\n",
       "             'A3CPBQRQVHVMXF': [('B002SZH2OC', 4.0829937298640875)],\n",
       "             'A1R9PWGCKRMJQT': [('B004AF9II6', 4.1002755833403715),\n",
       "              ('B004GJ6FI2', 4.0096240374466285)],\n",
       "             'ARB1PV0YJZ6WS': [('B002FU5QM0', 4.011299509658618)],\n",
       "             'A24CI4NK05KCZQ': [('B00030099O', 4.005942857142857)],\n",
       "             'AY0VFIL91NXEP': [('B00004Y7TC', 3.9931972382181877)],\n",
       "             'A2Q09JWZZ7Q7F8': [('B002XJN5B2', 4.170441906756956)],\n",
       "             'A3I03CVWHD2V9H': [('B0062IPIPQ', 4.278817102751342)],\n",
       "             'A1JT22FLFHBXCQ': [('B003CJTQ6U', 4.005942857142857)],\n",
       "             'AN64JA1WMNK1F': [('B0007U0INM', 4.005942857142857)],\n",
       "             'A2FUEJ5VRXJEPO': [('B001L6LG5K', 4.086245582364657)],\n",
       "             'AA94EQ2SRGLX0': [('B0010TZOS8', 4.005942857142857)],\n",
       "             'A1ZWG03ZSNAZQA': [('B0033QJLQW', 3.7734841102180137)],\n",
       "             'AH5ZELFPVXHIM': [('B000204SVU', 4.005942857142857)],\n",
       "             'A3UW0PQLDUACMH': [('B000COCR4Q', 4.005942857142857)],\n",
       "             'A1HXK4NBINLXI6': [('B005G89KI4', 3.630655393948262)],\n",
       "             'A1D1P41SP73RAR': [('B000R9BMVU', 3.600160802828777)],\n",
       "             'A3KXQ51N8LB1G7': [('B008THTWIW', 4.1723910717796855)],\n",
       "             'A1JETS851BFE6P': [('B003DZ168E', 4.281300171994797)],\n",
       "             'A20951I210L0IB': [('B003VAHYNC', 4.442867087925376)],\n",
       "             'A3UQUF3GTBM21O': [('B002YPH5AW', 4.005942857142857)],\n",
       "             'A2U0ZD08F7EJ87': [('B005HP77RM', 4.0729725777175005)],\n",
       "             'A35EVF6NOTE0UU': [('B0035LCZSG', 4.005942857142857)],\n",
       "             'A2BP16TPU8M5HQ': [('B008QEYTPE', 4.005942857142857)],\n",
       "             'A3Q1SS1M0JK5UI': [('B00007GQLS', 4.167870043934367)],\n",
       "             'AACS5JRUQ6QP5': [('B00609P9CY', 4.097912042958492)],\n",
       "             'A34OHJQ7U9MTRE': [('B004I6JR24', 4.005942857142857)],\n",
       "             'ANZZ92AHNUANQ': [('B002HU629E', 3.7894325027773696)],\n",
       "             'A3OQ2CM02CG5Y9': [('B002VX0GJY', 4.148514965829039)],\n",
       "             'A36ZQ3LNW57RUM': [('B001BTWSLI', 4.005942857142857)],\n",
       "             'AILZCBVMP5KNA': [('B008RVPWMK', 3.9295100729562518)],\n",
       "             'A1LEUPFA5TFTMO': [('B002MCZF2C', 4.005942857142857)],\n",
       "             'A3OKUV7I0N3K22': [('B001CB0RSG', 4.005942857142857)],\n",
       "             'A37BP9CGVJQ0YI': [('B004TJ6JH6', 4.266785207900989)],\n",
       "             'A1OYC81OOSUUUX': [('B0000504DH', 4.005942857142857)],\n",
       "             'A19ZCT8MHNCF0Y': [('B005HB8NRY', 4.005942857142857)],\n",
       "             'A2KF3QSLO0NT61': [('B001EQ4BVI', 4.005942857142857)],\n",
       "             'A1POPEAS8Y8FRL': [('B007ZWLRSU', 3.9980758346887093)],\n",
       "             'A2FRY2JUJNJYM0': [('B002ZJUXRY', 4.005942857142857)],\n",
       "             'A1013F04MP9LR': [('B0046A8Y8A', 4.062042509079302)],\n",
       "             'A2SG879C0DVNLW': [('B001E1Y5O6', 4.458460746432144)],\n",
       "             'A1QZZ7GCH1JX9P': [('B005EAEQR4', 3.7602320229192587)],\n",
       "             'A1GKA010DXP5OI': [('B0047QEB62', 4.005942857142857)],\n",
       "             'A2BI0N6FXR17D9': [('B00CSMAWH4', 4.006594753658272)],\n",
       "             'A1URMRUYRVEY2G': [('B00009QOW4', 4.005942857142857)],\n",
       "             'AUHFFQHRVK3LW': [('B00B8QCMHY', 4.094488715290795)],\n",
       "             'A2FPDIKTHRI7U9': [('B0001YFZ46', 4.095292657083369)],\n",
       "             'A2WFWMC3MMS2TP': [('B003KJ04TA', 4.005942857142857)],\n",
       "             'AO57N2YX8GCJZ': [('B000Q8UAWY', 4.2070426930794715)],\n",
       "             'A1T7RKSWNLV67C': [('B00517CEUQ', 4.079833498142451)],\n",
       "             'AO4ADW8X3PX65': [('B00BGA9WK2', 3.7970545095326704)],\n",
       "             'A2OXT40QO546FU': [('B003ZX8B2S', 3.9177165530793543)],\n",
       "             'A2SIYF105DZFLL': [('B0049YQVHE', 3.7630940933231574)],\n",
       "             'A2JSZDVTJWYW30': [('B000EA0DEO', 4.005942857142857)],\n",
       "             'A34S7P5KEMNGKJ': [('B003IJ5BTU', 4.005942857142857)],\n",
       "             'A2LUI2I01ZDE9H': [('B002OOWC42', 4.005942857142857)],\n",
       "             'ARU7B1LBX0KKC': [('B000051ZOA', 4.0698958546511195)],\n",
       "             'A2INN1C1VVDKTU': [('B00752R4QO', 4.174449710893769)],\n",
       "             'A21TWMG8FUNSUS': [('B00FWWHNVU', 4.005942857142857)],\n",
       "             'A1CFD347RAPDUT': [('B000W5SEHY', 4.005942857142857)],\n",
       "             'A17VVW0QWRIIVW': [('B00316263Y', 4.763893551765741)],\n",
       "             'A24VIWH6HFDV7A': [('B00GAYDQE2', 4.005942857142857)],\n",
       "             'A22CW0ZHY3NJH8': [('B000O7K4LO', 4.088032580368594)],\n",
       "             'A3O2NHBTEJML4B': [('B00523M4RC', 4.005942857142857)],\n",
       "             'A17QF2KO2BLK5U': [('B001EYU3L2', 4.009453131449644),\n",
       "              ('B003O7CNCO', 4.005942857142857)],\n",
       "             'A1EXY1GZSJXJSR': [('B007F7N11Q', 4.005942857142857)],\n",
       "             'A11ZJ7KDGH3O9W': [('B0032FOKDS', 4.073620506598784)],\n",
       "             'AHO3V396NJOZU': [('B0046RE02W', 4.005942857142857)],\n",
       "             'A20XOLO0Z6E3Z': [('B0039NLS4C', 4.005461255687231)],\n",
       "             'A2VPHV83U433LD': [('B00CFA8LDQ', 4.005942857142857)],\n",
       "             'A1JC4NI9SWPJMT': [('B006SS9VO4', 4.005942857142857)],\n",
       "             'A7X4VDUNC94EP': [('B004293QRO', 4.005942857142857)],\n",
       "             'ADPCLQDGKB7F0': [('B006QB1RPY', 4.263890917575717)],\n",
       "             'A39WUV30LMY3D6': [('B008AST7R6', 4.33835347953824)],\n",
       "             'AVYIIKOJ5Z9WB': [('B0002QPC28', 4.005942857142857)],\n",
       "             'A3QJMQWJUOA4ON': [('B007ZT2K9I', 4.005942857142857)],\n",
       "             'A2YAOCZ9DT7I01': [('B00113XADE', 4.093562490639401)],\n",
       "             'A2H77CS9MX5AMD': [('B001EZYMF4', 3.7936996257370077)],\n",
       "             'A23Q6V3N0VIIK2': [('B008NMCPTQ', 4.430020481059666)],\n",
       "             'A2X1ZA8B54JA8Y': [('B000Z9UY2K', 3.7437479286884434)],\n",
       "             'A39L96IM5TRFZS': [('B003U8GHVK', 4.013452630283256)],\n",
       "             'A12KVKXMN3Z1YN': [('B00DR0PDNE', 4.050393222322047)],\n",
       "             'A1DFRFAJHVVIK4': [('B005E0ELL0', 4.005942857142857)],\n",
       "             'A146PYP4Z1HTTK': [('B004G8HXXO', 3.8976219547914224)],\n",
       "             'A3DQYT01PVLY75': [('B002DRYFE0', 4.005942857142857)],\n",
       "             'A2I0Q87CT0D3GK': [('B000JMJWV2', 4.135075314033106)],\n",
       "             'A3B9WOCATGVT1K': [('B00INNP5VU', 4.2100843231132306)],\n",
       "             'A3QBTJJ6ZV14VI': [('B0034XDT0S', 4.1774547408153495)],\n",
       "             'A1TV8CNQK3D11F': [('B0058D2WGE', 4.005942857142857)],\n",
       "             'A1RPDKJ0FDAP9A': [('B004J3V90Y', 4.457534980522108)],\n",
       "             'AAC8VJT00UCWF': [('B007SP36ZG', 4.109834927249666)],\n",
       "             'AACTCPPNFFH8K': [('B005GLHK3S', 4.005942857142857)],\n",
       "             'A3TBSYYJFVNTY2': [('B0045LYVJ6', 4.078512684294569)],\n",
       "             'A3TVYJJA2TEGO': [('B006W2MZSA', 4.005942857142857)],\n",
       "             'A1QEGSBFIHY9NN': [('B001IYCUM8', 4.005942857142857)],\n",
       "             'A1BYGQ0RS9QC60': [('B002EA5MUM', 4.005942857142857)],\n",
       "             'A3T6TBOSY7A0PD': [('B004AL8T76', 4.005942857142857)],\n",
       "             'A3S2NQFOMM7R73': [('B00171MWSO', 3.9250968586508903)],\n",
       "             'A1JUBRIZMO0RJV': [('B0007Y79E4', 4.005942857142857)],\n",
       "             'A178WVCEND7T96': [('B00A3YDT5Q', 4.005942857142857)],\n",
       "             'A2EMWA4UZ0AP57': [('B007B31IAK', 3.890808691963938)],\n",
       "             ...})"
      ]
     },
     "execution_count": 38,
     "metadata": {
      "tags": []
     },
     "output_type": "execute_result"
    }
   ],
   "source": [
    "top_n"
   ]
  },
  {
   "cell_type": "code",
   "execution_count": 39,
   "metadata": {
    "colab": {
     "base_uri": "https://localhost:8080/"
    },
    "id": "DpkPAbVZTE7u",
    "outputId": "2f2e014d-3de0-4edc-ff27-d750d99c7978"
   },
   "outputs": [
    {
     "name": "stdout",
     "output_type": "stream",
     "text": [
      "FCP:  0.5037\n"
     ]
    },
    {
     "data": {
      "text/plain": [
       "0.5037115588547191"
      ]
     },
     "execution_count": 39,
     "metadata": {
      "tags": []
     },
     "output_type": "execute_result"
    }
   ],
   "source": [
    "accuracy.fcp(predictions)"
   ]
  },
  {
   "cell_type": "markdown",
   "metadata": {
    "id": "fO1NOoP3AEqT"
   },
   "source": [
    "Popularity based system is very useful for new users,it recommends the products which received good ratings and on high demand. \n",
    "\n",
    "Popularity based system has no personalized recommandations\n",
    "\n",
    "\n",
    "Collaborative filtering has the personalized recommandations based on previous purchases of items and ratings.\n",
    "\n",
    "Singular Value Decomposition model with the help of matrix_factorization by spreading the variance of users and items, has predicted rating of a item by a user, a item is recommended to him based on other ratings.\n",
    "\n",
    "If we dont have user rating information its good to use Popularity based system in order to avoid cold start problem, \n",
    "If we have user data(user ratings) then we can use collaborative filtering(IBCF/UBCF) to providing personalized recommandations based on users interests."
   ]
  },
  {
   "cell_type": "code",
   "execution_count": null,
   "metadata": {
    "id": "0JRiU9gYQ6hn"
   },
   "outputs": [],
   "source": []
  }
 ],
 "metadata": {
  "colab": {
   "collapsed_sections": [],
   "name": "Recommendation Systems_R5_Project.Amazon Electronics Products.ipynb",
   "provenance": []
  },
  "kernelspec": {
   "display_name": "Python 3",
   "language": "python",
   "name": "python3"
  },
  "language_info": {
   "codemirror_mode": {
    "name": "ipython",
    "version": 3
   },
   "file_extension": ".py",
   "mimetype": "text/x-python",
   "name": "python",
   "nbconvert_exporter": "python",
   "pygments_lexer": "ipython3",
   "version": "3.7.6"
  }
 },
 "nbformat": 4,
 "nbformat_minor": 1
}
